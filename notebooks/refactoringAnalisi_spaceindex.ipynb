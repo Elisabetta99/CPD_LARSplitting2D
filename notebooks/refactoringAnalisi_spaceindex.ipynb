{
 "cells": [
  {
   "cell_type": "markdown",
   "id": "448cbdf4",
   "metadata": {},
   "source": [
    "### Gruppo 5.a: Castagnacci Giulia, Giordano Elisabetta"
   ]
  },
  {
   "cell_type": "markdown",
   "id": "2c6a281b",
   "metadata": {},
   "source": [
    "### Analisi spaceindex"
   ]
  },
  {
   "cell_type": "code",
   "execution_count": 1,
   "id": "8a1144ed",
   "metadata": {},
   "outputs": [],
   "source": [
    "\n",
    "using LinearAlgebraicRepresentation\n",
    "Lar = LinearAlgebraicRepresentation\n",
    "using IntervalTrees\n",
    "using SparseArrays\n",
    "using NearestNeighbors\n",
    "using BenchmarkTools\n",
    "using OrderedCollections\n",
    "using Base.Threads\n"
   ]
  },
  {
   "cell_type": "markdown",
   "id": "042fdaf6",
   "metadata": {},
   "source": [
    "### Dati in input"
   ]
  },
  {
   "cell_type": "code",
   "execution_count": 2,
   "id": "85e86e75",
   "metadata": {},
   "outputs": [
    {
     "data": {
      "text/plain": [
       "5-element Vector{Vector{Int64}}:\n",
       " [4, 1, 3, 5, 2]\n",
       " [1, 3, 5, 2]\n",
       " [4, 1, 3, 5, 2]\n",
       " [4, 1, 3, 5]\n",
       " [4, 1, 3, 5, 2]"
      ]
     },
     "metadata": {},
     "output_type": "display_data"
    }
   ],
   "source": [
    "V = hcat([[0.,0],[1,0],[1,1],[0,1],[2,1]]...);                                          #vertici del modello 2D\n",
    "V3 = hcat([[0.,0,0],[1,0,3],[1,1,2],[0,1,1],[2,1,0]]...);                               #vertici del modello 3D\n",
    "EV = [[1,2],[2,3],[3,4],[4,1],[1,5]];                                                   #spigoli del modello\n",
    "bb = [[0.0 1.0; 0.0 0.0], [1.0 1.0; 0.0 1.0], [0.0 1.0; 1.0 1.0], [0.0 0.0; 0.0 1.0], [0.0 2.0; 0.0 1.0]];  #bounding box\n",
    "dict = OrderedDict([0.0, 1.0] => [1, 3],[1.0, 1.0] => [2],[0.0, 0.0] => [4],[0.0, 2.0] => [5])  #dizionario intervallo/indice\n",
    "cov = [[4, 1, 3, 5, 2], [1, 3, 5, 2], [4, 1, 3, 5, 2], [4, 1, 3, 5], [4, 1, 3, 5, 2]]    #intersezioni tra bounding box"
   ]
  },
  {
   "cell_type": "markdown",
   "id": "42445127",
   "metadata": {},
   "source": [
    "## Funzioni aggiuntive create"
   ]
  },
  {
   "cell_type": "markdown",
   "id": "1ffbdc1e",
   "metadata": {},
   "source": [
    "### createIntervalTree\n",
    "Aggiunta funzione createIntervalTree, struttura dati che contiene intervalli e che consente di trovare in modo efficiente tutti gli intervalli che si sovrappongono a un determinato intervallo o punto. Utilizzata in: spaceindex, boxcovering"
   ]
  },
  {
   "cell_type": "code",
   "execution_count": 3,
   "id": "eadff578",
   "metadata": {},
   "outputs": [
    {
     "data": {
      "text/plain": [
       "createIntervalTree (generic function with 1 method)"
      ]
     },
     "metadata": {},
     "output_type": "display_data"
    }
   ],
   "source": [
    "function createIntervalTree(boxdict::AbstractDict{Array{Float64,1},Array{Int64,1}})\n",
    "    tree = IntervalTrees.IntervalMap{Float64,Array}()\n",
    "    for (key, boxset) in boxdict\n",
    "        tree[tuple(key...)] = boxset\n",
    "    end\n",
    "    return tree\n",
    "end"
   ]
  },
  {
   "cell_type": "code",
   "execution_count": 20,
   "id": "7dbed653",
   "metadata": {},
   "outputs": [
    {
     "data": {
      "text/plain": [
       "IntervalTrees.IntervalBTree{Float64, IntervalValue{Float64, Array}, 64}"
      ]
     },
     "metadata": {},
     "output_type": "display_data"
    },
    {
     "name": "stdout",
     "output_type": "stream",
     "text": [
      "\n",
      "(0.0,0.0) => [4]\n",
      "(0.0,1.0) => [1, 3]\n",
      "(0.0,2.0) => [5]"
     ]
    },
    {
     "name": "stdout",
     "output_type": "stream",
     "text": [
      "\n",
      "(1.0,1.0) => [2]"
     ]
    }
   ],
   "source": [
    "t = createIntervalTree(dict) #creazione albero"
   ]
  },
  {
   "cell_type": "markdown",
   "id": "4eb70e14",
   "metadata": {},
   "source": [
    "### removeIntersection\n",
    "Funzione che elimina le intersezioni di ogni bounding box con loro stessi. Utilizzata in: spaceindex"
   ]
  },
  {
   "cell_type": "code",
   "execution_count": 4,
   "id": "d512a543",
   "metadata": {},
   "outputs": [
    {
     "data": {
      "text/plain": [
       "removeIntersection (generic function with 1 method)"
      ]
     },
     "metadata": {},
     "output_type": "display_data"
    }
   ],
   "source": [
    "function removeIntersection(covers::Array{Array{Int64,1},1})\n",
    "    @threads for k=1:length(covers)\n",
    "        covers[k] = setdiff(covers[k],[k])\t#toglie le intersezioni con se stesso \n",
    "    end\n",
    "end"
   ]
  },
  {
   "cell_type": "markdown",
   "id": "82deeafd",
   "metadata": {},
   "source": [
    "### addIntersection\n",
    "Funzione che aggiunge gli elementi di iterator nell'i-esimo array di covers. Utilizzata in: spaceindex, boxcovering"
   ]
  },
  {
   "cell_type": "code",
   "execution_count": 5,
   "id": "b928dfb3",
   "metadata": {},
   "outputs": [
    {
     "data": {
      "text/plain": [
       "addIntersection (generic function with 1 method)"
      ]
     },
     "metadata": {},
     "output_type": "display_data"
    }
   ],
   "source": [
    "function addIntersection(covers::Array{Array{Int64,1},1}, i::Int64, iterator)\n",
    "    splice!(covers[i],1)\t\t#splice serve a togliere gli zeri iniziali all'interno di covers\n",
    "    @threads for x in collect(iterator)\n",
    "        append!(covers[i],x.value)\n",
    "    end\n",
    "end"
   ]
  },
  {
   "cell_type": "markdown",
   "id": "8a4fc924",
   "metadata": {},
   "source": [
    "## Funzioni di supporto"
   ]
  },
  {
   "cell_type": "markdown",
   "id": "6b174436",
   "metadata": {},
   "source": [
    "### boudingbox"
   ]
  },
  {
   "cell_type": "code",
   "execution_count": 6,
   "id": "72a066a6",
   "metadata": {},
   "outputs": [
    {
     "data": {
      "text/plain": [
       "boundingbox2 (generic function with 1 method)"
      ]
     },
     "metadata": {},
     "output_type": "display_data"
    }
   ],
   "source": [
    "function boundingbox2(vertices::Lar.Points)\n",
    "    firstDim = vertices[1,:]\n",
    "    secondDim = vertices[2,:]\n",
    "    if (size(vertices,1)==3)\n",
    "        thirdDim = vertices[3,:]\n",
    "         minimum = Threads.@spawn hcat([min(firstDim...), min(secondDim...), min(thirdDim...)])\n",
    "         maximum = Threads.@spawn hcat([max(firstDim...), max(secondDim...), max(thirdDim...)])\n",
    "    else\n",
    "         minimum = Threads.@spawn hcat([min(firstDim...), min(secondDim...)])\n",
    "         maximum = Threads.@spawn hcat([max(firstDim...), max(secondDim...)])\n",
    "    end\n",
    "    return fetch(minimum),fetch(maximum)\n",
    " end"
   ]
  },
  {
   "cell_type": "markdown",
   "id": "ac73bc7b",
   "metadata": {},
   "source": [
    "### boxcovering"
   ]
  },
  {
   "cell_type": "code",
   "execution_count": 7,
   "id": "533cdb09",
   "metadata": {},
   "outputs": [
    {
     "data": {
      "text/plain": [
       "boxcovering2 (generic function with 1 method)"
      ]
     },
     "metadata": {},
     "output_type": "display_data"
    }
   ],
   "source": [
    "function boxcovering2(bboxes, index, tree)\n",
    "    covers = [[zero(eltype(Int64))] for k=1:length(bboxes)]\t\t#zero(eltype(Int64)) serve per rendere covers type stable\n",
    "    @threads for (i,boundingbox) in collect(enumerate(bboxes))\n",
    "        extent = bboxes[i][index,:]\n",
    "        iterator = IntervalTrees.intersect(tree, tuple(extent...))\n",
    "        addIntersection(covers, i, iterator)\n",
    "    end\n",
    "    return covers\n",
    "end"
   ]
  },
  {
   "cell_type": "markdown",
   "id": "705b7780",
   "metadata": {},
   "source": [
    "### coordintervals"
   ]
  },
  {
   "cell_type": "code",
   "execution_count": 8,
   "id": "78ca0bcf",
   "metadata": {},
   "outputs": [
    {
     "data": {
      "text/plain": [
       "coordintervals (generic function with 1 method)"
      ]
     },
     "metadata": {},
     "output_type": "display_data"
    }
   ],
   "source": [
    "function coordintervals(coord,bboxes)\n",
    "\tboxdict = OrderedDict{Array{Float64,1},Array{Int64,1}}()\n",
    "\tfor (h,box) in enumerate(bboxes)\n",
    "\t\tkey = box[coord,:]\n",
    "\t\tif haskey(boxdict,key) == false\n",
    "\t\t\tboxdict[key] = [h]\n",
    "\t\telse\n",
    "\t\t\tpush!(boxdict[key], h)\n",
    "\t\tend\n",
    "\tend\n",
    "\treturn boxdict\n",
    "end"
   ]
  },
  {
   "cell_type": "markdown",
   "id": "0ea6962e",
   "metadata": {},
   "source": [
    "### Versione iniziale di spaceindex"
   ]
  },
  {
   "cell_type": "markdown",
   "id": "51d58faa",
   "metadata": {},
   "source": [
    "Funzione che prende in input una tupla costituita da una matrice che contiene i punti del modello, di tipo Lar.LAR, e da un array di array che contiene le celle cioè scomposizioni dello spazio geometrico. La funzione restituisce in output un array di array dove l'elemento i-esimo rappresenta quali intersezioni ha il bounding box i-esimo con gli altri bounding box. Nello specifico, la funzione calcola le 1-celle e il loro bounding box attraverso la funzione boundingBox. Si suddividono le coordinate x e y in due dizionari chiamando la funzione coordintervals. Per entrambe le coordinate x e y, si calcola un intervalTree cioè una struttura dati che contiene intervalli. La funzione boxCovering viene chiamata per calcolare le sovrapposizioni sulle singole dimensioni dei bounding Box. Intersecando quest'ultime, si ottengono le intersezioni effettive tra bounding box. La funzione esegue lo stesso procedimento sulla coordinata z se presente. Infine, si eliminano le intersezioni di ogni bounding box con loro stessi."
   ]
  },
  {
   "cell_type": "code",
   "execution_count": 9,
   "id": "a6ab019e",
   "metadata": {},
   "outputs": [
    {
     "data": {
      "text/plain": [
       "spaceindex (generic function with 1 method)"
      ]
     },
     "metadata": {},
     "output_type": "display_data"
    }
   ],
   "source": [
    "function spaceindex(model::Lar.LAR)::Array{Array{Int,1},1}\n",
    "\tV,CV = model[1:2]\n",
    "\tdim = size(V,1)\n",
    "\tcellpoints = [ V[:,CV[k]]::Lar.Points for k=1:length(CV) ]\n",
    "\t#----------------------------------------------------------\n",
    "\tbboxes = [hcat(Lar.boundingbox(cell)...) for cell in cellpoints]\n",
    "\txboxdict = Lar.coordintervals(1,bboxes)\n",
    "\tyboxdict = Lar.coordintervals(2,bboxes)\n",
    "\t# xs,ys are IntervalTree type\n",
    "\txs = IntervalTrees.IntervalMap{Float64, Array}()\n",
    "\tfor (key,boxset) in xboxdict\n",
    "\t\txs[tuple(key...)] = boxset\n",
    "\tend\n",
    "\tys = IntervalTrees.IntervalMap{Float64, Array}()\n",
    "\tfor (key,boxset) in yboxdict\n",
    "\t\tys[tuple(key...)] = boxset\n",
    "\tend\n",
    "\txcovers = Lar.boxcovering(bboxes, 1, xs)\n",
    "\tycovers = Lar.boxcovering(bboxes, 2, ys)\n",
    "\tcovers = [intersect(pair...) for pair in zip(xcovers,ycovers)]\n",
    "\n",
    "\tif dim == 3\n",
    "\t\tzboxdict = Lar.coordintervals(3,bboxes)\n",
    "\t\tzs = IntervalTrees.IntervalMap{Float64, Array}()\n",
    "\t\tfor (key,boxset) in zboxdict\n",
    "\t\t\tzs[tuple(key...)] = boxset\n",
    "\t\tend\n",
    "\t\tzcovers = Lar.boxcovering(bboxes, 3, zs)\n",
    "\t\tcovers = [intersect(pair...) for pair in zip(zcovers,covers)]\n",
    "\tend\n",
    "\t# remove each cell from its cover\n",
    "\tfor k=1:length(covers)\n",
    "\t\tcovers[k] = setdiff(covers[k],[k])\n",
    "\tend\n",
    "\treturn covers\n",
    "end"
   ]
  },
  {
   "cell_type": "markdown",
   "id": "c9b83b40",
   "metadata": {},
   "source": [
    "### Analisi del comportamento e dei tempi della versione iniziale"
   ]
  },
  {
   "cell_type": "code",
   "execution_count": 10,
   "id": "4962062e",
   "metadata": {},
   "outputs": [
    {
     "name": "stdout",
     "output_type": "stream",
     "text": [
      "  140.600 μs (1107 allocations: 49.16 KiB)\n"
     ]
    },
    {
     "data": {
      "text/plain": [
       "5-element Vector{Vector{Int64}}:\n",
       " [4, 5, 2]\n",
       " [1, 3, 5]\n",
       " [4, 5, 2]\n",
       " [1, 3, 5]\n",
       " [4, 1, 3, 2]"
      ]
     },
     "metadata": {},
     "output_type": "display_data"
    }
   ],
   "source": [
    "@btime spaceindex((V,EV))"
   ]
  },
  {
   "cell_type": "code",
   "execution_count": 11,
   "id": "f6b100d0",
   "metadata": {},
   "outputs": [
    {
     "name": "stdout",
     "output_type": "stream",
     "text": [
      "MethodInstance for spaceindex(::"
     ]
    },
    {
     "name": "stdout",
     "output_type": "stream",
     "text": [
      "Tuple{Matrix{Float64}, Vector{Vector{Int64}}})\n"
     ]
    },
    {
     "name": "stdout",
     "output_type": "stream",
     "text": [
      "  from spaceindex(model::Union{Tuple{Matrix, Vector{Vector{Int64}}}, Tuple{Matrix, Vector{Vector{Int64}}, Vector{Vector{Int64}}}}) in Main at c:\\Users\\giord\\eclipse-SIW\\LARSplitting2D\\notebooks\\refactoringAnalisi_spaceindex.ipynb:1\n",
      "Arguments\n",
      "  "
     ]
    },
    {
     "name": "stdout",
     "output_type": "stream",
     "text": [
      "#self#\u001b[36m::Core.Const(spaceindex)\u001b[39m\n",
      "  model\u001b[36m::Tuple{Matrix{Float64}, Vector{Vector{Int64}}}\u001b[39m\n",
      "Locals\n",
      "  @_3\u001b[91m\u001b[1m::Any\u001b[22m\u001b[39m\n",
      "  #25\u001b[36m::var\"#25#29\"\u001b[39m\n",
      "  @_5\u001b[91m\u001b[1m::Any\u001b[22m\u001b[39m\n",
      "  #24\u001b[36m::var\"#24#28\"\u001b[39m\n",
      "  @_7\u001b[91m\u001b[1m::Any\u001b[22m\u001b[39m\n",
      "  @_8\u001b[91m\u001b[1m::Any\u001b[22m\u001b[39m\n",
      "  #23\u001b[36m::var\"#23#27\"\u001b[39m\n",
      "  #22\u001b[36m::var\"#22#26\"{Vector{Vector{Int64}}, Matrix{Float64}}\u001b[39m\n",
      "  @_11\u001b[36m::Int64\u001b[39m\n",
      "  covers\u001b[91m\u001b[1m::Any\u001b[22m\u001b[39m\n",
      "  zcovers\u001b[91m\u001b[1m::Any\u001b[22m\u001b[39m\n",
      "  zs\u001b[36m::IntervalTrees.IntervalBTree{Float64, IntervalValue{Float64, Array}, 64}\u001b[39m\n",
      "  zboxdict\u001b[91m\u001b[1m::Any\u001b[22m\u001b[39m\n",
      "  ycovers\u001b[91m\u001b[1m::Any\u001b[22m\u001b[39m\n",
      "  xcovers\u001b[91m\u001b[1m::Any\u001b[22m\u001b[39m\n",
      "  ys\u001b[36m::IntervalTrees.IntervalBTree{Float64, IntervalValue{Float64, Array}, 64}\u001b[39m\n",
      "  xs\u001b[36m::IntervalTrees.IntervalBTree{Float64, IntervalValue{Float64, Array}, 64}\u001b[39m\n",
      "  yboxdict\u001b[91m\u001b[1m::Any\u001b[22m\u001b[39m\n",
      "  xboxdict\u001b[91m\u001b[1m::Any\u001b[22m\u001b[39m\n",
      "  bboxes\u001b[91m\u001b[1m::Vector\u001b[22m\u001b[39m\n",
      "  cellpoints\u001b[36m::Vector{Matrix{Float64}}\u001b[39m\n",
      "  dim\u001b[36m::Int64\u001b[39m\n",
      "  CV\u001b[36m::Vector{Vector{Int64}}\u001b[39m\n",
      "  V\u001b[36m::Matrix{Float64}\u001b[39m\n",
      "  @_27\u001b[91m\u001b[1m::Any\u001b[22m\u001b[39m\n",
      "  boxset@_28\u001b[91m\u001b[1m::Any\u001b[22m\u001b[39m\n",
      "  key@_29\u001b[91m\u001b[1m::Any\u001b[22m\u001b[39m\n",
      "  @_30\u001b[91m\u001b[1m::Any\u001b[22m\u001b[39m\n",
      "  boxset@_31\u001b[91m\u001b[1m::Any\u001b[22m\u001b[39m\n",
      "  key@_32\u001b[91m\u001b[1m::Any\u001b[22m\u001b[39m\n",
      "  @_33\u001b[91m\u001b[1m::Any\u001b[22m\u001b[39m\n",
      "  boxset@_34\u001b[91m\u001b[1m::Any\u001b[22m\u001b[39m\n",
      "  key@_35\u001b[91m\u001b[1m::Any\u001b[22m\u001b[39m\n",
      "  k\u001b[91m\u001b[1m::Any\u001b[22m\u001b[39m\n",
      "Body\u001b[36m::Vector{Vector{Int64}}\u001b[39m\n"
     ]
    },
    {
     "name": "stdout",
     "output_type": "stream",
     "text": [
      "\u001b[90m1 ──\u001b[39m "
     ]
    },
    {
     "name": "stdout",
     "output_type": "stream",
     "text": [
      "       Core.NewvarNode"
     ]
    },
    {
     "name": "stdout",
     "output_type": "stream",
     "text": [
      "(:(@_3)"
     ]
    },
    {
     "name": "stdout",
     "output_type": "stream",
     "text": [
      ")\n",
      "\u001b[90m│   \u001b[39m        Core.NewvarNode(:(#25))\n",
      "\u001b[90m│   \u001b[39m        Core.NewvarNode(:(@_5))\n",
      "\u001b[90m│   \u001b[39m        Core.NewvarNode(:(#24))\n",
      "\u001b[90m│   \u001b[39m        Core.NewvarNode(:(@_7))\n",
      "\u001b[90m│   \u001b[39m        Core.NewvarNode(:(covers))\n"
     ]
    },
    {
     "name": "stdout",
     "output_type": "stream",
     "text": [
      "\u001b[90m│   \u001b[39m        Core.NewvarNode(:(zcovers))\n",
      "\u001b[90m│   \u001b[39m        Core.NewvarNode(:(zs))\n",
      "\u001b[90m│   \u001b[39m        Core.NewvarNode(:(zboxdict))\n",
      "\u001b[90m│   \u001b[39m        Core.NewvarNode(:(ycovers))\n",
      "\u001b[90m│   \u001b[39m        Core.NewvarNode(:(xcovers))\n",
      "\u001b[90m│   \u001b[39m        Core.NewvarNode(:(ys))\n",
      "\u001b[90m│   \u001b[39m %13  = "
     ]
    },
    {
     "name": "stdout",
     "output_type": "stream",
     "text": [
      "Core.apply_type(Main.Array, Main.Int, "
     ]
    },
    {
     "name": "stdout",
     "output_type": "stream",
     "text": [
      "1)\u001b[36m::Core.Const(Vector{Int64})\u001b[39m\n",
      "\u001b[90m│   \u001b[39m %14  = Core.apply_type(Main.Array, %13, 1)\u001b[36m::Core.Const(Vector{Vector{Int64}})\u001b[39m\n",
      "\u001b[90m│   \u001b[39m %15  = (1:2)\u001b[36m::Core.Const(1:2)\u001b[39m\n",
      "\u001b[90m│   \u001b[39m %16  = Base.getindex(model, %15)\u001b[36m::Tuple{Matrix{Float64}, Vector{Vector{Int64}}}\u001b[39m\n",
      "\u001b[90m│   \u001b[39m %17  = Base.indexed_iterate(%16, 1)"
     ]
    },
    {
     "name": "stdout",
     "output_type": "stream",
     "text": [
      "\u001b[36m::Core.PartialStruct(Tuple{Matrix{Float64}, Int64}, Any[Matrix{Float64}, Core.Const(2)])\u001b[39m\n",
      "\u001b[90m│   \u001b[39m        (V = Core.getfield(%17, 1))\n",
      "\u001b[90m│   \u001b[39m        (@_11 = Core.getfield(%17, 2))\n",
      "\u001b[90m│   \u001b[39m %20  = Base.indexed_iterate(%16, 2, "
     ]
    },
    {
     "name": "stdout",
     "output_type": "stream",
     "text": [
      "@_11::Core.Const(2))\u001b[36m::Core.PartialStruct(Tuple{Vector{Vector{Int64}}, Int64}, Any[Vector{Vector{Int64}}, Core.Const(3)])\u001b[39m\n",
      "\u001b[90m│   \u001b[39m        (CV = Core.getfield(%20, 1))\n",
      "\u001b[90m│   \u001b[39m        (dim = Main.size(V, 1))\n",
      "\u001b[90m│   \u001b[39m %23  = Main.:(var\"#22#26\")\u001b[36m::Core.Const(var\"#22#26\")\u001b[39m\n",
      "\u001b[90m│   \u001b[39m %24  = Core.typeof(CV)\u001b[36m::Core.Const(Vector{Vector{Int64}})\u001b[39m\n",
      "\u001b[90m│   \u001b[39m %25  = Core.typeof"
     ]
    },
    {
     "name": "stdout",
     "output_type": "stream",
     "text": [
      "(V)\u001b[36m::Core.Const(Matrix{Float64})\u001b[39m\n",
      "\u001b[90m│   \u001b[39m %26  = Core.apply_type(%23, %24, %25)\u001b[36m::Core.Const(var\"#22#26\"{Vector{Vector{Int64}}, Matrix{Float64}})\u001b[39m\n",
      "\u001b[90m│   \u001b[39m %27  = CV\u001b[36m::Vector{Vector{Int64}}\u001b[39m\n",
      "\u001b[90m│   \u001b[39m        (#22 = %new(%26, %27, V))\n",
      "\u001b[90m│   \u001b[39m %29  = #22\u001b[36m::var\"#22#26\"{Vector{Vector{Int64}}, Matrix{Float64}}\u001b[39m\n",
      "\u001b[90m│   \u001b[39m %30  = Main.length(CV)\u001b[36m::Int64\u001b[39m\n",
      "\u001b[90m│   \u001b[39m %31  = (1:%30)\u001b[36m::Core.PartialStruct(UnitRange{Int64}, Any[Core.Const(1), Int64])\u001b[39m\n",
      "\u001b[90m│   \u001b[39m %32  = Base.Generator(%29, %31"
     ]
    },
    {
     "name": "stdout",
     "output_type": "stream",
     "text": [
      ")\u001b[36m::Core.PartialStruct(Base.Generator{UnitRange{Int64}, var\"#22#26\"{Vector{Vector{Int64}}, Matrix{Float64}}}, Any[var\"#22#26\"{Vector{Vector{Int64}}, Matrix{Float64}}, Core.PartialStruct(UnitRange{Int64}, Any[Core.Const(1), Int64])])\u001b[39m\n",
      "\u001b[90m│   \u001b[39m        (cellpoints = Base.collect(%32))\n",
      "\u001b[90m│   \u001b[39m        (#23 = %new(Main.:(var\"#23#27\")))\n",
      "\u001b[90m│   \u001b[39m %35  = #23\u001b[36m::Core.Const(var\"#23#27\"())\u001b[39m\n",
      "\u001b[90m│   \u001b[39m %36  = Base.Generator(%35, cellpoints)\u001b[36m::Base.Generator{Vector{Matrix{Float64}}, var\"#23#27\"}\u001b[39m\n",
      "\u001b[90m│   \u001b[39m        (bboxes = Base.collect(%36))\n",
      "\u001b[90m│   \u001b[39m %38  = Base.getproperty(Main.Lar, "
     ]
    },
    {
     "name": "stdout",
     "output_type": "stream",
     "text": [
      ":coordintervals)\u001b[91m\u001b[1m::Any\u001b[22m\u001b[39m\n",
      "\u001b[90m│   \u001b[39m        (xboxdict = (%38)(1, bboxes))\n",
      "\u001b[90m│   \u001b[39m %40  = Base.getproperty(Main.Lar, :coordintervals)\u001b[91m\u001b[1m::Any\u001b[22m\u001b[39m\n",
      "\u001b[90m│   \u001b[39m        (yboxdict = (%40)(2, bboxes))\n",
      "\u001b[90m│   \u001b[39m"
     ]
    },
    {
     "name": "stdout",
     "output_type": "stream",
     "text": [
      " %42  = IntervalTrees.IntervalMap\u001b[36m::Core.Const(IntervalMap)\u001b[39m\n",
      "\u001b[90m│   \u001b[39m %43  = Core.apply_type(%42, Main.Float64, Main.Array)\u001b[36m::Core.Const(IntervalTrees.IntervalBTree{Float64, IntervalValue{Float64, Array}, 64})\u001b[39m\n",
      "\u001b[90m│   \u001b[39m        (xs = (%43)())\n",
      "\u001b[90m│   \u001b[39m %45  = xboxdict\u001b[91m\u001b[1m::Any\u001b[22m\u001b[39m\n"
     ]
    },
    {
     "name": "stdout",
     "output_type": "stream",
     "text": [
      "\u001b[90m│   \u001b[39m        (@_8 = Base.iterate(%45))\n",
      "\u001b[90m│   \u001b[39m %47  = (@_8 === nothing)\u001b[36m::Bool\u001b[39m\n",
      "\u001b[90m│   \u001b[39m %48  = Base.not_int(%47)\u001b[36m::Bool\u001b[39m\n",
      "\u001b[90m└───\u001b[39m        goto #4 if not %48\n",
      "\u001b[90m2 ┄─\u001b[39m %50  = @_8\u001b[91m\u001b[1m::Any\u001b[22m\u001b[39m\n",
      "\u001b[90m│   \u001b[39m %51  = Core.getfield(%50, 1)\u001b[91m\u001b[1m::Any\u001b[22m\u001b[39m\n",
      "\u001b[90m│   \u001b[39m %52  = Base.indexed_iterate"
     ]
    },
    {
     "name": "stdout",
     "output_type": "stream",
     "text": [
      "(%51, 1)\u001b[91m\u001b[1m::Any\u001b[22m\u001b[39m\n",
      "\u001b[90m│   \u001b[39m        (key@_29 = Core.getfield(%52, 1))\n",
      "\u001b[90m│   \u001b[39m        (@_27 = Core.getfield(%52, 2))\n",
      "\u001b[90m│   \u001b[39m %55  = Base.indexed_iterate(%51, 2, @_27)\u001b[91m\u001b[1m::Any\u001b[22m\u001b[39m\n",
      "\u001b[90m│   \u001b[39m        (boxset@_28 = Core.getfield(%55, 1))\n",
      "\u001b[90m│   \u001b[39m %57  = Core.getfield(%50, 2)\u001b[91m\u001b[1m::Any\u001b[22m\u001b[39m\n"
     ]
    },
    {
     "name": "stdout",
     "output_type": "stream",
     "text": [
      "\u001b[90m│   \u001b[39m %58  = xs\u001b[36m::IntervalTrees.IntervalBTree{Float64, IntervalValue{Float64, Array}, 64}\u001b[39m\n",
      "\u001b[90m│   \u001b[39m %59  = boxset@_28\u001b[91m\u001b[1m::Any\u001b[22m\u001b[39m\n",
      "\u001b[90m│   \u001b[39m %60  = Core._apply_iterate(Base.iterate, Main.tuple, key@_29)\u001b[91m\u001b[1m::Tuple\u001b[22m\u001b[39m\n",
      "\u001b[90m│   \u001b[39m        Base.setindex!(%58, %59, %60)\n",
      "\u001b[90m│   \u001b[39m        (@_8 = Base.iterate(%45, %57))\n",
      "\u001b[90m│   \u001b[39m %63  = (@_8 === nothing)\u001b[36m::Bool\u001b[39m\n",
      "\u001b[90m│   \u001b[39m %64  = Base.not_int(%63)\u001b[36m::Bool\u001b[39m\n",
      "\u001b[90m└───\u001b[39m        goto #4 if not %64\n",
      "\u001b[90m3 ──\u001b[39m        goto #2\n",
      "\u001b[90m4 ┄─\u001b[39m %67  = IntervalTrees.IntervalMap\u001b[36m::Core.Const(IntervalMap)\u001b[39m\n",
      "\u001b[90m│   \u001b[39m %68  "
     ]
    },
    {
     "name": "stdout",
     "output_type": "stream",
     "text": [
      "= Core.apply_type(%67, Main.Float64, Main.Array)\u001b[36m::Core.Const(IntervalTrees.IntervalBTree{Float64, IntervalValue{Float64, Array}, 64})\u001b[39m\n",
      "\u001b[90m│   \u001b[39m        (ys = (%68)())\n",
      "\u001b[90m│   \u001b[39m %70  = yboxdict\u001b[91m\u001b[1m::Any\u001b[22m\u001b[39m\n",
      "\u001b[90m│   \u001b[39m        (@_7 = Base.iterate(%70))\n",
      "\u001b[90m│   \u001b[39m %72  = (@_7 === nothing)\u001b[36m::Bool\u001b[39m\n",
      "\u001b[90m│   \u001b[39m %73  = Base.not_int(%72)\u001b[36m::Bool\u001b[39m\n",
      "\u001b[90m└───\u001b[39m        goto #7 if not %73\n",
      "\u001b[90m5 ┄─\u001b[39m %75  = "
     ]
    },
    {
     "name": "stdout",
     "output_type": "stream",
     "text": [
      "@_7\u001b[91m\u001b[1m::Any\u001b[22m\u001b[39m\n",
      "\u001b[90m│   \u001b[39m %76  = Core.getfield(%75, 1)\u001b[91m\u001b[1m::Any\u001b[22m\u001b[39m\n",
      "\u001b[90m│   \u001b[39m %77  = Base.indexed_iterate(%76, 1)\u001b[91m\u001b[1m::Any\u001b[22m\u001b[39m\n",
      "\u001b[90m│   \u001b[39m        (key@_32 = Core.getfield(%77, 1))\n",
      "\u001b[90m│   \u001b[39m        (@_30 = Core.getfield(%77, 2))\n",
      "\u001b[90m│   \u001b[39m %80  = Base.indexed_iterate(%76, 2, @_30)\u001b[91m\u001b[1m::Any\u001b[22m\u001b[39m\n",
      "\u001b[90m│   \u001b[39m        (boxset@_31 = Core.getfield(%80, 1))\n",
      "\u001b[90m│   \u001b[39m %82  = Core.getfield(%75, 2)\u001b[91m\u001b[1m::Any\u001b[22m\u001b[39m\n",
      "\u001b[90m│   \u001b[39m %83  = ys\u001b[36m::IntervalTrees.IntervalBTree{Float64, IntervalValue{Float64, Array}, 64}\u001b[39m\n",
      "\u001b[90m│   \u001b[39m %84  = boxset@_31\u001b[91m\u001b[1m::Any\u001b[22m\u001b[39m\n",
      "\u001b[90m│   \u001b[39m %85  = Core._apply_iterate(Base.iterate, Main.tuple, key@_32)\u001b[91m\u001b[1m::Tuple\u001b[22m\u001b[39m\n",
      "\u001b[90m│   \u001b[39m        Base.setindex!(%83, %84, %85)\n",
      "\u001b[90m│   \u001b[39m        (@_7 = Base.iterate(%70, %82))\n",
      "\u001b[90m│   \u001b[39m %88  = (@_7 === nothing)\u001b[36m::Bool\u001b[39m\n",
      "\u001b[90m│   \u001b[39m %89  = Base.not_int(%88)\u001b[36m::Bool\u001b[39m\n",
      "\u001b[90m└───\u001b[39m        goto #7 if not %89\n",
      "\u001b[90m6 ──\u001b[39m        goto #5\n",
      "\u001b[90m7 ┄─\u001b[39m"
     ]
    },
    {
     "name": "stdout",
     "output_type": "stream",
     "text": [
      " %92  = Base.getproperty(Main.Lar, :boxcovering)\u001b[91m\u001b[1m::Any\u001b[22m\u001b[39m\n",
      "\u001b[90m│   \u001b[39m %93  = bboxes\u001b[91m\u001b[1m::Vector\u001b[22m\u001b[39m\n",
      "\u001b[90m│   \u001b[39m        (xcovers = (%92)(%93, 1, xs))\n",
      "\u001b[90m│   \u001b[39m %95  = Base.getproperty(Main.Lar, :boxcovering)\u001b[91m\u001b[1m::Any\u001b[22m\u001b[39m\n",
      "\u001b[90m│   \u001b[39m %96  = bboxes\u001b[91m\u001b[1m::Vector\u001b[22m\u001b[39m\n",
      "\u001b[90m│   \u001b[39m "
     ]
    },
    {
     "name": "stdout",
     "output_type": "stream",
     "text": [
      "       (ycovers = (%95)(%96, 2, ys))\n",
      "\u001b[90m│   \u001b[39m        (#24 = %new(Main.:(var\"#24#28\")))\n",
      "\u001b[90m│   \u001b[39m %99  = #24\u001b[36m::Core.Const(var\"#24#28\"())\u001b[39m\n",
      "\u001b[90m│   \u001b[39m %100 = Main.zip(xcovers, ycovers)\u001b[91m\u001b[1m::Union{DataStructures.ZippedSparseIntSetIterator{Tuple{DataStructures.SparseIntSet, DataStructures.SparseIntSet}, Tuple{}}, Base.Iterators.Zip}\u001b[22m\u001b[39m\n",
      "\u001b[90m│   \u001b[39m %101 = Base.Generator(%99, %100)\u001b[91m\u001b[1m::Base.Generator{_A, var\"#24#28\"} where _A\u001b[22m\u001b[39m\n",
      "\u001b[90m│   \u001b[39m        (covers = Base.collect(%101))\n",
      "\u001b[90m│   \u001b[39m %103 = (dim == 3)\u001b[36m::Bool\u001b[39m\n",
      "\u001b[90m└───\u001b[39m        goto #12 if not %103\n",
      "\u001b[90m8 ──\u001b[39m %105 = Base.getproperty(Main.Lar, :coordintervals)\u001b[91m\u001b[1m::Any\u001b[22m\u001b[39m\n",
      "\u001b[90m│   \u001b[39m"
     ]
    },
    {
     "name": "stdout",
     "output_type": "stream",
     "text": [
      "        (zboxdict = (%105)(3, bboxes))\n",
      "\u001b[90m│   \u001b[39m %107 = IntervalTrees.IntervalMap\u001b[36m::Core.Const(IntervalMap)\u001b[39m\n",
      "\u001b[90m│   \u001b[39m %108 = Core.apply_type(%107, Main.Float64, Main.Array)\u001b[36m::Core.Const(IntervalTrees.IntervalBTree{Float64, IntervalValue{Float64, Array}, 64})\u001b[39m\n",
      "\u001b[90m│   \u001b[39m        (zs = (%108)())\n",
      "\u001b[90m│   \u001b[39m %110 = zboxdict\u001b[91m\u001b[1m::Any\u001b[22m\u001b[39m\n",
      "\u001b[90m│   \u001b[39m        (@_5 = Base.iterate(%110))\n",
      "\u001b[90m│   \u001b[39m %112 = (@_5 === nothing)"
     ]
    },
    {
     "name": "stdout",
     "output_type": "stream",
     "text": [
      "\u001b[36m::Bool\u001b[39m\n",
      "\u001b[90m│   \u001b[39m %113 = Base.not_int(%112)\u001b[36m::Bool\u001b[39m\n",
      "\u001b[90m└───\u001b[39m        goto #11 if not %113\n",
      "\u001b[90m9 ┄─\u001b[39m %115 = @_5\u001b[91m\u001b[1m::Any\u001b[22m\u001b[39m\n",
      "\u001b[90m│   \u001b[39m %116 = Core.getfield(%115, 1)\u001b[91m\u001b[1m::Any\u001b[22m\u001b[39m\n",
      "\u001b[90m│   \u001b[39m %117 = Base.indexed_iterate(%116, 1)\u001b[91m\u001b[1m::Any\u001b[22m\u001b[39m\n",
      "\u001b[90m│   \u001b[39m        (key@_35 = Core."
     ]
    },
    {
     "name": "stdout",
     "output_type": "stream",
     "text": [
      "getfield(%117, 1))\n",
      "\u001b[90m│   \u001b[39m        (@_33 = Core.getfield(%117, 2))\n",
      "\u001b[90m│   \u001b[39m %120 = Base.indexed_iterate(%116, 2, @_33)\u001b[91m\u001b[1m::Any\u001b[22m\u001b[39m\n",
      "\u001b[90m│   \u001b[39m        (boxset@_34 = Core.getfield(%120, 1))\n",
      "\u001b[90m│   \u001b[39m %122 = Core.getfield(%115, 2)\u001b[91m\u001b[1m::Any\u001b[22m\u001b[39m\n",
      "\u001b[90m│   \u001b[39m %123 = zs\u001b[36m::IntervalTrees.IntervalBTree{Float64, IntervalValue{Float64, Array}, 64}\u001b[39m\n",
      "\u001b[90m│   \u001b[39m %124 = boxset@_34\u001b[91m\u001b[1m::Any\u001b[22m\u001b[39m\n",
      "\u001b[90m│   \u001b[39m %125 = Core._apply_iterate(Base.iterate, Main.tuple, key@_35)\u001b[91m\u001b[1m::Tuple\u001b[22m\u001b[39m\n",
      "\u001b[90m│   \u001b[39m        Base.setindex!(%123, %124, %125)\n"
     ]
    },
    {
     "name": "stdout",
     "output_type": "stream",
     "text": [
      "\u001b[90m│   \u001b[39m        (@_5 = Base.iterate(%110, %122))\n",
      "\u001b[90m│   \u001b[39m %128 = (@_5 === nothing)\u001b[36m::Bool\u001b[39m\n",
      "\u001b[90m│   \u001b[39m %129 = Base.not_int(%128)\u001b[36m::Bool\u001b[39m\n",
      "\u001b[90m└───\u001b[39m        goto #11 if not %129\n",
      "\u001b[90m10 ─\u001b[39m        goto #9\n",
      "\u001b[90m11 ┄\u001b[39m %132 = Base.getproperty(Main.Lar, :boxcovering)\u001b[91m\u001b[1m::Any\u001b[22m\u001b[39m\n",
      "\u001b[90m│   \u001b[39m %133 = bboxes\u001b[91m\u001b[1m::Vector\u001b[22m\u001b[39m\n",
      "\u001b[90m│   \u001b[39m        (zcovers = (%132)(%133, 3, zs))\n",
      "\u001b[90m│   \u001b[39m        (#25 = %new(Main.:(var\"#25#29\")))\n",
      "\u001b[90m│   \u001b[39m %136 = #25\u001b[36m::Core.Const(var\"#25#29\"())\u001b[39m\n",
      "\u001b[90m│   \u001b[39m"
     ]
    },
    {
     "name": "stdout",
     "output_type": "stream",
     "text": [
      " %137 = Main.zip(zcovers, covers)\u001b[91m\u001b[1m::Union{DataStructures.ZippedSparseIntSetIterator{Tuple{DataStructures.SparseIntSet, DataStructures.SparseIntSet}, Tuple{}}, Base.Iterators.Zip}\u001b[22m\u001b[39m\n",
      "\u001b[90m│   \u001b[39m %138 = Base.Generator(%136, %137)\u001b[91m\u001b[1m::Base.Generator{_A, var\"#25#29\"} where _A\u001b[22m\u001b[39m\n",
      "\u001b[90m└───\u001b[39m        (covers = Base.collect(%138))\n",
      "\u001b[90m12 ┄\u001b[39m %140 = Main.length(covers)\u001b[91m\u001b[1m::Any\u001b[22m\u001b[39m\n",
      "\u001b[90m│   \u001b[39m %141 = (1:%140)\u001b[91m\u001b[1m::Any\u001b[22m\u001b[39m\n",
      "\u001b[90m│   \u001b[39m        (@_3 = Base.iterate(%141))\n",
      "\u001b[90m│   \u001b[39m %143 = "
     ]
    },
    {
     "name": "stdout",
     "output_type": "stream",
     "text": [
      "(@_3 === nothing)\u001b[36m::Bool\u001b[39m\n",
      "\u001b[90m│   \u001b[39m %144 = Base.not_int(%143)\u001b[36m::Bool\u001b[39m\n",
      "\u001b[90m└───\u001b[39m        goto #15 if not %144\n",
      "\u001b[90m13 ┄\u001b[39m %146 = @_3\u001b[91m\u001b[1m::Any\u001b[22m\u001b[39m\n",
      "\u001b[90m│   \u001b[39m        (k = Core.getfield(%146, 1))\n",
      "\u001b[90m│   \u001b[39m %148 = Core.getfield(%146, 2)\u001b[91m\u001b[1m::Any\u001b[22m\u001b[39m\n",
      "\u001b[90m│   \u001b[39m %149 = Base.getindex(covers, k)\u001b[91m\u001b[1m::Any\u001b[22m\u001b[39m\n",
      "\u001b[90m│   \u001b[39m %150 = Base.vect(k)\u001b[91m\u001b[1m::Vector\u001b[22m\u001b[39m\n",
      "\u001b[90m│   \u001b[39m %151 = Main.setdiff(%149, %150)\u001b[91m\u001b[1m::Any\u001b[22m\u001b[39m\n",
      "\u001b[90m│   \u001b[39m        Base.setindex!(covers, %151, k)\n",
      "\u001b[90m│   \u001b[39m        (@_3 = Base.iterate(%141, %148))\n",
      "\u001b[90m│   \u001b[39m %154 = (@_3 === nothing)\u001b[36m::Bool\u001b[39m\n",
      "\u001b[90m│   \u001b[39m %155 = Base.not_int(%154)\u001b[36m::Bool\u001b[39m\n",
      "\u001b[90m└───\u001b[39m        goto #15 if not %155\n",
      "\u001b[90m14 ─\u001b[39m        goto #13\n",
      "\u001b[90m15 ┄\u001b[39m %158 = Base.convert(%14, covers)\u001b[91m\u001b[1m::Any\u001b[22m\u001b[39m\n",
      "\u001b[90m│   \u001b[39m %159 = Core.typeassert(%158, %14)\u001b[36m::Vector{Vector{Int64}}\u001b[39m\n",
      "\u001b[90m└───\u001b[39m "
     ]
    },
    {
     "name": "stdout",
     "output_type": "stream",
     "text": [
      "       return %159\n",
      "\n"
     ]
    }
   ],
   "source": [
    "@code_warntype spaceindex((V,EV))"
   ]
  },
  {
   "cell_type": "code",
   "execution_count": 12,
   "id": "6040e203",
   "metadata": {},
   "outputs": [
    {
     "data": {
      "text/plain": [
       "BenchmarkTools.Trial: 10000 samples with 1 evaluation.\n",
       " Range \u001b[90m(\u001b[39m\u001b[36m\u001b[1mmin\u001b[22m\u001b[39m … \u001b[35mmax\u001b[39m\u001b[90m):  \u001b[39m\u001b[36m\u001b[1m141.200 μs\u001b[22m\u001b[39m … \u001b[35m 13.216 ms\u001b[39m  \u001b[90m┊\u001b[39m GC \u001b[90m(\u001b[39mmin … max\u001b[90m): \u001b[39m0.00% … 96.75%\n",
       " Time  \u001b[90m(\u001b[39m\u001b[34m\u001b[1mmedian\u001b[22m\u001b[39m\u001b[90m):     \u001b[39m\u001b[34m\u001b[1m151.550 μs               \u001b[22m\u001b[39m\u001b[90m┊\u001b[39m GC \u001b[90m(\u001b[39mmedian\u001b[90m):    \u001b[39m0.00%\n",
       " Time  \u001b[90m(\u001b[39m\u001b[32m\u001b[1mmean\u001b[22m\u001b[39m ± \u001b[32mσ\u001b[39m\u001b[90m):   \u001b[39m\u001b[32m\u001b[1m187.658 μs\u001b[22m\u001b[39m ± \u001b[32m322.743 μs\u001b[39m  \u001b[90m┊\u001b[39m GC \u001b[90m(\u001b[39mmean ± σ\u001b[90m):  \u001b[39m5.31% ±  3.09%\n",
       "\n",
       "  \u001b[39m▇\u001b[39m█\u001b[34m▆\u001b[39m\u001b[39m▅\u001b[39m▄\u001b[39m▃\u001b[39m▂\u001b[39m▃\u001b[39m▃\u001b[39m▄\u001b[32m▂\u001b[39m\u001b[39m▄\u001b[39m▄\u001b[39m▂\u001b[39m \u001b[39m \u001b[39m \u001b[39m \u001b[39m \u001b[39m▂\u001b[39m▆\u001b[39m▅\u001b[39m▃\u001b[39m▂\u001b[39m▁\u001b[39m \u001b[39m \u001b[39m \u001b[39m \u001b[39m \u001b[39m \u001b[39m \u001b[39m \u001b[39m \u001b[39m \u001b[39m \u001b[39m \u001b[39m \u001b[39m \u001b[39m \u001b[39m \u001b[39m \u001b[39m \u001b[39m \u001b[39m \u001b[39m \u001b[39m \u001b[39m \u001b[39m \u001b[39m \u001b[39m \u001b[39m \u001b[39m \u001b[39m \u001b[39m \u001b[39m \u001b[39m \u001b[39m \u001b[39m \u001b[39m \u001b[39m \u001b[39m \u001b[39m▂\n",
       "  \u001b[39m█\u001b[39m█\u001b[34m█\u001b[39m\u001b[39m█\u001b[39m█\u001b[39m█\u001b[39m█\u001b[39m█\u001b[39m█\u001b[39m█\u001b[32m█\u001b[39m\u001b[39m█\u001b[39m█\u001b[39m█\u001b[39m█\u001b[39m█\u001b[39m▇\u001b[39m▇\u001b[39m▇\u001b[39m█\u001b[39m█\u001b[39m█\u001b[39m█\u001b[39m█\u001b[39m█\u001b[39m█\u001b[39m█\u001b[39m▇\u001b[39m█\u001b[39m█\u001b[39m█\u001b[39m▇\u001b[39m█\u001b[39m▇\u001b[39m▇\u001b[39m▇\u001b[39m▇\u001b[39m▆\u001b[39m▆\u001b[39m▅\u001b[39m▅\u001b[39m▅\u001b[39m▅\u001b[39m▅\u001b[39m▄\u001b[39m▅\u001b[39m▅\u001b[39m▃\u001b[39m▄\u001b[39m▄\u001b[39m▄\u001b[39m▄\u001b[39m▃\u001b[39m▄\u001b[39m▃\u001b[39m▃\u001b[39m▁\u001b[39m▄\u001b[39m▄\u001b[39m▁\u001b[39m▇\u001b[39m \u001b[39m█\n",
       "  141 μs\u001b[90m        \u001b[39m\u001b[90mHistogram: \u001b[39m\u001b[90m\u001b[1mlog(\u001b[22m\u001b[39m\u001b[90mfrequency\u001b[39m\u001b[90m\u001b[1m)\u001b[22m\u001b[39m\u001b[90m by time\u001b[39m        415 μs \u001b[0m\u001b[1m<\u001b[22m\n",
       "\n",
       " Memory estimate\u001b[90m: \u001b[39m\u001b[33m49.16 KiB\u001b[39m, allocs estimate\u001b[90m: \u001b[39m\u001b[33m1107\u001b[39m."
      ]
     },
     "metadata": {},
     "output_type": "display_data"
    }
   ],
   "source": [
    "@benchmark spaceindex((V,EV))"
   ]
  },
  {
   "cell_type": "markdown",
   "id": "06de2697",
   "metadata": {},
   "source": [
    "### Versione parallelizzata di spaceindex\n",
    " Per la parallalizzazione abbiamo usato la macro @spawn e creato delle funzioni aggiuntive di supporto, createIntervalTree, addIntersection (già citate in boxcovering) e removeIntersection, funzione che elimina le intersezioni di ogni bounding box con loro stessi. Grazie a questo, le prestazioni hanno subito un notevole miglioramento"
   ]
  },
  {
   "cell_type": "code",
   "execution_count": 13,
   "id": "2ab357c6",
   "metadata": {},
   "outputs": [
    {
     "data": {
      "text/plain": [
       "spaceindex2 (generic function with 1 method)"
      ]
     },
     "metadata": {},
     "output_type": "display_data"
    }
   ],
   "source": [
    "function spaceindex2(model::Lar.LAR)::Array{Array{Int,1},1}\n",
    "\tV,CV = model[1:2]\n",
    "    dim = size(V,1)\n",
    "    \n",
    "    cellpoints = [ V[:,CV[k]]::Lar.Points for k=1:length(CV) ]\t\t    #calcola le celle\n",
    "    bboxes = [hcat(boundingbox2(cell)...) for cell in cellpoints]    #calcola i boundingbox delle celle\n",
    "    \n",
    "    xboxdict = Threads.@spawn coordintervals(1,bboxes)\n",
    "    yboxdict = Threads.@spawn coordintervals(2,bboxes)\n",
    "\n",
    "    # xs,ys sono di tipo IntervalTree\n",
    "    xs = Threads.@spawn createIntervalTree(fetch(xboxdict))\n",
    "    ys = Threads.@spawn createIntervalTree(fetch(yboxdict))\n",
    "    \n",
    "    xcovers = Threads.@spawn boxcovering2(bboxes, 1, fetch(xs))                        #lista delle intersezioni dei bb sulla coordinata x\n",
    "    ycovers = Threads.@spawn boxcovering2(bboxes, 2, fetch(ys))                        #lista delle intersezioni dei bb sulla coordinata x\n",
    "    covers = [intersect(pair...) for pair in zip(fetch(xcovers),fetch(ycovers))]      #lista delle intersezioni dei bb su entrambe le coordinate\n",
    "\n",
    "    if dim == 3\n",
    "        zboxdict = Threads.@spawn coordintervals(3,bboxes)\n",
    "        zs = Threads.@spawn createIntervalTree(fetch(zboxdict))\n",
    "        zcovers = Threads.@spawn boxcovering2(bboxes, 3, fetch(zs))\n",
    "        covers = [intersect(pair...) for pair in zip(fetch(zcovers),covers)]\n",
    "    end\n",
    "    \n",
    "    removeIntersection(covers)       #rimozione delle intersezioni con se stesso\n",
    "    return covers\n",
    "end"
   ]
  },
  {
   "cell_type": "markdown",
   "id": "eeb3a0f2",
   "metadata": {},
   "source": [
    "### Analisi del comportamento e dei tempi della versione parallelizzata"
   ]
  },
  {
   "cell_type": "code",
   "execution_count": 14,
   "id": "0c36ef1a",
   "metadata": {},
   "outputs": [
    {
     "name": "stdout",
     "output_type": "stream",
     "text": [
      "  77.100 μs (538 allocations: 40.08 KiB)\n"
     ]
    },
    {
     "data": {
      "text/plain": [
       "5-element Vector{Vector{Int64}}:\n",
       " [4, 5, 2]\n",
       " [1, 3, 5]\n",
       " [4, 5, 2]\n",
       " [1, 3, 5]\n",
       " [4, 1, 3, 2]"
      ]
     },
     "metadata": {},
     "output_type": "display_data"
    }
   ],
   "source": [
    "@btime spaceindex2((V,EV))"
   ]
  },
  {
   "cell_type": "code",
   "execution_count": 15,
   "id": "cfb4fb00",
   "metadata": {},
   "outputs": [
    {
     "data": {
      "text/plain": [
       "BenchmarkTools.Trial: 10000 samples with 1 evaluation.\n",
       " Range \u001b[90m(\u001b[39m\u001b[36m\u001b[1mmin\u001b[22m\u001b[39m … \u001b[35mmax\u001b[39m\u001b[90m):  \u001b[39m\u001b[36m\u001b[1m 87.400 μs\u001b[22m\u001b[39m … \u001b[35m 12.921 ms\u001b[39m  \u001b[90m┊\u001b[39m GC \u001b[90m(\u001b[39mmin … max\u001b[90m): \u001b[39m0.00% … 98.18%\n",
       " Time  \u001b[90m(\u001b[39m\u001b[34m\u001b[1mmedian\u001b[22m\u001b[39m\u001b[90m):     \u001b[39m\u001b[34m\u001b[1m121.000 μs               \u001b[22m\u001b[39m\u001b[90m┊\u001b[39m GC \u001b[90m(\u001b[39mmedian\u001b[90m):    \u001b[39m0.00%\n",
       " Time  \u001b[90m(\u001b[39m\u001b[32m\u001b[1mmean\u001b[22m\u001b[39m ± \u001b[32mσ\u001b[39m\u001b[90m):   \u001b[39m\u001b[32m\u001b[1m131.105 μs\u001b[22m\u001b[39m ± \u001b[32m279.528 μs\u001b[39m  \u001b[90m┊\u001b[39m GC \u001b[90m(\u001b[39mmean ± σ\u001b[90m):  \u001b[39m5.88% ±  2.78%\n",
       "\n",
       "  \u001b[39m \u001b[39m▄\u001b[39m \u001b[39m \u001b[39m \u001b[39m \u001b[39m \u001b[39m \u001b[39m \u001b[39m \u001b[39m \u001b[39m \u001b[39m \u001b[39m \u001b[34m \u001b[39m\u001b[39m \u001b[39m \u001b[39m \u001b[32m \u001b[39m\u001b[39m \u001b[39m \u001b[39m \u001b[39m▁\u001b[39m█\u001b[39m▁\u001b[39m \u001b[39m \u001b[39m \u001b[39m \u001b[39m \u001b[39m \u001b[39m \u001b[39m \u001b[39m \u001b[39m \u001b[39m \u001b[39m \u001b[39m \u001b[39m \u001b[39m \u001b[39m \u001b[39m \u001b[39m \u001b[39m \u001b[39m \u001b[39m \u001b[39m \u001b[39m \u001b[39m \u001b[39m \u001b[39m \u001b[39m \u001b[39m \u001b[39m \u001b[39m \u001b[39m \u001b[39m \u001b[39m \u001b[39m \u001b[39m \u001b[39m \u001b[39m \u001b[39m \n",
       "  \u001b[39m█\u001b[39m█\u001b[39m▇\u001b[39m▅\u001b[39m▄\u001b[39m▅\u001b[39m▅\u001b[39m▄\u001b[39m▃\u001b[39m▂\u001b[39m▃\u001b[39m▂\u001b[39m▂\u001b[39m▅\u001b[34m▄\u001b[39m\u001b[39m▄\u001b[39m▃\u001b[39m▂\u001b[32m▂\u001b[39m\u001b[39m▁\u001b[39m▁\u001b[39m▁\u001b[39m█\u001b[39m█\u001b[39m█\u001b[39m▄\u001b[39m▃\u001b[39m▂\u001b[39m▂\u001b[39m▁\u001b[39m▁\u001b[39m▁\u001b[39m▁\u001b[39m▁\u001b[39m▁\u001b[39m▁\u001b[39m▁\u001b[39m▁\u001b[39m▁\u001b[39m▁\u001b[39m▁\u001b[39m▁\u001b[39m▁\u001b[39m▁\u001b[39m▁\u001b[39m▁\u001b[39m▁\u001b[39m▁\u001b[39m▁\u001b[39m▁\u001b[39m▁\u001b[39m▁\u001b[39m▁\u001b[39m▁\u001b[39m▁\u001b[39m▁\u001b[39m▁\u001b[39m▁\u001b[39m▁\u001b[39m▁\u001b[39m▁\u001b[39m \u001b[39m▂\n",
       "  87.4 μs\u001b[90m          Histogram: frequency by time\u001b[39m          236 μs \u001b[0m\u001b[1m<\u001b[22m\n",
       "\n",
       " Memory estimate\u001b[90m: \u001b[39m\u001b[33m40.08 KiB\u001b[39m, allocs estimate\u001b[90m: \u001b[39m\u001b[33m538\u001b[39m."
      ]
     },
     "metadata": {},
     "output_type": "display_data"
    }
   ],
   "source": [
    "@benchmark spaceindex2((V,EV))"
   ]
  },
  {
   "cell_type": "markdown",
   "id": "ee741a4e",
   "metadata": {},
   "source": [
    "## Test"
   ]
  },
  {
   "cell_type": "code",
   "execution_count": 16,
   "id": "55dab73e",
   "metadata": {},
   "outputs": [
    {
     "name": "stdout",
     "output_type": "stream",
     "text": [
      "\u001b[0m\u001b[1mTest Summary:    | \u001b[22m\u001b[32m\u001b[1mPass  \u001b[22m\u001b[39m\u001b[36m\u001b[1mTotal\u001b[22m\u001b[39m"
     ]
    },
    {
     "name": "stdout",
     "output_type": "stream",
     "text": [
      "\n",
      "spaceindex tests | \u001b[32m   1  \u001b[39m\u001b[36m    1\u001b[39m\n"
     ]
    },
    {
     "data": {
      "text/plain": [
       "Test.DefaultTestSet(\"spaceindex tests\", Any[], 1, false, false)"
      ]
     },
     "metadata": {},
     "output_type": "display_data"
    }
   ],
   "source": [
    "using Test\n",
    "\n",
    "@testset \"spaceindex tests\" begin\n",
    "    V,(VV,EV,FV) = Lar.cuboidGrid([2,1],true)\n",
    "    EV = [[1, 2], [3, 4], [5, 6], [1, 3], [2, 4], [3, 5], [4, 6]]\n",
    "    cellpoints = [ V[:,EV[k]]::Lar.Points for k=1:length(EV) ]\n",
    "    bboxes = [hcat(Lar.boundingbox(cell)...) for cell in cellpoints]\n",
    "    xboxdict = Lar.coordintervals(1,bboxes)\n",
    "    yboxdict = Lar.coordintervals(2,bboxes)\n",
    "    xs = IntervalTrees.IntervalMap{Float64, Array}()\n",
    "    for (key,boxset) in xboxdict\n",
    "        xs[tuple(key...)] = boxset\n",
    "    end\n",
    "    ys = IntervalTrees.IntervalMap{Float64, Array}()\n",
    "    for (key,boxset) in yboxdict\n",
    "        ys[tuple(key...)] = boxset\n",
    "    end\n",
    "    xcovers = Lar.boxcovering(bboxes, 1, xs)\n",
    "    ycovers = Lar.boxcovering(bboxes, 2, ys)\n",
    "    covers = [intersect(pair...) for pair in zip(xcovers,ycovers)]\n",
    "    \n",
    "    @test covers == Array{Int64,1}[[1, 4, 5], [4, 5, 2, 6, 7], [6, 7, 3], \n",
    "        [1, 4, 2, 6], [1, 5, 2, 7], [4, 2, 6, 3], [5, 2, 7, 3]]\n",
    "end"
   ]
  },
  {
   "cell_type": "markdown",
   "id": "fd90eb18",
   "metadata": {},
   "source": [
    "![](https://github.com/GiuliaCastagnacci/LARSplitting2D/blob/main/docs/plot/images/test/tests_spaceindex.png?raw=true)"
   ]
  },
  {
   "cell_type": "markdown",
   "id": "634c68cc",
   "metadata": {},
   "source": [
    "![](https://github.com/GiuliaCastagnacci/LARSplitting2D/blob/main/docs/plot/screenTest/tests_spaceindex.png?raw=true)"
   ]
  },
  {
   "cell_type": "markdown",
   "id": "6cc66c7c",
   "metadata": {},
   "source": [
    "## Test Funzioni aggiuntive create"
   ]
  },
  {
   "cell_type": "code",
   "execution_count": 17,
   "id": "3cd7d47f",
   "metadata": {},
   "outputs": [
    {
     "name": "stdout",
     "output_type": "stream",
     "text": [
      "\u001b[0m\u001b[1mTest Summary:           | \u001b[22m"
     ]
    },
    {
     "name": "stdout",
     "output_type": "stream",
     "text": [
      "\u001b[32m\u001b[1mPass  \u001b[22m\u001b[39m\u001b[36m\u001b[1mTotal\u001b[22m\u001b[39m\n",
      "createIntervalTree test | \u001b[32m  13  \u001b[39m\u001b[36m   13\u001b[39m\n"
     ]
    },
    {
     "data": {
      "text/plain": [
       "Test.DefaultTestSet(\"createIntervalTree test\", Any[], 13, false, false)"
      ]
     },
     "metadata": {},
     "output_type": "display_data"
    }
   ],
   "source": [
    "@testset \"createIntervalTree test\" begin\n",
    "    dict = OrderedDict([0.0, 1.0] => [1, 3],[1.0, 1.0] => [2],[0.0, 0.0] => [4],[0.0, 2.0] => [5])\n",
    "    t = createIntervalTree(dict)\n",
    "    @test typeof(t) == IntervalTrees.IntervalBTree{Float64,IntervalValue{Float64,Array},64}\n",
    "    @test t.root.entries[1].first == 0.0\n",
    "    @test t.root.entries[1].last == 0.0\n",
    "    @test t.root.entries[1].value == [4]\n",
    "\n",
    "    @test t.root.entries[2].first == 0.0\n",
    "    @test t.root.entries[2].last == 1.0\n",
    "    @test t.root.entries[2].value == [1,3]\n",
    "\n",
    "    @test t.root.entries[3].first == 0.0\n",
    "    @test t.root.entries[3].last == 2.0\n",
    "    @test t.root.entries[3].value == [5]\n",
    "\n",
    "    @test t.root.entries[4].first == 1.0\n",
    "    @test t.root.entries[4].last == 1.0\n",
    "    @test t.root.entries[4].value == [2]\n",
    "end"
   ]
  },
  {
   "cell_type": "markdown",
   "id": "1c489f95",
   "metadata": {},
   "source": [
    "![](https://github.com/GiuliaCastagnacci/LARSplitting2D/blob/main/docs/plot/screenTest/tests_createIntervalTree.png?raw=true)"
   ]
  },
  {
   "cell_type": "markdown",
   "id": "9111aa97",
   "metadata": {},
   "source": [
    "![](https://github.com/GiuliaCastagnacci/LARSplitting2D/blob/main/docs/plot/images/test/tests_createIntervalTree.png?raw=true)"
   ]
  },
  {
   "cell_type": "code",
   "execution_count": 18,
   "id": "f6609c69",
   "metadata": {},
   "outputs": [
    {
     "name": "stdout",
     "output_type": "stream",
     "text": [
      "\u001b[0m\u001b[1mTest Summary:           | \u001b[22m\u001b[32m\u001b[1mPass  \u001b[22m\u001b[39m\u001b[36m\u001b[1mTotal\u001b[22m\u001b[39m\n",
      "removeIntersection test | \u001b[32m   6  \u001b[39m\u001b[36m    6\u001b[39m\n"
     ]
    },
    {
     "data": {
      "text/plain": [
       "Test.DefaultTestSet(\"removeIntersection test\", Any[], 6, false, false)"
      ]
     },
     "metadata": {},
     "output_type": "display_data"
    }
   ],
   "source": [
    "@testset \"removeIntersection test\" begin\n",
    "    covers = [[4, 1, 3, 5, 2], [1, 3, 5, 2], [4, 1, 3, 5, 2], [4, 1, 3, 5], [4, 1, 3, 5, 2]]\n",
    "    removeIntersection(covers)\n",
    "    @test typeof(covers) == Array{Array{Int64,1},1}\n",
    "    @test covers[1] == [4, 3, 5, 2]\n",
    "    @test covers[2] == [1, 3, 5]\n",
    "    @test covers[3] == [4, 1, 5, 2]\n",
    "    @test covers[4] == [1, 3, 5]\n",
    "    @test covers[5] == [4, 1, 3, 2]\n",
    "\n",
    "end"
   ]
  },
  {
   "cell_type": "markdown",
   "id": "74ad139d",
   "metadata": {},
   "source": [
    "![](https://github.com/GiuliaCastagnacci/LARSplitting2D/blob/main/docs/plot/screenTest/tests_removeIntersection.png?raw=true)"
   ]
  },
  {
   "cell_type": "markdown",
   "id": "ce71cc5f",
   "metadata": {},
   "source": [
    "![](https://github.com/GiuliaCastagnacci/LARSplitting2D/blob/main/docs/plot/images/test/tests_removeIntersection.png?raw=true)\n"
   ]
  },
  {
   "cell_type": "code",
   "execution_count": 22,
   "id": "f5460322",
   "metadata": {},
   "outputs": [
    {
     "name": "stdout",
     "output_type": "stream",
     "text": [
      "\u001b[0m\u001b[1mTest Summary:        | \u001b[22m\u001b[32m\u001b[1mPass  \u001b[22m\u001b[39m\u001b[36m\u001b[1mTotal\u001b[22m\u001b[39m\n",
      "addIntersection test | \u001b[32m   1  \u001b[39m\u001b[36m    1\u001b[39m\n"
     ]
    },
    {
     "data": {
      "text/plain": [
       "Test.DefaultTestSet(\"addIntersection test\", Any[], 1, false, false)"
      ]
     },
     "metadata": {},
     "output_type": "display_data"
    }
   ],
   "source": [
    "@testset \"addIntersection test\" begin\n",
    "    bb = [[0.0 1.0; 0.0 0.0], [1.0 1.0; 0.0 1.0], [0.0 1.0; 1.0 1.0], [0.0 0.0; 0.0 1.0], [0.0 2.0; 0.0 1.0]];\n",
    "    dict = OrderedDict([0.0, 1.0] => [1, 3],[1.0, 1.0] => [2],[0.0, 0.0] => [4],[0.0, 2.0] => [5])\n",
    "    t = createIntervalTree(dict)\n",
    "    c = boxcovering2(bb,1,t)\n",
    "    @test c == [[4, 1, 3, 5, 2], [1, 3, 5, 2], [4, 1, 3, 5, 2], [4, 1, 3, 5], [4, 1, 3, 5, 2]];\n",
    "end"
   ]
  },
  {
   "cell_type": "markdown",
   "id": "430c91fa",
   "metadata": {},
   "source": [
    "![](https://github.com/GiuliaCastagnacci/LARSplitting2D/blob/main/docs/plot/screenTest/tests_addIntersection.png?raw=true)"
   ]
  },
  {
   "cell_type": "markdown",
   "id": "e8187365",
   "metadata": {},
   "source": [
    "![](https://github.com/GiuliaCastagnacci/LARSplitting2D/blob/main/docs/plot/images/test/tests_addIntersection.png?raw=true)"
   ]
  }
 ],
 "metadata": {
  "kernelspec": {
   "display_name": "Julia 1.7.2",
   "language": "julia",
   "name": "julia-1.7"
  },
  "language_info": {
   "file_extension": ".jl",
   "mimetype": "application/julia",
   "name": "julia",
   "version": "1.7.2"
  }
 },
 "nbformat": 4,
 "nbformat_minor": 5
}
