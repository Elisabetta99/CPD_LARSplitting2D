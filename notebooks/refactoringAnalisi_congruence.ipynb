{
 "cells": [
  {
   "cell_type": "markdown",
   "id": "92f12c28",
   "metadata": {},
   "source": [
    "### Gruppo 5.a: Castagnacci Giulia, Giordano Elisabetta"
   ]
  },
  {
   "cell_type": "markdown",
   "id": "e47507c1",
   "metadata": {},
   "source": [
    "### Analisi congruence"
   ]
  },
  {
   "cell_type": "code",
   "execution_count": 1,
   "id": "8a1144ed",
   "metadata": {},
   "outputs": [],
   "source": [
    "\n",
    "using LinearAlgebraicRepresentation\n",
    "Lar = LinearAlgebraicRepresentation\n",
    "using IntervalTrees\n",
    "using SparseArrays\n",
    "using NearestNeighbors\n",
    "using BenchmarkTools\n",
    "using OrderedCollections\n",
    "using Base.Threads\n"
   ]
  },
  {
   "cell_type": "markdown",
   "id": "53d0def6",
   "metadata": {},
   "source": [
    "### Dati in input"
   ]
  },
  {
   "cell_type": "code",
   "execution_count": 2,
   "id": "85e86e75",
   "metadata": {},
   "outputs": [
    {
     "data": {
      "text/plain": [
       "5-element Vector{Vector{Int64}}:\n",
       " [4, 1, 3, 5, 2]\n",
       " [1, 3, 5, 2]\n",
       " [4, 1, 3, 5, 2]\n",
       " [4, 1, 3, 5]\n",
       " [4, 1, 3, 5, 2]"
      ]
     },
     "metadata": {},
     "output_type": "display_data"
    }
   ],
   "source": [
    "V = hcat([[0.,0],[1,0],[1,1],[0,1],[2,1]]...);                                          #vertici del modello 2D\n",
    "V3 = hcat([[0.,0,0],[1,0,3],[1,1,2],[0,1,1],[2,1,0]]...);                               #vertici del modello 3D\n",
    "EV = [[1,2],[2,3],[3,4],[4,1],[1,5]];                                                   #spigoli del modello\n",
    "bb = [[0.0 1.0; 0.0 0.0], [1.0 1.0; 0.0 1.0], [0.0 1.0; 1.0 1.0], [0.0 0.0; 0.0 1.0], [0.0 2.0; 0.0 1.0]];  #bounding box\n",
    "dict = OrderedDict([0.0, 1.0] => [1, 3],[1.0, 1.0] => [2],[0.0, 0.0] => [4],[0.0, 2.0] => [5])  #dizionario intervallo/indice\n",
    "cov = [[4, 1, 3, 5, 2], [1, 3, 5, 2], [4, 1, 3, 5, 2], [4, 1, 3, 5], [4, 1, 3, 5, 2]]    #intersezioni tra bounding box"
   ]
  },
  {
   "cell_type": "markdown",
   "id": "a96da45d",
   "metadata": {},
   "source": [
    "### Versione iniziale congruence"
   ]
  },
  {
   "cell_type": "markdown",
   "id": "2bce60d1",
   "metadata": {},
   "source": [
    "Funzione che prende in input un model di tipo Lar.LAR, inizializza un BallTree, che divide ricorsivamente i punti in gruppi delimitati da ipersfere, un raggio di ricerca e un array vuoto di W elementi (W = matrice 2xW). Per ogni vertice cerca i vertici più vicini nel raggio R e li sostituisce. Crea un dizionario chiave, valore (id nuovi vertici) che verrà poi utilizzato per etichettare i vertici degli spigoli in EW."
   ]
  },
  {
   "cell_type": "code",
   "execution_count": 3,
   "id": "c31326f8",
   "metadata": {},
   "outputs": [
    {
     "data": {
      "text/plain": [
       "congruence (generic function with 1 method)"
      ]
     },
     "metadata": {},
     "output_type": "display_data"
    }
   ],
   "source": [
    "function congruence(model)\n",
    "\tW,EW = model\n",
    "\t# congruent vertices\n",
    "\tballtree = NearestNeighbors.BallTree(W)\n",
    "\tr = 0.0000000001\n",
    "\tnear = Array{Any}(undef, size(W,2))\n",
    "\tfor k=1:size(W,2)\n",
    "\t\tnear[k] = union([NearestNeighbors.inrange(balltree, W[:,k], r, true)]...)\n",
    "\tend\n",
    "\tnear = map(sort,near)  # check !!!\n",
    "\tfor k=1:size(W,2)\n",
    "\t\tW[:,k] = W[:,near[k][1]]\n",
    "\tend\n",
    "\tpointidx = [ near[k][1] for k=1:size(W,2) ]  # check !!\n",
    "\tinvidx = OrderedDict(zip(1:length(pointidx), pointidx))\n",
    "\tV = [W[:,k] for k=1:length(pointidx)]\n",
    "\t# congruent edges\n",
    "\tEV = []\n",
    "\tfor e in (EW)\n",
    "\t\tnewedge = [invidx[e[1]],invidx[e[2]]]\n",
    "\t\tif newedge[1] !== newedge[2]\n",
    "\t\t\tpush!(EV,newedge)\n",
    "\t\tend\n",
    "\tend\n",
    "\tEV = [EV[h] for h=1:length(EV) if length(EV[h])==2]\n",
    "\tEV = convert(Lar.Cells, EV)\n",
    "\t\n",
    "\treturn hcat(V...),EV\n",
    "end"
   ]
  },
  {
   "cell_type": "markdown",
   "id": "f970f56a",
   "metadata": {},
   "source": [
    "### Analisi del comportamento e dei tempi della versione iniziale"
   ]
  },
  {
   "cell_type": "code",
   "execution_count": 4,
   "id": "47bb6546",
   "metadata": {},
   "outputs": [
    {
     "name": "stdout",
     "output_type": "stream",
     "text": [
      "  24.500 μs (176 allocations: 9.83 KiB)\n"
     ]
    },
    {
     "data": {
      "text/plain": [
       "([0.0 1.0 … 0.0 2.0; 0.0 0.0 … 1.0 1.0], [[1, 2], [2, 3], [3, 4], [4, 1], [1, 5]])"
      ]
     },
     "metadata": {},
     "output_type": "display_data"
    }
   ],
   "source": [
    "@btime congruence((V,EV))"
   ]
  },
  {
   "cell_type": "code",
   "execution_count": 5,
   "id": "a0d07df3",
   "metadata": {},
   "outputs": [
    {
     "name": "stdout",
     "output_type": "stream",
     "text": [
      "MethodInstance for congruence("
     ]
    },
    {
     "name": "stdout",
     "output_type": "stream",
     "text": [
      "::Tuple{Matrix{Float64}, Vector{Vector{Int64}}})\n",
      "  from congruence(model) in Main at c:\\Users\\giord\\eclipse-SIW\\LARSplitting2D\\notebooks\\refactoringAnalisi_congruence.ipynb:1"
     ]
    },
    {
     "name": "stdout",
     "output_type": "stream",
     "text": [
      "\n",
      "Arguments\n",
      "  #self#"
     ]
    },
    {
     "name": "stdout",
     "output_type": "stream",
     "text": [
      "\u001b[36m::Core.Const(congruence)\u001b[39m\n",
      "  model\u001b[36m::Tuple{Matrix{Float64}, Vector{Vector{Int64}}}\u001b[39m\n",
      "Locals\n",
      "  #12\u001b[36m::var\"#12#16\"\u001b[39m\n",
      "  #11\u001b[36m::var\"#11#15\"\u001b[39m\n",
      "  @_5\u001b[33m\u001b[1m::Union{Nothing, Tuple{Vector{Int64}, Int64}}\u001b[22m\u001b[39m\n",
      "  #10\u001b[36m::var\"#10#14\"{Matrix{Float64}}\u001b[39m\n",
      "  #9\u001b[36m::var\"#9#13\"\u001b[39m\n",
      "  @_8\u001b[33m\u001b[1m::Union{Nothing, Tuple{Int64, Int64}}\u001b[22m\u001b[39m\n",
      "  @_9\u001b[33m\u001b[1m::Union{Nothing, Tuple{Int64, Int64}}\u001b[22m\u001b[39m\n",
      "  @_10\u001b[36m::Int64\u001b[39m\n",
      "  EV@_11\u001b[91m\u001b[1m::Core.Box\u001b[22m\u001b[39m\n",
      "  V\u001b[36m::Vector{Vector{Float64}}\u001b[39m\n",
      "  invidx\u001b[91m\u001b[1m::OrderedDict\u001b[22m\u001b[39m\n",
      "  pointidx\u001b[91m\u001b[1m::Vector\u001b[22m\u001b[39m\n",
      "  near@_15\u001b[91m\u001b[1m::Core.Box\u001b[22m\u001b[39m\n",
      "  r\u001b[36m::Float64\u001b[39m\n",
      "  balltree\u001b[91m\u001b[1m::BallTree{_A, _B, _C, Euclidean} where {_A<:(AbstractVector), _B, _C}\u001b[22m\u001b[39m\n",
      "  EW\u001b[36m::Vector{Vector{Int64}}\u001b[39m\n",
      "  W\u001b[36m::Matrix{Float64}\u001b[39m\n",
      "  k@_20\u001b[36m::Int64\u001b[39m\n",
      "  k@_21\u001b[36m::Int64\u001b[39m\n",
      "  e\u001b[36m::Vector{Int64}\u001b[39m\n",
      "  newedge\u001b[91m\u001b[1m::Vector\u001b[22m\u001b[39m\n",
      "  near@_24\u001b[36m::Union{}\u001b[39m\n",
      "  near@_25\u001b[36m::Union{}\u001b[39m\n",
      "  near@_26\u001b[36m::Union{}\u001b[39m\n",
      "  EV@_27\u001b[36m::Union{}\u001b[39m\n",
      "  EV@_28\u001b[36m::Union{}\u001b[39m\n",
      "  EV@_29\u001b[36m::Union{}\u001b[39m\n",
      "  EV@_30\u001b[36m::Union{}\u001b[39m\n",
      "Body\u001b[91m\u001b[1m::Tuple{Union{Matrix, Vector{Any}}, Any}\u001b[22m\u001b[39m\n"
     ]
    },
    {
     "name": "stdout",
     "output_type": "stream",
     "text": [
      "\u001b[90m1 ──\u001b[39m        "
     ]
    },
    {
     "name": "stdout",
     "output_type": "stream",
     "text": [
      "Core.NewvarNode("
     ]
    },
    {
     "name": "stdout",
     "output_type": "stream",
     "text": [
      ":(#12)"
     ]
    },
    {
     "name": "stdout",
     "output_type": "stream",
     "text": [
      ")\n",
      "\u001b[90m│   \u001b[39m        Core.NewvarNode(:(#11))\n",
      "\u001b[90m│   \u001b[39m        Core.NewvarNode(:(@_5))\n",
      "\u001b[90m│   \u001b[39m        Core.NewvarNode(:(#10))\n",
      "\u001b[90m│   \u001b[39m        Core.NewvarNode(:(#9))\n",
      "\u001b[90m│   \u001b[39m        Core.NewvarNode(:(@_8"
     ]
    },
    {
     "name": "stdout",
     "output_type": "stream",
     "text": [
      "))\n",
      "\u001b[90m│   \u001b[39m        (EV@_11 = "
     ]
    },
    {
     "name": "stdout",
     "output_type": "stream",
     "text": [
      "Core.Box())\n",
      "\u001b[90m│   \u001b[39m        Core.NewvarNode(:(V))\n",
      "\u001b[90m│   \u001b[39m        Core.NewvarNode(:(invidx))\n",
      "\u001b[90m│   \u001b[39m        Core.NewvarNode(:(pointidx))\n",
      "\u001b[90m│   \u001b[39m        (near@_15 = Core.Box())\n",
      "\u001b[90m│   \u001b[39m %12  = Base.indexed_iterate(model, "
     ]
    },
    {
     "name": "stdout",
     "output_type": "stream",
     "text": [
      "1)"
     ]
    },
    {
     "name": "stdout",
     "output_type": "stream",
     "text": [
      "\u001b[36m::Core.PartialStruct(Tuple{Matrix{Float64}, Int64}, Any[Matrix{Float64}, Core.Const(2)])\u001b[39m\n",
      "\u001b[90m│   \u001b[39m        (W = Core.getfield(%12, 1))\n",
      "\u001b[90m│   \u001b[39m        (@_10 = Core.getfield(%12, 2))\n",
      "\u001b[90m│   \u001b[39m %15  = Base.indexed_iterate(model, 2, "
     ]
    },
    {
     "name": "stdout",
     "output_type": "stream",
     "text": [
      "@_10::Core.Const(2))\u001b[36m::Core.PartialStruct(Tuple{Vector{Vector{Int64}}, Int64}, Any[Vector{Vector{Int64}}, Core.Const(3)])\u001b[39m\n",
      "\u001b[90m│   \u001b[39m        (EW = Core.getfield(%15, 1))\n",
      "\u001b[90m│   \u001b[39m %17  = NearestNeighbors.BallTree\u001b[36m::Core.Const(BallTree)\u001b[39m\n",
      "\u001b[90m│   \u001b[39m        (balltree"
     ]
    },
    {
     "name": "stdout",
     "output_type": "stream",
     "text": [
      " = (%17)(W))\n",
      "\u001b[90m│   \u001b[39m        (r = 1.0e-10)\n",
      "\u001b[90m│   \u001b[39m %20  = Core.apply_type(Main.Array, Main.Any)\u001b[36m::Core.Const(Array{Any})\u001b[39m\n",
      "\u001b[90m│   \u001b[39m %21  = Main.size(W, 2)\u001b[36m::Int64\u001b[39m\n",
      "\u001b[90m│   \u001b[39m %22  = (%20)(Main.undef, %21)\u001b[36m::Vector{Any}\u001b[39m\n",
      "\u001b[90m│   \u001b[39m        Core.setfield!(near@_15, "
     ]
    },
    {
     "name": "stdout",
     "output_type": "stream",
     "text": [
      ":contents, %22)\n",
      "\u001b[90m│   \u001b[39m %24  = Main.size(W, 2)\u001b[36m::Int64\u001b[39m\n",
      "\u001b[90m│   \u001b[39m %25  = (1:%24)\u001b[36m::Core.PartialStruct(UnitRange{Int64}, Any[Core.Const(1), Int64])\u001b[39m\n",
      "\u001b[90m│   \u001b[39m        (@_9 = Base.iterate(%25))\n",
      "\u001b[90m│   \u001b[39m %27  = (@_9 === nothing)\u001b[36m::Bool\u001b[39m\n",
      "\u001b[90m│   \u001b[39m %28  = Base.not_int(%27)\u001b[36m::Bool\u001b[39m\n",
      "\u001b[90m└───\u001b[39m        goto #7 if not %28\n",
      "\u001b[90m2 ┄─\u001b[39m %30  = @_9\u001b[36m::Tuple{Int64, Int64}\u001b[39m\n",
      "\u001b[90m│   \u001b[39m        (k@_20 = Core.getfield(%30, 1))\n",
      "\u001b[90m│   \u001b[39m %32  = Core.getfield(%30, 2)\u001b[36m::Int64\u001b[39m\n",
      "\u001b[90m│   \u001b[39m %33  = NearestNeighbors.inrange\u001b[36m::Core.Const(NearestNeighbors.inrange)\u001b[39m\n",
      "\u001b[90m│   \u001b[39m %34  = balltree\u001b[91m\u001b[1m::BallTree{_A, _B, _C, Euclidean} where {_A<:(AbstractVector), _B, _C}\u001b[22m\u001b[39m\n",
      "\u001b[90m│   \u001b[39m %35  = Base.getindex(W, Main.:(:), k@_20)\u001b[36m::Vector{Float64}\u001b[39m\n",
      "\u001b[90m│   \u001b[39m %36  = r\u001b[36m::Core.Const(1.0e-10)\u001b[39m\n",
      "\u001b[90m│   \u001b[39m %37  = (%33)(%34, %35, %36"
     ]
    },
    {
     "name": "stdout",
     "output_type": "stream",
     "text": [
      ", true)\u001b[36m::Vector{Int64}\u001b[39m\n",
      "\u001b[90m│   \u001b[39m %38  = Base.vect(%37)\u001b[36m::Vector{Vector{Int64}}\u001b[39m\n",
      "\u001b[90m│   \u001b[39m %39  = Core._apply_iterate(Base.iterate, Main.union, %38)\u001b[36m::Vector{Int64}\u001b[39m\n",
      "\u001b[90m│   \u001b[39m %40  = Core.isdefined(near@_15, :contents)\u001b[36m::Bool\u001b[39m\n",
      "\u001b[90m└───\u001b[39m        goto #4 if not %40\n",
      "\u001b[90m3 ──\u001b[39m        goto #5\n",
      "\u001b[90m4 ──\u001b[39m        Core.NewvarNode(:(near@_24))\n",
      "\u001b[90m└───\u001b[39m        near@_24\n",
      "\u001b[90m5 ┄─\u001b[39m %45  = Core.getfield(near@_15, :contents)\u001b[91m\u001b[1m::Any\u001b[22m\u001b[39m\n",
      "\u001b[90m│   \u001b[39m        Base.setindex!(%45, %39, k@_20)\n",
      "\u001b[90m│   \u001b[39m        (@_9 = Base.iterate(%25, %32))"
     ]
    },
    {
     "name": "stdout",
     "output_type": "stream",
     "text": [
      "\n",
      "\u001b[90m│   \u001b[39m %48  = (@_9 === nothing)\u001b[36m::Bool\u001b[39m\n",
      "\u001b[90m│   \u001b[39m %49  = Base.not_int(%48)\u001b[36m::Bool\u001b[39m\n",
      "\u001b[90m└───\u001b[39m        goto #7 if not %49\n",
      "\u001b[90m6 ──\u001b[39m        goto #2\n",
      "\u001b[90m7 ┄─\u001b[39m %52  = Core.isdefined(near@_15, :contents)\u001b[36m::Bool\u001b[39m\n",
      "\u001b[90m└───\u001b[39m        goto #9 if not %52\n",
      "\u001b[90m8 ──\u001b[39m        goto #10\n",
      "\u001b[90m9 ──\u001b[39m        Core.NewvarNode(:(near@_25))\n",
      "\u001b[90m└───\u001b[39m        near@_25\n",
      "\u001b[90m10 ┄\u001b[39m %57  = Core.getfield(near@_15, :contents)\u001b[91m\u001b[1m::Any\u001b[22m\u001b[39m\n",
      "\u001b[90m│   \u001b[39m %58  = Main.map(Main.sort, %57)\u001b[91m\u001b[1m::Any\u001b[22m\u001b[39m\n",
      "\u001b[90m│   \u001b[39m        Core.setfield!(near@_15, :contents, %58)\n",
      "\u001b[90m│   \u001b[39m %60  = Main.size(W, 2)\u001b[36m::Int64\u001b[39m\n",
      "\u001b[90m│   \u001b[39m %61  = (1:%60)\u001b[36m::Core.PartialStruct(UnitRange{Int64}, Any[Core.Const(1), Int64])\u001b[39m\n",
      "\u001b[90m│   \u001b[39m        (@_8 = Base.iterate(%61))\n",
      "\u001b[90m│   \u001b[39m %63  = (@_8 === nothing)\u001b[36m::Bool\u001b[39m\n",
      "\u001b[90m│   \u001b[39m %64  = Base.not_int(%63)\u001b[36m::Bool\u001b[39m\n",
      "\u001b[90m└───\u001b[39m        goto #16 if not %64\n",
      "\u001b[90m11 ┄\u001b[39m %66  "
     ]
    },
    {
     "name": "stdout",
     "output_type": "stream",
     "text": [
      "= @_8\u001b[36m::Tuple{Int64, Int64}\u001b[39m\n",
      "\u001b[90m│   \u001b[39m        (k@_21 = Core.getfield(%66, 1))\n",
      "\u001b[90m│   \u001b[39m %68  = Core.getfield(%66, 2)\u001b[36m::Int64\u001b[39m\n",
      "\u001b[90m│   \u001b[39m %69  = W\u001b[36m::Matrix{Float64}\u001b[39m\n",
      "\u001b[90m│   \u001b[39m %70  = Core.isdefined(near@_15, :contents)\u001b[36m::Bool\u001b[39m\n",
      "\u001b[90m└───\u001b[39m        goto #13 if not %70\n",
      "\u001b[90m12 ─\u001b[39m        goto #14\n",
      "\u001b[90m13 ─\u001b[39m        Core.NewvarNode(:(near@_26))\n",
      "\u001b[90m└───\u001b[39m        near@_26\n",
      "\u001b[90m14 ┄\u001b[39m %75  = Core.getfield(near@_15, :contents)\u001b[91m\u001b[1m::Any\u001b[22m\u001b[39m\n",
      "\u001b[90m│   \u001b[39m %76  = "
     ]
    },
    {
     "name": "stdout",
     "output_type": "stream",
     "text": [
      "Base.getindex(%75, k@_21)\u001b[91m\u001b[1m::Any\u001b[22m\u001b[39m\n",
      "\u001b[90m│   \u001b[39m %77  = Base.getindex(%76, 1)\u001b[91m\u001b[1m::Any\u001b[22m\u001b[39m\n",
      "\u001b[90m│   \u001b[39m %78  = Base.getindex(%69, Main.:(:), %77)\u001b[91m\u001b[1m::Any\u001b[22m\u001b[39m\n",
      "\u001b[90m│   \u001b[39m        Base.setindex!(W, %78, Main.:(:), k@_21)\n",
      "\u001b[90m│   \u001b[39m        (@_8 = Base.iterate(%61, %68))\n",
      "\u001b[90m│   \u001b[39m %81  = (@_8 === nothing)\u001b[36m::Bool\u001b[39m\n",
      "\u001b[90m│   \u001b[39m %82  = Base.not_int(%81)\u001b[36m::Bool\u001b[39m\n",
      "\u001b[90m└───\u001b[39m        goto #16 if not %82\n",
      "\u001b[90m15 ─\u001b[39m        goto #11\n",
      "\u001b[90m16 ┄\u001b[39m        (#9 = %new(Main.:(var\"#9#13\"), near@_15))\n",
      "\u001b[90m│   \u001b[39m %86  = #9\u001b[36m::var\"#9#13\"\u001b[39m\n",
      "\u001b[90m│   \u001b[39m %87  = Main.size(W, 2)\u001b[36m::Int64\u001b[39m\n",
      "\u001b[90m│   \u001b[39m %88  = (1:%87)\u001b[36m::Core.PartialStruct(UnitRange{Int64}, Any[Core.Const(1), Int64])\u001b[39m\n",
      "\u001b[90m│   \u001b[39m %89  = Base."
     ]
    },
    {
     "name": "stdout",
     "output_type": "stream",
     "text": [
      "Generator(%86, %88)"
     ]
    },
    {
     "name": "stdout",
     "output_type": "stream",
     "text": [
      "\u001b[36m::Core.PartialStruct(Base.Generator{UnitRange{Int64}, var\"#9#13\"}, Any[var\"#9#13\", Core.PartialStruct(UnitRange{Int64}, Any[Core.Const(1), Int64])])\u001b[39m\n",
      "\u001b[90m│   \u001b[39m        (pointidx = Base.collect(%89))\n",
      "\u001b[90m│   \u001b[39m %91  = Main.length(pointidx)\u001b[36m::Int64\u001b[39m\n",
      "\u001b[90m│   \u001b[39m %92  = (1:%91)\u001b[36m::Core.PartialStruct(UnitRange{Int64}, Any[Core.Const(1), Int64])\u001b[39m\n",
      "\u001b[90m│   \u001b[39m %93  = Main.zip(%92, pointidx)\u001b[91m\u001b[1m::Base.Iterators.Zip\u001b[22m\u001b[39m\n",
      "\u001b[90m│   \u001b[39m        (invidx = Main.OrderedDict(%93))\n",
      "\u001b[90m│   \u001b[39m %95  = Main.:(var\"#10#14\")\u001b[36m::Core.Const(var\"#10#14\")\u001b[39m\n",
      "\u001b[90m│   \u001b[39m %96  = Core.typeof(W)\u001b[36m::Core.Const(Matrix{Float64})\u001b[39m\n",
      "\u001b[90m│   \u001b[39m %97  = Core.apply_type(%95, %96)\u001b[36m::Core.Const(var\"#10#14\"{Matrix{Float64}})\u001b[39m\n",
      "\u001b[90m│   \u001b[39m        (#10 = %new(%97, W))\n",
      "\u001b[90m│   \u001b[39m %99  = #10\u001b[36m::var\"#10#14\"{Matrix{Float64}}\u001b[39m\n",
      "\u001b[90m│   \u001b[39m %100 = Main.length(pointidx)\u001b[36m::Int64\u001b[39m\n",
      "\u001b[90m│   \u001b[39m %101 = (1:%100)\u001b[36m::Core.PartialStruct(UnitRange{Int64}, Any[Core.Const(1), Int64])\u001b[39m\n",
      "\u001b[90m│   \u001b[39m %102 = Base.Generator(%99, %101)\u001b[36m::Core.PartialStruct(Base.Generator{UnitRange{Int64}, var\"#10#14\"{Matrix{Float64}}}, Any[var\"#10#14\"{Matrix{Float64}}, Core.PartialStruct(UnitRange{Int64}, Any[Core.Const(1), Int64])])\u001b[39m\n",
      "\u001b[90m│   \u001b[39m        (V = Base.collect(%102))\n",
      "\u001b[90m│   \u001b[39m %104 "
     ]
    },
    {
     "name": "stdout",
     "output_type": "stream",
     "text": [
      "= Base.vect()\u001b[36m::Vector{Any}\u001b[39m\n",
      "\u001b[90m│   \u001b[39m        Core.setfield!(EV@_11, :contents, %104)\n",
      "\u001b[90m│   \u001b[39m %106 = EW\u001b[36m::Vector{Vector{Int64}}\u001b[39m\n",
      "\u001b[90m│   \u001b[39m        (@_5 = Base.iterate(%106))\n",
      "\u001b[90m│   \u001b[39m %108 = (@_5 === nothing)\u001b[36m::Bool\u001b[39m\n",
      "\u001b[90m│   \u001b[39m %109 = Base.not_int(%108)\u001b[36m::Bool\u001b[39m\n",
      "\u001b[90m└───\u001b[39m        goto #24 if not %109\n",
      "\u001b[90m17 ┄\u001b[39m %111 = "
     ]
    },
    {
     "name": "stdout",
     "output_type": "stream",
     "text": [
      "@_5\u001b[36m::Tuple{Vector{Int64}, Int64}\u001b[39m\n",
      "\u001b[90m│   \u001b[39m        (e = Core.getfield(%111, 1))\n",
      "\u001b[90m│   \u001b[39m %113 = Core.getfield(%111, 2)\u001b[36m::Int64\u001b[39m\n",
      "\u001b[90m│   \u001b[39m %114 = invidx\u001b[91m\u001b[1m::OrderedDict\u001b[22m\u001b[39m\n",
      "\u001b[90m│   \u001b[39m %115 = Base.getindex(e, 1)\u001b[36m::Int64\u001b[39m\n",
      "\u001b[90m│   \u001b[39m %116 = Base.getindex(%114, %115)\u001b[91m\u001b[1m::Any\u001b[22m\u001b[39m\n",
      "\u001b[90m│   \u001b[39m %117 = invidx\u001b[91m\u001b[1m::OrderedDict\u001b[22m\u001b[39m\n",
      "\u001b[90m│   \u001b[39m %118 = Base.getindex(e, 2)\u001b[36m::Int64\u001b[39m\n",
      "\u001b[90m│   \u001b[39m %119 = Base.getindex(%117, %118)\u001b[91m\u001b[1m::Any\u001b[22m\u001b[39m\n",
      "\u001b[90m│   \u001b[39m        (newedge = Base.vect(%116, %119))\n",
      "\u001b[90m│   \u001b[39m %121 = Base.getindex(newedge, 1)\u001b[91m\u001b[1m::Any\u001b[22m\u001b[39m\n",
      "\u001b[90m│   \u001b[39m %122 = Base.getindex(newedge, 2)\u001b[91m\u001b[1m::Any\u001b[22m\u001b[39m\n",
      "\u001b[90m│   \u001b[39m %123 = (%121 !== %122)\u001b[36m::Bool\u001b[39m\n",
      "\u001b[90m└───\u001b[39m        goto #22 if not %123\n",
      "\u001b[90m18 ─\u001b[39m %125 = Core.isdefined(EV@_11, :contents)\u001b[36m::Bool\u001b[39m\n",
      "\u001b[90m└───\u001b[39m "
     ]
    },
    {
     "name": "stdout",
     "output_type": "stream",
     "text": [
      "       goto #20 if not %125\n",
      "\u001b[90m19 ─\u001b[39m        goto #21\n",
      "\u001b[90m20 ─\u001b[39m        Core.NewvarNode(:(EV@_27))\n",
      "\u001b[90m└───\u001b[39m        EV@_27\n",
      "\u001b[90m21 ┄\u001b[39m %130 = Core.getfield(EV@_11, :contents)\u001b[91m\u001b[1m::Any\u001b[22m\u001b[39m\n",
      "\u001b[90m└───\u001b[39m        Main.push!(%130, newedge)\n",
      "\u001b[90m22 ┄\u001b[39m        (@_5 = Base.iterate(%106, %113))\n",
      "\u001b[90m│   \u001b[39m %133 = (@_5 === nothing)\u001b[36m::Bool\u001b[39m\n",
      "\u001b[90m│   \u001b[39m %134 = Base.not_int(%133)\u001b[36m::Bool\u001b[39m\n",
      "\u001b[90m└───\u001b[39m        goto #24 if not %134\n",
      "\u001b[90m23 ─\u001b[39m        goto #17\n",
      "\u001b[90m24 ┄\u001b[39m        (#11 = %new(Main.:(var\"#11#15\"), EV@_11))\n",
      "\u001b[90m│   \u001b[39m %138 = #11\u001b[36m::var\"#11#15\"\u001b[39m\n",
      "\u001b[90m│   \u001b[39m        (#12 = %new(Main.:(var\"#12#16\"), EV@_11))\n",
      "\u001b[90m│   \u001b[39m %140 = #12\u001b[36m::var\"#12#16\"\u001b[39m\n",
      "\u001b[90m│   \u001b[39m %141 = Core.isdefined(EV@_11, :contents)\u001b[36m::Bool\u001b[39m\n",
      "\u001b[90m└───\u001b[39m        goto #26 if not %141\n",
      "\u001b[90m25 ─\u001b[39m        goto #27\n",
      "\u001b[90m26 ─\u001b[39m        Core.NewvarNode(:(EV@_28))\n",
      "\u001b[90m└───\u001b[39m        EV@_28\n",
      "\u001b[90m27 ┄\u001b[39m %146 = Core.getfield(EV@_11, :contents)\u001b[91m\u001b[1m::Any\u001b[22m\u001b[39m\n",
      "\u001b[90m│   \u001b[39m %147 = Main.length(%146)\u001b[91m\u001b[1m::Any\u001b[22m\u001b[39m\n",
      "\u001b[90m│   \u001b[39m %148 = (1:%147)\u001b[91m\u001b[1m::Any\u001b[22m\u001b[39m\n",
      "\u001b[90m│   \u001b[39m %149 = Base.Filter(%140, %148)\u001b[91m\u001b[1m::Base.Iterators.Filter{var\"#12#16\"}\u001b[22m\u001b[39m\n",
      "\u001b[90m│   \u001b[39m %150 = Base.Generator(%138"
     ]
    },
    {
     "name": "stdout",
     "output_type": "stream",
     "text": [
      ", %149)\u001b[91m\u001b[1m::Base.Generator{_A, var\"#11#15\"} where _A\u001b[22m\u001b[39m\n",
      "\u001b[90m│   \u001b[39m %151 = Base.collect(%150)\u001b[91m\u001b[1m::Any\u001b[22m\u001b[39m\n",
      "\u001b[90m│   \u001b[39m        Core.setfield!(EV@_11, :contents, %151)\n",
      "\u001b[90m│   \u001b[39m %153 = Base.getproperty(Main.Lar, :Cells)\u001b[91m\u001b[1m::Any\u001b[22m\u001b[39m\n",
      "\u001b[90m│   \u001b[39m %154 = Core.isdefined(EV@_11, :contents)\u001b[36m::Bool\u001b[39m\n",
      "\u001b[90m└───\u001b[39m        goto #29 if not %154\n",
      "\u001b[90m28 ─\u001b[39m        goto #30\n",
      "\u001b[90m29 ─\u001b[39m        Core.NewvarNode(:(EV@_29))\n",
      "\u001b[90m└───\u001b[39m        EV@_29\n",
      "\u001b[90m30 ┄\u001b[39m %159 = Core.getfield(EV@_11, :contents)\u001b[91m\u001b[1m::Any\u001b[22m\u001b[39m\n",
      "\u001b[90m│   \u001b[39m %160 = Main.convert(%153, %159)\u001b[91m\u001b[1m::Any\u001b[22m\u001b[39m\n",
      "\u001b[90m│   \u001b[39m        Core.setfield!(EV@_11, :contents, %160)\n",
      "\u001b[90m│   \u001b[39m "
     ]
    },
    {
     "name": "stdout",
     "output_type": "stream",
     "text": [
      "%162 = Core._apply_iterate(Base.iterate, Main.hcat, V)\u001b[91m\u001b[1m::Union{Matrix, Vector{Any}}\u001b[22m\u001b[39m\n",
      "\u001b[90m│   \u001b[39m %163 = Core.isdefined(EV@_11, :contents)\u001b[36m::Bool\u001b[39m\n",
      "\u001b[90m└───\u001b[39m        goto #32 if not %163\n",
      "\u001b[90m31 ─\u001b[39m        goto #33\n",
      "\u001b[90m32 ─\u001b[39m        Core.NewvarNode(:(EV@_30))\n",
      "\u001b[90m└───\u001b[39m        EV@_30\n",
      "\u001b[90m33 ┄\u001b[39m %168 = Core.getfield(EV@_11, :contents)\u001b[91m\u001b[1m::Any\u001b[22m\u001b[39m\n",
      "\u001b[90m│   \u001b[39m %169 = Core.tuple(%162, %168)"
     ]
    },
    {
     "name": "stdout",
     "output_type": "stream",
     "text": [
      "\u001b[91m\u001b[1m::Tuple{Union{Matrix, Vector{Any}}, Any}\u001b[22m\u001b[39m\n",
      "\u001b[90m└───\u001b[39m        return %169\n",
      "\n"
     ]
    }
   ],
   "source": [
    "@code_warntype congruence((V,EV))"
   ]
  },
  {
   "cell_type": "code",
   "execution_count": 6,
   "id": "1f8f75b8",
   "metadata": {},
   "outputs": [
    {
     "data": {
      "text/plain": [
       "BenchmarkTools.Trial: 10000 samples with 1 evaluation.\n",
       " Range \u001b[90m(\u001b[39m\u001b[36m\u001b[1mmin\u001b[22m\u001b[39m … \u001b[35mmax\u001b[39m\u001b[90m):  \u001b[39m\u001b[36m\u001b[1m24.800 μs\u001b[22m\u001b[39m … \u001b[35m 21.992 ms\u001b[39m  \u001b[90m┊\u001b[39m GC \u001b[90m(\u001b[39mmin … max\u001b[90m): \u001b[39m0.00% … 98.84%\n",
       " Time  \u001b[90m(\u001b[39m\u001b[34m\u001b[1mmedian\u001b[22m\u001b[39m\u001b[90m):     \u001b[39m\u001b[34m\u001b[1m35.150 μs               \u001b[22m\u001b[39m\u001b[90m┊\u001b[39m GC \u001b[90m(\u001b[39mmedian\u001b[90m):    \u001b[39m0.00%\n",
       " Time  \u001b[90m(\u001b[39m\u001b[32m\u001b[1mmean\u001b[22m\u001b[39m ± \u001b[32mσ\u001b[39m\u001b[90m):   \u001b[39m\u001b[32m\u001b[1m46.728 μs\u001b[22m\u001b[39m ± \u001b[32m238.937 μs\u001b[39m  \u001b[90m┊\u001b[39m GC \u001b[90m(\u001b[39mmean ± σ\u001b[90m):  \u001b[39m6.61% ±  1.40%\n",
       "\n",
       "  \u001b[39m▁\u001b[39m▂\u001b[39m▂\u001b[39m \u001b[39m \u001b[39m \u001b[39m \u001b[39m \u001b[34m \u001b[39m\u001b[39m \u001b[39m \u001b[39m \u001b[39m█\u001b[39m \u001b[39m \u001b[39m \u001b[39m \u001b[32m \u001b[39m\u001b[39m \u001b[39m \u001b[39m \u001b[39m \u001b[39m \u001b[39m \u001b[39m \u001b[39m \u001b[39m \u001b[39m \u001b[39m \u001b[39m \u001b[39m \u001b[39m \u001b[39m \u001b[39m \u001b[39m \u001b[39m \u001b[39m \u001b[39m \u001b[39m \u001b[39m \u001b[39m \u001b[39m \u001b[39m \u001b[39m \u001b[39m \u001b[39m \u001b[39m \u001b[39m \u001b[39m \u001b[39m \u001b[39m \u001b[39m \u001b[39m \u001b[39m \u001b[39m \u001b[39m \u001b[39m \u001b[39m \u001b[39m \u001b[39m \u001b[39m \u001b[39m \n",
       "  \u001b[39m█\u001b[39m█\u001b[39m█\u001b[39m█\u001b[39m█\u001b[39m▆\u001b[39m▄\u001b[39m▃\u001b[34m▃\u001b[39m\u001b[39m▂\u001b[39m▂\u001b[39m▄\u001b[39m█\u001b[39m▅\u001b[39m▂\u001b[39m▁\u001b[39m▁\u001b[32m▁\u001b[39m\u001b[39m▁\u001b[39m▁\u001b[39m▂\u001b[39m▂\u001b[39m▁\u001b[39m▁\u001b[39m▁\u001b[39m▁\u001b[39m▁\u001b[39m▁\u001b[39m▁\u001b[39m▁\u001b[39m▁\u001b[39m▁\u001b[39m▁\u001b[39m▁\u001b[39m▂\u001b[39m▂\u001b[39m▁\u001b[39m▁\u001b[39m▁\u001b[39m▁\u001b[39m▁\u001b[39m▂\u001b[39m▅\u001b[39m▅\u001b[39m▃\u001b[39m▂\u001b[39m▂\u001b[39m▂\u001b[39m▂\u001b[39m▁\u001b[39m▁\u001b[39m▁\u001b[39m▁\u001b[39m▁\u001b[39m▁\u001b[39m▁\u001b[39m▁\u001b[39m▁\u001b[39m▁\u001b[39m▁\u001b[39m \u001b[39m▂\n",
       "  24.8 μs\u001b[90m         Histogram: frequency by time\u001b[39m          103 μs \u001b[0m\u001b[1m<\u001b[22m\n",
       "\n",
       " Memory estimate\u001b[90m: \u001b[39m\u001b[33m9.83 KiB\u001b[39m, allocs estimate\u001b[90m: \u001b[39m\u001b[33m176\u001b[39m."
      ]
     },
     "metadata": {},
     "output_type": "display_data"
    }
   ],
   "source": [
    "@benchmark congruence((V,EV))"
   ]
  },
  {
   "cell_type": "markdown",
   "id": "3f4442ea",
   "metadata": {},
   "source": [
    "### Versione parallelizzata di congruence\n",
    "abbiamo paralellizzato la funzione attraverso le macro  @inbounds e @threads. Si nota un certo miglioramento nelle performance se al posto di usare la list comprehension per ottenere i dati di EV validi si fa un filter. Abbiamo quindi convertito alcune list comprehension in cicli del tipo for i=1:n,  in modo da poter utilizzare la macro @inbounds per disabilitare il boundchecking del compilatore."
   ]
  },
  {
   "cell_type": "code",
   "execution_count": 7,
   "id": "689a6500",
   "metadata": {},
   "outputs": [
    {
     "data": {
      "text/plain": [
       "congruence2 (generic function with 1 method)"
      ]
     },
     "metadata": {},
     "output_type": "display_data"
    }
   ],
   "source": [
    "function congruence2(model)\n",
    "    W,EW = model\n",
    "    n = size(W,2)\n",
    "    balltree = NearestNeighbors.BallTree(W)\n",
    "    r = 0.0000000001\n",
    "    near = Array{Any}(undef, n)\n",
    "    @inbounds @threads for k=1:n\n",
    "        near[k] = NearestNeighbors.inrange(balltree, W[:,k], r, true)\n",
    "    end\n",
    "    near = map(sort,near) \n",
    "    @inbounds @threads for k=1:n\n",
    "        W[:,k] = W[:,near[k][1]]\n",
    "    end\n",
    "    pointidx = Array{Int64}(undef, n)\n",
    "    @inbounds @threads for k=1:n\n",
    "         pointidx[k] = near[k][1] \n",
    "    end\n",
    "    l = length(pointidx)\n",
    "    invidx = OrderedDict(zip(1:l, pointidx))\n",
    "    V = Array{Array{Float64,1}}(undef, l)\n",
    "    @inbounds @threads for k=1:l\n",
    "        V[k] = W[:,k] \n",
    "    end\n",
    "    \n",
    "    EV = []\n",
    "    m = length(EW)\n",
    "    @inbounds for i = 1:m\n",
    "        newedge = [invidx[EW[i][1]],invidx[EW[i][2]]]\n",
    "        if newedge[1] !== newedge[2]\n",
    "            push!(EV,newedge)\n",
    "        end\n",
    "    end\n",
    "    filter!(x ->  length(x)==2, EV)\n",
    "    EV = convert(Lar.Cells, EV)\n",
    "    return hcat(V...),EV\n",
    "end"
   ]
  },
  {
   "cell_type": "markdown",
   "id": "23d94a8e",
   "metadata": {},
   "source": [
    "### Analisi del comportamento e dei tempi della versione parallelizzata"
   ]
  },
  {
   "cell_type": "code",
   "execution_count": 8,
   "id": "ec8e4891",
   "metadata": {},
   "outputs": [
    {
     "name": "stdout",
     "output_type": "stream",
     "text": [
      "  30.800 μs (152 allocations: 9.27 KiB)\n"
     ]
    },
    {
     "data": {
      "text/plain": [
       "([0.0 1.0 … 0.0 2.0; 0.0 0.0 … 1.0 1.0], [[1, 2], [2, 3], [3, 4], [4, 1], [1, 5]])"
      ]
     },
     "metadata": {},
     "output_type": "display_data"
    }
   ],
   "source": [
    "@btime congruence2((V,EV))"
   ]
  },
  {
   "cell_type": "code",
   "execution_count": 9,
   "id": "29097dca",
   "metadata": {},
   "outputs": [
    {
     "data": {
      "text/plain": [
       "BenchmarkTools.Trial: 10000 samples with 1 evaluation.\n",
       " Range \u001b[90m(\u001b[39m\u001b[36m\u001b[1mmin\u001b[22m\u001b[39m … \u001b[35mmax\u001b[39m\u001b[90m):  \u001b[39m\u001b[36m\u001b[1m30.600 μs\u001b[22m\u001b[39m … \u001b[35m 13.427 ms\u001b[39m  \u001b[90m┊\u001b[39m GC \u001b[90m(\u001b[39mmin … max\u001b[90m): \u001b[39m0.00% … 98.90%\n",
       " Time  \u001b[90m(\u001b[39m\u001b[34m\u001b[1mmedian\u001b[22m\u001b[39m\u001b[90m):     \u001b[39m\u001b[34m\u001b[1m33.500 μs               \u001b[22m\u001b[39m\u001b[90m┊\u001b[39m GC \u001b[90m(\u001b[39mmedian\u001b[90m):    \u001b[39m0.00%\n",
       " Time  \u001b[90m(\u001b[39m\u001b[32m\u001b[1mmean\u001b[22m\u001b[39m ± \u001b[32mσ\u001b[39m\u001b[90m):   \u001b[39m\u001b[32m\u001b[1m41.005 μs\u001b[22m\u001b[39m ± \u001b[32m163.064 μs\u001b[39m  \u001b[90m┊\u001b[39m GC \u001b[90m(\u001b[39mmean ± σ\u001b[90m):  \u001b[39m5.48% ±  1.40%\n",
       "\n",
       "  \u001b[39m▄\u001b[39m█\u001b[39m▇\u001b[39m▆\u001b[34m▅\u001b[39m\u001b[39m▄\u001b[39m▄\u001b[39m▃\u001b[39m▂\u001b[39m▃\u001b[39m▂\u001b[39m▃\u001b[39m▂\u001b[32m▂\u001b[39m\u001b[39m▂\u001b[39m▂\u001b[39m▂\u001b[39m▁\u001b[39m▁\u001b[39m▁\u001b[39m▂\u001b[39m▁\u001b[39m \u001b[39m \u001b[39m▁\u001b[39m▃\u001b[39m▃\u001b[39m▃\u001b[39m▂\u001b[39m▂\u001b[39m▂\u001b[39m▂\u001b[39m▂\u001b[39m▁\u001b[39m▁\u001b[39m▁\u001b[39m▁\u001b[39m▁\u001b[39m \u001b[39m \u001b[39m \u001b[39m \u001b[39m \u001b[39m \u001b[39m \u001b[39m \u001b[39m \u001b[39m \u001b[39m \u001b[39m \u001b[39m \u001b[39m \u001b[39m \u001b[39m \u001b[39m \u001b[39m \u001b[39m \u001b[39m \u001b[39m \u001b[39m \u001b[39m \u001b[39m▂\n",
       "  \u001b[39m█\u001b[39m█\u001b[39m█\u001b[39m█\u001b[34m█\u001b[39m\u001b[39m█\u001b[39m█\u001b[39m█\u001b[39m█\u001b[39m█\u001b[39m█\u001b[39m█\u001b[39m█\u001b[32m█\u001b[39m\u001b[39m█\u001b[39m█\u001b[39m█\u001b[39m█\u001b[39m█\u001b[39m█\u001b[39m█\u001b[39m█\u001b[39m█\u001b[39m█\u001b[39m█\u001b[39m█\u001b[39m█\u001b[39m█\u001b[39m█\u001b[39m█\u001b[39m█\u001b[39m█\u001b[39m█\u001b[39m█\u001b[39m█\u001b[39m█\u001b[39m█\u001b[39m█\u001b[39m█\u001b[39m█\u001b[39m█\u001b[39m▇\u001b[39m▇\u001b[39m▇\u001b[39m▇\u001b[39m▇\u001b[39m▅\u001b[39m▆\u001b[39m▆\u001b[39m▅\u001b[39m▆\u001b[39m▅\u001b[39m▆\u001b[39m▄\u001b[39m▄\u001b[39m▄\u001b[39m▅\u001b[39m▅\u001b[39m▄\u001b[39m▅\u001b[39m \u001b[39m█\n",
       "  30.6 μs\u001b[90m       \u001b[39m\u001b[90mHistogram: \u001b[39m\u001b[90m\u001b[1mlog(\u001b[22m\u001b[39m\u001b[90mfrequency\u001b[39m\u001b[90m\u001b[1m)\u001b[22m\u001b[39m\u001b[90m by time\u001b[39m      77.9 μs \u001b[0m\u001b[1m<\u001b[22m\n",
       "\n",
       " Memory estimate\u001b[90m: \u001b[39m\u001b[33m9.27 KiB\u001b[39m, allocs estimate\u001b[90m: \u001b[39m\u001b[33m152\u001b[39m."
      ]
     },
     "metadata": {},
     "output_type": "display_data"
    }
   ],
   "source": [
    "@benchmark congruence2((V,EV))"
   ]
  },
  {
   "cell_type": "markdown",
   "id": "c2a01c11",
   "metadata": {},
   "source": [
    "## Test"
   ]
  },
  {
   "cell_type": "code",
   "execution_count": 10,
   "id": "e7694714",
   "metadata": {},
   "outputs": [
    {
     "name": "stdout",
     "output_type": "stream",
     "text": [
      "\u001b[0m\u001b[1mTest Summary:    | \u001b[22m\u001b[32m\u001b[1mPass  \u001b[22m\u001b[39m\u001b[36m\u001b[1mTotal\u001b[22m\u001b[39m\n",
      "congruence Tests | \u001b[32m   3  \u001b[39m\u001b[36m    3\u001b[39m\n"
     ]
    },
    {
     "data": {
      "text/plain": [
       "Test.DefaultTestSet(\"congruence Tests\", Any[], 3, false, false)"
      ]
     },
     "metadata": {},
     "output_type": "display_data"
    }
   ],
   "source": [
    "using Test\n",
    "\n",
    "@testset \"congruence Tests\" begin\n",
    "    V1 = [0.0 1.0 ; \n",
    "         0.0 0.0]\n",
    "    EV1 = [[1,2]]\n",
    "    a, b = Lar.congruence((V1,EV1))\n",
    "    @test a == V1\n",
    "    @test b == EV1\n",
    "\n",
    "    V1 = [0.0 1.0 0.99999999999999999 ; 0.0 0.0 0.0]\n",
    "    EV1 = [[1,2], [1,3]]\n",
    "    a, b = Lar.congruence((V1,EV1))\n",
    "    @test b == [[1, 2], [1, 2]] \n",
    "    \n",
    "end"
   ]
  },
  {
   "cell_type": "markdown",
   "id": "922da3b0",
   "metadata": {},
   "source": [
    "![](https://github.com/GiuliaCastagnacci/LARSplitting2D/blob/main/docs/plot/screenTest/test_congruence.png?raw=true)"
   ]
  },
  {
   "cell_type": "markdown",
   "id": "4e91e9a4",
   "metadata": {},
   "source": [
    "![](https://github.com/GiuliaCastagnacci/LARSplitting2D/blob/main/docs/plot/images/test/test_congruence.png?raw=true)\n"
   ]
  }
 ],
 "metadata": {
  "kernelspec": {
   "display_name": "Julia 1.7.2",
   "language": "julia",
   "name": "julia-1.7"
  },
  "language_info": {
   "file_extension": ".jl",
   "mimetype": "application/julia",
   "name": "julia",
   "version": "1.7.2"
  }
 },
 "nbformat": 4,
 "nbformat_minor": 5
}
