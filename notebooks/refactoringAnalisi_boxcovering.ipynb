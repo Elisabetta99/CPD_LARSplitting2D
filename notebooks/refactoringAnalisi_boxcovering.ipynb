{
 "cells": [
  {
   "cell_type": "markdown",
   "id": "e42d6c6f",
   "metadata": {},
   "source": [
    "### Gruppo 5.a: Castagnacci Giulia (581749), Giordano Elisabetta (536265)"
   ]
  },
  {
   "cell_type": "markdown",
   "id": "2c6a281b",
   "metadata": {},
   "source": [
    "### Analisi boxcovering"
   ]
  },
  {
   "cell_type": "code",
   "execution_count": 1,
   "id": "8a1144ed",
   "metadata": {},
   "outputs": [],
   "source": [
    "\n",
    "using LinearAlgebraicRepresentation\n",
    "Lar = LinearAlgebraicRepresentation\n",
    "using IntervalTrees\n",
    "using SparseArrays\n",
    "using NearestNeighbors\n",
    "using BenchmarkTools\n",
    "using OrderedCollections\n",
    "using Base.Threads\n"
   ]
  },
  {
   "cell_type": "markdown",
   "id": "4587f1aa",
   "metadata": {},
   "source": [
    "### Dati in input"
   ]
  },
  {
   "cell_type": "code",
   "execution_count": 2,
   "id": "85e86e75",
   "metadata": {},
   "outputs": [
    {
     "data": {
      "text/plain": [
       "5-element Vector{Vector{Int64}}:\n",
       " [4, 1, 3, 5, 2]\n",
       " [1, 3, 5, 2]\n",
       " [4, 1, 3, 5, 2]\n",
       " [4, 1, 3, 5]\n",
       " [4, 1, 3, 5, 2]"
      ]
     },
     "metadata": {},
     "output_type": "display_data"
    }
   ],
   "source": [
    "V = hcat([[0.,0],[1,0],[1,1],[0,1],[2,1]]...);                                          #vertici del modello 2D\n",
    "V3 = hcat([[0.,0,0],[1,0,3],[1,1,2],[0,1,1],[2,1,0]]...);                               #vertici del modello 3D\n",
    "EV = [[1,2],[2,3],[3,4],[4,1],[1,5]];                                                   #spigoli del modello\n",
    "bb = [[0.0 1.0; 0.0 0.0], [1.0 1.0; 0.0 1.0], [0.0 1.0; 1.0 1.0], [0.0 0.0; 0.0 1.0], [0.0 2.0; 0.0 1.0]];  #bounding box\n",
    "dict = OrderedDict([0.0, 1.0] => [1, 3],[1.0, 1.0] => [2],[0.0, 0.0] => [4],[0.0, 2.0] => [5])  #dizionario intervallo/indice\n",
    "cov = [[4, 1, 3, 5, 2], [1, 3, 5, 2], [4, 1, 3, 5, 2], [4, 1, 3, 5], [4, 1, 3, 5, 2]]    #intersezioni tra bounding box"
   ]
  },
  {
   "cell_type": "markdown",
   "id": "aa013e08",
   "metadata": {},
   "source": [
    "## Funzioni aggiuntive create"
   ]
  },
  {
   "cell_type": "markdown",
   "id": "c6720f46",
   "metadata": {},
   "source": [
    "### createIntervalTree\n",
    "Dato un dizionario ordinato crea un intervalTree, ovvero una struttura dati che contiene intervalli e che consente di trovare in modo efficiente tutti gli intervalli che si sovrappongono a un determinato intervallo o punto. Utilizzata in: spaceindex, boxcovering"
   ]
  },
  {
   "cell_type": "code",
   "execution_count": 3,
   "id": "614c5c56",
   "metadata": {},
   "outputs": [
    {
     "data": {
      "text/plain": [
       "createIntervalTree (generic function with 1 method)"
      ]
     },
     "metadata": {},
     "output_type": "display_data"
    }
   ],
   "source": [
    "function createIntervalTree(boxdict::AbstractDict{Array{Float64,1},Array{Int64,1}})\n",
    "    tree = IntervalTrees.IntervalMap{Float64,Array}()\n",
    "    for (key, boxset) in boxdict\n",
    "        tree[tuple(key...)] = boxset\n",
    "    end\n",
    "    return tree\n",
    "end"
   ]
  },
  {
   "cell_type": "markdown",
   "id": "59514f95",
   "metadata": {},
   "source": [
    "### Creazione albero"
   ]
  },
  {
   "cell_type": "code",
   "execution_count": 4,
   "id": "f43d8c9d",
   "metadata": {},
   "outputs": [
    {
     "data": {
      "text/plain": [
       "IntervalTrees.IntervalBTree{Float64, IntervalValue{Float64, Array}, 64}"
      ]
     },
     "metadata": {},
     "output_type": "display_data"
    },
    {
     "name": "stdout",
     "output_type": "stream",
     "text": [
      "\n",
      "(0.0,0.0) => [4]\n",
      "(0.0,1.0) => [1, 3]\n",
      "(0.0,2.0) => [5]"
     ]
    },
    {
     "name": "stdout",
     "output_type": "stream",
     "text": [
      "\n",
      "(1.0,1.0) => [2]"
     ]
    }
   ],
   "source": [
    "t = createIntervalTree(dict)"
   ]
  },
  {
   "cell_type": "markdown",
   "id": "e076a455",
   "metadata": {},
   "source": [
    "### addIntersection\n",
    "Aggiunge gli elementi di iterator nell'i-esimo array di covers. Utilizzata in: spaceindex, boxcovering"
   ]
  },
  {
   "cell_type": "code",
   "execution_count": 5,
   "id": "2bc4ffdb",
   "metadata": {},
   "outputs": [
    {
     "data": {
      "text/plain": [
       "addIntersection (generic function with 1 method)"
      ]
     },
     "metadata": {},
     "output_type": "display_data"
    }
   ],
   "source": [
    "function addIntersection(covers::Array{Array{Int64,1},1}, i::Int64, iterator)\n",
    "    splice!(covers[i],1)\t\t#splice serve a togliere gli zeri iniziali all'interno di covers\n",
    "    @threads for x in collect(iterator)\n",
    "        append!(covers[i],x.value)\n",
    "    end\n",
    "end"
   ]
  },
  {
   "cell_type": "markdown",
   "id": "95d81ff9",
   "metadata": {},
   "source": [
    "### Versione iniziale di boxcovering"
   ]
  },
  {
   "cell_type": "markdown",
   "id": "fd2f6be1",
   "metadata": {},
   "source": [
    "Funzione che prende in input una matrice (i bounding box), un intero che specifica la coordinata su cui si lavora, e un intervalTrees. La funzione restituisce una matrice che contiene tutte le intersezioni tra bounding box."
   ]
  },
  {
   "cell_type": "code",
   "execution_count": 6,
   "id": "880c14bc",
   "metadata": {},
   "outputs": [
    {
     "data": {
      "text/plain": [
       "boxcovering (generic function with 1 method)"
      ]
     },
     "metadata": {},
     "output_type": "display_data"
    }
   ],
   "source": [
    "function boxcovering(bboxes, index, tree)\n",
    "\tcovers = [[] for k=1:length(bboxes)]\n",
    "\tfor (i,boundingbox) in enumerate(bboxes)\n",
    "\t\textent = bboxes[i][index,:]\n",
    "\t\titerator = IntervalTrees.intersect(tree, tuple(extent...))\n",
    "\t\tfor x in iterator\n",
    "\t\t\tappend!(covers[i],x.value)\n",
    "\t\tend\n",
    "\tend\n",
    "\treturn covers\n",
    "end"
   ]
  },
  {
   "cell_type": "markdown",
   "id": "7d09ceef",
   "metadata": {},
   "source": [
    "### Analisi del comportamento e dei tempi della versione iniziale"
   ]
  },
  {
   "cell_type": "code",
   "execution_count": 7,
   "id": "9805a731",
   "metadata": {},
   "outputs": [
    {
     "name": "stdout",
     "output_type": "stream",
     "text": [
      "  5.783 μs (82 allocations: 3.02 KiB)\n"
     ]
    },
    {
     "data": {
      "text/plain": [
       "5-element Vector{Vector{Any}}:\n",
       " [4, 1, 3, 5, 2]\n",
       " [1, 3, 5, 2]\n",
       " [4, 1, 3, 5, 2]\n",
       " [4, 1, 3, 5]\n",
       " [4, 1, 3, 5, 2]"
      ]
     },
     "metadata": {},
     "output_type": "display_data"
    }
   ],
   "source": [
    "@btime boxcovering(bb, 1, t) "
   ]
  },
  {
   "cell_type": "code",
   "execution_count": 8,
   "id": "42c4f094",
   "metadata": {},
   "outputs": [
    {
     "name": "stdout",
     "output_type": "stream",
     "text": [
      "MethodInstance for boxcovering(::"
     ]
    },
    {
     "name": "stdout",
     "output_type": "stream",
     "text": [
      "Vector{Matrix{Float64}}, ::Int64, ::IntervalTrees.IntervalBTree{Float64, IntervalValue{Float64, Array}, 64})\n",
      "  from "
     ]
    },
    {
     "name": "stdout",
     "output_type": "stream",
     "text": [
      "boxcovering(bboxes, index, tree) in Main at c:\\Users\\giord\\eclipse-SIW\\LARSplitting2D\\notebooks\\refactoringAnalisi_boxcovering.ipynb:1\n",
      "Arguments\n",
      "  "
     ]
    },
    {
     "name": "stdout",
     "output_type": "stream",
     "text": [
      "#self#\u001b[36m::Core.Const(boxcovering)\u001b[39m\n",
      "  bboxes\u001b[36m::Vector{Matrix{Float64}}\u001b[39m\n",
      "  index\u001b[36m::Int64\u001b[39m\n",
      "  tree\u001b[36m::IntervalTrees.IntervalBTree{Float64, IntervalValue{Float64, Array}, 64}\u001b[39m\n",
      "Locals\n",
      "  @_5\u001b[33m\u001b[1m::Union{Nothing, Tuple{Tuple{Int64, Matrix{Float64}}, Tuple{Int64, Int64}}}\u001b[22m\u001b[39m\n",
      "  #10\u001b[36m::var\"#10#11\"\u001b[39m\n",
      "  covers\u001b[36m::Vector{Vector{Any}}\u001b[39m\n",
      "  @_8\u001b[33m\u001b[1m::Union{Nothing, Tuple{IntervalValue{Float64, Array}, Int64}, Tuple{IntervalValue{Float64, Array}, Nothing}}\u001b[22m\u001b[39m\n",
      "  @_9\u001b[36m::Int64\u001b[39m\n",
      "  boundingbox\u001b[36m::Matrix{Float64}\u001b[39m\n",
      "  i\u001b[36m::Int64\u001b[39m\n",
      "  iterator\u001b[91m\u001b[1m::Union{IntervalTrees.IntervalIntersectionIterator{typeof(IntervalTrees.true_cmp), Float64, IntervalValue{Float64, Array}, 64}, Vector{IntervalValue{Float64, Array}}}\u001b[22m\u001b[39m\n",
      "  extent\u001b[36m::Vector{Float64}\u001b[39m\n",
      "  x\u001b[36m::IntervalValue{Float64, Array}\u001b[39m\n",
      "Body\u001b[36m::Vector{Vector{Any}}\u001b[39m\n"
     ]
    },
    {
     "name": "stdout",
     "output_type": "stream",
     "text": [
      "\u001b[90m1 ─\u001b[39m "
     ]
    },
    {
     "name": "stdout",
     "output_type": "stream",
     "text": [
      "      (#10 = %new(Main.:(var\"#10#11\"))"
     ]
    },
    {
     "name": "stdout",
     "output_type": "stream",
     "text": [
      ")\n",
      "\u001b[90m│  \u001b[39m %2  = #10"
     ]
    },
    {
     "name": "stdout",
     "output_type": "stream",
     "text": [
      "\u001b[36m::Core.Const(var\"#10#11\"())\u001b[39m\n",
      "\u001b[90m│  \u001b[39m %3  = Main.length(bboxes)\u001b[36m::Int64\u001b[39m\n",
      "\u001b[90m│  \u001b[39m %4  = (1:%3)"
     ]
    },
    {
     "name": "stdout",
     "output_type": "stream",
     "text": [
      "\u001b[36m::Core.PartialStruct(UnitRange{Int64}, Any[Core.Const(1), Int64])\u001b[39m\n",
      "\u001b[90m│  \u001b[39m %5  = Base.Generator(%2, %4"
     ]
    },
    {
     "name": "stdout",
     "output_type": "stream",
     "text": [
      ")\u001b[36m::Core.PartialStruct(Base.Generator{UnitRange{Int64}, var\"#10#11\"}, Any[Core.Const(var\"#10#11\"()), Core.PartialStruct(UnitRange{Int64}, Any[Core.Const(1), Int64])])\u001b[39m\n",
      "\u001b[90m│  \u001b[39m       (covers = Base.collect(%5))\n",
      "\u001b[90m│  \u001b[39m %7  = Main.enumerate(bboxes)\u001b[36m::Base.Iterators.Enumerate{Vector{Matrix{Float64}}}\u001b[39m\n",
      "\u001b[90m│  \u001b[39m       (@_5 = Base.iterate(%7))\n",
      "\u001b[90m│  \u001b[39m %9  = (@_5 === nothing)\u001b[36m::Bool\u001b[39m\n",
      "\u001b[90m│  \u001b[39m %10 = Base.not_int(%9)\u001b[36m::Bool\u001b[39m\n",
      "\u001b[90m└──\u001b[39m       goto #7 if not %10\n",
      "\u001b[90m2 ┄\u001b[39m %12 = @_5\u001b[36m::Tuple{Tuple{Int64, Matrix{Float64}}, Tuple{Int64, Int64}}\u001b[39m\n",
      "\u001b[90m│  \u001b[39m %13 = Core.getfield(%12, 1)\u001b[36m::Tuple{Int64, Matrix{Float64}}\u001b[39m\n"
     ]
    },
    {
     "name": "stdout",
     "output_type": "stream",
     "text": [
      "\u001b[90m│  \u001b[39m %14 = Base.indexed_iterate(%13, 1)\u001b[36m::Core.PartialStruct(Tuple{Int64, Int64}, Any[Int64, Core.Const(2)])\u001b[39m\n",
      "\u001b[90m│  \u001b[39m       (i = Core.getfield(%14, 1))\n",
      "\u001b[90m│  \u001b[39m       (@_9 = Core.getfield(%14, 2))\n",
      "\u001b[90m│  \u001b[39m %17 = Base.indexed_iterate(%13, 2, @_9"
     ]
    },
    {
     "name": "stdout",
     "output_type": "stream",
     "text": [
      "::"
     ]
    },
    {
     "name": "stdout",
     "output_type": "stream",
     "text": [
      "Core.Const(2))\u001b[36m::Core.PartialStruct(Tuple{Matrix{Float64}, Int64}, Any[Matrix{Float64}, Core.Const(3)])\u001b[39m\n",
      "\u001b[90m│  \u001b[39m       (boundingbox = Core.getfield(%17, 1))\n",
      "\u001b[90m│  \u001b[39m %19 = Core.getfield(%12, 2)\u001b[36m::Tuple{Int64, Int64}\u001b[39m\n",
      "\u001b[90m│  \u001b[39m %20 = Base.getindex(bboxes, i)\u001b[36m::Matrix{Float64}\u001b[39m\n",
      "\u001b[90m│  \u001b[39m       (extent = Base.getindex(%20, index, Main.:(:)))\n",
      "\u001b[90m│  \u001b[39m %22 = IntervalTrees.intersect\u001b[36m::Core.Const(intersect)\u001b[39m\n",
      "\u001b[90m│  \u001b[39m %23 = Core._apply_iterate(Base.iterate, Main.tuple, extent"
     ]
    },
    {
     "name": "stdout",
     "output_type": "stream",
     "text": [
      ")\u001b[91m\u001b[1m::Tuple{Vararg{Float64}}\u001b[22m\u001b[39m\n",
      "\u001b[90m│  \u001b[39m       (iterator = (%22)(tree, %23))\n",
      "\u001b[90m│  \u001b[39m %25 = iterator\u001b[91m\u001b[1m::Union{IntervalTrees.IntervalIntersectionIterator{typeof(IntervalTrees.true_cmp), Float64, IntervalValue{Float64, Array}, 64}, Vector{IntervalValue{Float64, Array}}}\u001b[22m\u001b[39m\n",
      "\u001b[90m│  \u001b[39m       (@_8 = Base.iterate(%25))\n",
      "\u001b[90m│  \u001b[39m %27 = (@_8 === nothing)\u001b[36m::Bool\u001b[39m\n",
      "\u001b[90m│  \u001b[39m %28 = Base.not_int(%27)\u001b[36m::Bool\u001b[39m\n",
      "\u001b[90m└──\u001b[39m       goto #5 if not %28\n",
      "\u001b[90m3 ┄\u001b[39m %30 = @_8\u001b[91m\u001b[1m::Union{Tuple{IntervalValue{Float64, Array}, Int64}, Tuple{IntervalValue{Float64, Array}, Nothing}}\u001b[22m\u001b[39m\n",
      "\u001b[90m│  \u001b[39m       (x = Core.getfield(%30, 1))\n",
      "\u001b[90m│  \u001b[39m %32 = Core.getfield(%30, 2)"
     ]
    },
    {
     "name": "stdout",
     "output_type": "stream",
     "text": [
      "\u001b[33m\u001b[1m::Union{Nothing, Int64}\u001b[22m\u001b[39m\n",
      "\u001b[90m│  \u001b[39m %33 = Base.getindex(covers, i)\u001b[36m::Vector{Any}\u001b[39m\n",
      "\u001b[90m│  \u001b[39m %34 = Base.getproperty(x, "
     ]
    },
    {
     "name": "stdout",
     "output_type": "stream",
     "text": [
      ":value)\u001b[91m\u001b[1m::Array\u001b[22m\u001b[39m\n",
      "\u001b[90m│  \u001b[39m       Main.append!(%33, %34)\n",
      "\u001b[90m│  \u001b[39m       (@_8 = Base.iterate(%25, %32))\n",
      "\u001b[90m│  \u001b[39m %37 = (@_8 === nothing)\u001b[36m::Bool\u001b[39m\n",
      "\u001b[90m│  \u001b[39m %38 = Base.not_int(%37)\u001b[36m::Bool\u001b[39m\n",
      "\u001b[90m└──\u001b[39m       goto #5 if not %38\n",
      "\u001b[90m4 ─\u001b[39m "
     ]
    },
    {
     "name": "stdout",
     "output_type": "stream",
     "text": [
      "      goto #3\n",
      "\u001b[90m5 ┄\u001b[39m       (@_5 = Base.iterate(%7, %19))\n",
      "\u001b[90m│  \u001b[39m %42 = (@_5 === nothing)\u001b[36m::Bool\u001b[39m\n",
      "\u001b[90m│  \u001b[39m %43 = Base.not_int(%42)\u001b[36m::Bool\u001b[39m\n",
      "\u001b[90m└──\u001b[39m       goto #7 if not %43\n",
      "\u001b[90m6 ─\u001b[39m       goto #2\n",
      "\u001b[90m7 ┄\u001b[39m       return covers\n",
      "\n"
     ]
    }
   ],
   "source": [
    "@code_warntype boxcovering(bb, 1, t) "
   ]
  },
  {
   "cell_type": "code",
   "execution_count": 9,
   "id": "d0a982e9",
   "metadata": {},
   "outputs": [
    {
     "data": {
      "text/plain": [
       "BenchmarkTools.Trial: 10000 samples with 6 evaluations.\n",
       " Range \u001b[90m(\u001b[39m\u001b[36m\u001b[1mmin\u001b[22m\u001b[39m … \u001b[35mmax\u001b[39m\u001b[90m):  \u001b[39m\u001b[36m\u001b[1m 5.350 μs\u001b[22m\u001b[39m … \u001b[35m 3.238 ms\u001b[39m  \u001b[90m┊\u001b[39m GC \u001b[90m(\u001b[39mmin … max\u001b[90m): \u001b[39m0.00% … 70.68%\n",
       " Time  \u001b[90m(\u001b[39m\u001b[34m\u001b[1mmedian\u001b[22m\u001b[39m\u001b[90m):     \u001b[39m\u001b[34m\u001b[1m 9.367 μs              \u001b[22m\u001b[39m\u001b[90m┊\u001b[39m GC \u001b[90m(\u001b[39mmedian\u001b[90m):    \u001b[39m0.00%\n",
       " Time  \u001b[90m(\u001b[39m\u001b[32m\u001b[1mmean\u001b[22m\u001b[39m ± \u001b[32mσ\u001b[39m\u001b[90m):   \u001b[39m\u001b[32m\u001b[1m10.824 μs\u001b[22m\u001b[39m ± \u001b[32m43.579 μs\u001b[39m  \u001b[90m┊\u001b[39m GC \u001b[90m(\u001b[39mmean ± σ\u001b[90m):  \u001b[39m3.36% ±  1.22%\n",
       "\n",
       "  \u001b[39m \u001b[39m \u001b[39m \u001b[39m \u001b[39m \u001b[39m \u001b[39m \u001b[39m \u001b[39m \u001b[39m \u001b[39m \u001b[39m \u001b[39m \u001b[34m█\u001b[39m\u001b[39m \u001b[39m \u001b[39m \u001b[39m \u001b[32m \u001b[39m\u001b[39m \u001b[39m \u001b[39m \u001b[39m \u001b[39m \u001b[39m \u001b[39m \u001b[39m \u001b[39m \u001b[39m \u001b[39m \u001b[39m \u001b[39m \u001b[39m \u001b[39m \u001b[39m \u001b[39m \u001b[39m \u001b[39m \u001b[39m \u001b[39m \u001b[39m \u001b[39m \u001b[39m \u001b[39m \u001b[39m \u001b[39m \u001b[39m \u001b[39m \u001b[39m \u001b[39m \u001b[39m \u001b[39m \u001b[39m \u001b[39m \u001b[39m \u001b[39m \u001b[39m \u001b[39m \u001b[39m \u001b[39m \u001b[39m \n",
       "  \u001b[39m▃\u001b[39m▄\u001b[39m▃\u001b[39m▂\u001b[39m▄\u001b[39m▂\u001b[39m▂\u001b[39m▂\u001b[39m▃\u001b[39m▃\u001b[39m▂\u001b[39m▂\u001b[39m▂\u001b[34m█\u001b[39m\u001b[39m▃\u001b[39m▂\u001b[39m▂\u001b[39m▃\u001b[32m▅\u001b[39m\u001b[39m▂\u001b[39m▂\u001b[39m▃\u001b[39m▂\u001b[39m▁\u001b[39m▁\u001b[39m▁\u001b[39m▁\u001b[39m▁\u001b[39m▁\u001b[39m▁\u001b[39m▁\u001b[39m▁\u001b[39m▁\u001b[39m▁\u001b[39m▁\u001b[39m▁\u001b[39m▁\u001b[39m▁\u001b[39m▁\u001b[39m▁\u001b[39m▁\u001b[39m▁\u001b[39m▁\u001b[39m▁\u001b[39m▁\u001b[39m▁\u001b[39m▁\u001b[39m▁\u001b[39m▁\u001b[39m▁\u001b[39m▁\u001b[39m▁\u001b[39m▁\u001b[39m▁\u001b[39m▁\u001b[39m▁\u001b[39m▁\u001b[39m▁\u001b[39m▁\u001b[39m \u001b[39m▂\n",
       "  5.35 μs\u001b[90m         Histogram: frequency by time\u001b[39m        23.1 μs \u001b[0m\u001b[1m<\u001b[22m\n",
       "\n",
       " Memory estimate\u001b[90m: \u001b[39m\u001b[33m3.02 KiB\u001b[39m, allocs estimate\u001b[90m: \u001b[39m\u001b[33m82\u001b[39m."
      ]
     },
     "metadata": {},
     "output_type": "display_data"
    }
   ],
   "source": [
    "@benchmark boxcovering(bb, 1, t) "
   ]
  },
  {
   "cell_type": "markdown",
   "id": "0303476b",
   "metadata": {},
   "source": [
    "### Versione parallelizzata di boxcovering\n",
    "abbiamo parallelizzato la funzione boxcovering utilizzando la macro @thread prima del ciclo for, e aggiungendo delle funzioni di supporto: createIntervalTree e addIntersection"
   ]
  },
  {
   "cell_type": "code",
   "execution_count": 10,
   "id": "4233bafb",
   "metadata": {},
   "outputs": [
    {
     "data": {
      "text/plain": [
       "boxcovering2 (generic function with 1 method)"
      ]
     },
     "metadata": {},
     "output_type": "display_data"
    }
   ],
   "source": [
    "function boxcovering2(bboxes, index, tree)\n",
    "    covers = [[zero(eltype(Int64))] for k=1:length(bboxes)]\t\t#zero(eltype(Int64)) serve per rendere covers type stable\n",
    "    @threads for (i,boundingbox) in collect(enumerate(bboxes))\n",
    "        extent = bboxes[i][index,:]\n",
    "        iterator = IntervalTrees.intersect(tree, tuple(extent...))\n",
    "        addIntersection(covers, i, iterator)\n",
    "    end\n",
    "    return covers\n",
    "end"
   ]
  },
  {
   "cell_type": "markdown",
   "id": "18b23676",
   "metadata": {},
   "source": [
    "### Analisi del comportamento e dei tempi della versione parallelizzata"
   ]
  },
  {
   "cell_type": "code",
   "execution_count": 11,
   "id": "dd738843",
   "metadata": {},
   "outputs": [
    {
     "name": "stdout",
     "output_type": "stream",
     "text": [
      "  8.633 μs (86 allocations: 4.83 KiB)\n"
     ]
    },
    {
     "data": {
      "text/plain": [
       "5-element Vector{Vector{Int64}}:\n",
       " [4, 1, 3, 5, 2]\n",
       " [1, 3, 5, 2]\n",
       " [4, 1, 3, 5, 2]\n",
       " [4, 1, 3, 5]\n",
       " [4, 1, 3, 5, 2]"
      ]
     },
     "metadata": {},
     "output_type": "display_data"
    }
   ],
   "source": [
    "@btime boxcovering2(bb, 1, t)"
   ]
  },
  {
   "cell_type": "code",
   "execution_count": 12,
   "id": "80f492c2",
   "metadata": {},
   "outputs": [
    {
     "data": {
      "text/plain": [
       "BenchmarkTools.Trial: 10000 samples with 3 evaluations.\n",
       " Range \u001b[90m(\u001b[39m\u001b[36m\u001b[1mmin\u001b[22m\u001b[39m … \u001b[35mmax\u001b[39m\u001b[90m):  \u001b[39m\u001b[36m\u001b[1m 8.900 μs\u001b[22m\u001b[39m … \u001b[35m 4.285 ms\u001b[39m  \u001b[90m┊\u001b[39m GC \u001b[90m(\u001b[39mmin … max\u001b[90m): \u001b[39m0.00% … 98.00%\n",
       " Time  \u001b[90m(\u001b[39m\u001b[34m\u001b[1mmedian\u001b[22m\u001b[39m\u001b[90m):     \u001b[39m\u001b[34m\u001b[1m11.600 μs              \u001b[22m\u001b[39m\u001b[90m┊\u001b[39m GC \u001b[90m(\u001b[39mmedian\u001b[90m):    \u001b[39m0.00%\n",
       " Time  \u001b[90m(\u001b[39m\u001b[32m\u001b[1mmean\u001b[22m\u001b[39m ± \u001b[32mσ\u001b[39m\u001b[90m):   \u001b[39m\u001b[32m\u001b[1m15.563 μs\u001b[22m\u001b[39m ± \u001b[32m66.853 μs\u001b[39m  \u001b[90m┊\u001b[39m GC \u001b[90m(\u001b[39mmean ± σ\u001b[90m):  \u001b[39m7.24% ±  1.71%\n",
       "\n",
       "  \u001b[39m \u001b[39m \u001b[39m \u001b[39m▄\u001b[39m█\u001b[34m \u001b[39m\u001b[39m \u001b[39m \u001b[39m \u001b[39m \u001b[39m \u001b[39m \u001b[32m \u001b[39m\u001b[39m \u001b[39m \u001b[39m \u001b[39m \u001b[39m \u001b[39m \u001b[39m \u001b[39m \u001b[39m \u001b[39m \u001b[39m \u001b[39m \u001b[39m \u001b[39m \u001b[39m \u001b[39m \u001b[39m \u001b[39m \u001b[39m \u001b[39m \u001b[39m \u001b[39m \u001b[39m \u001b[39m \u001b[39m \u001b[39m \u001b[39m \u001b[39m \u001b[39m \u001b[39m \u001b[39m \u001b[39m \u001b[39m \u001b[39m \u001b[39m \u001b[39m \u001b[39m \u001b[39m \u001b[39m \u001b[39m \u001b[39m \u001b[39m \u001b[39m \u001b[39m \u001b[39m \u001b[39m \u001b[39m \u001b[39m \n",
       "  \u001b[39m█\u001b[39m▇\u001b[39m▅\u001b[39m█\u001b[39m█\u001b[34m▆\u001b[39m\u001b[39m▄\u001b[39m▃\u001b[39m▃\u001b[39m▂\u001b[39m▃\u001b[39m▃\u001b[32m▄\u001b[39m\u001b[39m▄\u001b[39m▄\u001b[39m▃\u001b[39m▃\u001b[39m▂\u001b[39m▂\u001b[39m▂\u001b[39m▂\u001b[39m▂\u001b[39m▂\u001b[39m▂\u001b[39m▂\u001b[39m▂\u001b[39m▂\u001b[39m▁\u001b[39m▁\u001b[39m▁\u001b[39m▁\u001b[39m▁\u001b[39m▁\u001b[39m▁\u001b[39m▁\u001b[39m▁\u001b[39m▁\u001b[39m▁\u001b[39m▁\u001b[39m▁\u001b[39m▁\u001b[39m▁\u001b[39m▁\u001b[39m▁\u001b[39m▁\u001b[39m▁\u001b[39m▁\u001b[39m▁\u001b[39m▁\u001b[39m▁\u001b[39m▁\u001b[39m▁\u001b[39m▁\u001b[39m▁\u001b[39m▁\u001b[39m▁\u001b[39m▁\u001b[39m▁\u001b[39m▁\u001b[39m \u001b[39m▂\n",
       "  8.9 μs\u001b[90m          Histogram: frequency by time\u001b[39m        40.4 μs \u001b[0m\u001b[1m<\u001b[22m\n",
       "\n",
       " Memory estimate\u001b[90m: \u001b[39m\u001b[33m4.83 KiB\u001b[39m, allocs estimate\u001b[90m: \u001b[39m\u001b[33m86\u001b[39m."
      ]
     },
     "metadata": {},
     "output_type": "display_data"
    }
   ],
   "source": [
    "@benchmark boxcovering2(bb, 1, t)"
   ]
  },
  {
   "cell_type": "markdown",
   "id": "cbbfa44e",
   "metadata": {},
   "source": [
    "## Test"
   ]
  },
  {
   "cell_type": "code",
   "execution_count": 13,
   "id": "90e844c1",
   "metadata": {},
   "outputs": [
    {
     "name": "stdout",
     "output_type": "stream",
     "text": [
      "\u001b[0m\u001b[1mTest Summary:     | \u001b[22m"
     ]
    },
    {
     "name": "stdout",
     "output_type": "stream",
     "text": [
      "\u001b[32m\u001b[1mPass  \u001b[22m\u001b[39m\u001b[36m\u001b[1mTotal\u001b[22m\u001b[39m\n",
      "boxcovering Tests | \u001b[32m   7  \u001b[39m\u001b[36m    7\u001b[39m\n"
     ]
    },
    {
     "data": {
      "text/plain": [
       "Test.DefaultTestSet(\"boxcovering Tests\", Any[], 7, false, false)"
      ]
     },
     "metadata": {},
     "output_type": "display_data"
    }
   ],
   "source": [
    "using Test\n",
    "\n",
    "@testset \"boxcovering Tests\" begin\n",
    "    V,(VV,EV,FV,CV) = Lar.cuboidGrid([2,2,2],true)\n",
    "    W,_ = Lar.apply(Lar.r(1,1,pi/6),(V,[VV,EV,FV,CV]))\n",
    "    cellpoints = [ W[:,EV[k]]::Lar.Points for k=1:length(EV) ]\n",
    "    bboxes = [hcat(Lar.boundingbox(cell)...) for cell in cellpoints]\n",
    "    dict = Lar.coordintervals(1,bboxes)\n",
    "    @test typeof(dict) == OrderedDict{Array{Float64,1},Array{Int64,1}}\n",
    "    @test length(Lar.coordintervals(1,bboxes)) == 54\n",
    "    @test length(Lar.coordintervals(2,bboxes)) == 54\n",
    "    @test length(Lar.coordintervals(3,bboxes)) == 54\n",
    "\n",
    "    V,(VV,EV,FV) = Lar.cuboidGrid([2,1],true)\n",
    "    cellpoints = [ V[:,EV[k]]::Lar.Points for k=1:length(EV) ]\n",
    "    bboxes = [hcat(Lar.boundingbox(cell)...) for cell in cellpoints]\n",
    "    @test bboxes == [[0.0 0.0; 0.0 1.0],\n",
    "    [1.0 1.0; 0.0 1.0],\n",
    "    [2.0 2.0; 0.0 1.0],\n",
    "    [0.0 1.0; 0.0 0.0],\n",
    "    [0.0 1.0; 1.0 1.0],\n",
    "    [1.0 2.0; 0.0 0.0],\n",
    "    [1.0 2.0; 1.0 1.0]]\n",
    "    xboxdict = Dict(\n",
    "     [0.0, 0.0] => [1],\n",
    "     [1.0, 1.0] => [2],\n",
    "     [2.0, 2.0] => [3],\n",
    "     [0.0, 1.0] => [4, 5],\n",
    "     [1.0, 2.0] => [6, 7])\n",
    "    @test xboxdict == Lar.coordintervals(1,bboxes)\n",
    "    xs = IntervalTrees.IntervalMap{Float64, Array}()\n",
    "    for (key,boxset) in xboxdict\n",
    "        xs[tuple(key...)] = boxset\n",
    "    end\n",
    "   @test typeof(xs) ==\n",
    "    IntervalTrees.IntervalBTree{Float64,\n",
    "    IntervalValue{Float64,Array},64}\n",
    "end"
   ]
  },
  {
   "cell_type": "markdown",
   "id": "73b49365",
   "metadata": {},
   "source": [
    "![](https://github.com/GiuliaCastagnacci/LARSplitting2D/blob/main/docs/plot/screenTest/tests_boxcovering.png?raw=true)"
   ]
  },
  {
   "cell_type": "markdown",
   "id": "09323c93",
   "metadata": {},
   "source": [
    "![](https://github.com/GiuliaCastagnacci/LARSplitting2D/blob/main/docs/plot/images/test/tests_boxcovering.png?raw=true)"
   ]
  }
 ],
 "metadata": {
  "kernelspec": {
   "display_name": "Julia 1.7.2",
   "language": "julia",
   "name": "julia-1.7"
  },
  "language_info": {
   "file_extension": ".jl",
   "mimetype": "application/julia",
   "name": "julia",
   "version": "1.7.2"
  }
 },
 "nbformat": 4,
 "nbformat_minor": 5
}
