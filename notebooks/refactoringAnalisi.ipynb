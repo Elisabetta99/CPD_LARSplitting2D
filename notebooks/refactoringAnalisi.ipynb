{
 "cells": [
  {
   "cell_type": "markdown",
   "id": "dbeef2eb",
   "metadata": {},
   "source": [
    "### Gruppo 5.a: Castagnacci Giulia, Giordano Elisabetta"
   ]
  },
  {
   "cell_type": "markdown",
   "id": "2c6a281b",
   "metadata": {},
   "source": [
    "## Analisi e revisione della classe refactoring"
   ]
  },
  {
   "cell_type": "code",
   "execution_count": 1,
   "id": "8a1144ed",
   "metadata": {},
   "outputs": [],
   "source": [
    "\n",
    "using LinearAlgebraicRepresentation\n",
    "Lar = LinearAlgebraicRepresentation\n",
    "using IntervalTrees\n",
    "using SparseArrays\n",
    "using NearestNeighbors\n",
    "using BenchmarkTools\n",
    "using OrderedCollections\n",
    "using Base.Threads\n"
   ]
  },
  {
   "cell_type": "markdown",
   "id": "ea9252a9",
   "metadata": {},
   "source": [
    "### Dati in input"
   ]
  },
  {
   "cell_type": "code",
   "execution_count": 2,
   "id": "85e86e75",
   "metadata": {},
   "outputs": [
    {
     "data": {
      "text/plain": [
       "5-element Vector{Vector{Int64}}:\n",
       " [4, 1, 3, 5, 2]\n",
       " [1, 3, 5, 2]\n",
       " [4, 1, 3, 5, 2]\n",
       " [4, 1, 3, 5]\n",
       " [4, 1, 3, 5, 2]"
      ]
     },
     "metadata": {},
     "output_type": "display_data"
    }
   ],
   "source": [
    "V = hcat([[0.,0],[1,0],[1,1],[0,1],[2,1]]...);  #vertici del modello 2D\n",
    "V3 = hcat([[0.,0,0],[1,0,3],[1,1,2],[0,1,1],[2,1,0]]...);   #vertici del modello 3D\n",
    "EV = [[1,2],[2,3],[3,4],[4,1],[1,5]];   #spigoli del modello\n",
    "bb = [[0.0 1.0; 0.0 0.0], [1.0 1.0; 0.0 1.0], [0.0 1.0; 1.0 1.0], [0.0 0.0; 0.0 1.0], [0.0 2.0; 0.0 1.0]];  #bounding box\n",
    "dict = OrderedDict([0.0, 1.0] => [1, 3],[1.0, 1.0] => [2],[0.0, 0.0] => [4],[0.0, 2.0] => [5])  #dizionario intervallo/indice\n",
    "cov = [[4, 1, 3, 5, 2], [1, 3, 5, 2], [4, 1, 3, 5, 2], [4, 1, 3, 5], [4, 1, 3, 5, 2]]   #intersezioni tra bounding box"
   ]
  },
  {
   "cell_type": "markdown",
   "id": "f7b1be47",
   "metadata": {},
   "source": [
    "## Funzioni aggiuntive create"
   ]
  },
  {
   "cell_type": "markdown",
   "id": "86369cf5",
   "metadata": {},
   "source": [
    "### createIntervalTree\n",
    "Aggiunta funzione createIntervalTree, struttura dati che contiene intervalli e che consente di trovare in modo efficiente tutti gli intervalli che si sovrappongono a un determinato intervallo o punto."
   ]
  },
  {
   "cell_type": "code",
   "execution_count": 3,
   "id": "8fa640f1",
   "metadata": {},
   "outputs": [
    {
     "data": {
      "text/plain": [
       "createIntervalTree (generic function with 1 method)"
      ]
     },
     "metadata": {},
     "output_type": "display_data"
    }
   ],
   "source": [
    "function createIntervalTree(boxdict::AbstractDict{Array{Float64,1},Array{Int64,1}})\n",
    "    tree = IntervalTrees.IntervalMap{Float64,Array}()\n",
    "    for (key, boxset) in boxdict\n",
    "        tree[tuple(key...)] = boxset\n",
    "    end\n",
    "    return tree\n",
    "end"
   ]
  },
  {
   "cell_type": "code",
   "execution_count": 4,
   "id": "e62e0d02",
   "metadata": {},
   "outputs": [
    {
     "data": {
      "text/plain": [
       "IntervalTrees.IntervalBTree{Float64, IntervalValue{Float64, Array}, 64}"
      ]
     },
     "metadata": {},
     "output_type": "display_data"
    },
    {
     "name": "stdout",
     "output_type": "stream",
     "text": [
      "\n",
      "(0.0,0.0) => [4]\n",
      "(0.0,1.0) => [1, 3]\n",
      "(0.0,2.0) => [5]\n",
      "(1.0,1.0) => [2]"
     ]
    }
   ],
   "source": [
    "t = createIntervalTree(dict)    # Creazione albero"
   ]
  },
  {
   "cell_type": "markdown",
   "id": "197032e4",
   "metadata": {},
   "source": [
    "### removeIntersection\n",
    "Elimina le intersezioni di ogni bounding box con loro stessi. Utilizzata in: spaceindex"
   ]
  },
  {
   "cell_type": "code",
   "execution_count": 5,
   "id": "9d2ff7e5",
   "metadata": {},
   "outputs": [
    {
     "data": {
      "text/plain": [
       "removeIntersection (generic function with 1 method)"
      ]
     },
     "metadata": {},
     "output_type": "display_data"
    }
   ],
   "source": [
    "function removeIntersection(covers::Array{Array{Int64,1},1})\n",
    "    @threads for k=1:length(covers)\n",
    "        covers[k] = setdiff(covers[k],[k])\t#toglie le intersezioni con se stesso \n",
    "    end\n",
    "end"
   ]
  },
  {
   "cell_type": "markdown",
   "id": "30052f7c",
   "metadata": {},
   "source": [
    "### addIntersection\n",
    "Aggiunge gli elementi di iterator nell’i-esimo array di covers. Utilizzata in: spaceindex, boxcovering"
   ]
  },
  {
   "cell_type": "code",
   "execution_count": 6,
   "id": "e94cad87",
   "metadata": {},
   "outputs": [
    {
     "data": {
      "text/plain": [
       "addIntersection (generic function with 1 method)"
      ]
     },
     "metadata": {},
     "output_type": "display_data"
    }
   ],
   "source": [
    "function addIntersection(covers::Array{Array{Int64,1},1}, i::Int64, iterator)\n",
    "    splice!(covers[i],1)    #splice serve a togliere gli zeri iniziali all'interno di covers\n",
    "    @threads for x in collect(iterator)\n",
    "        append!(covers[i],x.value)\n",
    "    end\n",
    "end"
   ]
  },
  {
   "cell_type": "markdown",
   "id": "7c303936",
   "metadata": {},
   "source": [
    "## Funzione di supporto"
   ]
  },
  {
   "cell_type": "code",
   "execution_count": 7,
   "id": "825f6097",
   "metadata": {},
   "outputs": [
    {
     "data": {
      "text/plain": [
       "approxVal (generic function with 1 method)"
      ]
     },
     "metadata": {},
     "output_type": "display_data"
    }
   ],
   "source": [
    "function approxVal(PRECISION)\n",
    "    function approxVal0(value)\n",
    "        out = round(value, digits=PRECISION)\n",
    "        if out == -0.0\n",
    "            out = 0.0\n",
    "        end\n",
    "        return out\n",
    "    end\n",
    "    return approxVal0\n",
    "end"
   ]
  },
  {
   "cell_type": "markdown",
   "id": "b65404ca",
   "metadata": {},
   "source": [
    "### Funzione crossingTest\n",
    "\n",
    " Funzione di supporto per pointInPolygonClassification. Utilizzata per aggiornare il valore di “count” a seconda dello stato, new o old (entrambi di tipo Int), incrementando o decrementando il count di 0.5. "
   ]
  },
  {
   "cell_type": "code",
   "execution_count": 8,
   "id": "2d128f65",
   "metadata": {},
   "outputs": [
    {
     "data": {
      "text/plain": [
       "crossingTest (generic function with 1 method)"
      ]
     },
     "metadata": {},
     "output_type": "display_data"
    }
   ],
   "source": [
    "function crossingTest(new::Int, old::Int, count::T, status::Int)::Number where T <: Real\n",
    "    if status == 0\n",
    "        status = new\n",
    "        count += 0.5\n",
    "    else\n",
    "        if status == old\n",
    "        \tcount += 0.5\n",
    "        else\n",
    "        \tcount -= 0.5\n",
    "        end\n",
    "        status = 0\n",
    "    end\n",
    "end"
   ]
  },
  {
   "cell_type": "markdown",
   "id": "1614f1c2",
   "metadata": {},
   "source": [
    "### Funzione setTile\n",
    "Funzione utilizzata per impostare il tileCode di una bounding box 2D includendo il point 2D di coordinate x e y. A seconda della posizione di “point”, il tileCode varia da 0 a 15. Serve per impostare la tile del piano in base alla posizione del punto di query, per testare successivamente i codici del tile dei bordi di un poligono 2D e determinare se tale punto è interno o esterno o sul confine del poligono. Questa funzione si deve parallelizzare."
   ]
  },
  {
   "cell_type": "code",
   "execution_count": 9,
   "id": "4cb4bb73",
   "metadata": {},
   "outputs": [
    {
     "data": {
      "text/plain": [
       "setTile (generic function with 1 method)"
      ]
     },
     "metadata": {},
     "output_type": "display_data"
    }
   ],
   "source": [
    "function setTile(box)\n",
    "\ttiles = [[9,1,5],[8,0,4],[10,2,6]]\n",
    "\tb1,b2,b3,b4 = box\n",
    "\tfunction tileCode(point)\n",
    "\t\tx,y = point\n",
    "\t\tcode = 0\n",
    "\t\tif y>b1 code=code|1 end\n",
    "\t\tif y<b2 code=code|2 end\n",
    "\t\tif x>b3 code=code|4 end\n",
    "\t\tif x<b4 code=code|8 end\n",
    "\t\treturn code\n",
    "\tend\n",
    "\treturn tileCode\n",
    "end"
   ]
  },
  {
   "cell_type": "markdown",
   "id": "ec7ed763",
   "metadata": {},
   "source": [
    "### Versione iniziale pointInPolygonClassification\n",
    "Funzione utilizzata per la classificazione dei punti di un poligono. In particolare, identifica se un punto si trova all’interno, all’esterno o sul bordo di un poligono, richiama la setTile per dirlo.\n"
   ]
  },
  {
   "cell_type": "code",
   "execution_count": 10,
   "id": "4eac14ba",
   "metadata": {},
   "outputs": [
    {
     "data": {
      "text/plain": [
       "pointInPolygonClassification (generic function with 1 method)"
      ]
     },
     "metadata": {},
     "output_type": "display_data"
    }
   ],
   "source": [
    "function pointInPolygonClassification(V,EV)\n",
    "    function pointInPolygonClassification0(pnt)\n",
    "        x,y = pnt\n",
    "        xmin,xmax,ymin,ymax = x,x,y,y\n",
    "        tilecode = setTile([ymax,ymin,xmax,xmin])\n",
    "        count,status = 0,0\n",
    "\n",
    "        for (k,edge) in enumerate(EV)\n",
    "            p1,p2 = V[:,edge[1]],V[:,edge[2]]\n",
    "            (x1,y1),(x2,y2) = p1,p2\n",
    "            c1,c2 = tilecode(p1),tilecode(p2)\n",
    "            c_edge, c_un, c_int = c1⊻c2, c1|c2, c1&c2\n",
    "\n",
    "            if (c_edge == 0) & (c_un == 0) return \"p_on\"\n",
    "            elseif (c_edge == 12) & (c_un == c_edge) return \"p_on\"\n",
    "            elseif c_edge == 3\n",
    "                if c_int == 0 return \"p_on\"\n",
    "                elseif c_int == 4 count += 1 end\n",
    "            elseif c_edge == 15\n",
    "                x_int = ((y-y2)*(x1-x2)/(y1-y2))+x2\n",
    "                if x_int > x count += 1\n",
    "                elseif x_int == x return \"p_on\" end\n",
    "            elseif (c_edge == 13) & ((c1==4) | (c2==4))\n",
    "                    crossingTest(1,2,status,count)\n",
    "            elseif (c_edge == 14) & ((c1==4) | (c2==4))\n",
    "                    crossingTest(2,1,status,count)\n",
    "            elseif c_edge == 7 count += 1\n",
    "            elseif c_edge == 11 count = count\n",
    "            elseif c_edge == 1\n",
    "                if c_int == 0 return \"p_on\"\n",
    "                elseif c_int == 4 crossingTest(1,2,status,count) end\n",
    "            elseif c_edge == 2\n",
    "                if c_int == 0 return \"p_on\"\n",
    "                elseif c_int == 4 crossingTest(2,1,status,count) end\n",
    "            elseif (c_edge == 4) & (c_un == c_edge) return \"p_on\"\n",
    "            elseif (c_edge == 8) & (c_un == c_edge) return \"p_on\"\n",
    "            elseif c_edge == 5\n",
    "                if (c1==0) | (c2==0) return \"p_on\"\n",
    "                else crossingTest(1,2,status,count) end\n",
    "            elseif c_edge == 6\n",
    "                if (c1==0) | (c2==0) return \"p_on\"\n",
    "                else crossingTest(2,1,status,count) end\n",
    "            elseif (c_edge == 9) & ((c1==0) | (c2==0)) return \"p_on\"\n",
    "            elseif (c_edge == 10) & ((c1==0) | (c2==0)) return \"p_on\"\n",
    "            end\n",
    "        end\n",
    "        if (round(count)%2)==1\n",
    "        \treturn \"p_in\"\n",
    "        else\n",
    "        \treturn \"p_out\"\n",
    "        end\n",
    "    end\n",
    "    return pointInPolygonClassification0\n",
    "end"
   ]
  },
  {
   "cell_type": "code",
   "execution_count": 11,
   "id": "f72623d6",
   "metadata": {},
   "outputs": [
    {
     "name": "stdout",
     "output_type": "stream",
     "text": [
      "  84.486 ns (1 allocation: 32 bytes)\n"
     ]
    },
    {
     "data": {
      "text/plain": [
       "(::var\"#pointInPolygonClassification0#13\"{Matrix{Float64}, Vector{Vector{Int64}}}) (generic function with 1 method)"
      ]
     },
     "metadata": {},
     "output_type": "display_data"
    }
   ],
   "source": [
    "@btime pointInPolygonClassification(V,EV)"
   ]
  },
  {
   "cell_type": "code",
   "execution_count": 12,
   "id": "9d12c516",
   "metadata": {},
   "outputs": [
    {
     "name": "stdout",
     "output_type": "stream",
     "text": [
      "MethodInstance for pointInPolygonClassification("
     ]
    },
    {
     "name": "stdout",
     "output_type": "stream",
     "text": [
      "::Matrix{Float64}, ::Vector{Vector{Int64}})\n",
      "  from pointInPolygonClassification(V, EV) in Main at c:\\Users\\giord\\eclipse-SIW\\LARSplitting2D\\notebooks\\refactoringAnalisi.ipynb:"
     ]
    },
    {
     "name": "stdout",
     "output_type": "stream",
     "text": [
      "1\n",
      "Arguments\n",
      "  "
     ]
    },
    {
     "name": "stdout",
     "output_type": "stream",
     "text": [
      "#self#\u001b[36m::Core.Const(pointInPolygonClassification)\u001b[39m\n",
      "  V\u001b[36m::Matrix{Float64}\u001b[39m\n",
      "  EV\u001b[36m::Vector{Vector{Int64}}\u001b[39m\n",
      "Locals\n",
      "  pointInPolygonClassification0\u001b[36m::var\"#pointInPolygonClassification0#13\"{Matrix{Float64}, Vector{Vector{Int64}}}\u001b[39m\n",
      "Body\u001b[36m::var\"#pointInPolygonClassification0#13\"{Matrix{Float64}, Vector{Vector{Int64}}}\u001b[39m\n"
     ]
    },
    {
     "name": "stdout",
     "output_type": "stream",
     "text": [
      "\u001b[90m1 ─\u001b[39m %1 = "
     ]
    },
    {
     "name": "stdout",
     "output_type": "stream",
     "text": [
      "Main.:(var\"#pointInPolygonClassification0#13\")"
     ]
    },
    {
     "name": "stdout",
     "output_type": "stream",
     "text": [
      "\u001b[36m::Core.Const(var\"#pointInPolygonClassification0#13\")\u001b[39m\n",
      "\u001b[90m│  \u001b[39m %2 "
     ]
    },
    {
     "name": "stdout",
     "output_type": "stream",
     "text": [
      "= Core.typeof(V)\u001b[36m::Core.Const(Matrix{Float64})\u001b[39m\n",
      "\u001b[90m│  \u001b[39m %3 = Core.typeof(EV)\u001b[36m::Core.Const(Vector{Vector{Int64}})\u001b[39m\n",
      "\u001b[90m│  \u001b[39m %4 = Core.apply_type(%1, %2, %3)\u001b[36m::Core.Const(var\"#pointInPolygonClassification0#13\"{Matrix{Float64}, Vector{Vector{Int64}}})\u001b[39m\n",
      "\u001b[90m│  \u001b[39m      (pointInPolygonClassification0 = %new(%4, V, EV))\n",
      "\u001b[90m└──\u001b[39m      "
     ]
    },
    {
     "name": "stdout",
     "output_type": "stream",
     "text": [
      "return pointInPolygonClassification0\n",
      "\n"
     ]
    }
   ],
   "source": [
    "@code_warntype pointInPolygonClassification(V,EV)"
   ]
  },
  {
   "cell_type": "code",
   "execution_count": 13,
   "id": "e82319d9",
   "metadata": {},
   "outputs": [
    {
     "data": {
      "text/plain": [
       "BenchmarkTools.Trial: 10000 samples with 947 evaluations.\n",
       " Range \u001b[90m(\u001b[39m\u001b[36m\u001b[1mmin\u001b[22m\u001b[39m … \u001b[35mmax\u001b[39m\u001b[90m):  \u001b[39m\u001b[36m\u001b[1m 85.639 ns\u001b[22m\u001b[39m … \u001b[35m  4.536 μs\u001b[39m  \u001b[90m┊\u001b[39m GC \u001b[90m(\u001b[39mmin … max\u001b[90m): \u001b[39m0.00% … 94.97%\n",
       " Time  \u001b[90m(\u001b[39m\u001b[34m\u001b[1mmedian\u001b[22m\u001b[39m\u001b[90m):     \u001b[39m\u001b[34m\u001b[1m123.442 ns               \u001b[22m\u001b[39m\u001b[90m┊\u001b[39m GC \u001b[90m(\u001b[39mmedian\u001b[90m):    \u001b[39m0.00%\n",
       " Time  \u001b[90m(\u001b[39m\u001b[32m\u001b[1mmean\u001b[22m\u001b[39m ± \u001b[32mσ\u001b[39m\u001b[90m):   \u001b[39m\u001b[32m\u001b[1m167.984 ns\u001b[22m\u001b[39m ± \u001b[32m114.810 ns\u001b[39m  \u001b[90m┊\u001b[39m GC \u001b[90m(\u001b[39mmean ± σ\u001b[90m):  \u001b[39m1.23% ±  2.33%\n",
       "\n",
       "  \u001b[39m▃\u001b[39m▆\u001b[39m▆\u001b[39m█\u001b[39m▅\u001b[39m▄\u001b[39m▄\u001b[34m▂\u001b[39m\u001b[39m▁\u001b[39m▁\u001b[39m▁\u001b[39m \u001b[39m \u001b[39m \u001b[32m \u001b[39m\u001b[39m \u001b[39m \u001b[39m \u001b[39m \u001b[39m \u001b[39m \u001b[39m \u001b[39m▇\u001b[39m▇\u001b[39m▄\u001b[39m▂\u001b[39m▁\u001b[39m▁\u001b[39m \u001b[39m \u001b[39m \u001b[39m \u001b[39m \u001b[39m \u001b[39m \u001b[39m \u001b[39m \u001b[39m \u001b[39m \u001b[39m \u001b[39m \u001b[39m \u001b[39m \u001b[39m \u001b[39m \u001b[39m \u001b[39m \u001b[39m \u001b[39m \u001b[39m \u001b[39m \u001b[39m \u001b[39m \u001b[39m \u001b[39m \u001b[39m \u001b[39m \u001b[39m \u001b[39m \u001b[39m \u001b[39m \u001b[39m \u001b[39m▂\n",
       "  \u001b[39m█\u001b[39m█\u001b[39m█\u001b[39m█\u001b[39m█\u001b[39m█\u001b[39m█\u001b[34m█\u001b[39m\u001b[39m█\u001b[39m█\u001b[39m█\u001b[39m█\u001b[39m█\u001b[39m█\u001b[32m█\u001b[39m\u001b[39m█\u001b[39m█\u001b[39m▆\u001b[39m▇\u001b[39m▆\u001b[39m▅\u001b[39m▆\u001b[39m█\u001b[39m█\u001b[39m█\u001b[39m█\u001b[39m█\u001b[39m█\u001b[39m█\u001b[39m█\u001b[39m█\u001b[39m█\u001b[39m█\u001b[39m▇\u001b[39m▆\u001b[39m▇\u001b[39m▇\u001b[39m▆\u001b[39m▆\u001b[39m▆\u001b[39m▅\u001b[39m▅\u001b[39m▆\u001b[39m▆\u001b[39m▅\u001b[39m▇\u001b[39m▇\u001b[39m▆\u001b[39m▇\u001b[39m▆\u001b[39m▇\u001b[39m▇\u001b[39m▆\u001b[39m▅\u001b[39m▇\u001b[39m▇\u001b[39m▇\u001b[39m▇\u001b[39m▇\u001b[39m▆\u001b[39m▇\u001b[39m \u001b[39m█\n",
       "  85.6 ns\u001b[90m       \u001b[39m\u001b[90mHistogram: \u001b[39m\u001b[90m\u001b[1mlog(\u001b[22m\u001b[39m\u001b[90mfrequency\u001b[39m\u001b[90m\u001b[1m)\u001b[22m\u001b[39m\u001b[90m by time\u001b[39m        432 ns \u001b[0m\u001b[1m<\u001b[22m\n",
       "\n",
       " Memory estimate\u001b[90m: \u001b[39m\u001b[33m32 bytes\u001b[39m, allocs estimate\u001b[90m: \u001b[39m\u001b[33m1\u001b[39m."
      ]
     },
     "metadata": {},
     "output_type": "display_data"
    }
   ],
   "source": [
    "@benchmark pointInPolygonClassification(V,EV)"
   ]
  },
  {
   "cell_type": "markdown",
   "id": "8e297b96",
   "metadata": {},
   "source": [
    "### Versione parallelizzata di pointInPolygonClassification"
   ]
  },
  {
   "cell_type": "code",
   "execution_count": 14,
   "id": "ea268449",
   "metadata": {},
   "outputs": [
    {
     "data": {
      "text/plain": [
       "edgecode1 (generic function with 1 method)"
      ]
     },
     "metadata": {},
     "output_type": "display_data"
    }
   ],
   "source": [
    "function edgecode1(c_int) #c_edge == 1\n",
    "    if c_int == 0 return \"p_on\"\n",
    "    elseif c_int == 4 crossingTest(1,2,status, counter) end \n",
    "end "
   ]
  },
  {
   "cell_type": "code",
   "execution_count": 15,
   "id": "0e7f5cda",
   "metadata": {},
   "outputs": [
    {
     "data": {
      "text/plain": [
       "edgecode2 (generic function with 1 method)"
      ]
     },
     "metadata": {},
     "output_type": "display_data"
    }
   ],
   "source": [
    "function edgecode2(c_int) #c_edge == 2\n",
    "    if c_int == 0 return \"p_on\"\n",
    "    elseif c_int == 4 crossingTest(2,1,status, counter) end \n",
    "end "
   ]
  },
  {
   "cell_type": "code",
   "execution_count": 16,
   "id": "e038ca57",
   "metadata": {},
   "outputs": [
    {
     "data": {
      "text/plain": [
       "edgecode3 (generic function with 1 method)"
      ]
     },
     "metadata": {},
     "output_type": "display_data"
    }
   ],
   "source": [
    "function edgecode3(c_int) #c_edge == 3\n",
    "    if c_int == 0 return \"p_on\"\n",
    "    elseif c_int == 4 counter += 1 end \n",
    "end "
   ]
  },
  {
   "cell_type": "code",
   "execution_count": 17,
   "id": "fdf032e7",
   "metadata": {},
   "outputs": [
    {
     "data": {
      "text/plain": [
       "edgecode4 (generic function with 1 method)"
      ]
     },
     "metadata": {},
     "output_type": "display_data"
    }
   ],
   "source": [
    "function edgecode4(c_un) #c_edge == 4\n",
    "    if c_un == 4 return \"p_on\" end \n",
    "end "
   ]
  },
  {
   "cell_type": "code",
   "execution_count": 18,
   "id": "d99dc008",
   "metadata": {},
   "outputs": [
    {
     "data": {
      "text/plain": [
       "edgecode5 (generic function with 1 method)"
      ]
     },
     "metadata": {},
     "output_type": "display_data"
    }
   ],
   "source": [
    "function edgecode5(c1,c2) #c_edge == 5\n",
    "    if (c1==0) | (c2==0) return \"p_on\"\n",
    "    else crossingTest(1,2,status, counter) end \n",
    "end "
   ]
  },
  {
   "cell_type": "code",
   "execution_count": 19,
   "id": "596b996b",
   "metadata": {},
   "outputs": [
    {
     "data": {
      "text/plain": [
       "edgecode6 (generic function with 1 method)"
      ]
     },
     "metadata": {},
     "output_type": "display_data"
    }
   ],
   "source": [
    "function edgecode6(c1,c2) #c_edge == 6\n",
    "    if ((c1==0) | (c2==0)) return \"p_on\"\n",
    "    else crossingTest(2,1,status, counter) end \n",
    "end "
   ]
  },
  {
   "cell_type": "code",
   "execution_count": 20,
   "id": "7adb2f40",
   "metadata": {},
   "outputs": [
    {
     "data": {
      "text/plain": [
       "edgecode7 (generic function with 1 method)"
      ]
     },
     "metadata": {},
     "output_type": "display_data"
    }
   ],
   "source": [
    "function edgecode7(counter) #c_edge == 7\n",
    "    counter += 1\n",
    "end "
   ]
  },
  {
   "cell_type": "code",
   "execution_count": 21,
   "id": "d664c751",
   "metadata": {},
   "outputs": [
    {
     "data": {
      "text/plain": [
       "edgecode8 (generic function with 1 method)"
      ]
     },
     "metadata": {},
     "output_type": "display_data"
    }
   ],
   "source": [
    "function edgecode8(c_un) #c_edge == 8\n",
    "    if (c_un == 8) return \"p_on\" end   \n",
    "end"
   ]
  },
  {
   "cell_type": "code",
   "execution_count": 22,
   "id": "956284dd",
   "metadata": {},
   "outputs": [
    {
     "data": {
      "text/plain": [
       "edgecode9_10 (generic function with 1 method)"
      ]
     },
     "metadata": {},
     "output_type": "display_data"
    }
   ],
   "source": [
    "function edgecode9_10(c1,c2) #c_edge == 9/10\n",
    "    if ((c1 ==0) | (c2==0)) return \"p_on\" end\n",
    "end"
   ]
  },
  {
   "cell_type": "code",
   "execution_count": 23,
   "id": "1c743d4a",
   "metadata": {},
   "outputs": [
    {
     "data": {
      "text/plain": [
       "edgecode11 (generic function with 1 method)"
      ]
     },
     "metadata": {},
     "output_type": "display_data"
    }
   ],
   "source": [
    "function edgecode11() #c_edge == 11\n",
    "    count = count\n",
    "end"
   ]
  },
  {
   "cell_type": "code",
   "execution_count": 24,
   "id": "cb55ad9b",
   "metadata": {},
   "outputs": [
    {
     "data": {
      "text/plain": [
       "edgecode12 (generic function with 1 method)"
      ]
     },
     "metadata": {},
     "output_type": "display_data"
    }
   ],
   "source": [
    "function edgecode12(c_un) #c_edge = 12\n",
    "    if (c_un == 12 ) return \"p_on\" end    \n",
    "end"
   ]
  },
  {
   "cell_type": "code",
   "execution_count": 25,
   "id": "286d08df",
   "metadata": {},
   "outputs": [
    {
     "data": {
      "text/plain": [
       "edgecode13 (generic function with 1 method)"
      ]
     },
     "metadata": {},
     "output_type": "display_data"
    }
   ],
   "source": [
    "function edgecode13(c1,c2) #c_edge = 13\n",
    "    if (( c1 ==4) | (c2 == 4))\n",
    "        crossingTest(1,2,status, counter) end\n",
    "end"
   ]
  },
  {
   "cell_type": "code",
   "execution_count": 26,
   "id": "93131990",
   "metadata": {},
   "outputs": [
    {
     "data": {
      "text/plain": [
       "edgecode14 (generic function with 1 method)"
      ]
     },
     "metadata": {},
     "output_type": "display_data"
    }
   ],
   "source": [
    "function edgecode14(c1,c2) #c_edge = 14\n",
    "    if (( c1 ==4) | (c2 == 4))\n",
    "        crossingTest(2,1,status, counter) end\n",
    "end"
   ]
  },
  {
   "cell_type": "code",
   "execution_count": 27,
   "id": "6bb477b9",
   "metadata": {},
   "outputs": [
    {
     "data": {
      "text/plain": [
       "edgecode15 (generic function with 1 method)"
      ]
     },
     "metadata": {},
     "output_type": "display_data"
    }
   ],
   "source": [
    "function edgecode15(x1,x2,y1,y2,x,y)\n",
    "    x_int = ((y-y2)*(x1-x2)/(y1-y2))+x2\n",
    "    if x_int > x counter+=1\n",
    "    elseif (x_int == x) return \"p_on\" end\n",
    "end"
   ]
  },
  {
   "cell_type": "code",
   "execution_count": 28,
   "id": "c956d311",
   "metadata": {},
   "outputs": [
    {
     "data": {
      "text/plain": [
       "pointInPolygonClassification2 (generic function with 1 method)"
      ]
     },
     "metadata": {},
     "output_type": "display_data"
    }
   ],
   "source": [
    "function pointInPolygonClassification2(V,EV) \n",
    "    function pointInPolygonClassification0(pnt)\n",
    "        x,y = pnt\n",
    "        xmin,xmax,ymin,ymax = x,x,y,y\n",
    "        tilecode = setTile([ymax,ymin,xmax,xmin])\n",
    "        count,status = 0,0\n",
    "\n",
    "        for (k,edge) in enumerate(EV)\n",
    "            p1,p2 = V[:,edge[1]],V[:,edge[2]]\n",
    "            (x1,y1),(x2,y2) = p1,p2\n",
    "            c1,c2 = tilecode(p1),tilecode(p2)\n",
    "            c_edge, c_un, c_int = c1⊻c2, c1|c2, c1&c2\n",
    "\n",
    "            if (c_edge == 0) edgecode1(c_un)\n",
    "            elseif (c_edge == 12) edgecode12(c_un)\n",
    "            elseif (c_edge == 3) edgecode3(c_int)\n",
    "            elseif (c_edge == 15) edgecode15(x1,x2,y1,y2,x,y)\n",
    "            elseif (c_edge == 13) edgecode13(c1,c2)\n",
    "            elseif (c_edge == 14) edgecode14(c1,c2)\n",
    "            elseif (c_edge == 7) edgecode7(counter)\n",
    "            elseif (c_edge == 11) edgecode11()\n",
    "            elseif (c_edge == 1) edgecode1(c_int)\n",
    "            elseif (c_edge == 2) edgecode2(c_int)\n",
    "            elseif (c_edge == 4) edgecode4(c_un)\n",
    "            elseif (c_edge == 8) edgecode8(c_un)\n",
    "            elseif (c_edge == 5) edgecode5(c1,c2)\n",
    "            elseif (c_edge == 6) edgecode6(c1,c2)\n",
    "            elseif ((c_edge == 9) | (c_edge == 10)) edgecode9_10(c1,c2)\n",
    "            end\n",
    "        end\n",
    "        if (round(count)%2)==1\n",
    "        \treturn \"p_in\"\n",
    "        else\n",
    "        \treturn \"p_out\"\n",
    "        end\n",
    "    end\n",
    "    return pointInPolygonClassification0\n",
    "end"
   ]
  },
  {
   "cell_type": "code",
   "execution_count": 29,
   "id": "516b4597",
   "metadata": {},
   "outputs": [
    {
     "name": "stdout",
     "output_type": "stream",
     "text": [
      "  83.560 ns (1 allocation: 32 bytes)\n"
     ]
    },
    {
     "data": {
      "text/plain": [
       "(::var\"#pointInPolygonClassification0#14\"{Matrix{Float64}, Vector{Vector{Int64}}}) (generic function with 1 method)"
      ]
     },
     "metadata": {},
     "output_type": "display_data"
    }
   ],
   "source": [
    "@btime pointInPolygonClassification2(V,EV)"
   ]
  },
  {
   "cell_type": "code",
   "execution_count": 30,
   "id": "04e65d37",
   "metadata": {},
   "outputs": [
    {
     "data": {
      "text/plain": [
       "BenchmarkTools.Trial: 10000 samples with 950 evaluations.\n",
       " Range \u001b[90m(\u001b[39m\u001b[36m\u001b[1mmin\u001b[22m\u001b[39m … \u001b[35mmax\u001b[39m\u001b[90m):  \u001b[39m\u001b[36m\u001b[1m 83.368 ns\u001b[22m\u001b[39m … \u001b[35m  9.633 μs\u001b[39m  \u001b[90m┊\u001b[39m GC \u001b[90m(\u001b[39mmin … max\u001b[90m): \u001b[39m0.00% … 97.57%\n",
       " Time  \u001b[90m(\u001b[39m\u001b[34m\u001b[1mmedian\u001b[22m\u001b[39m\u001b[90m):     \u001b[39m\u001b[34m\u001b[1m119.789 ns               \u001b[22m\u001b[39m\u001b[90m┊\u001b[39m GC \u001b[90m(\u001b[39mmedian\u001b[90m):    \u001b[39m0.00%\n",
       " Time  \u001b[90m(\u001b[39m\u001b[32m\u001b[1mmean\u001b[22m\u001b[39m ± \u001b[32mσ\u001b[39m\u001b[90m):   \u001b[39m\u001b[32m\u001b[1m161.126 ns\u001b[22m\u001b[39m ± \u001b[32m152.489 ns\u001b[39m  \u001b[90m┊\u001b[39m GC \u001b[90m(\u001b[39mmean ± σ\u001b[90m):  \u001b[39m1.96% ±  2.37%\n",
       "\n",
       "  \u001b[39m▂\u001b[39m▅\u001b[39m▅\u001b[39m▆\u001b[39m▇\u001b[39m▆\u001b[39m▃\u001b[39m▃\u001b[34m▂\u001b[39m\u001b[39m▁\u001b[39m▁\u001b[39m \u001b[39m \u001b[39m \u001b[39m \u001b[39m \u001b[32m \u001b[39m\u001b[39m \u001b[39m \u001b[39m \u001b[39m \u001b[39m \u001b[39m \u001b[39m \u001b[39m \u001b[39m▄\u001b[39m█\u001b[39m▄\u001b[39m▂\u001b[39m▁\u001b[39m▁\u001b[39m▁\u001b[39m▁\u001b[39m \u001b[39m \u001b[39m \u001b[39m \u001b[39m \u001b[39m \u001b[39m \u001b[39m \u001b[39m \u001b[39m \u001b[39m \u001b[39m \u001b[39m \u001b[39m \u001b[39m \u001b[39m \u001b[39m \u001b[39m \u001b[39m \u001b[39m \u001b[39m \u001b[39m \u001b[39m \u001b[39m \u001b[39m \u001b[39m \u001b[39m \u001b[39m \u001b[39m \u001b[39m▂\n",
       "  \u001b[39m█\u001b[39m█\u001b[39m█\u001b[39m█\u001b[39m█\u001b[39m█\u001b[39m█\u001b[39m█\u001b[34m█\u001b[39m\u001b[39m█\u001b[39m█\u001b[39m█\u001b[39m█\u001b[39m█\u001b[39m█\u001b[39m█\u001b[32m▇\u001b[39m\u001b[39m▇\u001b[39m▇\u001b[39m▇\u001b[39m▇\u001b[39m▆\u001b[39m▆\u001b[39m▇\u001b[39m▆\u001b[39m█\u001b[39m█\u001b[39m█\u001b[39m█\u001b[39m█\u001b[39m█\u001b[39m█\u001b[39m█\u001b[39m█\u001b[39m▇\u001b[39m█\u001b[39m▇\u001b[39m█\u001b[39m▆\u001b[39m▅\u001b[39m▇\u001b[39m▆\u001b[39m▆\u001b[39m▅\u001b[39m▆\u001b[39m▆\u001b[39m▅\u001b[39m▅\u001b[39m▄\u001b[39m▅\u001b[39m▅\u001b[39m▄\u001b[39m▆\u001b[39m▅\u001b[39m▅\u001b[39m▅\u001b[39m▆\u001b[39m▆\u001b[39m▅\u001b[39m▄\u001b[39m▄\u001b[39m \u001b[39m█\n",
       "  83.4 ns\u001b[90m       \u001b[39m\u001b[90mHistogram: \u001b[39m\u001b[90m\u001b[1mlog(\u001b[22m\u001b[39m\u001b[90mfrequency\u001b[39m\u001b[90m\u001b[1m)\u001b[22m\u001b[39m\u001b[90m by time\u001b[39m        378 ns \u001b[0m\u001b[1m<\u001b[22m\n",
       "\n",
       " Memory estimate\u001b[90m: \u001b[39m\u001b[33m32 bytes\u001b[39m, allocs estimate\u001b[90m: \u001b[39m\u001b[33m1\u001b[39m."
      ]
     },
     "metadata": {},
     "output_type": "display_data"
    }
   ],
   "source": [
    "@benchmark pointInPolygonClassification2(V,EV)"
   ]
  },
  {
   "cell_type": "markdown",
   "id": "5a47085f",
   "metadata": {},
   "source": [
    "### Funzione input_collection\n",
    "Prende in input un array di tipo Lar.LAR e viene utilizzata per la selezione di una faccia e per la costruzione di una collezione di dimensione d-1, da una di dimensione d o d-1. Ritorna in output il risultato dell’applicazione della funzione Lar.struct2lar(), la quale valuta un oggetto geometrico di tipo Lar.Struct, generando la tripla (V, FV, EV). Il risultato dato può essere dato in input ad algoritmi di pipeline 2D-3D."
   ]
  },
  {
   "cell_type": "code",
   "execution_count": 31,
   "id": "30eeecde",
   "metadata": {},
   "outputs": [
    {
     "data": {
      "text/plain": [
       "input_collection (generic function with 1 method)"
      ]
     },
     "metadata": {},
     "output_type": "display_data"
    }
   ],
   "source": [
    "function input_collection(data::Array)::Lar.LAR\n",
    "\tassembly = Lar.Struct(data)\n",
    "\treturn Lar.struct2lar(assembly)\n",
    "end"
   ]
  },
  {
   "cell_type": "markdown",
   "id": "a96da45d",
   "metadata": {},
   "source": [
    "### Versione iniziale boundingbox\n",
    "Prende in input un vertice di tipo Lar.Points e restituisce in output due array che indicano gli estremi del bounding box. Serve, quindi, a creare il bounding box di un segmento, cioè la scatola entro cui sono contenuti tutti i punti.\n"
   ]
  },
  {
   "cell_type": "code",
   "execution_count": 32,
   "id": "c31326f8",
   "metadata": {},
   "outputs": [
    {
     "data": {
      "text/plain": [
       "boundingbox (generic function with 1 method)"
      ]
     },
     "metadata": {},
     "output_type": "display_data"
    }
   ],
   "source": [
    "function boundingbox(vertices::Lar.Points)\n",
    "   minimum = mapslices(x->min(x...), vertices, dims=2)\n",
    "   maximum = mapslices(x->max(x...), vertices, dims=2)\n",
    "   return minimum, maximum\n",
    "end"
   ]
  },
  {
   "cell_type": "code",
   "execution_count": 33,
   "id": "47bb6546",
   "metadata": {},
   "outputs": [
    {
     "name": "stdout",
     "output_type": "stream",
     "text": [
      "  11.500 μs (147 allocations: 5.03 KiB)\n"
     ]
    },
    {
     "data": {
      "text/plain": [
       "([0.0; 0.0;;], [2.0; 1.0;;])"
      ]
     },
     "metadata": {},
     "output_type": "display_data"
    }
   ],
   "source": [
    "@btime boundingbox(V)"
   ]
  },
  {
   "cell_type": "code",
   "execution_count": 34,
   "id": "74464e74",
   "metadata": {},
   "outputs": [
    {
     "name": "stdout",
     "output_type": "stream",
     "text": [
      "MethodInstance for boundingbox(::Matrix{Float64})\n",
      "  from boundingbox(vertices::Matrix) in Main at c:\\Users\\giord\\eclipse-SIW\\LARSplitting2D\\notebooks\\refactoringAnalisi.ipynb:1\n",
      "Arguments\n",
      "  #self#\u001b[36m::Core.Const(boundingbox)\u001b[39m\n",
      "  vertices\u001b[36m::Matrix{Float64}\u001b[39m\n",
      "Locals\n",
      "  #16\u001b[36m::var\"#16#18\"\u001b[39m\n",
      "  #15\u001b[36m::var\"#15#17\"\u001b[39m\n",
      "  maximum\u001b[91m\u001b[1m::Any\u001b[22m\u001b[39m\n",
      "  minimum\u001b[91m\u001b[1m::Any\u001b[22m\u001b[39m\n",
      "Body\u001b[91m\u001b[1m::Tuple{Any, Any}\u001b[22m\u001b[39m\n",
      "\u001b[90m1 ─\u001b[39m       (#15 = %new(Main.:(var\"#15#17\")))\n",
      "\u001b[90m│  \u001b[39m %2  = #15\u001b[36m::Core.Const(var\"#15#17\"())\u001b[39m\n",
      "\u001b[90m│  \u001b[39m %3  = "
     ]
    },
    {
     "name": "stdout",
     "output_type": "stream",
     "text": [
      "(:dims,)\u001b[36m::Core.Const((:dims,))\u001b[39m\n",
      "\u001b[90m│  \u001b[39m %4  = Core.apply_type(Core.NamedTuple, %3)\u001b[36m::Core.Const(NamedTuple{(:dims,)})\u001b[39m\n",
      "\u001b[90m│  \u001b[39m %5"
     ]
    },
    {
     "name": "stdout",
     "output_type": "stream",
     "text": [
      "  = Core.tuple(2)\u001b[36m::Core.Const((2,))\u001b[39m\n",
      "\u001b[90m│  \u001b[39m %6  = (%4)(%5)"
     ]
    },
    {
     "name": "stdout",
     "output_type": "stream",
     "text": [
      "\u001b[36m::Core.Const((dims = 2,))\u001b[39m\n",
      "\u001b[90m│  \u001b[39m %7  = Core.kwfunc(Main.mapslices)\u001b[36m::Core.Const(Base.var\"#mapslices##kw\"())\u001b[39m\n",
      "\u001b[90m│  \u001b[39m       (minimum = (%7)(%6, Main.mapslices, %2, vertices))\n",
      "\u001b[90m│  \u001b[39m       (#16 = %new(Main.:(var\"#16#18\")))\n",
      "\u001b[90m│  \u001b[39m %10 = #16\u001b[36m::Core.Const(var\"#16#18\"())\u001b[39m\n",
      "\u001b[90m│  \u001b[39m %11 = (:dims,)\u001b[36m::Core.Const((:dims,))\u001b[39m\n",
      "\u001b[90m│  \u001b[39m %12 = Core.apply_type(Core.NamedTuple, %11)\u001b[36m::Core.Const(NamedTuple{(:dims,)})\u001b[39m\n",
      "\u001b[90m│  \u001b[39m %13 = Core.tuple(2)\u001b[36m::Core.Const((2,))\u001b[39m\n",
      "\u001b[90m│  \u001b[39m %14 = (%12)(%13)\u001b[36m::Core.Const((dims = 2,))\u001b[39m\n",
      "\u001b[90m│  \u001b[39m %15 = Core.kwfunc(Main.mapslices)\u001b[36m::Core.Const(Base.var\"#mapslices##kw\"())\u001b[39m\n",
      "\u001b[90m│  \u001b[39m       (maximum = (%15)(%14, Main.mapslices, %10, vertices))\n",
      "\u001b[90m│  \u001b[39m %17 = Core.tuple(minimum, maximum)\u001b[91m\u001b[1m::Tuple{Any, Any}\u001b[22m\u001b[39m\n",
      "\u001b[90m└──\u001b[39m       return "
     ]
    },
    {
     "name": "stdout",
     "output_type": "stream",
     "text": [
      "%17\n",
      "\n"
     ]
    }
   ],
   "source": [
    "@code_warntype boundingbox(V)"
   ]
  },
  {
   "cell_type": "code",
   "execution_count": 35,
   "id": "1f8f75b8",
   "metadata": {},
   "outputs": [
    {
     "data": {
      "text/plain": [
       "BenchmarkTools.Trial: 10000 samples with 1 evaluation.\n",
       " Range \u001b[90m(\u001b[39m\u001b[36m\u001b[1mmin\u001b[22m\u001b[39m … \u001b[35mmax\u001b[39m\u001b[90m):  \u001b[39m\u001b[36m\u001b[1m11.900 μs\u001b[22m\u001b[39m … \u001b[35m 9.101 ms\u001b[39m  \u001b[90m┊\u001b[39m GC \u001b[90m(\u001b[39mmin … max\u001b[90m): \u001b[39m0.00% … 99.32%\n",
       " Time  \u001b[90m(\u001b[39m\u001b[34m\u001b[1mmedian\u001b[22m\u001b[39m\u001b[90m):     \u001b[39m\u001b[34m\u001b[1m14.500 μs              \u001b[22m\u001b[39m\u001b[90m┊\u001b[39m GC \u001b[90m(\u001b[39mmedian\u001b[90m):    \u001b[39m0.00%\n",
       " Time  \u001b[90m(\u001b[39m\u001b[32m\u001b[1mmean\u001b[22m\u001b[39m ± \u001b[32mσ\u001b[39m\u001b[90m):   \u001b[39m\u001b[32m\u001b[1m18.389 μs\u001b[22m\u001b[39m ± \u001b[32m97.261 μs\u001b[39m  \u001b[90m┊\u001b[39m GC \u001b[90m(\u001b[39mmean ± σ\u001b[90m):  \u001b[39m4.92% ±  0.99%\n",
       "\n",
       "  \u001b[39m▅\u001b[39m▆\u001b[39m█\u001b[34m▇\u001b[39m\u001b[39m▇\u001b[39m▆\u001b[39m▅\u001b[39m▄\u001b[39m▃\u001b[32m▃\u001b[39m\u001b[39m▂\u001b[39m▂\u001b[39m \u001b[39m▁\u001b[39m \u001b[39m \u001b[39m \u001b[39m \u001b[39m \u001b[39m \u001b[39m▁\u001b[39m▁\u001b[39m▂\u001b[39m▁\u001b[39m▁\u001b[39m▁\u001b[39m▁\u001b[39m \u001b[39m \u001b[39m▁\u001b[39m \u001b[39m \u001b[39m \u001b[39m \u001b[39m \u001b[39m \u001b[39m \u001b[39m \u001b[39m \u001b[39m \u001b[39m \u001b[39m \u001b[39m \u001b[39m \u001b[39m \u001b[39m \u001b[39m \u001b[39m \u001b[39m \u001b[39m \u001b[39m \u001b[39m \u001b[39m \u001b[39m \u001b[39m \u001b[39m \u001b[39m \u001b[39m \u001b[39m \u001b[39m \u001b[39m▂\n",
       "  \u001b[39m█\u001b[39m█\u001b[39m█\u001b[34m█\u001b[39m\u001b[39m█\u001b[39m█\u001b[39m█\u001b[39m█\u001b[39m█\u001b[32m█\u001b[39m\u001b[39m█\u001b[39m█\u001b[39m█\u001b[39m█\u001b[39m▇\u001b[39m█\u001b[39m▇\u001b[39m▇\u001b[39m█\u001b[39m█\u001b[39m█\u001b[39m█\u001b[39m█\u001b[39m█\u001b[39m█\u001b[39m█\u001b[39m█\u001b[39m█\u001b[39m█\u001b[39m█\u001b[39m█\u001b[39m█\u001b[39m█\u001b[39m▇\u001b[39m▇\u001b[39m▆\u001b[39m▆\u001b[39m▆\u001b[39m▅\u001b[39m▆\u001b[39m▆\u001b[39m▆\u001b[39m▄\u001b[39m▅\u001b[39m▆\u001b[39m▆\u001b[39m▆\u001b[39m▅\u001b[39m▅\u001b[39m▅\u001b[39m▅\u001b[39m▅\u001b[39m▅\u001b[39m▁\u001b[39m▅\u001b[39m▆\u001b[39m▃\u001b[39m▃\u001b[39m▆\u001b[39m \u001b[39m█\n",
       "  11.9 μs\u001b[90m      \u001b[39m\u001b[90mHistogram: \u001b[39m\u001b[90m\u001b[1mlog(\u001b[22m\u001b[39m\u001b[90mfrequency\u001b[39m\u001b[90m\u001b[1m)\u001b[22m\u001b[39m\u001b[90m by time\u001b[39m      55.8 μs \u001b[0m\u001b[1m<\u001b[22m\n",
       "\n",
       " Memory estimate\u001b[90m: \u001b[39m\u001b[33m5.03 KiB\u001b[39m, allocs estimate\u001b[90m: \u001b[39m\u001b[33m147\u001b[39m."
      ]
     },
     "metadata": {},
     "output_type": "display_data"
    }
   ],
   "source": [
    "@benchmark boundingbox(V)"
   ]
  },
  {
   "cell_type": "markdown",
   "id": "3f4442ea",
   "metadata": {},
   "source": [
    "### Versione parallelizzata di boundingbox"
   ]
  },
  {
   "cell_type": "code",
   "execution_count": 36,
   "id": "689a6500",
   "metadata": {},
   "outputs": [
    {
     "data": {
      "text/plain": [
       "boundingbox2 (generic function with 1 method)"
      ]
     },
     "metadata": {},
     "output_type": "display_data"
    }
   ],
   "source": [
    "function boundingbox2(vertices::Lar.Points)\n",
    "     firstDim = vertices[1,:]\n",
    "     secondDim = vertices[2,:]\n",
    "     if (size(vertices,1)==3)\n",
    "         thirdDim = vertices[3,:]\n",
    "          minimum = Threads.@spawn hcat([min(firstDim...), min(secondDim...), min(thirdDim...)])\n",
    "          maximum = Threads.@spawn hcat([max(firstDim...), max(secondDim...), max(thirdDim...)])\n",
    "     else\n",
    "          minimum = Threads.@spawn hcat([min(firstDim...), min(secondDim...)])\n",
    "          maximum = Threads.@spawn hcat([max(firstDim...), max(secondDim...)])\n",
    "     end\n",
    "     return fetch(minimum),fetch(maximum)\n",
    "  end"
   ]
  },
  {
   "cell_type": "code",
   "execution_count": 37,
   "id": "ec8e4891",
   "metadata": {},
   "outputs": [
    {
     "name": "stdout",
     "output_type": "stream",
     "text": [
      "  4.286 μs (63 allocations: 2.50 KiB)\n"
     ]
    },
    {
     "data": {
      "text/plain": [
       "([0.0; 0.0;;], [2.0; 1.0;;])"
      ]
     },
     "metadata": {},
     "output_type": "display_data"
    }
   ],
   "source": [
    "@btime boundingbox2(V)"
   ]
  },
  {
   "cell_type": "code",
   "execution_count": 38,
   "id": "29097dca",
   "metadata": {},
   "outputs": [
    {
     "data": {
      "text/plain": [
       "BenchmarkTools.Trial: 10000 samples with 1 evaluation.\n",
       " Range \u001b[90m(\u001b[39m\u001b[36m\u001b[1mmin\u001b[22m\u001b[39m … \u001b[35mmax\u001b[39m\u001b[90m):  \u001b[39m\u001b[36m\u001b[1m11.400 μs\u001b[22m\u001b[39m … \u001b[35m 9.474 ms\u001b[39m  \u001b[90m┊\u001b[39m GC \u001b[90m(\u001b[39mmin … max\u001b[90m): \u001b[39m0.00% … 99.40%\n",
       " Time  \u001b[90m(\u001b[39m\u001b[34m\u001b[1mmedian\u001b[22m\u001b[39m\u001b[90m):     \u001b[39m\u001b[34m\u001b[1m14.000 μs              \u001b[22m\u001b[39m\u001b[90m┊\u001b[39m GC \u001b[90m(\u001b[39mmedian\u001b[90m):    \u001b[39m0.00%\n",
       " Time  \u001b[90m(\u001b[39m\u001b[32m\u001b[1mmean\u001b[22m\u001b[39m ± \u001b[32mσ\u001b[39m\u001b[90m):   \u001b[39m\u001b[32m\u001b[1m18.514 μs\u001b[22m\u001b[39m ± \u001b[32m95.336 μs\u001b[39m  \u001b[90m┊\u001b[39m GC \u001b[90m(\u001b[39mmean ± σ\u001b[90m):  \u001b[39m5.09% ±  0.99%\n",
       "\n",
       "  \u001b[39m▄\u001b[39m█\u001b[39m█\u001b[34m▇\u001b[39m\u001b[39m▆\u001b[39m▅\u001b[39m▄\u001b[39m▃\u001b[32m▂\u001b[39m\u001b[39m▂\u001b[39m▃\u001b[39m▂\u001b[39m▁\u001b[39m \u001b[39m▁\u001b[39m▁\u001b[39m▁\u001b[39m▂\u001b[39m▁\u001b[39m▁\u001b[39m▁\u001b[39m \u001b[39m \u001b[39m \u001b[39m \u001b[39m \u001b[39m \u001b[39m \u001b[39m \u001b[39m \u001b[39m \u001b[39m \u001b[39m \u001b[39m \u001b[39m \u001b[39m \u001b[39m \u001b[39m \u001b[39m \u001b[39m \u001b[39m \u001b[39m \u001b[39m \u001b[39m \u001b[39m \u001b[39m \u001b[39m \u001b[39m \u001b[39m \u001b[39m \u001b[39m \u001b[39m \u001b[39m \u001b[39m \u001b[39m \u001b[39m \u001b[39m \u001b[39m \u001b[39m \u001b[39m \u001b[39m▂\n",
       "  \u001b[39m█\u001b[39m█\u001b[39m█\u001b[34m█\u001b[39m\u001b[39m█\u001b[39m█\u001b[39m█\u001b[39m█\u001b[32m█\u001b[39m\u001b[39m█\u001b[39m█\u001b[39m█\u001b[39m█\u001b[39m█\u001b[39m█\u001b[39m█\u001b[39m█\u001b[39m█\u001b[39m█\u001b[39m█\u001b[39m█\u001b[39m█\u001b[39m█\u001b[39m█\u001b[39m█\u001b[39m█\u001b[39m█\u001b[39m█\u001b[39m█\u001b[39m▇\u001b[39m▇\u001b[39m▇\u001b[39m▆\u001b[39m▇\u001b[39m▇\u001b[39m▇\u001b[39m▇\u001b[39m▅\u001b[39m▇\u001b[39m▇\u001b[39m▆\u001b[39m▇\u001b[39m▇\u001b[39m▅\u001b[39m▆\u001b[39m▅\u001b[39m▅\u001b[39m▅\u001b[39m▄\u001b[39m▆\u001b[39m▅\u001b[39m▆\u001b[39m▆\u001b[39m▅\u001b[39m▄\u001b[39m▅\u001b[39m▄\u001b[39m▅\u001b[39m▅\u001b[39m \u001b[39m█\n",
       "  11.4 μs\u001b[90m      \u001b[39m\u001b[90mHistogram: \u001b[39m\u001b[90m\u001b[1mlog(\u001b[22m\u001b[39m\u001b[90mfrequency\u001b[39m\u001b[90m\u001b[1m)\u001b[22m\u001b[39m\u001b[90m by time\u001b[39m      60.9 μs \u001b[0m\u001b[1m<\u001b[22m\n",
       "\n",
       " Memory estimate\u001b[90m: \u001b[39m\u001b[33m5.03 KiB\u001b[39m, allocs estimate\u001b[90m: \u001b[39m\u001b[33m147\u001b[39m."
      ]
     },
     "metadata": {},
     "output_type": "display_data"
    }
   ],
   "source": [
    "@benchmark boundingbox(V)"
   ]
  },
  {
   "cell_type": "markdown",
   "id": "95b6152f",
   "metadata": {},
   "source": [
    "### Funzione coordintervals\n",
    "Prende in input una matrice (i bounding box) e un intero che specifica la coordinata su cui si lavora. La funzione restituisce un dizionario ordinato, dove la chiave è l'intervallo sulla singola coordinata, mentre il valore associato è un array di indici che indicano a quali bounding box si riferiscono."
   ]
  },
  {
   "cell_type": "code",
   "execution_count": 39,
   "id": "b491b12b",
   "metadata": {},
   "outputs": [
    {
     "data": {
      "text/plain": [
       "coordintervals (generic function with 1 method)"
      ]
     },
     "metadata": {},
     "output_type": "display_data"
    }
   ],
   "source": [
    "function coordintervals(coord,bboxes)\n",
    "\tboxdict = OrderedDict{Array{Float64,1},Array{Int64,1}}()\n",
    "\tfor (h,box) in enumerate(bboxes)\n",
    "\t\tkey = box[coord,:]\n",
    "\t\tif haskey(boxdict,key) == false\n",
    "\t\t\tboxdict[key] = [h]\n",
    "\t\telse\n",
    "\t\t\tpush!(boxdict[key], h)\n",
    "\t\tend\n",
    "\tend\n",
    "\treturn boxdict\n",
    "end"
   ]
  },
  {
   "cell_type": "code",
   "execution_count": 40,
   "id": "9cbe00b8",
   "metadata": {},
   "outputs": [
    {
     "name": "stdout",
     "output_type": "stream",
     "text": [
      "  736.082 ns (17 allocations: 1.28 KiB)\n"
     ]
    },
    {
     "data": {
      "text/plain": [
       "OrderedDict{Vector{Float64}, Vector{Int64}} with 4 entries:\n",
       "  [0.0, 1.0] => [1, 3]\n",
       "  [1.0, 1.0] => [2]\n",
       "  [0.0, 0.0] => [4]\n",
       "  [0.0, 2.0] => [5]"
      ]
     },
     "metadata": {},
     "output_type": "display_data"
    }
   ],
   "source": [
    "@btime coordintervals(1,bb)"
   ]
  },
  {
   "cell_type": "code",
   "execution_count": 41,
   "id": "a2979aa9",
   "metadata": {},
   "outputs": [
    {
     "data": {
      "text/plain": [
       "BenchmarkTools.Trial: 10000 samples with 85 evaluations.\n",
       " Range \u001b[90m(\u001b[39m\u001b[36m\u001b[1mmin\u001b[22m\u001b[39m … \u001b[35mmax\u001b[39m\u001b[90m):  \u001b[39m\u001b[36m\u001b[1m782.353 ns\u001b[22m\u001b[39m … \u001b[35m164.638 μs\u001b[39m  \u001b[90m┊\u001b[39m GC \u001b[90m(\u001b[39mmin … max\u001b[90m): \u001b[39m 0.00% … 99.00%\n",
       " Time  \u001b[90m(\u001b[39m\u001b[34m\u001b[1mmedian\u001b[22m\u001b[39m\u001b[90m):     \u001b[39m\u001b[34m\u001b[1m  1.028 μs               \u001b[22m\u001b[39m\u001b[90m┊\u001b[39m GC \u001b[90m(\u001b[39mmedian\u001b[90m):    \u001b[39m 0.00%\n",
       " Time  \u001b[90m(\u001b[39m\u001b[32m\u001b[1mmean\u001b[22m\u001b[39m ± \u001b[32mσ\u001b[39m\u001b[90m):   \u001b[39m\u001b[32m\u001b[1m  1.588 μs\u001b[22m\u001b[39m ± \u001b[32m  4.950 μs\u001b[39m  \u001b[90m┊\u001b[39m GC \u001b[90m(\u001b[39mmean ± σ\u001b[90m):  \u001b[39m13.58% ±  4.51%\n",
       "\n",
       "  \u001b[39m▄\u001b[39m▆\u001b[39m▇\u001b[39m█\u001b[39m▇\u001b[34m▆\u001b[39m\u001b[39m▅\u001b[39m▄\u001b[39m▃\u001b[39m▃\u001b[39m▃\u001b[39m▂\u001b[39m▂\u001b[39m▁\u001b[39m▁\u001b[39m▁\u001b[32m▁\u001b[39m\u001b[39m▁\u001b[39m \u001b[39m \u001b[39m▄\u001b[39m▆\u001b[39m▄\u001b[39m▃\u001b[39m▃\u001b[39m▃\u001b[39m▂\u001b[39m▁\u001b[39m▁\u001b[39m \u001b[39m▂\u001b[39m▂\u001b[39m▂\u001b[39m▁\u001b[39m▁\u001b[39m \u001b[39m \u001b[39m \u001b[39m \u001b[39m \u001b[39m \u001b[39m \u001b[39m \u001b[39m \u001b[39m \u001b[39m \u001b[39m \u001b[39m \u001b[39m \u001b[39m \u001b[39m \u001b[39m \u001b[39m \u001b[39m \u001b[39m \u001b[39m \u001b[39m \u001b[39m \u001b[39m \u001b[39m \u001b[39m \u001b[39m \u001b[39m▂\n",
       "  \u001b[39m█\u001b[39m█\u001b[39m█\u001b[39m█\u001b[39m█\u001b[34m█\u001b[39m\u001b[39m█\u001b[39m█\u001b[39m█\u001b[39m█\u001b[39m█\u001b[39m█\u001b[39m█\u001b[39m█\u001b[39m█\u001b[39m█\u001b[32m█\u001b[39m\u001b[39m█\u001b[39m█\u001b[39m█\u001b[39m█\u001b[39m█\u001b[39m█\u001b[39m█\u001b[39m█\u001b[39m█\u001b[39m█\u001b[39m█\u001b[39m█\u001b[39m█\u001b[39m█\u001b[39m█\u001b[39m█\u001b[39m█\u001b[39m█\u001b[39m█\u001b[39m▇\u001b[39m█\u001b[39m▇\u001b[39m█\u001b[39m█\u001b[39m▇\u001b[39m▇\u001b[39m▆\u001b[39m▇\u001b[39m▇\u001b[39m▇\u001b[39m▆\u001b[39m▆\u001b[39m▇\u001b[39m▇\u001b[39m█\u001b[39m▇\u001b[39m▇\u001b[39m▆\u001b[39m▆\u001b[39m▅\u001b[39m▅\u001b[39m▅\u001b[39m▇\u001b[39m▆\u001b[39m \u001b[39m█\n",
       "  782 ns\u001b[90m        \u001b[39m\u001b[90mHistogram: \u001b[39m\u001b[90m\u001b[1mlog(\u001b[22m\u001b[39m\u001b[90mfrequency\u001b[39m\u001b[90m\u001b[1m)\u001b[22m\u001b[39m\u001b[90m by time\u001b[39m       3.87 μs \u001b[0m\u001b[1m<\u001b[22m\n",
       "\n",
       " Memory estimate\u001b[90m: \u001b[39m\u001b[33m1.28 KiB\u001b[39m, allocs estimate\u001b[90m: \u001b[39m\u001b[33m17\u001b[39m."
      ]
     },
     "metadata": {},
     "output_type": "display_data"
    }
   ],
   "source": [
    "@benchmark coordintervals(1,bb)"
   ]
  },
  {
   "cell_type": "code",
   "execution_count": 42,
   "id": "8e90cb31",
   "metadata": {},
   "outputs": [
    {
     "name": "stdout",
     "output_type": "stream",
     "text": [
      "MethodInstance for coordintervals(::Int64, ::Vector{Matrix{Float64}})\n",
      "  from coordintervals(coord, bboxes) in Main at c:\\Users\\giord\\eclipse-SIW\\LARSplitting2D\\notebooks\\refactoringAnalisi.ipynb:1\n",
      "Arguments\n",
      "  #self#\u001b[36m::Core.Const(coordintervals)\u001b[39m\n",
      "  coord\u001b[36m::Int64\u001b[39m\n",
      "  bboxes\u001b[36m::Vector{Matrix{Float64}}\u001b[39m\n",
      "Locals\n",
      "  @_4\u001b[33m\u001b[1m::Union{Nothing, Tuple{Tuple{Int64, Matrix{Float64}}, Tuple{Int64, Int64}}}\u001b[22m\u001b[39m\n",
      "  boxdict\u001b[36m::OrderedDict{Vector{Float64}, Vector{Int64}}\u001b[39m\n",
      "  @_6\u001b[36m::Int64\u001b[39m\n",
      "  box\u001b[36m::Matrix{Float64}\u001b[39m\n",
      "  h\u001b[36m::Int64\u001b[39m\n",
      "  key\u001b[36m::Vector{Float64}\u001b[39m\n",
      "Body\u001b[36m::OrderedDict{Vector{Float64}, Vector{Int64}}\u001b[39m\n",
      "\u001b[90m1 ─\u001b[39m %1  = Core.apply_type(Main.Array, Main.Float64, 1)\u001b[36m::Core.Const(Vector{Float64})\u001b[39m\n"
     ]
    },
    {
     "name": "stdout",
     "output_type": "stream",
     "text": [
      "\u001b[90m│  \u001b[39m %2  = Core.apply_type(Main.Array, Main.Int64, 1)\u001b[36m::Core.Const(Vector{Int64})\u001b[39m\n",
      "\u001b[90m│  \u001b[39m %3  = Core.apply_type(Main.OrderedDict, %1, %2)\u001b[36m::Core.Const(OrderedDict{Vector{Float64}, Vector{Int64}})\u001b[39m\n",
      "\u001b[90m│  \u001b[39m       (boxdict = (%3)())\n",
      "\u001b[90m│  \u001b[39m %5  = Main.enumerate(bboxes)\u001b[36m::Base.Iterators.Enumerate{Vector{Matrix{Float64}}}\u001b[39m\n",
      "\u001b[90m│  \u001b[39m       (@_4 = Base.iterate(%5))\n",
      "\u001b[90m│  \u001b[39m %7  = (@_4"
     ]
    },
    {
     "name": "stdout",
     "output_type": "stream",
     "text": [
      " === nothing)\u001b[36m::Bool\u001b[39m\n",
      "\u001b[90m│  \u001b[39m %8  = Base.not_int(%7)\u001b[36m::Bool\u001b[39m\n",
      "\u001b[90m└──\u001b[39m       goto #7 if not %8\n",
      "\u001b[90m2 ┄\u001b[39m %10 = @_4\u001b[36m::Tuple{Tuple{Int64, Matrix{Float64}}, Tuple{Int64, Int64}}\u001b[39m\n",
      "\u001b[90m│  \u001b[39m %11 = Core.getfield(%10, 1)\u001b[36m::Tuple{Int64, Matrix{Float64}}\u001b[39m\n",
      "\u001b[90m│  \u001b[39m %12 = Base.indexed_iterate(%11, 1"
     ]
    },
    {
     "name": "stdout",
     "output_type": "stream",
     "text": [
      ")\u001b[36m::Core.PartialStruct(Tuple{Int64, Int64}, Any[Int64, Core.Const(2)])\u001b[39m\n",
      "\u001b[90m│  \u001b[39m       (h = Core.getfield(%12, 1))\n",
      "\u001b[90m│  \u001b[39m       (@_6 = Core.getfield(%12, 2))\n",
      "\u001b[90m│  \u001b[39m %15 = Base.indexed_iterate(%11, 2, "
     ]
    },
    {
     "name": "stdout",
     "output_type": "stream",
     "text": [
      "@_6::"
     ]
    },
    {
     "name": "stdout",
     "output_type": "stream",
     "text": [
      "Core.Const(2))\u001b[36m::Core.PartialStruct(Tuple{Matrix{Float64}, Int64}, Any[Matrix{Float64}, Core.Const(3)])\u001b[39m\n",
      "\u001b[90m│  \u001b[39m       (box = Core.getfield(%15, 1))\n",
      "\u001b[90m│  \u001b[39m %17 = Core.getfield(%10, 2)\u001b[36m::Tuple{Int64, Int64}\u001b[39m\n",
      "\u001b[90m│  \u001b[39m       (key = Base.getindex(box, coord, Main.:(:)))\n",
      "\u001b[90m│  \u001b[39m %19 = Main.haskey(boxdict, key)\u001b[36m::Bool\u001b[39m\n",
      "\u001b[90m│  \u001b[39m %20 = (%19 == "
     ]
    },
    {
     "name": "stdout",
     "output_type": "stream",
     "text": [
      "false)\u001b[36m::Bool\u001b[39m\n",
      "\u001b[90m└──\u001b[39m       goto #4 if not %20\n",
      "\u001b[90m3 ─\u001b[39m %22 = Base.vect(h)\u001b[36m::Vector{Int64}\u001b[39m\n",
      "\u001b[90m│  \u001b[39m       Base.setindex!(boxdict, %22, key)\n",
      "\u001b[90m└──\u001b[39m       goto #5\n",
      "\u001b[90m4 ─\u001b[39m %25 = Base.getindex(boxdict, key)\u001b[36m::Vector{Int64}\u001b[39m\n",
      "\u001b[90m└──\u001b[39m       Main.push!(%25, h)\n",
      "\u001b[90m5 ┄\u001b[39m       (@_4 = Base.iterate(%5, %17))\n",
      "\u001b[90m│  \u001b[39m %28 = (@_4 === nothing)\u001b[36m::Bool\u001b[39m\n",
      "\u001b[90m│  \u001b[39m %29 = Base.not_int(%28)\u001b[36m::Bool\u001b[39m\n",
      "\u001b[90m└──\u001b[39m       goto #7 if not %29\n",
      "\u001b[90m6 ─\u001b[39m       goto #2\n",
      "\u001b[90m7 ┄\u001b[39m       return boxdict\n",
      "\n"
     ]
    }
   ],
   "source": [
    "@code_warntype coordintervals(1,bb)"
   ]
  },
  {
   "cell_type": "markdown",
   "id": "95d81ff9",
   "metadata": {},
   "source": [
    "### Versione iniziale di boxcovering\n",
    " Prende in input una matrice (i bounding box), un intero che specifica la coordinata su cui si lavora, e un intervalTrees. La funzione restituisce una matrice che contiene tutte le intersezioni tra bounding box."
   ]
  },
  {
   "cell_type": "code",
   "execution_count": 43,
   "id": "880c14bc",
   "metadata": {},
   "outputs": [
    {
     "data": {
      "text/plain": [
       "boxcovering (generic function with 1 method)"
      ]
     },
     "metadata": {},
     "output_type": "display_data"
    }
   ],
   "source": [
    "function boxcovering(bboxes, index, tree)\n",
    "\tcovers = [[] for k=1:length(bboxes)]\n",
    "\tfor (i,boundingbox) in enumerate(bboxes)\n",
    "\t\textent = bboxes[i][index,:]\n",
    "\t\titerator = IntervalTrees.intersect(tree, tuple(extent...))\n",
    "\t\tfor x in iterator\n",
    "\t\t\tappend!(covers[i],x.value)\n",
    "\t\tend\n",
    "\tend\n",
    "\treturn covers\n",
    "end"
   ]
  },
  {
   "cell_type": "code",
   "execution_count": 44,
   "id": "a3d93e77",
   "metadata": {},
   "outputs": [
    {
     "data": {
      "text/plain": [
       "5-element Vector{Vector{Any}}:\n",
       " [4, 1, 3, 5, 2]\n",
       " [1, 3, 5, 2]\n",
       " [4, 1, 3, 5, 2]\n",
       " [4, 1, 3, 5]\n",
       " [4, 1, 3, 5, 2]"
      ]
     },
     "metadata": {},
     "output_type": "display_data"
    }
   ],
   "source": [
    "cov = boxcovering(bb, 1, t)"
   ]
  },
  {
   "cell_type": "code",
   "execution_count": 45,
   "id": "15c73c34",
   "metadata": {},
   "outputs": [
    {
     "data": {
      "text/plain": [
       "2-element Vector{Float64}:\n",
       " 0.0\n",
       " 1.0"
      ]
     },
     "metadata": {},
     "output_type": "display_data"
    }
   ],
   "source": [
    "ex = bb[1][1,:]"
   ]
  },
  {
   "cell_type": "code",
   "execution_count": 46,
   "id": "4ddb8830",
   "metadata": {},
   "outputs": [
    {
     "data": {
      "text/plain": [
       "IntervalTrees.IntervalIntersectionIterator{typeof(IntervalTrees.true_cmp), Float64, IntervalValue{Float64, Array}, 64}(IntervalTrees.true_cmp, IntervalTrees.Intersection{Float64, IntervalValue{Float64, Array}, 64}(0, #undef), IntervalTrees.IntervalBTree{Float64, IntervalValue{Float64, Array}, 64}, Interval{Float64}\n",
       "(0.0,1.0))"
      ]
     },
     "metadata": {},
     "output_type": "display_data"
    },
    {
     "name": "stdout",
     "output_type": "stream",
     "text": [
      "\n",
      "(0.0,0.0) => [4]\n",
      "(0.0,1.0) => [1, 3]\n",
      "(0.0,2.0) => [5]"
     ]
    },
    {
     "name": "stdout",
     "output_type": "stream",
     "text": [
      "\n",
      "(1.0,1.0) => [2]"
     ]
    }
   ],
   "source": [
    "it = IntervalTrees.intersect(t, tuple(ex...))"
   ]
  },
  {
   "cell_type": "code",
   "execution_count": 47,
   "id": "9805a731",
   "metadata": {},
   "outputs": [
    {
     "name": "stdout",
     "output_type": "stream",
     "text": [
      "  3.250 μs (82 allocations: 3.02 KiB)\n"
     ]
    },
    {
     "data": {
      "text/plain": [
       "5-element Vector{Vector{Any}}:\n",
       " [4, 1, 3, 5, 2]\n",
       " [1, 3, 5, 2]\n",
       " [4, 1, 3, 5, 2]\n",
       " [4, 1, 3, 5]\n",
       " [4, 1, 3, 5, 2]"
      ]
     },
     "metadata": {},
     "output_type": "display_data"
    }
   ],
   "source": [
    "@btime boxcovering(bb, 1, t) "
   ]
  },
  {
   "cell_type": "code",
   "execution_count": 48,
   "id": "2bc5dd5d",
   "metadata": {},
   "outputs": [
    {
     "name": "stdout",
     "output_type": "stream",
     "text": [
      "MethodInstance for boxcovering(::Vector{Matrix{Float64}}, ::Int64, ::IntervalTrees.IntervalBTree{Float64, IntervalValue{Float64, Array}, 64})\n",
      "  from boxcovering(bboxes, index, tree) in Main at c:\\Users\\giord\\eclipse-SIW\\LARSplitting2D\\notebooks\\refactoringAnalisi.ipynb:1\n",
      "Arguments\n",
      "  #self#\u001b[36m::Core.Const(boxcovering)\u001b[39m\n",
      "  bboxes\u001b[36m::Vector{Matrix{Float64}}\u001b[39m\n",
      "  index\u001b[36m::Int64\u001b[39m\n",
      "  tree\u001b[36m::IntervalTrees.IntervalBTree{Float64, IntervalValue{Float64, Array}, 64}\u001b[39m\n",
      "Locals\n",
      "  @_5\u001b[33m\u001b[1m::Union{Nothing, Tuple{Tuple{Int64, Matrix{Float64}}, Tuple{Int64, Int64}}}\u001b[22m\u001b[39m\n",
      "  #27\u001b[36m::var\"#27#28\"\u001b[39m\n",
      "  covers\u001b[36m::Vector{Vector{Any}}\u001b[39m\n",
      "  @_8\u001b[33m\u001b[1m::Union{Nothing, Tuple{IntervalValue{Float64, Array}, Int64}, Tuple{IntervalValue{Float64, Array}, Nothing}}\u001b[22m\u001b[39m\n",
      "  @_9\u001b[36m::Int64\u001b[39m\n",
      "  boundingbox\u001b[36m::Matrix{Float64}\u001b[39m\n",
      "  i\u001b[36m::Int64\u001b[39m\n",
      "  iterator\u001b[91m\u001b[1m::Union{IntervalTrees.IntervalIntersectionIterator{typeof(IntervalTrees.true_cmp), Float64, IntervalValue{Float64, Array}, 64}, Vector{IntervalValue{Float64, Array}}}\u001b[22m\u001b[39m\n",
      "  extent\u001b[36m::Vector{Float64}\u001b[39m\n",
      "  x\u001b[36m::IntervalValue{Float64, Array}\u001b[39m\n",
      "Body\u001b[36m::Vector{Vector{Any}}\u001b[39m\n",
      "\u001b[90m1 ─\u001b[39m       (#27 = %new(Main.:(var\"#27#28\")))\n",
      "\u001b[90m│  \u001b[39m %2  = #27\u001b[36m::Core.Const(var\"#27#28\"())\u001b[39m\n"
     ]
    },
    {
     "name": "stdout",
     "output_type": "stream",
     "text": [
      "\u001b[90m│  \u001b[39m %3  = Main.length(bboxes)\u001b[36m::Int64\u001b[39m\n",
      "\u001b[90m│  \u001b[39m %4  = (1:%3)\u001b[36m::Core.PartialStruct(UnitRange{Int64}, Any[Core.Const(1), Int64])\u001b[39m\n",
      "\u001b[90m│  \u001b[39m %5  = Base.Generator(%2, %4)\u001b[36m::Core.PartialStruct(Base.Generator{UnitRange{Int64}, var\"#27#28\"}, Any[Core.Const(var\"#27#28\"()), Core.PartialStruct(UnitRange{Int64}, Any[Core.Const(1), Int64])])\u001b[39m\n",
      "\u001b[90m│  \u001b[39m       (covers = Base.collect(%5))\n",
      "\u001b[90m│  \u001b[39m %7  = Main.enumerate(bboxes)\u001b[36m::Base.Iterators.Enumerate{Vector{Matrix{Float64}}}\u001b[39m\n",
      "\u001b[90m│  \u001b[39m       (@_5 = Base.iterate(%7))\n",
      "\u001b[90m│  \u001b[39m %9  = (@_5 === nothing)\u001b[36m::Bool\u001b[39m\n",
      "\u001b[90m│  \u001b[39m %10 = Base.not_int(%9)\u001b[36m::Bool\u001b[39m\n",
      "\u001b[90m└──\u001b[39m       goto #7 if not %10\n",
      "\u001b[90m2 ┄\u001b[39m"
     ]
    },
    {
     "name": "stdout",
     "output_type": "stream",
     "text": [
      " %12 = @_5\u001b[36m::Tuple{Tuple{Int64, Matrix{Float64}}, Tuple{Int64, Int64}}\u001b[39m\n",
      "\u001b[90m│  \u001b[39m %13 = Core.getfield(%12, 1)\u001b[36m::Tuple{Int64, Matrix{Float64}}\u001b[39m\n",
      "\u001b[90m│  \u001b[39m %14 = Base.indexed_iterate(%13, 1)\u001b[36m::Core.PartialStruct(Tuple{Int64, Int64}, Any[Int64, Core.Const(2)])\u001b[39m\n",
      "\u001b[90m│  \u001b[39m       (i = Core.getfield(%14, 1))\n",
      "\u001b[90m│  \u001b[39m       (@_9 = Core.getfield(%14, 2))\n",
      "\u001b[90m│  \u001b[39m %17 = Base.indexed_iterate(%13, 2, @_9::Core.Const(2))\u001b[36m::Core.PartialStruct(Tuple{Matrix{Float64}, Int64}, Any[Matrix{Float64}, Core.Const(3)])\u001b[39m\n",
      "\u001b[90m│  \u001b[39m       (boundingbox = Core.getfield(%17, 1))\n",
      "\u001b[90m│  \u001b[39m %19 = Core.getfield(%12, 2)\u001b[36m::Tuple{Int64, Int64}\u001b[39m\n",
      "\u001b[90m│  \u001b[39m %20 = Base.getindex(bboxes, i)\u001b[36m::Matrix{Float64}\u001b[39m\n",
      "\u001b[90m│  \u001b[39m       (extent = Base.getindex(%20, index, Main.:(:)))\n",
      "\u001b[90m│  \u001b[39m"
     ]
    },
    {
     "name": "stdout",
     "output_type": "stream",
     "text": [
      " %22 = IntervalTrees.intersect\u001b[36m::Core.Const(intersect)\u001b[39m\n",
      "\u001b[90m│  \u001b[39m %23 = Core._apply_iterate(Base.iterate, Main.tuple, extent)\u001b[91m\u001b[1m::Tuple{Vararg{Float64}}\u001b[22m\u001b[39m\n"
     ]
    },
    {
     "name": "stdout",
     "output_type": "stream",
     "text": [
      "\u001b[90m│  \u001b[39m       (iterator = (%22)(tree, %23))\n",
      "\u001b[90m│  \u001b[39m %25 = iterator\u001b[91m\u001b[1m::Union{IntervalTrees.IntervalIntersectionIterator{typeof(IntervalTrees.true_cmp), Float64, IntervalValue{Float64, Array}, 64}, Vector{IntervalValue{Float64, Array}}}\u001b[22m\u001b[39m\n",
      "\u001b[90m│  \u001b[39m       (@_8 = Base.iterate(%25))\n",
      "\u001b[90m│  \u001b[39m %27 = (@_8 === nothing)\u001b[36m::Bool\u001b[39m\n",
      "\u001b[90m│  \u001b[39m %28 = Base.not_int(%27)\u001b[36m::Bool\u001b[39m\n",
      "\u001b[90m└──\u001b[39m       goto #5 if not %28\n",
      "\u001b[90m3 ┄\u001b[39m %30 = @_8\u001b[91m\u001b[1m::Union{Tuple{IntervalValue{Float64, Array}, Int64}, Tuple{IntervalValue{Float64, Array}, Nothing}}\u001b[22m\u001b[39m\n",
      "\u001b[90m│  \u001b[39m       (x = Core.getfield(%30, 1))\n",
      "\u001b[90m│  \u001b[39m %32 = Core.getfield(%30, 2)\u001b[33m\u001b[1m::Union{Nothing, Int64}\u001b[22m\u001b[39m\n",
      "\u001b[90m│  \u001b[39m %33 = Base.getindex(covers, i)\u001b[36m::Vector{Any}\u001b[39m\n",
      "\u001b[90m│  \u001b[39m %34 = Base.getproperty("
     ]
    },
    {
     "name": "stdout",
     "output_type": "stream",
     "text": [
      "x, :value)\u001b[91m\u001b[1m::Array\u001b[22m\u001b[39m\n",
      "\u001b[90m│  \u001b[39m       Main.append!(%33, %34)\n",
      "\u001b[90m│  \u001b[39m       (@_8 = Base.iterate(%25, %32))\n",
      "\u001b[90m│  \u001b[39m"
     ]
    },
    {
     "name": "stdout",
     "output_type": "stream",
     "text": [
      " %37 = (@_8 === nothing)\u001b[36m::Bool\u001b[39m\n",
      "\u001b[90m│  \u001b[39m %38 = Base.not_int(%37)\u001b[36m::Bool\u001b[39m\n",
      "\u001b[90m└──\u001b[39m       goto #5 if not %38\n",
      "\u001b[90m4 ─\u001b[39m       goto #3\n",
      "\u001b[90m5 ┄\u001b[39m       (@_5 = Base.iterate(%7, %19))\n",
      "\u001b[90m│  \u001b[39m %42 = (@_5 === nothing)\u001b[36m::Bool\u001b[39m\n",
      "\u001b[90m│  \u001b[39m %43 = Base.not_int(%42)\u001b[36m::Bool\u001b[39m\n",
      "\u001b[90m└──\u001b[39m       goto #7 if not %43\n",
      "\u001b[90m6 ─\u001b[39m       goto #2\n",
      "\u001b[90m7 ┄\u001b[39m       return covers\n",
      "\n"
     ]
    }
   ],
   "source": [
    "@code_warntype boxcovering(bb, 1, t) "
   ]
  },
  {
   "cell_type": "code",
   "execution_count": 49,
   "id": "d0a982e9",
   "metadata": {},
   "outputs": [
    {
     "data": {
      "text/plain": [
       "BenchmarkTools.Trial: 10000 samples with 8 evaluations.\n",
       " Range \u001b[90m(\u001b[39m\u001b[36m\u001b[1mmin\u001b[22m\u001b[39m … \u001b[35mmax\u001b[39m\u001b[90m):  \u001b[39m\u001b[36m\u001b[1m3.312 μs\u001b[22m\u001b[39m … \u001b[35m 1.795 ms\u001b[39m  \u001b[90m┊\u001b[39m GC \u001b[90m(\u001b[39mmin … max\u001b[90m): \u001b[39m0.00% … 99.57%\n",
       " Time  \u001b[90m(\u001b[39m\u001b[34m\u001b[1mmedian\u001b[22m\u001b[39m\u001b[90m):     \u001b[39m\u001b[34m\u001b[1m4.312 μs              \u001b[22m\u001b[39m\u001b[90m┊\u001b[39m GC \u001b[90m(\u001b[39mmedian\u001b[90m):    \u001b[39m0.00%\n",
       " Time  \u001b[90m(\u001b[39m\u001b[32m\u001b[1mmean\u001b[22m\u001b[39m ± \u001b[32mσ\u001b[39m\u001b[90m):   \u001b[39m\u001b[32m\u001b[1m5.563 μs\u001b[22m\u001b[39m ± \u001b[32m25.977 μs\u001b[39m  \u001b[90m┊\u001b[39m GC \u001b[90m(\u001b[39mmean ± σ\u001b[90m):  \u001b[39m8.98% ±  1.99%\n",
       "\n",
       "  \u001b[39m \u001b[39m \u001b[39m \u001b[39m \u001b[39m▄\u001b[39m█\u001b[39m▃\u001b[39m▇\u001b[34m▂\u001b[39m\u001b[39m \u001b[39m \u001b[39m \u001b[39m \u001b[39m \u001b[39m \u001b[39m \u001b[39m \u001b[32m \u001b[39m\u001b[39m \u001b[39m \u001b[39m \u001b[39m \u001b[39m \u001b[39m \u001b[39m \u001b[39m \u001b[39m \u001b[39m \u001b[39m \u001b[39m \u001b[39m \u001b[39m \u001b[39m \u001b[39m \u001b[39m \u001b[39m \u001b[39m \u001b[39m \u001b[39m \u001b[39m \u001b[39m \u001b[39m \u001b[39m \u001b[39m \u001b[39m \u001b[39m \u001b[39m \u001b[39m \u001b[39m \u001b[39m \u001b[39m \u001b[39m \u001b[39m \u001b[39m \u001b[39m \u001b[39m \u001b[39m \u001b[39m \u001b[39m \u001b[39m \n",
       "  \u001b[39m▁\u001b[39m▃\u001b[39m▃\u001b[39m▆\u001b[39m█\u001b[39m█\u001b[39m█\u001b[39m█\u001b[34m█\u001b[39m\u001b[39m▅\u001b[39m▃\u001b[39m▂\u001b[39m▂\u001b[39m▂\u001b[39m▂\u001b[39m▂\u001b[39m▂\u001b[32m▂\u001b[39m\u001b[39m▂\u001b[39m▂\u001b[39m▂\u001b[39m▂\u001b[39m▂\u001b[39m▂\u001b[39m▂\u001b[39m▁\u001b[39m▂\u001b[39m▂\u001b[39m▂\u001b[39m▂\u001b[39m▂\u001b[39m▂\u001b[39m▂\u001b[39m▂\u001b[39m▂\u001b[39m▂\u001b[39m▂\u001b[39m▂\u001b[39m▂\u001b[39m▂\u001b[39m▂\u001b[39m▁\u001b[39m▁\u001b[39m▁\u001b[39m▁\u001b[39m▁\u001b[39m▁\u001b[39m▁\u001b[39m▁\u001b[39m▁\u001b[39m▁\u001b[39m▁\u001b[39m▁\u001b[39m▁\u001b[39m▁\u001b[39m▁\u001b[39m▁\u001b[39m▁\u001b[39m \u001b[39m▂\n",
       "  3.31 μs\u001b[90m        Histogram: frequency by time\u001b[39m          11 μs \u001b[0m\u001b[1m<\u001b[22m\n",
       "\n",
       " Memory estimate\u001b[90m: \u001b[39m\u001b[33m3.02 KiB\u001b[39m, allocs estimate\u001b[90m: \u001b[39m\u001b[33m82\u001b[39m."
      ]
     },
     "metadata": {},
     "output_type": "display_data"
    }
   ],
   "source": [
    "@benchmark boxcovering(bb, 1, t) "
   ]
  },
  {
   "cell_type": "markdown",
   "id": "0303476b",
   "metadata": {},
   "source": [
    "### Versione parallelizzata di boxcovering"
   ]
  },
  {
   "cell_type": "code",
   "execution_count": 50,
   "id": "4233bafb",
   "metadata": {},
   "outputs": [
    {
     "data": {
      "text/plain": [
       "boxcovering2 (generic function with 1 method)"
      ]
     },
     "metadata": {},
     "output_type": "display_data"
    }
   ],
   "source": [
    "function boxcovering2(bboxes, index, tree)\n",
    "    covers = [[zero(eltype(Int64))] for k=1:length(bboxes)]\t\t#zero(eltype(Int64)) serve per rendere covers type stable\n",
    "    @threads for (i,boundingbox) in collect(enumerate(bboxes))\n",
    "        extent = bboxes[i][index,:]\n",
    "        iterator = IntervalTrees.intersect(tree, tuple(extent...))\n",
    "        addIntersection(covers, i, iterator)\n",
    "    end\n",
    "    return covers\n",
    "end"
   ]
  },
  {
   "cell_type": "code",
   "execution_count": 51,
   "id": "dd738843",
   "metadata": {},
   "outputs": [
    {
     "name": "stdout",
     "output_type": "stream",
     "text": [
      "  4.683 μs (86 allocations: 4.83 KiB)\n"
     ]
    },
    {
     "data": {
      "text/plain": [
       "5-element Vector{Vector{Int64}}:\n",
       " [4, 1, 3, 5, 2]\n",
       " [1, 3, 5, 2]\n",
       " [4, 1, 3, 5, 2]\n",
       " [4, 1, 3, 5]\n",
       " [4, 1, 3, 5, 2]"
      ]
     },
     "metadata": {},
     "output_type": "display_data"
    }
   ],
   "source": [
    "@btime boxcovering2(bb, 1, t)"
   ]
  },
  {
   "cell_type": "code",
   "execution_count": 52,
   "id": "3938c553",
   "metadata": {},
   "outputs": [
    {
     "data": {
      "text/plain": [
       "BenchmarkTools.Trial: 10000 samples with 7 evaluations.\n",
       " Range \u001b[90m(\u001b[39m\u001b[36m\u001b[1mmin\u001b[22m\u001b[39m … \u001b[35mmax\u001b[39m\u001b[90m):  \u001b[39m\u001b[36m\u001b[1m 5.129 μs\u001b[22m\u001b[39m … \u001b[35m 7.092 ms\u001b[39m  \u001b[90m┊\u001b[39m GC \u001b[90m(\u001b[39mmin … max\u001b[90m): \u001b[39m 0.00% … 99.80%\n",
       " Time  \u001b[90m(\u001b[39m\u001b[34m\u001b[1mmedian\u001b[22m\u001b[39m\u001b[90m):     \u001b[39m\u001b[34m\u001b[1m12.000 μs              \u001b[22m\u001b[39m\u001b[90m┊\u001b[39m GC \u001b[90m(\u001b[39mmedian\u001b[90m):    \u001b[39m 0.00%\n",
       " Time  \u001b[90m(\u001b[39m\u001b[32m\u001b[1mmean\u001b[22m\u001b[39m ± \u001b[32mσ\u001b[39m\u001b[90m):   \u001b[39m\u001b[32m\u001b[1m14.261 μs\u001b[22m\u001b[39m ± \u001b[32m83.178 μs\u001b[39m  \u001b[90m┊\u001b[39m GC \u001b[90m(\u001b[39mmean ± σ\u001b[90m):  \u001b[39m11.59% ±  2.42%\n",
       "\n",
       "  \u001b[39m▃\u001b[39m▄\u001b[39m▃\u001b[39m▁\u001b[39m \u001b[39m \u001b[39m \u001b[39m \u001b[39m \u001b[39m \u001b[39m \u001b[39m \u001b[39m \u001b[39m \u001b[39m \u001b[39m█\u001b[34m█\u001b[39m\u001b[39m▆\u001b[39m▅\u001b[39m▅\u001b[39m▄\u001b[39m▃\u001b[32m▂\u001b[39m\u001b[39m▁\u001b[39m▁\u001b[39m \u001b[39m \u001b[39m \u001b[39m \u001b[39m \u001b[39m \u001b[39m \u001b[39m \u001b[39m \u001b[39m \u001b[39m \u001b[39m \u001b[39m \u001b[39m \u001b[39m \u001b[39m▁\u001b[39m▁\u001b[39m \u001b[39m \u001b[39m \u001b[39m \u001b[39m \u001b[39m \u001b[39m \u001b[39m \u001b[39m \u001b[39m \u001b[39m \u001b[39m \u001b[39m \u001b[39m \u001b[39m \u001b[39m \u001b[39m \u001b[39m \u001b[39m▂\n",
       "  \u001b[39m█\u001b[39m█\u001b[39m█\u001b[39m█\u001b[39m▇\u001b[39m▇\u001b[39m▇\u001b[39m█\u001b[39m▆\u001b[39m▄\u001b[39m▇\u001b[39m▆\u001b[39m▆\u001b[39m▇\u001b[39m▆\u001b[39m█\u001b[34m█\u001b[39m\u001b[39m█\u001b[39m█\u001b[39m█\u001b[39m█\u001b[39m█\u001b[32m█\u001b[39m\u001b[39m█\u001b[39m█\u001b[39m█\u001b[39m█\u001b[39m█\u001b[39m▇\u001b[39m▇\u001b[39m▇\u001b[39m▇\u001b[39m▆\u001b[39m▇\u001b[39m▆\u001b[39m▇\u001b[39m▇\u001b[39m▇\u001b[39m█\u001b[39m█\u001b[39m█\u001b[39m█\u001b[39m█\u001b[39m▇\u001b[39m▆\u001b[39m▆\u001b[39m▅\u001b[39m▆\u001b[39m▅\u001b[39m▅\u001b[39m▅\u001b[39m▄\u001b[39m▅\u001b[39m▄\u001b[39m▄\u001b[39m▅\u001b[39m▄\u001b[39m▅\u001b[39m▅\u001b[39m \u001b[39m█\n",
       "  5.13 μs\u001b[90m      \u001b[39m\u001b[90mHistogram: \u001b[39m\u001b[90m\u001b[1mlog(\u001b[22m\u001b[39m\u001b[90mfrequency\u001b[39m\u001b[90m\u001b[1m)\u001b[22m\u001b[39m\u001b[90m by time\u001b[39m      30.1 μs \u001b[0m\u001b[1m<\u001b[22m\n",
       "\n",
       " Memory estimate\u001b[90m: \u001b[39m\u001b[33m4.83 KiB\u001b[39m, allocs estimate\u001b[90m: \u001b[39m\u001b[33m86\u001b[39m."
      ]
     },
     "metadata": {},
     "output_type": "display_data"
    }
   ],
   "source": [
    "@benchmark boxcovering2(bb, 1, t)"
   ]
  },
  {
   "cell_type": "markdown",
   "id": "0ea6962e",
   "metadata": {},
   "source": [
    "### Versione iniziale di spaceindex\n",
    "Prende in input una tupla costituita da una matrice che contiene i punti del modello, di tipo Lar.LAR, e da un array di array che contiene le celle cioè scomposizioni dello spazio geometrico. La funzione restituisce in output un array di array dove l'elemento i-esimo rappresenta quali intersezioni ha il bounding box i-esimo con gli altri bounding box. Nello specifico, la funzione calcola le 1-celle e il loro bounding box attraverso la funzione boundingBox. Si suddividono le coordinate x e y in due dizionari chiamando la funzione coordintervals. Per entrambe le coordinate x e y, si calcola un intervalTree cioè una struttura dati che contiene intervalli. La funzione boxCovering viene chiamata per calcolare le sovrapposizioni sulle singole dimensioni dei bounding Box. Intersecando quest’ultime, si ottengono le intersezioni effettive tra bounding box. La funzione esegue lo stesso procedimento sulla coordinata z se presente. Infine, si eliminano le intersezioni di ogni bounding box con loro stessi.\n"
   ]
  },
  {
   "cell_type": "code",
   "execution_count": 53,
   "id": "a6ab019e",
   "metadata": {},
   "outputs": [
    {
     "data": {
      "text/plain": [
       "spaceindex (generic function with 1 method)"
      ]
     },
     "metadata": {},
     "output_type": "display_data"
    }
   ],
   "source": [
    "function spaceindex(model::Lar.LAR)::Array{Array{Int,1},1}\n",
    "\tV,CV = model[1:2]\n",
    "\tdim = size(V,1)\n",
    "\tcellpoints = [ V[:,CV[k]]::Lar.Points for k=1:length(CV) ]\n",
    "\t#----------------------------------------------------------\n",
    "\tbboxes = [hcat(Lar.boundingbox(cell)...) for cell in cellpoints]\n",
    "\txboxdict = Lar.coordintervals(1,bboxes)\n",
    "\tyboxdict = Lar.coordintervals(2,bboxes)\n",
    "\t# xs,ys are IntervalTree type\n",
    "\txs = IntervalTrees.IntervalMap{Float64, Array}()\n",
    "\tfor (key,boxset) in xboxdict\n",
    "\t\txs[tuple(key...)] = boxset\n",
    "\tend\n",
    "\tys = IntervalTrees.IntervalMap{Float64, Array}()\n",
    "\tfor (key,boxset) in yboxdict\n",
    "\t\tys[tuple(key...)] = boxset\n",
    "\tend\n",
    "\txcovers = Lar.boxcovering(bboxes, 1, xs)\n",
    "\tycovers = Lar.boxcovering(bboxes, 2, ys)\n",
    "\tcovers = [intersect(pair...) for pair in zip(xcovers,ycovers)]\n",
    "\n",
    "\tif dim == 3\n",
    "\t\tzboxdict = Lar.coordintervals(3,bboxes)\n",
    "\t\tzs = IntervalTrees.IntervalMap{Float64, Array}()\n",
    "\t\tfor (key,boxset) in zboxdict\n",
    "\t\t\tzs[tuple(key...)] = boxset\n",
    "\t\tend\n",
    "\t\tzcovers = Lar.boxcovering(bboxes, 3, zs)\n",
    "\t\tcovers = [intersect(pair...) for pair in zip(zcovers,covers)]\n",
    "\tend\n",
    "\t# remove each cell from its cover\n",
    "\tfor k=1:length(covers)\n",
    "\t\tcovers[k] = setdiff(covers[k],[k])\n",
    "\tend\n",
    "\treturn covers\n",
    "end"
   ]
  },
  {
   "cell_type": "code",
   "execution_count": 54,
   "id": "4962062e",
   "metadata": {},
   "outputs": [
    {
     "name": "stdout",
     "output_type": "stream",
     "text": [
      "  82.000 μs (1097 allocations: 49.00 KiB)"
     ]
    },
    {
     "data": {
      "text/plain": [
       "5-element Vector{Vector{Int64}}:\n",
       " [4, 5, 2]\n",
       " [1, 3, 5]\n",
       " [4, 5, 2]\n",
       " [1, 3, 5]\n",
       " [4, 1, 3, 2]"
      ]
     },
     "metadata": {},
     "output_type": "display_data"
    },
    {
     "name": "stdout",
     "output_type": "stream",
     "text": [
      "\n"
     ]
    }
   ],
   "source": [
    "@btime spaceindex((V,EV))"
   ]
  },
  {
   "cell_type": "code",
   "execution_count": 55,
   "id": "bdd3dafe",
   "metadata": {},
   "outputs": [
    {
     "name": "stdout",
     "output_type": "stream",
     "text": [
      "MethodInstance for spaceindex(::Tuple{Matrix{Float64}, Vector{Vector{Int64}}})\n",
      "  from spaceindex(model::Union{Tuple{Matrix, Vector{Vector{Int64}}}, Tuple{Matrix, Vector{Vector{Int64}}, Vector{Vector{Int64}}}}) in Main at c:\\Users\\giord\\eclipse-SIW\\LARSplitting2D\\notebooks\\refactoringAnalisi.ipynb:1\n",
      "Arguments\n",
      "  #self#\u001b[36m::Core.Const(spaceindex)\u001b[39m\n",
      "  model\u001b[36m::Tuple{Matrix{Float64}, Vector{Vector{Int64}}}\u001b[39m\n",
      "Locals\n",
      "  @_3\u001b[91m\u001b[1m::Any\u001b[22m\u001b[39m\n",
      "  #35\u001b[36m::var\"#35#39\"\u001b[39m\n",
      "  @_5\u001b[91m\u001b[1m::Any\u001b[22m\u001b[39m\n",
      "  #34\u001b[36m::var\"#34#38\"\u001b[39m\n",
      "  @_7\u001b[91m\u001b[1m::Any\u001b[22m\u001b[39m\n",
      "  @_8"
     ]
    },
    {
     "name": "stdout",
     "output_type": "stream",
     "text": [
      "\u001b[91m\u001b[1m::Any\u001b[22m\u001b[39m\n",
      "  #33\u001b[36m::var\"#33#37\"\u001b[39m\n",
      "  #32\u001b[36m::var\"#32#36\"{Vector{Vector{Int64}}, Matrix{Float64}}\u001b[39m\n",
      "  @_11\u001b[36m::Int64\u001b[39m\n",
      "  covers\u001b[91m\u001b[1m::Any\u001b[22m\u001b[39m\n",
      "  zcovers\u001b[91m\u001b[1m::Any\u001b[22m\u001b[39m\n",
      "  zs\u001b[36m::IntervalTrees.IntervalBTree{Float64, IntervalValue{Float64, Array}, 64}\u001b[39m\n",
      "  zboxdict\u001b[91m\u001b[1m::Any\u001b[22m\u001b[39m\n",
      "  ycovers\u001b[91m\u001b[1m::Any\u001b[22m\u001b[39m\n",
      "  xcovers\u001b[91m\u001b[1m::Any\u001b[22m\u001b[39m\n",
      "  ys\u001b[36m::IntervalTrees.IntervalBTree{Float64, IntervalValue{Float64, Array}, 64}\u001b[39m\n",
      "  xs\u001b[36m::IntervalTrees.IntervalBTree{Float64, IntervalValue{Float64, Array}, 64}\u001b[39m\n",
      "  yboxdict\u001b[91m\u001b[1m::Any\u001b[22m\u001b[39m\n",
      "  xboxdict\u001b[91m\u001b[1m::Any\u001b[22m\u001b[39m\n",
      "  bboxes\u001b[91m\u001b[1m::Vector\u001b[22m\u001b[39m\n",
      "  cellpoints\u001b[36m::Vector{Matrix{Float64}}\u001b[39m\n",
      "  dim\u001b[36m::Int64\u001b[39m\n",
      "  CV\u001b[36m::Vector{Vector{Int64}}\u001b[39m\n",
      "  V\u001b[36m::Matrix{Float64}\u001b[39m\n",
      "  @_27\u001b[91m\u001b[1m::Any\u001b[22m\u001b[39m\n",
      "  boxset@_28\u001b[91m\u001b[1m::Any\u001b[22m\u001b[39m\n",
      "  key@_29\u001b[91m\u001b[1m::Any\u001b[22m\u001b[39m\n",
      "  @_30\u001b[91m\u001b[1m::Any\u001b[22m\u001b[39m\n",
      "  boxset@_31\u001b[91m\u001b[1m::Any\u001b[22m\u001b[39m"
     ]
    },
    {
     "name": "stdout",
     "output_type": "stream",
     "text": [
      "\n",
      "  key@_32\u001b[91m\u001b[1m::Any\u001b[22m\u001b[39m\n",
      "  @_33\u001b[91m\u001b[1m::Any\u001b[22m\u001b[39m\n",
      "  boxset@_34\u001b[91m\u001b[1m::Any\u001b[22m\u001b[39m\n",
      "  key@_35\u001b[91m\u001b[1m::Any\u001b[22m\u001b[39m\n",
      "  k\u001b[91m\u001b[1m::Any\u001b[22m\u001b[39m\n",
      "Body\u001b[36m::Vector{Vector{Int64}}\u001b[39m\n",
      "\u001b[90m1 ──\u001b[39m        "
     ]
    },
    {
     "name": "stdout",
     "output_type": "stream",
     "text": [
      "Core.NewvarNode(:(@_3))\n",
      "\u001b[90m│   \u001b[39m        Core.NewvarNode(:(#35))\n",
      "\u001b[90m│   \u001b[39m        Core.NewvarNode(:(@_5))\n",
      "\u001b[90m│   \u001b[39m        Core.NewvarNode(:(#34))\n",
      "\u001b[90m│   \u001b[39m        Core.NewvarNode(:(@_7))\n",
      "\u001b[90m│   \u001b[39m        Core.NewvarNode(:(covers))\n",
      "\u001b[90m│   \u001b[39m"
     ]
    },
    {
     "name": "stdout",
     "output_type": "stream",
     "text": [
      "        Core.NewvarNode(:(zcovers))\n",
      "\u001b[90m│   \u001b[39m        Core.NewvarNode(:(zs))\n",
      "\u001b[90m│   \u001b[39m        Core.NewvarNode(:(zboxdict))\n",
      "\u001b[90m│   \u001b[39m        Core.NewvarNode(:(ycovers))\n",
      "\u001b[90m│   \u001b[39m        Core.NewvarNode(:(xcovers))\n",
      "\u001b[90m│   \u001b[39m        Core.NewvarNode(:(ys))\n",
      "\u001b[90m│   \u001b[39m %13  = Core.apply_type(Main.Array, Main.Int, 1)\u001b[36m::Core.Const(Vector{Int64})\u001b[39m\n",
      "\u001b[90m│   \u001b[39m %14  = Core.apply_type(Main.Array, %13, 1)\u001b[36m::Core.Const(Vector{Vector{Int64}})\u001b[39m\n",
      "\u001b[90m│   \u001b[39m %15  = (1:2"
     ]
    },
    {
     "name": "stdout",
     "output_type": "stream",
     "text": [
      ")\u001b[36m::Core.Const(1:2)\u001b[39m\n",
      "\u001b[90m│   \u001b[39m %16  = Base.getindex(model, %15)\u001b[36m::Tuple{Matrix{Float64}, Vector{Vector{Int64}}}\u001b[39m\n",
      "\u001b[90m│   \u001b[39m %17  = Base.indexed_iterate(%16, 1)\u001b[36m::Core.PartialStruct(Tuple{Matrix{Float64}, Int64}, Any[Matrix{Float64}, Core.Const(2)])\u001b[39m\n",
      "\u001b[90m│   \u001b[39m        (V = Core.getfield(%17, 1))\n",
      "\u001b[90m│   \u001b[39m        (@_11 = Core.getfield(%17, 2))\n",
      "\u001b[90m│   \u001b[39m %20  = Base.indexed_iterate(%16, 2, @_11::Core.Const(2))"
     ]
    },
    {
     "name": "stdout",
     "output_type": "stream",
     "text": [
      "\u001b[36m::Core.PartialStruct(Tuple{Vector{Vector{Int64}}, Int64}, Any[Vector{Vector{Int64}}, Core.Const(3)])\u001b[39m\n",
      "\u001b[90m│   \u001b[39m        (CV = Core.getfield(%20, 1))\n",
      "\u001b[90m│   \u001b[39m        (dim = Main.size(V, 1))\n",
      "\u001b[90m│   \u001b[39m %23  = Main.:(var\"#32#36\")\u001b[36m::Core.Const(var\"#32#36\")\u001b[39m\n",
      "\u001b[90m│   \u001b[39m %24  = Core.typeof(CV)\u001b[36m::Core.Const(Vector{Vector{Int64}})\u001b[39m\n",
      "\u001b[90m│   \u001b[39m %25  = Core.typeof(V)\u001b[36m::Core.Const(Matrix{Float64})\u001b[39m\n",
      "\u001b[90m│   \u001b[39m "
     ]
    },
    {
     "name": "stdout",
     "output_type": "stream",
     "text": [
      "%26  = Core.apply_type(%23, %24, %25)\u001b[36m::Core.Const(var\"#32#36\"{Vector{Vector{Int64}}, Matrix{Float64}})\u001b[39m\n",
      "\u001b[90m│   \u001b[39m %27  = CV\u001b[36m::Vector{Vector{Int64}}\u001b[39m\n",
      "\u001b[90m│   \u001b[39m        (#32 = %new(%26, %27, V))\n",
      "\u001b[90m│   \u001b[39m %29  = #32\u001b[36m::var\"#32#36\"{Vector{Vector{Int64}}, Matrix{Float64}}\u001b[39m\n",
      "\u001b[90m│   \u001b[39m %30  = Main.length(CV)\u001b[36m::Int64\u001b[39m\n",
      "\u001b[90m│   \u001b[39m %31  = (1:%30)\u001b[36m::Core.PartialStruct(UnitRange{Int64}, Any[Core.Const(1), Int64])\u001b[39m\n",
      "\u001b[90m│   \u001b[39m %32  = Base.Generator(%29, %31)\u001b[36m::Core.PartialStruct(Base.Generator{UnitRange{Int64}, var\"#32#36\"{Vector{Vector{Int64}}, Matrix{Float64}}}, Any[var\"#32#36\"{Vector{Vector{Int64}}, Matrix{Float64}}, Core.PartialStruct(UnitRange{Int64}, Any[Core.Const(1), Int64])])\u001b[39m\n",
      "\u001b[90m│   \u001b[39m        (cellpoints = Base.collect(%32))\n",
      "\u001b[90m│   \u001b[39m        (#33 = %new(Main.:(var\"#33#37\")))\n",
      "\u001b[90m│   \u001b[39m"
     ]
    },
    {
     "name": "stdout",
     "output_type": "stream",
     "text": [
      " %35  = #33\u001b[36m::Core.Const(var\"#33#37\"())\u001b[39m\n",
      "\u001b[90m│   \u001b[39m %36  = Base.Generator(%35, cellpoints)\u001b[36m::Base.Generator{Vector{Matrix{Float64}}, var\"#33#37\"}\u001b[39m\n",
      "\u001b[90m│   \u001b[39m        (bboxes = Base.collect(%36))\n",
      "\u001b[90m│   \u001b[39m %38  = Base.getproperty(Main.Lar, :coordintervals)\u001b[91m\u001b[1m::Any\u001b[22m\u001b[39m\n",
      "\u001b[90m│   \u001b[39m        (xboxdict = (%38)(1, bboxes))\n",
      "\u001b[90m│   \u001b[39m %40  = Base.getproperty(Main.Lar, :coordintervals)\u001b[91m\u001b[1m::Any\u001b[22m\u001b[39m\n",
      "\u001b[90m│   \u001b[39m        (yboxdict = (%40)(2, bboxes))\n",
      "\u001b[90m│   \u001b[39m %42  = IntervalTrees.IntervalMap\u001b[36m::Core.Const(IntervalMap)\u001b[39m\n",
      "\u001b[90m│   \u001b[39m %43  = Core.apply_type(%42, Main.Float64, Main.Array)\u001b[36m::Core.Const(IntervalTrees.IntervalBTree{Float64, IntervalValue{Float64, Array}, 64})\u001b[39m\n",
      "\u001b[90m│   \u001b[39m        (xs = "
     ]
    },
    {
     "name": "stdout",
     "output_type": "stream",
     "text": [
      "(%43)())\n",
      "\u001b[90m│   \u001b[39m %45  = xboxdict\u001b[91m\u001b[1m::Any\u001b[22m\u001b[39m\n",
      "\u001b[90m│   \u001b[39m        (@_8 = Base.iterate(%45))\n",
      "\u001b[90m│   \u001b[39m %47  = (@_8 === nothing)\u001b[36m::Bool\u001b[39m\n",
      "\u001b[90m│   \u001b[39m %48  = Base.not_int(%47)\u001b[36m::Bool\u001b[39m\n",
      "\u001b[90m└───\u001b[39m        goto #4 if not %48\n",
      "\u001b[90m2 ┄─\u001b[39m %50  = @_8\u001b[91m\u001b[1m::Any\u001b[22m\u001b[39m\n",
      "\u001b[90m│   \u001b[39m %51  = Core.getfield(%50, 1)\u001b[91m\u001b[1m::Any\u001b[22m\u001b[39m\n",
      "\u001b[90m│   \u001b[39m %52  = Base.indexed_iterate(%51, 1)\u001b[91m\u001b[1m::Any\u001b[22m\u001b[39m\n",
      "\u001b[90m│   \u001b[39m        (key@_29 = Core.getfield(%52, 1))\n",
      "\u001b[90m│   \u001b[39m        (@_27 = Core.getfield(%52, 2))\n",
      "\u001b[90m│   \u001b[39m %55  = Base.indexed_iterate(%51, 2, @_27)\u001b[91m\u001b[1m::Any\u001b[22m\u001b[39m\n",
      "\u001b[90m│   \u001b[39m        (boxset@_28 = Core.getfield(%55, 1))\n",
      "\u001b[90m│   \u001b[39m %57  = Core.getfield(%50, 2)\u001b[91m\u001b[1m::Any\u001b[22m\u001b[39m\n",
      "\u001b[90m│   \u001b[39m %58  = xs\u001b[36m::IntervalTrees.IntervalBTree{Float64, IntervalValue{Float64, Array}, 64}\u001b[39m\n",
      "\u001b[90m│   \u001b[39m %59  = boxset@_28\u001b[91m\u001b[1m::Any\u001b[22m\u001b[39m\n",
      "\u001b[90m│   \u001b[39m %60  = Core._apply_iterate(Base.iterate, Main.tuple, key@_29)\u001b[91m\u001b[1m::Tuple\u001b[22m\u001b[39m\n",
      "\u001b[90m│   \u001b[39m        Base.setindex!(%58, %59, %60)\n",
      "\u001b[90m│   \u001b[39m        (@_8 = Base.iterate(%45, %57))\n",
      "\u001b[90m│   \u001b[39m %63  = (@_8 === nothing)\u001b[36m::Bool\u001b[39m\n",
      "\u001b[90m│   \u001b[39m %64  = Base.not_int(%63)\u001b[36m::Bool\u001b[39m\n"
     ]
    },
    {
     "name": "stdout",
     "output_type": "stream",
     "text": [
      "\u001b[90m└───\u001b[39m        goto #4 if not %64\n",
      "\u001b[90m3 ──\u001b[39m        goto #2\n",
      "\u001b[90m4 ┄─\u001b[39m %67  = IntervalTrees.IntervalMap\u001b[36m::Core.Const(IntervalMap)\u001b[39m\n",
      "\u001b[90m│   \u001b[39m %68  = Core.apply_type(%67, Main.Float64, Main.Array)\u001b[36m::Core.Const(IntervalTrees.IntervalBTree{Float64, IntervalValue{Float64, Array}, 64})\u001b[39m\n",
      "\u001b[90m│   \u001b[39m        (ys = (%68)())\n",
      "\u001b[90m│   \u001b[39m %70  = yboxdict\u001b[91m\u001b[1m::Any\u001b[22m\u001b[39m\n",
      "\u001b[90m│   \u001b[39m        (@_7 = Base.iterate(%70))\n",
      "\u001b[90m│   \u001b[39m %72  = (@_7 === nothing)\u001b[36m::Bool\u001b[39m\n",
      "\u001b[90m│   \u001b[39m %73  = Base.not_int(%72)\u001b[36m::Bool\u001b[39m\n",
      "\u001b[90m└───\u001b[39m        goto #7 if not %73\n",
      "\u001b[90m5 ┄─\u001b[39m %75  = @_7\u001b[91m\u001b[1m::Any\u001b[22m\u001b[39m\n",
      "\u001b[90m│   \u001b[39m %76  = Core.getfield(%75, 1)\u001b[91m\u001b[1m::Any\u001b[22m\u001b[39m\n",
      "\u001b[90m│   \u001b[39m %77  = Base.indexed_iterate(%76, 1)"
     ]
    },
    {
     "name": "stdout",
     "output_type": "stream",
     "text": [
      "\u001b[91m\u001b[1m::Any\u001b[22m\u001b[39m\n",
      "\u001b[90m│   \u001b[39m        (key@_32 = Core.getfield(%77, 1))\n",
      "\u001b[90m│   \u001b[39m        (@_30 = Core.getfield(%77, 2))\n",
      "\u001b[90m│   \u001b[39m %80  = Base.indexed_iterate(%76, 2, @_30)\u001b[91m\u001b[1m::Any\u001b[22m\u001b[39m\n",
      "\u001b[90m│   \u001b[39m        (boxset@_31 = Core.getfield(%80, 1))\n",
      "\u001b[90m│   \u001b[39m %82  = Core.getfield(%75, 2)\u001b[91m\u001b[1m::Any\u001b[22m\u001b[39m\n",
      "\u001b[90m│   \u001b[39m %83  = ys\u001b[36m::IntervalTrees.IntervalBTree{Float64, IntervalValue{Float64, Array}, 64}\u001b[39m\n",
      "\u001b[90m│   \u001b[39m %84  = boxset@_31\u001b[91m\u001b[1m::Any\u001b[22m\u001b[39m\n",
      "\u001b[90m│   \u001b[39m %85  = Core._apply_iterate(Base.iterate, Main.tuple, key@_32)\u001b[91m\u001b[1m::Tuple\u001b[22m\u001b[39m\n",
      "\u001b[90m│   \u001b[39m        Base.setindex!(%83, %84, %85)\n",
      "\u001b[90m│   \u001b[39m        (@_7 = Base.iterate(%70, %82))\n",
      "\u001b[90m│   \u001b[39m %88  = (@_7 === nothing)\u001b[36m::Bool\u001b[39m\n",
      "\u001b[90m│   \u001b[39m %89  = Base.not_int(%88"
     ]
    },
    {
     "name": "stdout",
     "output_type": "stream",
     "text": [
      ")\u001b[36m::Bool\u001b[39m\n",
      "\u001b[90m└───\u001b[39m        goto #7 if not %89\n",
      "\u001b[90m6 ──\u001b[39m        goto #5\n",
      "\u001b[90m7 ┄─\u001b[39m %92  = Base.getproperty(Main.Lar, :boxcovering)\u001b[91m\u001b[1m::Any\u001b[22m\u001b[39m\n",
      "\u001b[90m│   \u001b[39m %93  = bboxes\u001b[91m\u001b[1m::Vector\u001b[22m\u001b[39m\n",
      "\u001b[90m│   \u001b[39m        (xcovers = (%92)(%93, 1, xs))\n",
      "\u001b[90m│   \u001b[39m %95  = Base.getproperty(Main.Lar, :boxcovering)\u001b[91m\u001b[1m::Any\u001b[22m\u001b[39m\n",
      "\u001b[90m│   \u001b[39m %96  = bboxes\u001b[91m\u001b[1m::Vector\u001b[22m\u001b[39m\n",
      "\u001b[90m│   \u001b[39m        (ycovers = (%95)(%96, 2, ys))\n",
      "\u001b[90m│   \u001b[39m        (#34 = %new(Main.:(var\"#34#38\")))\n",
      "\u001b[90m│   \u001b[39m %99  = #34\u001b[36m::Core.Const(var\"#34#38\"())\u001b[39m\n",
      "\u001b[90m│   \u001b[39m %100 = Main.zip(xcovers, ycovers)\u001b[91m\u001b[1m::Union{DataStructures.ZippedSparseIntSetIterator{Tuple{DataStructures.SparseIntSet, DataStructures.SparseIntSet}, Tuple{}}, Base.Iterators.Zip}\u001b[22m\u001b[39m\n",
      "\u001b[90m│   \u001b[39m %101 = Base.Generator(%99, %100)\u001b[91m\u001b[1m::Base.Generator{_A, var\"#34#38\"} where _A\u001b[22m\u001b[39m\n",
      "\u001b[90m│   \u001b[39m        (covers = Base.collect(%101))\n",
      "\u001b[90m│   \u001b[39m %103 = (dim == 3)\u001b[36m::Bool\u001b[39m\n",
      "\u001b[90m└───\u001b[39m        "
     ]
    },
    {
     "name": "stdout",
     "output_type": "stream",
     "text": [
      "goto #12 if not %103\n",
      "\u001b[90m8 ──\u001b[39m %105 = Base.getproperty(Main.Lar, :coordintervals)\u001b[91m\u001b[1m::Any\u001b[22m\u001b[39m\n",
      "\u001b[90m│   \u001b[39m        (zboxdict = (%105)(3, bboxes))\n",
      "\u001b[90m│   \u001b[39m %107 = IntervalTrees.IntervalMap\u001b[36m::Core.Const(IntervalMap)\u001b[39m\n",
      "\u001b[90m│   \u001b[39m %108 = Core.apply_type(%107, Main.Float64, Main.Array)\u001b[36m::Core.Const(IntervalTrees.IntervalBTree{Float64, IntervalValue{Float64, Array}, 64})\u001b[39m\n",
      "\u001b[90m│   \u001b[39m        (zs = (%108)())\n",
      "\u001b[90m│   \u001b[39m %110 = zboxdict\u001b[91m\u001b[1m::Any\u001b[22m\u001b[39m\n",
      "\u001b[90m│   \u001b[39m        (@_5 = Base.iterate(%110))\n",
      "\u001b[90m│   \u001b[39m %112 = (@_5 === nothing)\u001b[36m::Bool\u001b[39m\n",
      "\u001b[90m│   \u001b[39m %113 = Base.not_int(%112)"
     ]
    },
    {
     "name": "stdout",
     "output_type": "stream",
     "text": [
      "\u001b[36m::Bool\u001b[39m\n",
      "\u001b[90m└───\u001b[39m        goto #11 if not %113\n",
      "\u001b[90m9 ┄─\u001b[39m %115 = @_5\u001b[91m\u001b[1m::Any\u001b[22m\u001b[39m\n",
      "\u001b[90m│   \u001b[39m %116 = Core.getfield(%115, 1)\u001b[91m\u001b[1m::Any\u001b[22m\u001b[39m\n",
      "\u001b[90m│   \u001b[39m %117 = Base.indexed_iterate(%116, 1)\u001b[91m\u001b[1m::Any\u001b[22m\u001b[39m\n",
      "\u001b[90m│   \u001b[39m        (key@_35 = Core.getfield(%117, 1))\n",
      "\u001b[90m│   \u001b[39m        (@_33 = Core.getfield(%117, 2))\n",
      "\u001b[90m│   \u001b[39m %120 = Base.indexed_iterate(%116, 2, @_33)\u001b[91m\u001b[1m::Any\u001b[22m\u001b[39m\n",
      "\u001b[90m│   \u001b[39m        (boxset@_34 = Core.getfield(%120, 1))"
     ]
    },
    {
     "name": "stdout",
     "output_type": "stream",
     "text": [
      "\n",
      "\u001b[90m│   \u001b[39m %122 = Core.getfield(%115, 2)\u001b[91m\u001b[1m::Any\u001b[22m\u001b[39m\n",
      "\u001b[90m│   \u001b[39m %123 = zs\u001b[36m::IntervalTrees.IntervalBTree{Float64, IntervalValue{Float64, Array}, 64}\u001b[39m\n",
      "\u001b[90m│   \u001b[39m %124 = boxset@_34\u001b[91m\u001b[1m::Any\u001b[22m\u001b[39m\n",
      "\u001b[90m│   \u001b[39m %125 = Core._apply_iterate(Base.iterate, Main.tuple, key@_35)\u001b[91m\u001b[1m::Tuple\u001b[22m\u001b[39m\n",
      "\u001b[90m│   \u001b[39m        Base.setindex!(%123, %124, %125)\n",
      "\u001b[90m│   \u001b[39m        (@_5 = Base.iterate(%110, %122))\n",
      "\u001b[90m│   \u001b[39m %128 = (@_5 === nothing)\u001b[36m::Bool\u001b[39m\n",
      "\u001b[90m│   \u001b[39m %129 = Base.not_int(%128)\u001b[36m::Bool\u001b[39m\n",
      "\u001b[90m└───\u001b[39m        goto #11 if not %129\n",
      "\u001b[90m10 ─\u001b[39m        goto #9\n",
      "\u001b[90m11 ┄\u001b[39m %132 = Base.getproperty(Main.Lar, :boxcovering)\u001b[91m\u001b[1m::Any\u001b[22m\u001b[39m\n",
      "\u001b[90m│   \u001b[39m %133 = bboxes\u001b[91m\u001b[1m::Vector\u001b[22m\u001b[39m\n",
      "\u001b[90m│   \u001b[39m        (zcovers = (%132)(%133, 3, zs))\n",
      "\u001b[90m│   \u001b[39m        (#35 = %new(Main.:"
     ]
    },
    {
     "name": "stdout",
     "output_type": "stream",
     "text": [
      "(var\"#35#39\")))\n",
      "\u001b[90m│   \u001b[39m %136 = #35\u001b[36m::Core.Const(var\"#35#39\"())\u001b[39m\n",
      "\u001b[90m│   \u001b[39m %137 = Main.zip(zcovers, covers)\u001b[91m\u001b[1m::Union{DataStructures.ZippedSparseIntSetIterator{Tuple{DataStructures.SparseIntSet, DataStructures.SparseIntSet}, Tuple{}}, Base.Iterators.Zip}\u001b[22m\u001b[39m\n",
      "\u001b[90m│   \u001b[39m %138 = Base.Generator(%136, %137)\u001b[91m\u001b[1m::Base.Generator{_A, var\"#35#39\"} where _A\u001b[22m\u001b[39m\n",
      "\u001b[90m└───\u001b[39m        (covers = Base.collect(%138))\n",
      "\u001b[90m12 ┄\u001b[39m %140 = Main.length(covers)\u001b[91m\u001b[1m::Any\u001b[22m\u001b[39m\n",
      "\u001b[90m│   \u001b[39m %141 = (1:%140)\u001b[91m\u001b[1m::Any\u001b[22m\u001b[39m\n",
      "\u001b[90m│   \u001b[39m        (@_3 = Base.iterate(%141))\n",
      "\u001b[90m│   \u001b[39m %143 = (@_3 === nothing)\u001b[36m::Bool\u001b[39m\n",
      "\u001b[90m│   \u001b[39m %144 = Base.not_int(%143)\u001b[36m::Bool\u001b[39m\n",
      "\u001b[90m└───\u001b[39m        goto #15 if not %144\n",
      "\u001b[90m13 ┄\u001b[39m %146 = @_3\u001b[91m\u001b[1m::Any\u001b[22m\u001b[39m\n",
      "\u001b[90m│   \u001b[39m        (k = Core.getfield(%146, 1))\n",
      "\u001b[90m│   \u001b[39m %148 = Core.getfield(%"
     ]
    },
    {
     "name": "stdout",
     "output_type": "stream",
     "text": [
      "146, 2)\u001b[91m\u001b[1m::Any\u001b[22m\u001b[39m\n",
      "\u001b[90m│   \u001b[39m %149 = Base.getindex(covers, k)\u001b[91m\u001b[1m::Any\u001b[22m\u001b[39m\n",
      "\u001b[90m│   \u001b[39m %150 = Base.vect(k)\u001b[91m\u001b[1m::Vector\u001b[22m\u001b[39m\n",
      "\u001b[90m│   \u001b[39m %151 = Main.setdiff(%149, %150)\u001b[91m\u001b[1m::Any\u001b[22m\u001b[39m\n",
      "\u001b[90m│   \u001b[39m        Base.setindex!(covers, %151, k)\n",
      "\u001b[90m│   \u001b[39m        (@_3 = Base.iterate(%141, %148))\n",
      "\u001b[90m│   \u001b[39m %154 = (@_3 === nothing)\u001b[36m::Bool\u001b[39m\n",
      "\u001b[90m│   \u001b[39m %155 = Base.not_int(%154)\u001b[36m::Bool\u001b[39m\n",
      "\u001b[90m└───\u001b[39m        goto #15 if not %155\n",
      "\u001b[90m14 ─\u001b[39m        goto #13\n",
      "\u001b[90m15 ┄\u001b[39m %158 = Base.convert(%14, covers)\u001b[91m\u001b[1m::Any\u001b[22m\u001b[39m\n",
      "\u001b[90m│   \u001b[39m %159 = Core.typeassert(%158, %14)\u001b[36m::Vector{Vector{Int64}}\u001b[39m\n",
      "\u001b[90m└───\u001b[39m        return %159\n",
      "\n"
     ]
    }
   ],
   "source": [
    "@code_warntype spaceindex((V,EV))"
   ]
  },
  {
   "cell_type": "code",
   "execution_count": 56,
   "id": "ebeafb13",
   "metadata": {},
   "outputs": [
    {
     "data": {
      "text/plain": [
       "BenchmarkTools.Trial: 10000 samples with 1 evaluation.\n",
       " Range \u001b[90m(\u001b[39m\u001b[36m\u001b[1mmin\u001b[22m\u001b[39m … \u001b[35mmax\u001b[39m\u001b[90m):  \u001b[39m\u001b[36m\u001b[1m 79.500 μs\u001b[22m\u001b[39m … \u001b[35m 20.867 ms\u001b[39m  \u001b[90m┊\u001b[39m GC \u001b[90m(\u001b[39mmin … max\u001b[90m): \u001b[39m0.00% … 94.20%\n",
       " Time  \u001b[90m(\u001b[39m\u001b[34m\u001b[1mmedian\u001b[22m\u001b[39m\u001b[90m):     \u001b[39m\u001b[34m\u001b[1m 94.700 μs               \u001b[22m\u001b[39m\u001b[90m┊\u001b[39m GC \u001b[90m(\u001b[39mmedian\u001b[90m):    \u001b[39m0.00%\n",
       " Time  \u001b[90m(\u001b[39m\u001b[32m\u001b[1mmean\u001b[22m\u001b[39m ± \u001b[32mσ\u001b[39m\u001b[90m):   \u001b[39m\u001b[32m\u001b[1m131.688 μs\u001b[22m\u001b[39m ± \u001b[32m381.138 μs\u001b[39m  \u001b[90m┊\u001b[39m GC \u001b[90m(\u001b[39mmean ± σ\u001b[90m):  \u001b[39m8.04% ±  2.93%\n",
       "\n",
       "  \u001b[39m▄\u001b[39m█\u001b[39m█\u001b[34m▆\u001b[39m\u001b[39m▅\u001b[39m▄\u001b[39m▄\u001b[39m▃\u001b[39m▂\u001b[32m▂\u001b[39m\u001b[39m▂\u001b[39m \u001b[39m▁\u001b[39m \u001b[39m \u001b[39m \u001b[39m \u001b[39m \u001b[39m \u001b[39m \u001b[39m \u001b[39m \u001b[39m▂\u001b[39m▃\u001b[39m▃\u001b[39m▂\u001b[39m▂\u001b[39m▁\u001b[39m \u001b[39m \u001b[39m \u001b[39m \u001b[39m \u001b[39m \u001b[39m \u001b[39m \u001b[39m \u001b[39m \u001b[39m \u001b[39m \u001b[39m \u001b[39m \u001b[39m \u001b[39m \u001b[39m \u001b[39m \u001b[39m \u001b[39m \u001b[39m \u001b[39m \u001b[39m \u001b[39m \u001b[39m \u001b[39m \u001b[39m \u001b[39m \u001b[39m \u001b[39m \u001b[39m \u001b[39m \u001b[39m \u001b[39m \u001b[39m▂\n",
       "  \u001b[39m█\u001b[39m█\u001b[39m█\u001b[34m█\u001b[39m\u001b[39m█\u001b[39m█\u001b[39m█\u001b[39m█\u001b[39m█\u001b[32m█\u001b[39m\u001b[39m█\u001b[39m█\u001b[39m█\u001b[39m█\u001b[39m█\u001b[39m█\u001b[39m█\u001b[39m█\u001b[39m█\u001b[39m█\u001b[39m█\u001b[39m█\u001b[39m█\u001b[39m█\u001b[39m█\u001b[39m█\u001b[39m█\u001b[39m█\u001b[39m█\u001b[39m▇\u001b[39m█\u001b[39m▇\u001b[39m▇\u001b[39m▇\u001b[39m▆\u001b[39m▇\u001b[39m▇\u001b[39m▆\u001b[39m▅\u001b[39m▆\u001b[39m▆\u001b[39m▅\u001b[39m▆\u001b[39m▅\u001b[39m▅\u001b[39m▅\u001b[39m▅\u001b[39m▄\u001b[39m▅\u001b[39m▄\u001b[39m▅\u001b[39m▄\u001b[39m▄\u001b[39m▅\u001b[39m▅\u001b[39m▅\u001b[39m▅\u001b[39m▄\u001b[39m▅\u001b[39m▄\u001b[39m▅\u001b[39m \u001b[39m█\n",
       "  79.5 μs\u001b[90m       \u001b[39m\u001b[90mHistogram: \u001b[39m\u001b[90m\u001b[1mlog(\u001b[22m\u001b[39m\u001b[90mfrequency\u001b[39m\u001b[90m\u001b[1m)\u001b[22m\u001b[39m\u001b[90m by time\u001b[39m        419 μs \u001b[0m\u001b[1m<\u001b[22m\n",
       "\n",
       " Memory estimate\u001b[90m: \u001b[39m\u001b[33m49.00 KiB\u001b[39m, allocs estimate\u001b[90m: \u001b[39m\u001b[33m1097\u001b[39m."
      ]
     },
     "metadata": {},
     "output_type": "display_data"
    }
   ],
   "source": [
    "@benchmark spaceindex((V,EV))"
   ]
  },
  {
   "cell_type": "markdown",
   "id": "06de2697",
   "metadata": {},
   "source": [
    "### Versione parallelizzata di spaceindex"
   ]
  },
  {
   "cell_type": "code",
   "execution_count": 57,
   "id": "2ab357c6",
   "metadata": {},
   "outputs": [
    {
     "data": {
      "text/plain": [
       "spaceindex2 (generic function with 1 method)"
      ]
     },
     "metadata": {},
     "output_type": "display_data"
    }
   ],
   "source": [
    "function spaceindex2(model::Lar.LAR)::Array{Array{Int,1},1}\n",
    "\tV,CV = model[1:2]\n",
    "    dim = size(V,1)\n",
    "    \n",
    "    cellpoints = [ V[:,CV[k]]::Lar.Points for k=1:length(CV) ]\t\t    # calcola le celle\n",
    "    bboxes = [hcat(boundingbox2(cell)...) for cell in cellpoints]       # calcola i boundingbox delle celle\n",
    "    \n",
    "    xboxdict = Threads.@spawn coordintervals(1,bboxes)\n",
    "    yboxdict = Threads.@spawn coordintervals(2,bboxes)\n",
    "\n",
    "    # xs,ys sono di tipo IntervalTree\n",
    "    xs = Threads.@spawn createIntervalTree(fetch(xboxdict))\n",
    "    ys = Threads.@spawn createIntervalTree(fetch(yboxdict))\n",
    "    \n",
    "    xcovers = Threads.@spawn boxcovering2(bboxes, 1, fetch(xs))                        # lista delle intersezioni dei bb sulla coordinata x\n",
    "    ycovers = Threads.@spawn boxcovering2(bboxes, 2, fetch(ys))                        # lista delle intersezioni dei bb sulla coordinata x\n",
    "    covers = [intersect(pair...) for pair in zip(fetch(xcovers),fetch(ycovers))]       # lista delle intersezioni dei bb su entrambe le coordinate\n",
    "\n",
    "    if dim == 3\n",
    "        zboxdict = Threads.@spawn coordintervals(3,bboxes)\n",
    "        zs = Threads.@spawn createIntervalTree(fetch(zboxdict))\n",
    "        zcovers = Threads.@spawn boxcovering2(bboxes, 3, fetch(zs))\n",
    "        covers = [intersect(pair...) for pair in zip(fetch(zcovers),covers)]\n",
    "    end\n",
    "    \n",
    "    removeIntersection(covers)  # rimozione delle intersezioni con se stesso\n",
    "    return covers\n",
    "end"
   ]
  },
  {
   "cell_type": "code",
   "execution_count": 58,
   "id": "0c36ef1a",
   "metadata": {},
   "outputs": [
    {
     "name": "stdout",
     "output_type": "stream",
     "text": [
      "  47.800 μs (538 allocations: 40.08 KiB)\n"
     ]
    },
    {
     "data": {
      "text/plain": [
       "5-element Vector{Vector{Int64}}:\n",
       " [4, 5, 2]\n",
       " [1, 3, 5]\n",
       " [4, 5, 2]\n",
       " [1, 3, 5]\n",
       " [4, 1, 3, 2]"
      ]
     },
     "metadata": {},
     "output_type": "display_data"
    }
   ],
   "source": [
    "@btime spaceindex2((V,EV))"
   ]
  },
  {
   "cell_type": "code",
   "execution_count": 59,
   "id": "ea225165",
   "metadata": {},
   "outputs": [
    {
     "data": {
      "text/plain": [
       "BenchmarkTools.Trial: 10000 samples with 1 evaluation.\n",
       " Range \u001b[90m(\u001b[39m\u001b[36m\u001b[1mmin\u001b[22m\u001b[39m … \u001b[35mmax\u001b[39m\u001b[90m):  \u001b[39m\u001b[36m\u001b[1m47.400 μs\u001b[22m\u001b[39m … \u001b[35m 16.780 ms\u001b[39m  \u001b[90m┊\u001b[39m GC \u001b[90m(\u001b[39mmin … max\u001b[90m): \u001b[39m0.00% … 97.71%\n",
       " Time  \u001b[90m(\u001b[39m\u001b[34m\u001b[1mmedian\u001b[22m\u001b[39m\u001b[90m):     \u001b[39m\u001b[34m\u001b[1m59.400 μs               \u001b[22m\u001b[39m\u001b[90m┊\u001b[39m GC \u001b[90m(\u001b[39mmedian\u001b[90m):    \u001b[39m0.00%\n",
       " Time  \u001b[90m(\u001b[39m\u001b[32m\u001b[1mmean\u001b[22m\u001b[39m ± \u001b[32mσ\u001b[39m\u001b[90m):   \u001b[39m\u001b[32m\u001b[1m85.888 μs\u001b[22m\u001b[39m ± \u001b[32m268.932 μs\u001b[39m  \u001b[90m┊\u001b[39m GC \u001b[90m(\u001b[39mmean ± σ\u001b[90m):  \u001b[39m7.73% ±  2.60%\n",
       "\n",
       "  \u001b[39m▃\u001b[39m█\u001b[39m█\u001b[34m▇\u001b[39m\u001b[39m▆\u001b[39m▅\u001b[39m▅\u001b[39m▄\u001b[39m▃\u001b[39m▂\u001b[39m▂\u001b[32m▂\u001b[39m\u001b[39m▁\u001b[39m▁\u001b[39m▂\u001b[39m▂\u001b[39m▁\u001b[39m▁\u001b[39m▁\u001b[39m \u001b[39m▁\u001b[39m▁\u001b[39m▂\u001b[39m▃\u001b[39m▄\u001b[39m▄\u001b[39m▂\u001b[39m▂\u001b[39m▁\u001b[39m \u001b[39m \u001b[39m \u001b[39m \u001b[39m \u001b[39m \u001b[39m \u001b[39m \u001b[39m \u001b[39m \u001b[39m \u001b[39m \u001b[39m \u001b[39m \u001b[39m \u001b[39m \u001b[39m \u001b[39m \u001b[39m \u001b[39m \u001b[39m \u001b[39m \u001b[39m \u001b[39m \u001b[39m \u001b[39m \u001b[39m \u001b[39m \u001b[39m \u001b[39m \u001b[39m \u001b[39m \u001b[39m▂\n",
       "  \u001b[39m█\u001b[39m█\u001b[39m█\u001b[34m█\u001b[39m\u001b[39m█\u001b[39m█\u001b[39m█\u001b[39m█\u001b[39m█\u001b[39m█\u001b[39m█\u001b[32m█\u001b[39m\u001b[39m█\u001b[39m█\u001b[39m█\u001b[39m█\u001b[39m█\u001b[39m█\u001b[39m█\u001b[39m█\u001b[39m█\u001b[39m█\u001b[39m█\u001b[39m█\u001b[39m█\u001b[39m█\u001b[39m█\u001b[39m█\u001b[39m█\u001b[39m█\u001b[39m▇\u001b[39m▇\u001b[39m▇\u001b[39m▇\u001b[39m▆\u001b[39m▆\u001b[39m▆\u001b[39m▆\u001b[39m▆\u001b[39m▅\u001b[39m▅\u001b[39m▄\u001b[39m▅\u001b[39m▆\u001b[39m▆\u001b[39m▅\u001b[39m▅\u001b[39m▆\u001b[39m▆\u001b[39m▇\u001b[39m▆\u001b[39m▆\u001b[39m▅\u001b[39m▅\u001b[39m▅\u001b[39m▅\u001b[39m▄\u001b[39m▅\u001b[39m▅\u001b[39m▅\u001b[39m \u001b[39m█\n",
       "  47.4 μs\u001b[90m       \u001b[39m\u001b[90mHistogram: \u001b[39m\u001b[90m\u001b[1mlog(\u001b[22m\u001b[39m\u001b[90mfrequency\u001b[39m\u001b[90m\u001b[1m)\u001b[22m\u001b[39m\u001b[90m by time\u001b[39m       263 μs \u001b[0m\u001b[1m<\u001b[22m\n",
       "\n",
       " Memory estimate\u001b[90m: \u001b[39m\u001b[33m40.08 KiB\u001b[39m, allocs estimate\u001b[90m: \u001b[39m\u001b[33m538\u001b[39m."
      ]
     },
     "metadata": {},
     "output_type": "display_data"
    }
   ],
   "source": [
    "@benchmark spaceindex2((V,EV))"
   ]
  },
  {
   "cell_type": "markdown",
   "id": "a3cac295",
   "metadata": {},
   "source": [
    "### Funzione intersection\n",
    "Funzione utilizzata per l’intersezione di due segmenti di linea in 2D, Restituisce in output i due parametri di linea del punto di intersezione. I segmenti si intersecano se entrambi i parametri di ritorno, α e β, sono contenuti nell'intervallo [0, 1].\n"
   ]
  },
  {
   "cell_type": "code",
   "execution_count": 60,
   "id": "7793a932",
   "metadata": {},
   "outputs": [
    {
     "data": {
      "text/plain": [
       "intersection (generic function with 1 method)"
      ]
     },
     "metadata": {},
     "output_type": "display_data"
    }
   ],
   "source": [
    "function intersection(line1,line2)\n",
    "\tx1,y1,x2,y2 = vcat(line1...)\n",
    "\tx3,y3,x4,y4 = vcat(line2...)\n",
    "\n",
    "\t# intersect lines e1,e2\n",
    "\tdet = (x4-x3)*(y1-y2)-(x1-x2)*(y4-y3)\n",
    "\tif det != 0.0\n",
    "\t\ta = 1/det\n",
    "\t\tb = [y1-y2 x2-x1; y3-y4 x4-x3]\n",
    "\t\tc = [x1-x3; y1-y3]\n",
    "\t\t(β,α) = a * b * c\n",
    "\telse\n",
    "\t\tif (y1==y2) == (y3==y4) || (x1==x2) == (x3==x4) # segments collinear\n",
    "\t\t\t return nothing\n",
    "\t\telse\n",
    "\t\t\t # segments parallel: no intersection\n",
    "\t\t\t return nothing\n",
    "\t\tend\n",
    "\tend\n",
    "\treturn α,β\n",
    "end"
   ]
  },
  {
   "cell_type": "markdown",
   "id": "1b6e2411",
   "metadata": {},
   "source": [
    "### Versione iniziale congruence\n",
    "Prende in input un model di tipo Lar.LAR, inizializza un BallTree, che divide ricorsivamente i punti in gruppi delimitati da ipersfere, un raggio di ricerca e un array vuoto di W elementi (W = matrice 2xW). Per ogni vertice cerca i vertici più vicini nel raggio R e li sostituisce. Crea un dizionario chiave, valore (id nuovi vertici) che verrà poi utilizzato per etichettare i vertici degli spigoli in EW."
   ]
  },
  {
   "cell_type": "code",
   "execution_count": 61,
   "id": "43273a5f",
   "metadata": {},
   "outputs": [
    {
     "data": {
      "text/plain": [
       "congruence (generic function with 1 method)"
      ]
     },
     "metadata": {},
     "output_type": "display_data"
    }
   ],
   "source": [
    "function congruence(model)\n",
    "\tW,EW = model\n",
    "\t# congruent vertices\n",
    "\tballtree = NearestNeighbors.BallTree(W)\n",
    "\tr = 0.0000000001\n",
    "\tnear = Array{Any}(undef, size(W,2))\n",
    "\tfor k=1:size(W,2)\n",
    "\t\tnear[k] = union([NearestNeighbors.inrange(balltree, W[:,k], r, true)]...)\n",
    "\tend\n",
    "\tnear = map(sort,near) \n",
    "\tfor k=1:size(W,2)\n",
    "\t\tW[:,k] = W[:,near[k][1]]\n",
    "\tend\n",
    "\tpointidx = [ near[k][1] for k=1:size(W,2) ]  # check !!\n",
    "\tinvidx = OrderedDict(zip(1:length(pointidx), pointidx))\n",
    "\tV = [W[:,k] for k=1:length(pointidx)]\n",
    "\t# congruent edges\n",
    "\tEV = []\n",
    "\tfor e in (EW)\n",
    "\t\tnewedge = [invidx[e[1]],invidx[e[2]]]\n",
    "\t\tif newedge[1] !== newedge[2]\n",
    "\t\t\tpush!(EV,newedge)\n",
    "\t\tend\n",
    "\tend\n",
    "\tEV = [EV[h] for h=1:length(EV) if length(EV[h])==2]\n",
    "\tEV = convert(Lar.Cells, EV)\n",
    "\t\n",
    "\treturn hcat(V...),EV\n",
    "end"
   ]
  },
  {
   "cell_type": "code",
   "execution_count": 62,
   "id": "d2bd0628",
   "metadata": {},
   "outputs": [
    {
     "name": "stdout",
     "output_type": "stream",
     "text": [
      "  16.600 μs (176 allocations: 9.83 KiB)\n"
     ]
    },
    {
     "data": {
      "text/plain": [
       "([0.0 1.0 … 0.0 2.0; 0.0 0.0 … 1.0 1.0], [[1, 2], [2, 3], [3, 4], [4, 1], [1, 5]])"
      ]
     },
     "metadata": {},
     "output_type": "display_data"
    }
   ],
   "source": [
    "@btime congruence((V,EV))\n"
   ]
  },
  {
   "cell_type": "code",
   "execution_count": 63,
   "id": "2edcd29c",
   "metadata": {},
   "outputs": [
    {
     "name": "stdout",
     "output_type": "stream",
     "text": [
      "MethodInstance for congruence(::Tuple{Matrix{Float64}, Vector{Vector{Int64}}})\n",
      "  from congruence(model) in Main at c:\\Users\\giord\\eclipse-SIW\\LARSplitting2D\\notebooks\\refactoringAnalisi.ipynb:1\n",
      "Arguments\n",
      "  #self#\u001b[36m::Core.Const(congruence)\u001b[39m\n",
      "  model\u001b[36m::Tuple{Matrix{Float64}, Vector{Vector{Int64}}}\u001b[39m\n",
      "Locals\n",
      "  #69\u001b[36m::var\"#69#73\"\u001b[39m\n",
      "  #68\u001b[36m::var\"#68#72\"\u001b[39m\n",
      "  @_5\u001b[33m\u001b[1m::Union{Nothing, Tuple{Vector{Int64}, Int64}}\u001b[22m\u001b[39m\n",
      "  #67\u001b[36m::var\"#67#71\"{Matrix{Float64}}\u001b[39m\n",
      "  #66\u001b[36m::var\"#66#70\"\u001b[39m\n",
      "  @_8\u001b[33m\u001b[1m::Union{Nothing, Tuple{Int64, Int64}}\u001b[22m\u001b[39m\n",
      "  @_9\u001b[33m\u001b[1m::Union{Nothing, Tuple{Int64, Int64}}\u001b[22m\u001b[39m\n",
      "  @_10\u001b[36m::Int64\u001b[39m\n",
      "  EV@_11\u001b[91m\u001b[1m::Core.Box\u001b[22m\u001b[39m"
     ]
    },
    {
     "name": "stdout",
     "output_type": "stream",
     "text": [
      "\n",
      "  V\u001b[36m::Vector{Vector{Float64}}\u001b[39m\n",
      "  invidx\u001b[91m\u001b[1m::OrderedDict\u001b[22m\u001b[39m\n",
      "  pointidx\u001b[91m\u001b[1m::Vector\u001b[22m\u001b[39m\n",
      "  near@_15\u001b[91m\u001b[1m::Core.Box\u001b[22m\u001b[39m\n",
      "  r\u001b[36m::Float64\u001b[39m\n",
      "  balltree\u001b[91m\u001b[1m::BallTree{_A, _B, _C, Euclidean} where {_A<:(AbstractVector), _B, _C}\u001b[22m\u001b[39m\n",
      "  EW\u001b[36m::Vector{Vector{Int64}}\u001b[39m\n",
      "  W\u001b[36m::Matrix{Float64}\u001b[39m\n",
      "  k@_20\u001b[36m::Int64\u001b[39m\n",
      "  k@_21\u001b[36m::Int64\u001b[39m\n",
      "  e\u001b[36m::Vector{Int64}\u001b[39m\n",
      "  newedge\u001b[91m\u001b[1m::Vector\u001b[22m\u001b[39m\n",
      "  near@_24\u001b[36m::Union{}\u001b[39m\n",
      "  near@_25\u001b[36m::Union{}\u001b[39m\n",
      "  near@_26\u001b[36m::Union{}\u001b[39m\n",
      "  EV@_27\u001b[36m::Union{}\u001b[39m\n",
      "  EV@_28\u001b[36m::Union{}\u001b[39m\n",
      "  EV@_29\u001b[36m::Union{}\u001b[39m\n",
      "  EV@_30\u001b[36m::Union{}\u001b[39m\n",
      "Body\u001b[91m\u001b[1m::Tuple{Union{Matrix, Vector{Any}}, Any}\u001b[22m\u001b[39m\n",
      "\u001b[90m1 ──\u001b[39m        Core.NewvarNode(:(#69))\n",
      "\u001b[90m│   \u001b[39m        Core.NewvarNode(:(#68))\n",
      "\u001b[90m│   \u001b[39m        Core.NewvarNode(:(@_5))\n",
      "\u001b[90m│   \u001b[39m        Core.NewvarNode"
     ]
    },
    {
     "name": "stdout",
     "output_type": "stream",
     "text": [
      "(:(#67))\n",
      "\u001b[90m│   \u001b[39m        Core.NewvarNode(:(#66))\n",
      "\u001b[90m│   \u001b[39m        Core.NewvarNode(:(@_8))\n",
      "\u001b[90m│   \u001b[39m        (EV@_11 = Core.Box())\n",
      "\u001b[90m│   \u001b[39m        Core.NewvarNode(:(V))\n",
      "\u001b[90m│   \u001b[39m        Core.NewvarNode(:(invidx))\n",
      "\u001b[90m│   \u001b[39m        Core.NewvarNode(:(pointidx))\n",
      "\u001b[90m│   \u001b[39m        (near@_15 = Core.Box())\n",
      "\u001b[90m│   \u001b[39m %12  = Base.indexed_iterate(model, 1)\u001b[36m::Core.PartialStruct(Tuple{Matrix{Float64}, Int64}, Any[Matrix{Float64}, Core.Const(2)])\u001b[39m\n",
      "\u001b[90m│   \u001b[39m        (W = Core.getfield(%12, 1))\n",
      "\u001b[90m│   \u001b[39m"
     ]
    },
    {
     "name": "stdout",
     "output_type": "stream",
     "text": [
      "        (@_10 = Core.getfield(%12, 2))\n",
      "\u001b[90m│   \u001b[39m %15  = Base.indexed_iterate(model, 2, @_10::Core.Const(2))\u001b[36m::Core.PartialStruct(Tuple{Vector{Vector{Int64}}, Int64}, Any[Vector{Vector{Int64}}, Core.Const(3)])\u001b[39m\n",
      "\u001b[90m│   \u001b[39m        (EW = Core.getfield(%15, 1))\n",
      "\u001b[90m│   \u001b[39m %17  = NearestNeighbors.BallTree\u001b[36m::Core.Const(BallTree)\u001b[39m\n",
      "\u001b[90m│   \u001b[39m        (balltree = (%17)(W))\n",
      "\u001b[90m│   \u001b[39m        (r = 1.0e-10)\n",
      "\u001b[90m│   \u001b[39m %20  = Core.apply_type(Main.Array, Main.Any)\u001b[36m::Core.Const(Array{Any})\u001b[39m\n",
      "\u001b[90m│   \u001b[39m %21  = Main.size(W, 2)\u001b[36m::Int64\u001b[39m\n",
      "\u001b[90m│   \u001b[39m %22  = (%20)(Main.undef, %21)\u001b[36m::Vector{Any}\u001b[39m\n",
      "\u001b[90m│   \u001b[39m        Core.setfield!(near@_15, :contents, %22)\n",
      "\u001b[90m│   \u001b[39m %24  "
     ]
    },
    {
     "name": "stdout",
     "output_type": "stream",
     "text": [
      "= Main.size(W, 2)\u001b[36m::Int64\u001b[39m\n",
      "\u001b[90m│   \u001b[39m %25  = (1:%24)\u001b[36m::Core.PartialStruct(UnitRange{Int64}, Any[Core.Const(1), Int64])\u001b[39m\n",
      "\u001b[90m│   \u001b[39m        (@_9 = Base.iterate(%25))\n",
      "\u001b[90m│   \u001b[39m %27  = (@_9 === nothing)\u001b[36m::Bool\u001b[39m\n",
      "\u001b[90m│   \u001b[39m %28  = Base.not_int(%27)\u001b[36m::Bool\u001b[39m\n",
      "\u001b[90m└───\u001b[39m        goto #7 if not %28\n",
      "\u001b[90m2 ┄─\u001b[39m %30  = @_9\u001b[36m::Tuple{Int64, Int64}\u001b[39m\n",
      "\u001b[90m│   \u001b[39m        (k@_20 = Core.getfield(%30, 1))\n",
      "\u001b[90m│   \u001b[39m %32  = Core.getfield(%30, 2)\u001b[36m::Int64\u001b[39m\n",
      "\u001b[90m│   \u001b[39m %33  = NearestNeighbors.inrange\u001b[36m::Core.Const(NearestNeighbors.inrange)\u001b[39m\n",
      "\u001b[90m│   \u001b[39m %34  = balltree\u001b[91m\u001b[1m::BallTree{_A, _B, _C, Euclidean} where {_A<:(AbstractVector), _B, _C}\u001b[22m\u001b[39m\n",
      "\u001b[90m│   \u001b[39m %35  = Base.getindex(W, Main.:(:), k@_20)\u001b[36m::Vector{Float64}\u001b[39m\n",
      "\u001b[90m│   \u001b[39m %36  = r\u001b[36m::Core.Const(1.0e-10)\u001b[39m\n",
      "\u001b[90m│   \u001b[39m %37  = (%33)(%34, %35, %36, true)\u001b[36m::Vector{Int64}\u001b[39m\n",
      "\u001b[90m│   \u001b[39m"
     ]
    },
    {
     "name": "stdout",
     "output_type": "stream",
     "text": [
      " %38  = Base.vect(%37)\u001b[36m::Vector{Vector{Int64}}\u001b[39m\n",
      "\u001b[90m│   \u001b[39m %39  = Core._apply_iterate(Base.iterate, Main.union, %38)\u001b[36m::Vector{Int64}\u001b[39m\n",
      "\u001b[90m│   \u001b[39m %40  = Core.isdefined(near@_15, :contents)\u001b[36m::Bool\u001b[39m\n",
      "\u001b[90m└───\u001b[39m        goto #4 if not %40\n",
      "\u001b[90m3 ──\u001b[39m        goto #5\n",
      "\u001b[90m4 ──\u001b[39m        Core.NewvarNode(:(near@_24))\n",
      "\u001b[90m└───\u001b[39m        near@_24\n",
      "\u001b[90m5 ┄─\u001b[39m %45  = Core.getfield(near@_15, :contents)\u001b[91m\u001b[1m::Any\u001b[22m\u001b[39m\n",
      "\u001b[90m│   \u001b[39m        Base.setindex!(%45, %39, k@_20)\n",
      "\u001b[90m│   \u001b[39m        (@_9 = Base.iterate(%25, %32))\n",
      "\u001b[90m│   \u001b[39m %48  = (@_9 === nothing)\u001b[36m::Bool\u001b[39m\n",
      "\u001b[90m│   \u001b[39m %49  = Base.not_int(%48)\u001b[36m::Bool\u001b[39m\n",
      "\u001b[90m└───\u001b[39m        goto #7 if not %49\n",
      "\u001b[90m6 ──\u001b[39m        goto #"
     ]
    },
    {
     "name": "stdout",
     "output_type": "stream",
     "text": [
      "2\n",
      "\u001b[90m7 ┄─\u001b[39m %52  = Core.isdefined(near@_15, :contents)\u001b[36m::Bool\u001b[39m\n",
      "\u001b[90m└───\u001b[39m        goto #9 if not %52\n",
      "\u001b[90m8 ──\u001b[39m        goto #10\n",
      "\u001b[90m9 ──\u001b[39m        Core.NewvarNode(:(near@_25))\n",
      "\u001b[90m└───\u001b[39m        near@_25\n",
      "\u001b[90m10 ┄\u001b[39m %57  = Core.getfield(near@_15, :contents)\u001b[91m\u001b[1m::Any\u001b[22m\u001b[39m\n",
      "\u001b[90m│   \u001b[39m %58  = Main.map(Main.sort, %57)\u001b[91m\u001b[1m::Any\u001b[22m\u001b[39m\n",
      "\u001b[90m│   \u001b[39m        Core.setfield!(near@_15, :contents, %58)\n",
      "\u001b[90m│   \u001b[39m %60  = Main.size(W, 2)\u001b[36m::Int64\u001b[39m\n",
      "\u001b[90m│   \u001b[39m %61  = (1:%60)\u001b[36m::Core.PartialStruct(UnitRange{Int64}, Any[Core.Const(1), Int64])\u001b[39m\n",
      "\u001b[90m│   \u001b[39m        (@_8 = Base.iterate(%61))\n",
      "\u001b[90m│   \u001b[39m %63  = (@_8 === nothing)\u001b[36m::Bool\u001b[39m\n",
      "\u001b[90m│   \u001b[39m %64  = Base.not_int(%63)\u001b[36m::Bool\u001b[39m\n",
      "\u001b[90m└───\u001b[39m        goto #16 if not %64\n",
      "\u001b[90m11 ┄\u001b[39m %66  = @_8\u001b[36m::Tuple{Int64, Int64}\u001b[39m\n",
      "\u001b[90m│   \u001b[39m        (k@_21 = Core.getfield(%66, 1))\n",
      "\u001b[90m│   \u001b[39m"
     ]
    },
    {
     "name": "stdout",
     "output_type": "stream",
     "text": [
      " %68  = Core.getfield(%66, 2)\u001b[36m::Int64\u001b[39m\n",
      "\u001b[90m│   \u001b[39m %69  = W\u001b[36m::Matrix{Float64}\u001b[39m\n",
      "\u001b[90m│   \u001b[39m %70  = Core.isdefined(near@_15, :contents)\u001b[36m::Bool\u001b[39m\n",
      "\u001b[90m└───\u001b[39m        goto #13 if not %70\n",
      "\u001b[90m12 ─\u001b[39m        goto #14\n",
      "\u001b[90m13 ─\u001b[39m        Core.NewvarNode(:(near@_26))\n",
      "\u001b[90m└───\u001b[39m        near@_26\n",
      "\u001b[90m14 ┄\u001b[39m %75  = Core.getfield(near@_15, :contents)\u001b[91m\u001b[1m::Any\u001b[22m\u001b[39m\n",
      "\u001b[90m│   \u001b[39m %76  = Base.getindex(%75, k@_21)\u001b[91m\u001b[1m::Any\u001b[22m\u001b[39m\n",
      "\u001b[90m│   \u001b[39m %77  = Base.getindex(%76, 1)\u001b[91m\u001b[1m::Any\u001b[22m\u001b[39m\n",
      "\u001b[90m│   \u001b[39m %78  = Base.getindex(%69, Main.:(:), %77)\u001b[91m\u001b[1m::Any\u001b[22m\u001b[39m\n",
      "\u001b[90m│   \u001b[39m"
     ]
    },
    {
     "name": "stdout",
     "output_type": "stream",
     "text": [
      "        Base.setindex!(W, %78, Main.:(:), k@_21)\n",
      "\u001b[90m│   \u001b[39m        (@_8 = Base.iterate(%61, %68))\n",
      "\u001b[90m│   \u001b[39m %81  = (@_8 === nothing)\u001b[36m::Bool\u001b[39m\n",
      "\u001b[90m│   \u001b[39m %82  = Base.not_int(%81)\u001b[36m::Bool\u001b[39m\n",
      "\u001b[90m└───\u001b[39m        goto #16 if not %82\n",
      "\u001b[90m15 ─\u001b[39m        goto #11\n",
      "\u001b[90m16 ┄\u001b[39m        (#66 = %new(Main.:(var\"#66#70\"), near@_15))\n",
      "\u001b[90m│   \u001b[39m %86  = #66\u001b[36m::var\"#66#70\"\u001b[39m\n",
      "\u001b[90m│   \u001b[39m %87  = Main.size(W, 2)\u001b[36m::Int64\u001b[39m\n",
      "\u001b[90m│   \u001b[39m %88  = (1:%87)\u001b[36m::Core.PartialStruct(UnitRange{Int64}, Any[Core.Const(1), Int64])\u001b[39m\n",
      "\u001b[90m│   \u001b[39m %89  = Base.Generator(%86, %88)\u001b[36m::Core.PartialStruct(Base.Generator{UnitRange{Int64}, var\"#66#70\"}, Any[var\"#66#70\", Core.PartialStruct(UnitRange{Int64}, Any[Core.Const(1), Int64])])\u001b[39m\n",
      "\u001b[90m│   \u001b[39m        (pointidx = Base.collect(%89))\n",
      "\u001b[90m│   \u001b[39m %91  = Main.length(pointidx)\u001b[36m::Int64\u001b[39m\n",
      "\u001b[90m│   \u001b[39m %92  = (1:%91)\u001b[36m::Core.PartialStruct(UnitRange{Int64}, Any[Core.Const(1), Int64])\u001b[39m\n",
      "\u001b[90m│   \u001b[39m %93  = Main.zip(%92, pointidx)\u001b[91m\u001b[1m::Base.Iterators.Zip\u001b[22m\u001b[39m\n",
      "\u001b[90m│   \u001b[39m        (invidx = Main.OrderedDict(%93))\n",
      "\u001b[90m│   \u001b[39m %95  = Main.:(var\"#67#71\")\u001b[36m::Core.Const(var\"#67#71\")\u001b[39m"
     ]
    },
    {
     "name": "stdout",
     "output_type": "stream",
     "text": [
      "\n",
      "\u001b[90m│   \u001b[39m %96  = Core.typeof(W)\u001b[36m::Core.Const(Matrix{Float64})\u001b[39m\n",
      "\u001b[90m│   \u001b[39m %97  = Core.apply_type(%95, %96)\u001b[36m::Core.Const(var\"#67#71\"{Matrix{Float64}})\u001b[39m\n",
      "\u001b[90m│   \u001b[39m        (#67 = %new(%97, W))\n",
      "\u001b[90m│   \u001b[39m %99  = #67\u001b[36m::var\"#67#71\"{Matrix{Float64}}\u001b[39m\n",
      "\u001b[90m│   \u001b[39m %100 = Main.length(pointidx)\u001b[36m::Int64\u001b[39m\n",
      "\u001b[90m│   \u001b[39m %101 = (1:%100)\u001b[36m::Core.PartialStruct(UnitRange{Int64}, Any[Core.Const(1), Int64])\u001b[39m\n",
      "\u001b[90m│   \u001b[39m %102 = Base.Generator(%99, %101)\u001b[36m::Core.PartialStruct(Base.Generator{UnitRange{Int64}, var\"#67#71\"{Matrix{Float64}}}, Any[var\"#67#71\"{Matrix{Float64}}, Core.PartialStruct(UnitRange{Int64}, Any[Core.Const(1), Int64])])\u001b[39m\n",
      "\u001b[90m│   \u001b[39m        (V = Base.collect(%102))\n",
      "\u001b[90m│   \u001b[39m %104 = Base.vect()\u001b[36m::Vector{Any}\u001b[39m\n",
      "\u001b[90m│   \u001b[39m        Core.setfield!(EV@_11, :contents, %104)\n",
      "\u001b[90m│   \u001b[39m %106 = EW\u001b[36m::Vector{Vector{Int64}}\u001b[39m\n",
      "\u001b[90m│   \u001b[39m        (@_5 = Base.iterate(%106))\n",
      "\u001b[90m│   \u001b[39m %108 = (@_5 === nothing)\u001b[36m::Bool\u001b[39m\n",
      "\u001b[90m│   \u001b[39m %109 "
     ]
    },
    {
     "name": "stdout",
     "output_type": "stream",
     "text": [
      "= Base.not_int(%108)\u001b[36m::Bool\u001b[39m\n",
      "\u001b[90m└───\u001b[39m        goto #24 if not %109\n",
      "\u001b[90m17 ┄\u001b[39m %111 = @_5\u001b[36m::Tuple{Vector{Int64}, Int64}\u001b[39m\n",
      "\u001b[90m│   \u001b[39m        (e = Core.getfield(%111, 1))\n",
      "\u001b[90m│   \u001b[39m %113 = Core.getfield(%111, 2)\u001b[36m::Int64\u001b[39m\n",
      "\u001b[90m│   \u001b[39m %114 = invidx\u001b[91m\u001b[1m::OrderedDict\u001b[22m\u001b[39m\n",
      "\u001b[90m│   \u001b[39m %115 = Base.getindex(e, 1)\u001b[36m::Int64\u001b[39m\n",
      "\u001b[90m│   \u001b[39m %116 = Base.getindex(%114, %115)\u001b[91m\u001b[1m::Any\u001b[22m\u001b[39m\n",
      "\u001b[90m│   \u001b[39m %117 = invidx\u001b[91m\u001b[1m::OrderedDict\u001b[22m\u001b[39m\n",
      "\u001b[90m│   \u001b[39m %118 = Base.getindex(e, 2)\u001b[36m::Int64\u001b[39m\n",
      "\u001b[90m│   \u001b[39m %119 = Base."
     ]
    },
    {
     "name": "stdout",
     "output_type": "stream",
     "text": [
      "getindex(%117, %118)\u001b[91m\u001b[1m::Any\u001b[22m\u001b[39m\n",
      "\u001b[90m│   \u001b[39m        (newedge = Base.vect(%116, %119))\n",
      "\u001b[90m│   \u001b[39m %121 = Base.getindex(newedge, 1)\u001b[91m\u001b[1m::Any\u001b[22m\u001b[39m\n",
      "\u001b[90m│   \u001b[39m %122 = Base.getindex(newedge, 2)\u001b[91m\u001b[1m::Any\u001b[22m\u001b[39m\n",
      "\u001b[90m│   \u001b[39m %123 = (%121 !== %122)\u001b[36m::Bool\u001b[39m\n",
      "\u001b[90m└───\u001b[39m        goto #22 if not %123\n",
      "\u001b[90m18 ─\u001b[39m %125 = Core.isdefined(EV@_11, :contents)\u001b[36m::Bool\u001b[39m\n",
      "\u001b[90m└───\u001b[39m        goto #20 if not %125\n",
      "\u001b[90m19 ─\u001b[39m        goto #21\n",
      "\u001b[90m20 ─\u001b[39m        Core.NewvarNode(:(EV@_27))\n",
      "\u001b[90m└───\u001b[39m        EV@_27\n",
      "\u001b[90m21 ┄\u001b[39m %130 = Core.getfield(EV@_11, :contents)\u001b[91m\u001b[1m::Any\u001b[22m\u001b[39m\n",
      "\u001b[90m└───\u001b[39m        Main.push!(%130, newedge"
     ]
    },
    {
     "name": "stdout",
     "output_type": "stream",
     "text": [
      ")\n",
      "\u001b[90m22 ┄\u001b[39m        (@_5 = Base.iterate(%106, %113))\n",
      "\u001b[90m│   \u001b[39m %133 = (@_5 === nothing)\u001b[36m::Bool\u001b[39m\n",
      "\u001b[90m│   \u001b[39m %134 = Base.not_int(%133)\u001b[36m::Bool\u001b[39m\n",
      "\u001b[90m└───\u001b[39m        goto #24 if not %134\n",
      "\u001b[90m23 ─\u001b[39m        goto #17\n",
      "\u001b[90m24 ┄\u001b[39m        (#68 = %new(Main.:(var\"#68#72\"), EV@_11))\n",
      "\u001b[90m│   \u001b[39m %138 = #68\u001b[36m::var\"#68#72\"\u001b[39m\n",
      "\u001b[90m│   \u001b[39m        (#69 = %new(Main.:(var\"#69#73\"), EV@_11))\n",
      "\u001b[90m│   \u001b[39m %140 = #69\u001b[36m::var\"#69#73\"\u001b[39m\n",
      "\u001b[90m│   \u001b[39m %141 = Core.isdefined(EV@_11"
     ]
    },
    {
     "name": "stdout",
     "output_type": "stream",
     "text": [
      ", :contents)\u001b[36m::Bool\u001b[39m\n",
      "\u001b[90m└───\u001b[39m        goto #26 if not %141\n",
      "\u001b[90m25 ─\u001b[39m        goto #27\n",
      "\u001b[90m26 ─\u001b[39m        Core.NewvarNode(:(EV@_28))\n",
      "\u001b[90m└───\u001b[39m        EV@_28\n",
      "\u001b[90m27 ┄\u001b[39m %146 = Core.getfield(EV@_11, :contents)\u001b[91m\u001b[1m::Any\u001b[22m\u001b[39m\n",
      "\u001b[90m│   \u001b[39m %147 = Main.length(%146)\u001b[91m\u001b[1m::Any\u001b[22m\u001b[39m\n",
      "\u001b[90m│   \u001b[39m %148 = (1:%147)\u001b[91m\u001b[1m::Any\u001b[22m\u001b[39m\n",
      "\u001b[90m│   \u001b[39m %149 = Base.Filter(%140, %148)\u001b[91m\u001b[1m::Base.Iterators.Filter{var\"#69#73\"}\u001b[22m\u001b[39m\n",
      "\u001b[90m│   \u001b[39m %150 = Base.Generator(%138, %149)\u001b[91m\u001b[1m::Base.Generator{_A, var\"#68#72\"} where _A\u001b[22m\u001b[39m\n",
      "\u001b[90m│   \u001b[39m %151 = Base.collect(%150)\u001b[91m\u001b[1m::Any\u001b[22m\u001b[39m\n",
      "\u001b[90m│   \u001b[39m        Core.setfield!(EV@_11, :contents, %151)\n",
      "\u001b[90m│   \u001b[39m %153 = Base.getproperty(Main.Lar, :Cells)\u001b[91m\u001b[1m::Any\u001b[22m\u001b[39m\n",
      "\u001b[90m│   \u001b[39m %154 = Core.isdefined(EV@_11, :contents)\u001b[36m::Bool\u001b[39m\n",
      "\u001b[90m└───\u001b[39m        goto #29 if not %154\n",
      "\u001b[90m28 ─\u001b[39m        goto #30\n",
      "\u001b[90m29 ─\u001b[39m        Core.NewvarNode(:(EV@_29))\n",
      "\u001b[90m└───\u001b[39m        EV@_29\n",
      "\u001b[90m30 ┄\u001b[39m"
     ]
    },
    {
     "name": "stdout",
     "output_type": "stream",
     "text": [
      " %159 = Core.getfield(EV@_11, :contents)\u001b[91m\u001b[1m::Any\u001b[22m\u001b[39m\n",
      "\u001b[90m│   \u001b[39m %160 = Main.convert(%153, %159)\u001b[91m\u001b[1m::Any\u001b[22m\u001b[39m\n",
      "\u001b[90m│   \u001b[39m        Core.setfield!(EV@_11, :contents, %160)\n",
      "\u001b[90m│   \u001b[39m %162 = Core._apply_iterate(Base.iterate, Main.hcat, V)\u001b[91m\u001b[1m::Union{Matrix, Vector{Any}}\u001b[22m\u001b[39m\n",
      "\u001b[90m│   \u001b[39m %163 = Core.isdefined(EV@_11, :contents)\u001b[36m::Bool\u001b[39m\n",
      "\u001b[90m└───\u001b[39m        goto #32 if not %163\n",
      "\u001b[90m31 ─\u001b[39m        goto #33\n",
      "\u001b[90m32 ─\u001b[39m        Core.NewvarNode(:(EV@_30))\n",
      "\u001b[90m└───\u001b[39m        EV@_30\n",
      "\u001b[90m33 ┄\u001b[39m %168 = Core.getfield(EV@_11, :contents)\u001b[91m\u001b[1m::Any\u001b[22m\u001b[39m\n",
      "\u001b[90m│   \u001b[39m %169"
     ]
    },
    {
     "name": "stdout",
     "output_type": "stream",
     "text": [
      " = Core.tuple(%162, %168)\u001b[91m\u001b[1m::Tuple{Union{Matrix, Vector{Any}}, Any}\u001b[22m\u001b[39m\n",
      "\u001b[90m└───\u001b[39m        return %169\n",
      "\n"
     ]
    }
   ],
   "source": [
    "@code_warntype congruence((V,EV))"
   ]
  },
  {
   "cell_type": "code",
   "execution_count": 64,
   "id": "42d0aaa2",
   "metadata": {},
   "outputs": [
    {
     "data": {
      "text/plain": [
       "BenchmarkTools.Trial: 10000 samples with 1 evaluation.\n",
       " Range \u001b[90m(\u001b[39m\u001b[36m\u001b[1mmin\u001b[22m\u001b[39m … \u001b[35mmax\u001b[39m\u001b[90m):  \u001b[39m\u001b[36m\u001b[1m38.100 μs\u001b[22m\u001b[39m … \u001b[35m 16.877 ms\u001b[39m  \u001b[90m┊\u001b[39m GC \u001b[90m(\u001b[39mmin … max\u001b[90m): \u001b[39m0.00% … 99.26%\n",
       " Time  \u001b[90m(\u001b[39m\u001b[34m\u001b[1mmedian\u001b[22m\u001b[39m\u001b[90m):     \u001b[39m\u001b[34m\u001b[1m41.000 μs               \u001b[22m\u001b[39m\u001b[90m┊\u001b[39m GC \u001b[90m(\u001b[39mmedian\u001b[90m):    \u001b[39m0.00%\n",
       " Time  \u001b[90m(\u001b[39m\u001b[32m\u001b[1mmean\u001b[22m\u001b[39m ± \u001b[32mσ\u001b[39m\u001b[90m):   \u001b[39m\u001b[32m\u001b[1m48.525 μs\u001b[22m\u001b[39m ± \u001b[32m219.126 μs\u001b[39m  \u001b[90m┊\u001b[39m GC \u001b[90m(\u001b[39mmean ± σ\u001b[90m):  \u001b[39m6.30% ±  1.40%\n",
       "\n",
       "  \u001b[39m▆\u001b[39m█\u001b[34m▆\u001b[39m\u001b[39m▅\u001b[39m▆\u001b[39m▄\u001b[39m▄\u001b[39m▄\u001b[39m▃\u001b[32m▃\u001b[39m\u001b[39m▂\u001b[39m▂\u001b[39m▁\u001b[39m▁\u001b[39m \u001b[39m \u001b[39m \u001b[39m \u001b[39m \u001b[39m \u001b[39m \u001b[39m \u001b[39m \u001b[39m \u001b[39m \u001b[39m \u001b[39m \u001b[39m \u001b[39m \u001b[39m \u001b[39m \u001b[39m \u001b[39m \u001b[39m \u001b[39m \u001b[39m \u001b[39m \u001b[39m \u001b[39m \u001b[39m \u001b[39m \u001b[39m \u001b[39m \u001b[39m \u001b[39m \u001b[39m \u001b[39m \u001b[39m \u001b[39m \u001b[39m \u001b[39m \u001b[39m \u001b[39m \u001b[39m \u001b[39m \u001b[39m \u001b[39m \u001b[39m \u001b[39m \u001b[39m \u001b[39m \u001b[39m▂\n",
       "  \u001b[39m█\u001b[39m█\u001b[34m█\u001b[39m\u001b[39m█\u001b[39m█\u001b[39m█\u001b[39m█\u001b[39m█\u001b[39m█\u001b[32m█\u001b[39m\u001b[39m█\u001b[39m█\u001b[39m█\u001b[39m█\u001b[39m█\u001b[39m█\u001b[39m▇\u001b[39m▇\u001b[39m▆\u001b[39m▇\u001b[39m▇\u001b[39m▇\u001b[39m█\u001b[39m█\u001b[39m▆\u001b[39m▇\u001b[39m▇\u001b[39m▇\u001b[39m█\u001b[39m▇\u001b[39m▇\u001b[39m▇\u001b[39m▇\u001b[39m▆\u001b[39m▇\u001b[39m▇\u001b[39m▇\u001b[39m▆\u001b[39m▇\u001b[39m▇\u001b[39m▅\u001b[39m▅\u001b[39m▅\u001b[39m▆\u001b[39m▄\u001b[39m▄\u001b[39m▅\u001b[39m▅\u001b[39m▄\u001b[39m▄\u001b[39m▂\u001b[39m▄\u001b[39m▄\u001b[39m▄\u001b[39m▂\u001b[39m▄\u001b[39m▄\u001b[39m▄\u001b[39m▅\u001b[39m▄\u001b[39m \u001b[39m█\n",
       "  38.1 μs\u001b[90m       \u001b[39m\u001b[90mHistogram: \u001b[39m\u001b[90m\u001b[1mlog(\u001b[22m\u001b[39m\u001b[90mfrequency\u001b[39m\u001b[90m\u001b[1m)\u001b[22m\u001b[39m\u001b[90m by time\u001b[39m       108 μs \u001b[0m\u001b[1m<\u001b[22m\n",
       "\n",
       " Memory estimate\u001b[90m: \u001b[39m\u001b[33m9.83 KiB\u001b[39m, allocs estimate\u001b[90m: \u001b[39m\u001b[33m176\u001b[39m."
      ]
     },
     "metadata": {},
     "output_type": "display_data"
    }
   ],
   "source": [
    "@benchmark congruence((V,EV))"
   ]
  },
  {
   "cell_type": "markdown",
   "id": "4daa8b24",
   "metadata": {},
   "source": [
    "### Versione parallelizzata congruence"
   ]
  },
  {
   "cell_type": "code",
   "execution_count": 65,
   "id": "434e4ec6",
   "metadata": {},
   "outputs": [
    {
     "data": {
      "text/plain": [
       "congruence2 (generic function with 1 method)"
      ]
     },
     "metadata": {},
     "output_type": "display_data"
    }
   ],
   "source": [
    "function congruence2(model)\n",
    "    W,EW = model\n",
    "    n = size(W,2)\n",
    "    balltree = NearestNeighbors.BallTree(W)\n",
    "    r = 0.0000000001\n",
    "    near = Array{Any}(undef, n)\n",
    "    @inbounds @threads for k=1:n\n",
    "        near[k] = NearestNeighbors.inrange(balltree, W[:,k], r, true)\n",
    "    end\n",
    "    near = map(sort,near) \n",
    "    @inbounds @threads for k=1:n\n",
    "        W[:,k] = W[:,near[k][1]]\n",
    "    end\n",
    "    pointidx = Array{Int64}(undef, n)\n",
    "    @inbounds @threads for k=1:n\n",
    "         pointidx[k] = near[k][1] \n",
    "    end\n",
    "    l = length(pointidx)\n",
    "    invidx = OrderedDict(zip(1:l, pointidx))\n",
    "    V = Array{Array{Float64,1}}(undef, l)\n",
    "    @inbounds @threads for k=1:l\n",
    "        V[k] = W[:,k] \n",
    "    end\n",
    "    \n",
    "    EV = []\n",
    "    m = length(EW)\n",
    "    @inbounds for i = 1:m\n",
    "        newedge = [invidx[EW[i][1]],invidx[EW[i][2]]]\n",
    "        if newedge[1] !== newedge[2]\n",
    "            push!(EV,newedge)\n",
    "        end\n",
    "    end\n",
    "    filter!(x ->  length(x)==2, EV)\n",
    "    EV = convert(Lar.Cells, EV)\n",
    "    return hcat(V...),EV\n",
    "end"
   ]
  },
  {
   "cell_type": "code",
   "execution_count": 66,
   "id": "4acde616",
   "metadata": {},
   "outputs": [
    {
     "name": "stdout",
     "output_type": "stream",
     "text": [
      "  18.000 μs (152 allocations: 9.27 KiB)\n"
     ]
    },
    {
     "data": {
      "text/plain": [
       "([0.0 1.0 … 0.0 2.0; 0.0 0.0 … 1.0 1.0], [[1, 2], [2, 3], [3, 4], [4, 1], [1, 5]])"
      ]
     },
     "metadata": {},
     "output_type": "display_data"
    }
   ],
   "source": [
    "@btime congruence2((V,EV))"
   ]
  },
  {
   "cell_type": "code",
   "execution_count": 67,
   "id": "f76982e4",
   "metadata": {},
   "outputs": [
    {
     "data": {
      "text/plain": [
       "BenchmarkTools.Trial: 10000 samples with 1 evaluation.\n",
       " Range \u001b[90m(\u001b[39m\u001b[36m\u001b[1mmin\u001b[22m\u001b[39m … \u001b[35mmax\u001b[39m\u001b[90m):  \u001b[39m\u001b[36m\u001b[1m18.200 μs\u001b[22m\u001b[39m … \u001b[35m 13.995 ms\u001b[39m  \u001b[90m┊\u001b[39m GC \u001b[90m(\u001b[39mmin … max\u001b[90m): \u001b[39m0.00% … 99.31%\n",
       " Time  \u001b[90m(\u001b[39m\u001b[34m\u001b[1mmedian\u001b[22m\u001b[39m\u001b[90m):     \u001b[39m\u001b[34m\u001b[1m44.500 μs               \u001b[22m\u001b[39m\u001b[90m┊\u001b[39m GC \u001b[90m(\u001b[39mmedian\u001b[90m):    \u001b[39m0.00%\n",
       " Time  \u001b[90m(\u001b[39m\u001b[32m\u001b[1mmean\u001b[22m\u001b[39m ± \u001b[32mσ\u001b[39m\u001b[90m):   \u001b[39m\u001b[32m\u001b[1m47.593 μs\u001b[22m\u001b[39m ± \u001b[32m141.253 μs\u001b[39m  \u001b[90m┊\u001b[39m GC \u001b[90m(\u001b[39mmean ± σ\u001b[90m):  \u001b[39m2.92% ±  0.99%\n",
       "\n",
       "  \u001b[39m▅\u001b[39m▃\u001b[39m▅\u001b[39m▁\u001b[39m▃\u001b[39m \u001b[39m▂\u001b[39m▁\u001b[39m \u001b[39m \u001b[39m \u001b[39m \u001b[39m \u001b[39m▆\u001b[39m█\u001b[34m▇\u001b[39m\u001b[39m▆\u001b[32m▅\u001b[39m\u001b[39m▅\u001b[39m▄\u001b[39m▂\u001b[39m▂\u001b[39m▁\u001b[39m▁\u001b[39m▁\u001b[39m \u001b[39m \u001b[39m \u001b[39m \u001b[39m \u001b[39m \u001b[39m▁\u001b[39m \u001b[39m \u001b[39m \u001b[39m \u001b[39m \u001b[39m \u001b[39m \u001b[39m \u001b[39m \u001b[39m \u001b[39m \u001b[39m \u001b[39m \u001b[39m \u001b[39m \u001b[39m \u001b[39m \u001b[39m \u001b[39m \u001b[39m \u001b[39m \u001b[39m \u001b[39m \u001b[39m \u001b[39m \u001b[39m \u001b[39m \u001b[39m \u001b[39m \u001b[39m▂\n",
       "  \u001b[39m█\u001b[39m█\u001b[39m█\u001b[39m█\u001b[39m█\u001b[39m█\u001b[39m█\u001b[39m█\u001b[39m▆\u001b[39m▇\u001b[39m▇\u001b[39m▆\u001b[39m▆\u001b[39m█\u001b[39m█\u001b[34m█\u001b[39m\u001b[39m█\u001b[32m█\u001b[39m\u001b[39m█\u001b[39m█\u001b[39m█\u001b[39m█\u001b[39m█\u001b[39m█\u001b[39m█\u001b[39m█\u001b[39m█\u001b[39m█\u001b[39m█\u001b[39m█\u001b[39m█\u001b[39m█\u001b[39m█\u001b[39m█\u001b[39m█\u001b[39m█\u001b[39m█\u001b[39m█\u001b[39m█\u001b[39m▇\u001b[39m▆\u001b[39m▇\u001b[39m▆\u001b[39m▆\u001b[39m▆\u001b[39m▆\u001b[39m▅\u001b[39m▆\u001b[39m▆\u001b[39m▆\u001b[39m▅\u001b[39m▄\u001b[39m▄\u001b[39m▅\u001b[39m▄\u001b[39m▃\u001b[39m▄\u001b[39m▅\u001b[39m▄\u001b[39m▅\u001b[39m \u001b[39m█\n",
       "  18.2 μs\u001b[90m       \u001b[39m\u001b[90mHistogram: \u001b[39m\u001b[90m\u001b[1mlog(\u001b[22m\u001b[39m\u001b[90mfrequency\u001b[39m\u001b[90m\u001b[1m)\u001b[22m\u001b[39m\u001b[90m by time\u001b[39m       123 μs \u001b[0m\u001b[1m<\u001b[22m\n",
       "\n",
       " Memory estimate\u001b[90m: \u001b[39m\u001b[33m9.27 KiB\u001b[39m, allocs estimate\u001b[90m: \u001b[39m\u001b[33m152\u001b[39m."
      ]
     },
     "metadata": {},
     "output_type": "display_data"
    }
   ],
   "source": [
    "@benchmark congruence2((V,EV))"
   ]
  },
  {
   "cell_type": "markdown",
   "id": "780c9e09",
   "metadata": {},
   "source": [
    "### Versione iniziale linefragments\n",
    "Funzione che ordina i segmenti intersecati di ogni segmento. Per ogni segmento, se interseca con qualcosa, prende i punti (x1, y1), (x2, y2) del segmento i-eisimo, lo confronta con tutti gli altri segmenti presenti nel suo indice spaziale “Sigma” che fornisce il sottoinsieme di linee i cui box di contenimento intersecano il box di ciascuna linea di input (dato da EV), e restituisce i parametri (alfa e beta) necessari a determinare il punto di intersezione tra coppie di segmenti. Se le rette si intersecano, si verifica che i parametri alfa e beta siano ammissibili, se lo sono vengono immagazzinati nella struttura dati “params”.\n"
   ]
  },
  {
   "cell_type": "code",
   "execution_count": 68,
   "id": "bbeeba5d",
   "metadata": {},
   "outputs": [
    {
     "data": {
      "text/plain": [
       "linefragments (generic function with 1 method)"
      ]
     },
     "metadata": {},
     "output_type": "display_data"
    }
   ],
   "source": [
    "function linefragments(V,EV,Sigma)\n",
    "\t# remove the double intersections by ordering Sigma\n",
    "\tm = length(Sigma)\n",
    "\tsigma = map(sort,Sigma)\n",
    "\treducedsigma = sigma \n",
    "\t# pairwise parametric intersection\n",
    "\tparams = Array{Float64,1}[[] for i=1:m]\n",
    "\tfor h=1:m\n",
    "\t\tif sigma[h] ≠ []\n",
    "\t\t\tline1 = V[:,EV[h]]\n",
    "\t\t\tfor k in sigma[h]\n",
    "\t\t\t\tline2 = V[:,EV[k]]\n",
    "\t\t\t\tout = Lar.intersection(line1,line2) \n",
    "\t\t\t\tif out ≠ nothing\n",
    "\t\t\t\t\tα,β = out\n",
    "\t\t\t\t\tif 0<=α<=1 && 0<=β<=1\n",
    "\t\t\t\t\t\tpush!(params[h], α)\n",
    "\t\t\t\t\t\tpush!(params[k], β)\n",
    "\t\t\t\t\tend\n",
    "\t\t\t\tend\n",
    "\t\t\tend\n",
    "\t\tend\n",
    "\tend\n",
    "\t# finalize parameters of fragmented lines\n",
    "\tfragparams = []\n",
    "\tfor line in params\n",
    "\t\tpush!(line, 0.0, 1.0)\n",
    "\t\tline = sort(collect(Set(line)))\n",
    "\t\tpush!(fragparams, line)\n",
    "\tend\n",
    "\treturn fragparams\n",
    "end"
   ]
  },
  {
   "cell_type": "code",
   "execution_count": 69,
   "id": "7f7539ff",
   "metadata": {},
   "outputs": [
    {
     "name": "stdout",
     "output_type": "stream",
     "text": [
      "  25.000 μs (800 allocations: 25.34 KiB)\n"
     ]
    },
    {
     "data": {
      "text/plain": [
       "5-element Vector{Any}:\n",
       " [0.0, 1.0]\n",
       " [0.0, 0.5, 1.0]\n",
       " [0.0, 1.0]\n",
       " [0.0, 1.0]\n",
       " [0.0, 0.5, 1.0]"
      ]
     },
     "metadata": {},
     "output_type": "display_data"
    }
   ],
   "source": [
    "Sigma = spaceindex((V,EV))\n",
    "@btime linefragments(V,EV,Sigma)"
   ]
  },
  {
   "cell_type": "code",
   "execution_count": 70,
   "id": "8d211497",
   "metadata": {},
   "outputs": [
    {
     "name": "stdout",
     "output_type": "stream",
     "text": [
      "MethodInstance for linefragments(::Matrix{Float64}, ::Vector{Vector{Int64}}, ::Vector{Vector{Int64}})\n",
      "  from linefragments(V, EV, Sigma) in Main at c:\\Users\\giord\\eclipse-SIW\\LARSplitting2D\\notebooks\\refactoringAnalisi.ipynb:1\n",
      "Arguments\n",
      "  #self#\u001b[36m::Core.Const(linefragments)\u001b[39m\n",
      "  V\u001b[36m::Matrix{Float64}\u001b[39m\n",
      "  EV\u001b[36m::Vector{Vector{Int64}}\u001b[39m\n",
      "  Sigma\u001b[36m::Vector{Vector{Int64}}\u001b[39m\n",
      "Locals\n",
      "  @_5\u001b[33m\u001b[1m::Union{Nothing, Tuple{Vector{Float64}, Int64}}\u001b[22m\u001b[39m\n",
      "  @_6\u001b[33m\u001b[1m::Union{Nothing, Tuple{Int64, Int64}}\u001b[22m\u001b[39m\n",
      "  fragparams\u001b[36m::Vector{Any}\u001b[39m\n",
      "  params\u001b[36m::Vector{Vector{Float64}}\u001b[39m\n",
      "  reducedsigma\u001b[36m::Vector{Vector{Int64}}\u001b[39m\n",
      "  sigma\u001b[36m::Vector{Vector{Int64}}\u001b[39m\n",
      "  m\u001b[36m::Int64\u001b[39m\n",
      "  @_12\u001b[33m\u001b[1m::Union{Nothing, Tuple{Int64, Int64}}\u001b[22m\u001b[39m\n",
      "  @_13\u001b[36m::Int64\u001b[39m\n",
      "  i\u001b[36m::Int64\u001b[39m\n",
      "  @_15\u001b[33m\u001b[1m::Union{Nothing, Tuple{Int64, Int64}}\u001b[22m\u001b[39m\n",
      "  h\u001b[36m::Int64\u001b[39m\n",
      "  line1\u001b[36m::Matrix{Float64}\u001b[39m\n",
      "  @_18\u001b[91m\u001b[1m::Any\u001b[22m\u001b[39m\n",
      "  k\u001b[36m::Int64\u001b[39m\n",
      "  β\u001b[91m\u001b[1m::Any\u001b[22m\u001b[39m\n",
      "  α\u001b[91m\u001b[1m::Any\u001b[22m\u001b[39m\n",
      "  out\u001b[91m\u001b[1m::Any\u001b[22m\u001b[39m\n",
      "  line2"
     ]
    },
    {
     "name": "stdout",
     "output_type": "stream",
     "text": [
      "\u001b[36m::Matrix{Float64}\u001b[39m\n",
      "  line\u001b[36m::Vector{Float64}\u001b[39m\n",
      "  @_25\u001b[91m\u001b[1m::Any\u001b[22m\u001b[39m\n",
      "  @_26\u001b[91m\u001b[1m::Any\u001b[22m\u001b[39m\n",
      "Body\u001b[36m::Vector{Any}\u001b[39m\n",
      "\u001b[90m1 ──\u001b[39m        Core.NewvarNode(:(@_5))\n",
      "\u001b[90m│   \u001b[39m        Core.NewvarNode(:(@_6))\n",
      "\u001b[90m│   \u001b[39m        Core.NewvarNode(:(fragparams))\n",
      "\u001b[90m│   \u001b[39m        Core.NewvarNode(:(params))\n",
      "\u001b[90m│   \u001b[39m        (m = Main.length(Sigma))\n",
      "\u001b[90m│   \u001b[39m        (sigma = Main.map(Main.sort, Sigma))\n",
      "\u001b[90m│   \u001b[39m        (reducedsigma = sigma)\n",
      "\u001b[90m│   \u001b[39m %8   = (1:m)\u001b[36m::Core.PartialStruct(UnitRange{Int64}, Any[Core.Const(1), Int64])\u001b[39m\n",
      "\u001b[90m│   \u001b[39m %9   = Base."
     ]
    },
    {
     "name": "stdout",
     "output_type": "stream",
     "text": [
      "IteratorSize(%8)\u001b[36m::Core.Const(Base.HasShape{1}())\u001b[39m\n",
      "\u001b[90m│   \u001b[39m %10  = (%9 isa Base.SizeUnknown)\u001b[36m::Core.Const(false)\u001b[39m\n",
      "\u001b[90m│   \u001b[39m %11  = Core.apply_type(Main.Array, Main.Float64, 1)\u001b[36m::Core.Const(Vector{Float64})\u001b[39m\n",
      "\u001b[90m│   \u001b[39m %12  = Base._array_for(%11, %8, %9)\u001b[36m::Vector{Vector{Float64}}\u001b[39m\n",
      "\u001b[90m│   \u001b[39m %13  = "
     ]
    },
    {
     "name": "stdout",
     "output_type": "stream",
     "text": [
      "Base.LinearIndices(%12)\u001b[36m::LinearIndices{1, Tuple{Base.OneTo{Int64}}}\u001b[39m\n",
      "\u001b[90m│   \u001b[39m        (@_13 = Base.first(%13))\n",
      "\u001b[90m│   \u001b[39m        (@_12 = Base.iterate(%8))\n",
      "\u001b[90m│   \u001b[39m %16  = (@_12 === nothing)\u001b[36m::Bool\u001b[39m\n",
      "\u001b[90m│   \u001b[39m %17  = Base.not_int(%16)\u001b[36m::Bool\u001b[39m\n",
      "\u001b[90m└───\u001b[39m        goto #6 if not %17\n",
      "\u001b[90m2 ┄─\u001b[39m %19  = @_12\u001b[36m::Tuple{Int64, Int64}\u001b[39m\n",
      "\u001b[90m│   \u001b[39m        (i = Core.getfield(%19, 1))\n",
      "\u001b[90m│   \u001b[39m %21  = Core.getfield(%19, 2)\u001b[36m::Int64\u001b[39m\n",
      "\u001b[90m│   \u001b[39m %22  = Base.vect()\u001b[36m::Vector{Any}\u001b[39m\n",
      "\u001b[90m│   \u001b[39m        $(Expr(:inbounds, "
     ]
    },
    {
     "name": "stdout",
     "output_type": "stream",
     "text": [
      "true))\n",
      "\u001b[90m└───\u001b[39m        goto #4 if not %10\n",
      "\u001b[90m3 ──\u001b[39m        Core.Const(:(Base.push!(%12, %22)))\n",
      "\u001b[90m└───\u001b[39m        Core.Const(:(goto %28))\n",
      "\u001b[90m4 ┄─\u001b[39m        Base.setindex!(%12, %22, @_13)\n",
      "\u001b[90m│   \u001b[39m        $(Expr(:inbounds, :pop))\n",
      "\u001b[90m│   \u001b[39m        (@_13 = Base.add_int(@_13, 1))\n",
      "\u001b[90m│   \u001b[39m        (@_12 = Base.iterate(%8, %21))\n",
      "\u001b[90m│   \u001b[39m %31  = (@_12 === nothing)\u001b[36m::Bool\u001b[39m\n",
      "\u001b[90m│   \u001b[39m %32  = Base.not_int(%31)\u001b[36m::Bool\u001b[39m\n",
      "\u001b[90m└───\u001b[39m        goto #6 if not %32\n",
      "\u001b[90m5 ──\u001b[39m        goto #2\n",
      "\u001b[90m6 ┄─\u001b[39m        "
     ]
    },
    {
     "name": "stdout",
     "output_type": "stream",
     "text": [
      "(params = %12)\n",
      "\u001b[90m│   \u001b[39m %36  = (1:m)\u001b[36m::Core.PartialStruct(UnitRange{Int64}, Any[Core.Const(1), Int64])\u001b[39m\n",
      "\u001b[90m│   \u001b[39m        (@_6 = Base.iterate(%36))\n",
      "\u001b[90m│   \u001b[39m %38  = (@_6 === nothing)\u001b[36m::Bool\u001b[39m\n",
      "\u001b[90m│   \u001b[39m %39  = Base.not_int(%38)\u001b[36m::Bool\u001b[39m\n",
      "\u001b[90m└───\u001b[39m        goto #23 if not %39\n",
      "\u001b[90m7 ┄─\u001b[39m        Core.NewvarNode(:(@_15))\n",
      "\u001b[90m│   \u001b[39m        Core.NewvarNode(:(line1))\n",
      "\u001b[90m│   \u001b[39m %43  = @_6\u001b[36m::Tuple{Int64, Int64}\u001b[39m\n",
      "\u001b[90m│   \u001b[39m        (h = Core.getfield(%43, 1))\n",
      "\u001b[90m│   \u001b[39m %45  = Core.getfield(%43, 2)\u001b[36m::Int64\u001b[39m\n",
      "\u001b[90m│   \u001b[39m %46  = Base.getindex(sigma, h)\u001b[36m::Vector{Int64}\u001b[39m\n",
      "\u001b[90m│   \u001b[39m %47  = Base.vect()\u001b[36m::Vector{Any}\u001b[39m\n",
      "\u001b[90m│   \u001b[39m %48  = (%46 ≠ %47)\u001b[33m\u001b[1m::Union{Missing, Bool}\u001b[22m\u001b[39m\n",
      "\u001b[90m└───\u001b[39m "
     ]
    },
    {
     "name": "stdout",
     "output_type": "stream",
     "text": [
      "       goto #21 if not %48\n",
      "\u001b[90m8 ──\u001b[39m %50  = Base.getindex(EV, h)\u001b[36m::Vector{Int64}\u001b[39m\n",
      "\u001b[90m│   \u001b[39m        (line1 = Base.getindex(V, Main.:(:), %50))\n",
      "\u001b[90m│   \u001b[39m %52  = Base.getindex(sigma, h)\u001b[36m::Vector{Int64}\u001b[39m\n",
      "\u001b[90m│   \u001b[39m        (@_15 = Base.iterate(%52))\n",
      "\u001b[90m│   \u001b[39m %54  = (@_15 === nothing)\u001b[36m::Bool\u001b[39m\n",
      "\u001b[90m│   \u001b[39m %55  = Base.not_int(%54)\u001b[36m::Bool\u001b[39m\n",
      "\u001b[90m└───\u001b[39m        goto #21 if not %55\n",
      "\u001b[90m9 ┄─\u001b[39m        Core.NewvarNode(:(@_18))\n",
      "\u001b[90m│   \u001b[39m        Core.NewvarNode(:(β))\n",
      "\u001b[90m│   \u001b[39m        Core.NewvarNode(:(α))\n",
      "\u001b[90m│   \u001b[39m %"
     ]
    },
    {
     "name": "stdout",
     "output_type": "stream",
     "text": [
      "60  = @_15\u001b[36m::Tuple{Int64, Int64}\u001b[39m\n",
      "\u001b[90m│   \u001b[39m        (k = Core.getfield(%60, 1))\n",
      "\u001b[90m│   \u001b[39m %62  = Core.getfield(%60, 2)\u001b[36m::Int64\u001b[39m\n",
      "\u001b[90m│   \u001b[39m %63  = Base.getindex(EV, k)\u001b[36m::Vector{Int64}\u001b[39m\n",
      "\u001b[90m│   \u001b[39m        (line2 = Base.getindex(V, Main.:(:), %63))\n",
      "\u001b[90m│   \u001b[39m %65  = Base.getproperty(Main.Lar, :intersection)\u001b[91m\u001b[1m::Any\u001b[22m\u001b[39m\n",
      "\u001b[90m│   \u001b[39m %66  = line1\u001b[36m::Matrix{Float64}\u001b[39m\n",
      "\u001b[90m│   \u001b[39m        (out = (%65)(%66, line2))\n",
      "\u001b[90m│   \u001b[39m %68  = (out ≠ Main.nothing)\u001b[91m\u001b[1m::Any\u001b[22m\u001b[39m\n",
      "\u001b[90m└───\u001b[39m        goto #19 if not %68\n",
      "\u001b[90m10 ─\u001b[39m %70  = Base.indexed_iterate(out, 1)\u001b[91m\u001b[1m::Any\u001b[22m\u001b[39m\n",
      "\u001b[90m│   \u001b[39m        (α = Core.getfield"
     ]
    },
    {
     "name": "stdout",
     "output_type": "stream",
     "text": [
      "(%70, 1))\n",
      "\u001b[90m│   \u001b[39m        (@_18 = Core.getfield(%70, 2))\n",
      "\u001b[90m│   \u001b[39m %73  = Base.indexed_iterate(out, 2, @_18)\u001b[91m\u001b[1m::Any\u001b[22m\u001b[39m\n",
      "\u001b[90m│   \u001b[39m        (β = Core.getfield(%73, 1))\n",
      "\u001b[90m│   \u001b[39m %75  = (0 <= α)\u001b[91m\u001b[1m::Any\u001b[22m\u001b[39m\n",
      "\u001b[90m└───\u001b[39m        goto #12 if not %75\n",
      "\u001b[90m11 ─\u001b[39m        (@_25 = α <= 1)\n",
      "\u001b[90m└───\u001b[39m        goto #13\n",
      "\u001b[90m12 ─\u001b[39m        (@_25 = false)\n",
      "\u001b[90m13 ┄\u001b[39m        goto #19 if not @_25\n",
      "\u001b[90m14 ─\u001b[39m %81  = (0 <= β)\u001b[91m\u001b[1m::Any\u001b[22m\u001b[39m\n",
      "\u001b[90m└───\u001b[39m        goto #16 if not %81\n",
      "\u001b[90m15 ─\u001b[39m        (@_26 = β <= 1)\n",
      "\u001b[90m└───\u001b[39m        goto #17\n",
      "\u001b[90m16 ─\u001b[39m "
     ]
    },
    {
     "name": "stdout",
     "output_type": "stream",
     "text": [
      "       (@_26 = false)\n",
      "\u001b[90m17 ┄\u001b[39m        goto #19 if not @_26\n",
      "\u001b[90m18 ─\u001b[39m %87  = Base.getindex(params, h)\u001b[36m::Vector{Float64}\u001b[39m\n",
      "\u001b[90m│   \u001b[39m        Main.push!(%87, α)\n",
      "\u001b[90m│   \u001b[39m %89  = Base.getindex(params, k)\u001b[36m::Vector{Float64}\u001b[39m\n",
      "\u001b[90m└───\u001b[39m        Main.push!(%89, β)\n",
      "\u001b[90m19 ┄\u001b[39m        (@_15 = Base.iterate(%52, %62))\n",
      "\u001b[90m│   \u001b[39m %92  = (@_15 === nothing)\u001b[36m::Bool\u001b[39m\n",
      "\u001b[90m│   \u001b[39m %93  = Base.not_int(%92)\u001b[36m::Bool\u001b[39m\n",
      "\u001b[90m└───\u001b[39m        goto #21 if not %93\n",
      "\u001b[90m20 ─\u001b[39m        goto #9\n",
      "\u001b[90m21 ┄\u001b[39m        (@_6 = Base.iterate(%36, %45))\n",
      "\u001b[90m│   \u001b[39m %97  "
     ]
    },
    {
     "name": "stdout",
     "output_type": "stream",
     "text": [
      "= (@_6 === nothing)\u001b[36m::Bool\u001b[39m\n",
      "\u001b[90m│   \u001b[39m %98  = Base.not_int(%97)\u001b[36m::Bool\u001b[39m\n",
      "\u001b[90m└───\u001b[39m        goto #23 if not %98\n",
      "\u001b[90m22 ─\u001b[39m        goto #7\n",
      "\u001b[90m23 ┄\u001b[39m        (fragparams = Base.vect())\n",
      "\u001b[90m│   \u001b[39m %102 = params\u001b[36m::Vector{Vector{Float64}}\u001b[39m\n",
      "\u001b[90m│   \u001b[39m        (@_5 = Base.iterate(%102))\n",
      "\u001b[90m│   \u001b[39m %104 = (@_5 === nothing)\u001b[36m::Bool\u001b[39m\n",
      "\u001b[90m│   \u001b[39m %105 = Base.not_int(%104)\u001b[36m::Bool\u001b[39m\n",
      "\u001b[90m└───\u001b[39m        goto #26 if not %105\n",
      "\u001b[90m24 ┄\u001b[39m %107 = @_5\u001b[36m::Tuple{Vector{Float64}, Int64}\u001b[39m\n",
      "\u001b[90m│   \u001b[39m        (line = Core.getfield(%107, 1))\n",
      "\u001b[90m│   \u001b[39m %109 = Core.getfield(%107, 2)\u001b[36m::Int64\u001b[39m\n",
      "\u001b[90m│   \u001b[39m        Main.push!(line, 0.0, 1.0)\n",
      "\u001b[90m│   \u001b[39m %111 = Main.Set(line)\u001b[36m::Set{Float64}\u001b[39m\n",
      "\u001b[90m│   \u001b[39m %112 = Main.collect(%111)\u001b[36m::Vector{Float64}\u001b[39m\n",
      "\u001b[90m│   \u001b[39m        (line = Main.sort(%112))\n",
      "\u001b[90m│   \u001b[39m        Main.push!(fragparams, line)\n",
      "\u001b[90m│   \u001b[39m        (@_5 = Base.iterate(%102, %109))\n",
      "\u001b[90m│   \u001b[39m "
     ]
    },
    {
     "name": "stdout",
     "output_type": "stream",
     "text": [
      "%116 = (@_5 === nothing)\u001b[36m::Bool\u001b[39m\n",
      "\u001b[90m│   \u001b[39m %117 = Base.not_int(%116)\u001b[36m::Bool\u001b[39m\n",
      "\u001b[90m└───\u001b[39m        goto #26 if not %117\n",
      "\u001b[90m25 ─\u001b[39m        goto #24\n",
      "\u001b[90m26 ┄\u001b[39m        return fragparams\n",
      "\n"
     ]
    }
   ],
   "source": [
    "@code_warntype linefragments(V,EV,Sigma)"
   ]
  },
  {
   "cell_type": "code",
   "execution_count": 71,
   "id": "20726320",
   "metadata": {},
   "outputs": [
    {
     "data": {
      "text/plain": [
       "BenchmarkTools.Trial: 10000 samples with 1 evaluation.\n",
       " Range \u001b[90m(\u001b[39m\u001b[36m\u001b[1mmin\u001b[22m\u001b[39m … \u001b[35mmax\u001b[39m\u001b[90m):  \u001b[39m\u001b[36m\u001b[1m25.000 μs\u001b[22m\u001b[39m … \u001b[35m 13.117 ms\u001b[39m  \u001b[90m┊\u001b[39m GC \u001b[90m(\u001b[39mmin … max\u001b[90m): \u001b[39m0.00% … 99.38%\n",
       " Time  \u001b[90m(\u001b[39m\u001b[34m\u001b[1mmedian\u001b[22m\u001b[39m\u001b[90m):     \u001b[39m\u001b[34m\u001b[1m32.100 μs               \u001b[22m\u001b[39m\u001b[90m┊\u001b[39m GC \u001b[90m(\u001b[39mmedian\u001b[90m):    \u001b[39m0.00%\n",
       " Time  \u001b[90m(\u001b[39m\u001b[32m\u001b[1mmean\u001b[22m\u001b[39m ± \u001b[32mσ\u001b[39m\u001b[90m):   \u001b[39m\u001b[32m\u001b[1m44.103 μs\u001b[22m\u001b[39m ± \u001b[32m181.359 μs\u001b[39m  \u001b[90m┊\u001b[39m GC \u001b[90m(\u001b[39mmean ± σ\u001b[90m):  \u001b[39m7.70% ±  1.98%\n",
       "\n",
       "  \u001b[39m▂\u001b[39m▅\u001b[39m▇\u001b[39m▇\u001b[39m█\u001b[34m▇\u001b[39m\u001b[39m▅\u001b[39m▄\u001b[39m▄\u001b[39m▃\u001b[39m▃\u001b[39m▂\u001b[39m▂\u001b[39m▂\u001b[32m▂\u001b[39m\u001b[39m▂\u001b[39m▂\u001b[39m▁\u001b[39m▂\u001b[39m▂\u001b[39m▂\u001b[39m▂\u001b[39m▁\u001b[39m▁\u001b[39m▁\u001b[39m▁\u001b[39m▂\u001b[39m▃\u001b[39m▃\u001b[39m▂\u001b[39m▂\u001b[39m▁\u001b[39m▂\u001b[39m▂\u001b[39m▂\u001b[39m▂\u001b[39m▂\u001b[39m▁\u001b[39m▁\u001b[39m▁\u001b[39m \u001b[39m \u001b[39m \u001b[39m \u001b[39m \u001b[39m \u001b[39m \u001b[39m \u001b[39m \u001b[39m \u001b[39m \u001b[39m \u001b[39m \u001b[39m \u001b[39m \u001b[39m \u001b[39m \u001b[39m \u001b[39m \u001b[39m \u001b[39m \u001b[39m▂\n",
       "  \u001b[39m█\u001b[39m█\u001b[39m█\u001b[39m█\u001b[39m█\u001b[34m█\u001b[39m\u001b[39m█\u001b[39m█\u001b[39m█\u001b[39m█\u001b[39m█\u001b[39m█\u001b[39m█\u001b[39m█\u001b[32m█\u001b[39m\u001b[39m█\u001b[39m█\u001b[39m█\u001b[39m█\u001b[39m█\u001b[39m█\u001b[39m█\u001b[39m█\u001b[39m█\u001b[39m█\u001b[39m█\u001b[39m█\u001b[39m█\u001b[39m█\u001b[39m█\u001b[39m█\u001b[39m█\u001b[39m█\u001b[39m█\u001b[39m█\u001b[39m█\u001b[39m█\u001b[39m█\u001b[39m█\u001b[39m█\u001b[39m█\u001b[39m█\u001b[39m▆\u001b[39m▇\u001b[39m▇\u001b[39m▇\u001b[39m▇\u001b[39m▆\u001b[39m▆\u001b[39m▆\u001b[39m▅\u001b[39m▆\u001b[39m▅\u001b[39m▄\u001b[39m▅\u001b[39m▅\u001b[39m▅\u001b[39m▅\u001b[39m▅\u001b[39m▅\u001b[39m \u001b[39m█\n",
       "  25 μs\u001b[90m         \u001b[39m\u001b[90mHistogram: \u001b[39m\u001b[90m\u001b[1mlog(\u001b[22m\u001b[39m\u001b[90mfrequency\u001b[39m\u001b[90m\u001b[1m)\u001b[22m\u001b[39m\u001b[90m by time\u001b[39m       107 μs \u001b[0m\u001b[1m<\u001b[22m\n",
       "\n",
       " Memory estimate\u001b[90m: \u001b[39m\u001b[33m25.34 KiB\u001b[39m, allocs estimate\u001b[90m: \u001b[39m\u001b[33m800\u001b[39m."
      ]
     },
     "metadata": {},
     "output_type": "display_data"
    }
   ],
   "source": [
    "@benchmark linefragments(V,EV,Sigma)"
   ]
  },
  {
   "cell_type": "markdown",
   "id": "b25e4755",
   "metadata": {},
   "source": [
    "### Versione parallelizzata linefragments"
   ]
  },
  {
   "cell_type": "code",
   "execution_count": 72,
   "id": "872e2da0",
   "metadata": {},
   "outputs": [
    {
     "data": {
      "text/plain": [
       "linefragments2 (generic function with 1 method)"
      ]
     },
     "metadata": {},
     "output_type": "display_data"
    }
   ],
   "source": [
    "function linefragments2(V,EV,sigma)\n",
    "    m = length(sigma) \n",
    "    sigma = map(sort,sigma) \n",
    "    params = Array{Array{Float64,1}}(undef,m)\n",
    "    for i=1:m\n",
    "        params[i] = []\n",
    "    end\n",
    "    line1=[0.0 0.0; 0.0 0.0]\n",
    "    line2=[0.0 0.0; 0.0 0.0]\n",
    "    @threads for h=1:m\n",
    "        if sigma[h] ≠ []\n",
    "            line1 = V[:,EV[h]]\n",
    "            @threads for k in sigma[h]\n",
    "            line2 = V[:,EV[k]]\n",
    "                out = intersection(line1,line2) \n",
    "                if out ≠ ()\n",
    "                    if 0<=out[1]<=1 && 0<=out[2]<=1\n",
    "                        push!(params[h], out[1])\n",
    "                        push!(params[k], out[2])\n",
    "                    end\n",
    "                end\n",
    "            end\n",
    "        end\n",
    "        end\n",
    "    len = length(params)\n",
    "    @threads for i=1:len\n",
    "        push!(params[i], 0.0, 1.0)\n",
    "        params[i] = sort(collect(Set(params[i])))\n",
    "    end\n",
    "    return params\n",
    "end"
   ]
  },
  {
   "cell_type": "code",
   "execution_count": 73,
   "id": "b7d92aad",
   "metadata": {},
   "outputs": [
    {
     "name": "stdout",
     "output_type": "stream",
     "text": [
      "  40.400 μs (816 allocations: 26.62 KiB)\n"
     ]
    },
    {
     "data": {
      "text/plain": [
       "5-element Vector{Vector{Float64}}:\n",
       " [0.0, 1.0]\n",
       " [0.0, 0.5, 1.0]\n",
       " [0.0, 1.0]\n",
       " [0.0, 1.0]\n",
       " [0.0, 0.5, 1.0]"
      ]
     },
     "metadata": {},
     "output_type": "display_data"
    }
   ],
   "source": [
    "@btime linefragments2(V,EV,Sigma)"
   ]
  },
  {
   "cell_type": "code",
   "execution_count": 74,
   "id": "8d822184",
   "metadata": {},
   "outputs": [
    {
     "data": {
      "text/plain": [
       "BenchmarkTools.Trial: 10000 samples with 1 evaluation.\n",
       " Range \u001b[90m(\u001b[39m\u001b[36m\u001b[1mmin\u001b[22m\u001b[39m … \u001b[35mmax\u001b[39m\u001b[90m):  \u001b[39m\u001b[36m\u001b[1m 40.400 μs\u001b[22m\u001b[39m … \u001b[35m 14.721 ms\u001b[39m  \u001b[90m┊\u001b[39m GC \u001b[90m(\u001b[39mmin … max\u001b[90m): \u001b[39m0.00% … 98.16%\n",
       " Time  \u001b[90m(\u001b[39m\u001b[34m\u001b[1mmedian\u001b[22m\u001b[39m\u001b[90m):     \u001b[39m\u001b[34m\u001b[1m101.100 μs               \u001b[22m\u001b[39m\u001b[90m┊\u001b[39m GC \u001b[90m(\u001b[39mmedian\u001b[90m):    \u001b[39m0.00%\n",
       " Time  \u001b[90m(\u001b[39m\u001b[32m\u001b[1mmean\u001b[22m\u001b[39m ± \u001b[32mσ\u001b[39m\u001b[90m):   \u001b[39m\u001b[32m\u001b[1m 97.376 μs\u001b[22m\u001b[39m ± \u001b[32m273.123 μs\u001b[39m  \u001b[90m┊\u001b[39m GC \u001b[90m(\u001b[39mmean ± σ\u001b[90m):  \u001b[39m6.01% ±  2.21%\n",
       "\n",
       "  \u001b[39m▅\u001b[39m█\u001b[39m▆\u001b[39m▄\u001b[39m▃\u001b[39m▃\u001b[39m▁\u001b[39m▁\u001b[39m▃\u001b[39m▁\u001b[39m▁\u001b[39m▂\u001b[39m▁\u001b[39m▁\u001b[39m \u001b[39m \u001b[32m█\u001b[39m\u001b[34m▇\u001b[39m\u001b[39m▅\u001b[39m▅\u001b[39m▅\u001b[39m▅\u001b[39m▃\u001b[39m▂\u001b[39m▁\u001b[39m▁\u001b[39m▁\u001b[39m \u001b[39m \u001b[39m \u001b[39m \u001b[39m \u001b[39m \u001b[39m \u001b[39m \u001b[39m \u001b[39m \u001b[39m \u001b[39m \u001b[39m \u001b[39m \u001b[39m \u001b[39m▁\u001b[39m \u001b[39m \u001b[39m \u001b[39m \u001b[39m \u001b[39m \u001b[39m \u001b[39m \u001b[39m \u001b[39m \u001b[39m \u001b[39m \u001b[39m \u001b[39m \u001b[39m \u001b[39m \u001b[39m \u001b[39m \u001b[39m \u001b[39m▂\n",
       "  \u001b[39m█\u001b[39m█\u001b[39m█\u001b[39m█\u001b[39m█\u001b[39m█\u001b[39m█\u001b[39m█\u001b[39m█\u001b[39m█\u001b[39m█\u001b[39m█\u001b[39m█\u001b[39m█\u001b[39m█\u001b[39m█\u001b[32m█\u001b[39m\u001b[34m█\u001b[39m\u001b[39m█\u001b[39m█\u001b[39m█\u001b[39m█\u001b[39m█\u001b[39m█\u001b[39m█\u001b[39m█\u001b[39m█\u001b[39m█\u001b[39m█\u001b[39m█\u001b[39m█\u001b[39m▇\u001b[39m▇\u001b[39m█\u001b[39m█\u001b[39m█\u001b[39m▇\u001b[39m▆\u001b[39m▇\u001b[39m▆\u001b[39m█\u001b[39m█\u001b[39m█\u001b[39m█\u001b[39m█\u001b[39m▇\u001b[39m▇\u001b[39m▆\u001b[39m▆\u001b[39m▆\u001b[39m▅\u001b[39m▂\u001b[39m▇\u001b[39m▅\u001b[39m▅\u001b[39m▅\u001b[39m▆\u001b[39m▅\u001b[39m▄\u001b[39m▆\u001b[39m▅\u001b[39m \u001b[39m█\n",
       "  40.4 μs\u001b[90m       \u001b[39m\u001b[90mHistogram: \u001b[39m\u001b[90m\u001b[1mlog(\u001b[22m\u001b[39m\u001b[90mfrequency\u001b[39m\u001b[90m\u001b[1m)\u001b[22m\u001b[39m\u001b[90m by time\u001b[39m        261 μs \u001b[0m\u001b[1m<\u001b[22m\n",
       "\n",
       " Memory estimate\u001b[90m: \u001b[39m\u001b[33m26.62 KiB\u001b[39m, allocs estimate\u001b[90m: \u001b[39m\u001b[33m816\u001b[39m."
      ]
     },
     "metadata": {},
     "output_type": "display_data"
    }
   ],
   "source": [
    "@benchmark linefragments2(V,EV,Sigma)"
   ]
  },
  {
   "cell_type": "markdown",
   "id": "8aed2460",
   "metadata": {},
   "source": [
    "### Versione iniziale fragmentlines\n",
    " Funzione utilizzata per l’intersezione di coppie di segmenti di linea. In particolare, crea un indice spaziale “Sigma”, calcola i parametri d’intersezione degli spigoli e restituisce i nuovi punti generati dall’intersezione tra spigoli, tramite i parametri d’intersezione, all’interno di un array. Per N punti d’intersezione trovati, vengono generati N-1 spigoli.\n"
   ]
  },
  {
   "cell_type": "code",
   "execution_count": 75,
   "id": "489ea1aa",
   "metadata": {},
   "outputs": [
    {
     "data": {
      "text/plain": [
       "fragmentlines (generic function with 1 method)"
      ]
     },
     "metadata": {},
     "output_type": "display_data"
    }
   ],
   "source": [
    "function fragmentlines(model)\n",
    "\tV,EV = model\n",
    "\t# acceleration via spatial index computation\n",
    "\tSigma = Lar.spaceindex(model)\n",
    "\t# actual parametric intersection of each line with the close ones\n",
    "\tlineparams = Lar.linefragments(V,EV,Sigma)\n",
    "\t# initialization of local data structures\n",
    "\tvertdict = OrderedDict{Array{Float64,1},Array{Int,1}}()\n",
    "\tpairs = collect(zip(lineparams, [V[:,e] for e in EV]))\n",
    "\tvertdict = OrderedDict{Array{Float64,1},Int}()\n",
    "\tW = Array[]\n",
    "\tEW = Array[]\n",
    "\tk = 0\n",
    "\t# generation of intersection points\n",
    "\tfor (params,linepoints) in pairs\n",
    "\t\tv1 = linepoints[:,1]\n",
    "\t\tv2 = linepoints[:,2]\n",
    "\t\tpoints = [ v1 + t*(v2 - v1) for t in params]  \n",
    "\t\tvs = zeros(Int64,1,length(points))\n",
    "\t\tPRECISION = 8\n",
    "\t\t# identification via dictionary of points\n",
    "\t\tfor (h,point) in enumerate(points)\n",
    "\t\t\tpoint = map(approxVal(PRECISION), point)\n",
    "\t\t\tif haskey(vertdict, point) == false\n",
    "\t\t\t\tk += 1\n",
    "\t\t\t\tvertdict[point] = k\n",
    "\t\t\t\tpush!(W, point)\n",
    "\t\t\tend\n",
    "\t\t\tvs[h] = vertdict[point]\n",
    "\t\tend\n",
    "\t\t[push!(EW, [vs[k], vs[k+1]]) for k=1:length(vs)-1]\n",
    "\tend\n",
    "\t# normalization of output\n",
    "\tW,EW = hcat(W...),convert(Array{Array{Int64,1},1},EW)\n",
    "\tV,EV = Lar.congruence((W,EW))\n",
    "\treturn V,EV\n",
    "end"
   ]
  },
  {
   "cell_type": "code",
   "execution_count": 76,
   "id": "6e4f996c",
   "metadata": {},
   "outputs": [
    {
     "name": "stdout",
     "output_type": "stream",
     "text": [
      "  191.200 μs (2322 allocations: 97.64 KiB)\n"
     ]
    },
    {
     "data": {
      "text/plain": [
       "([0.0 1.0 … 0.0 2.0; 0.0 0.0 … 1.0 1.0], [[1, 2], [2, 3], [3, 4], [4, 5], [5, 1], [1, 3], [3, 6]])"
      ]
     },
     "metadata": {},
     "output_type": "display_data"
    }
   ],
   "source": [
    "@btime fragmentlines((V,EV))"
   ]
  },
  {
   "cell_type": "code",
   "execution_count": 77,
   "id": "2c912494",
   "metadata": {},
   "outputs": [
    {
     "name": "stdout",
     "output_type": "stream",
     "text": [
      "MethodInstance for fragmentlines(::Tuple{Matrix{Float64}, Vector{Vector{Int64}}})\n",
      "  from fragmentlines(model) in Main at c:\\Users\\giord\\eclipse-SIW\\LARSplitting2D\\notebooks\\refactoringAnalisi.ipynb:1\n",
      "Arguments\n",
      "  #self#\u001b[36m::Core.Const(fragmentlines)\u001b[39m\n",
      "  model\u001b[36m::Tuple{Matrix{Float64}, Vector{Vector{Int64}}}\u001b[39m\n",
      "Locals\n",
      "  @_3\u001b[91m\u001b[1m::Any\u001b[22m\u001b[39m\n",
      "  @_4\u001b[91m\u001b[1m::Any\u001b[22m\u001b[39m\n",
      "  #83\u001b[36m::var\"#83#86\"\u001b[39m\n",
      "  @_6\u001b[36m::Int64\u001b[39m\n",
      "  k\u001b[36m::Int64\u001b[39m\n",
      "  EW@_8\u001b[91m\u001b[1m::Core.Box\u001b[22m\u001b[39m\n",
      "  W\u001b[91m\u001b[1m::Any\u001b[22m\u001b[39m\n",
      "  pairs\u001b[91m\u001b[1m::Any\u001b[22m\u001b[39m\n",
      "  vertdict\u001b[91m\u001b[1m::Union{OrderedDict{Vector{Float64}, Vector{Int64}}, OrderedDict{Vector{Float64}, Int64}}\u001b[22m\u001b[39m\n",
      "  lineparams\u001b[91m\u001b[1m::Any\u001b[22m\u001b[39m\n",
      "  Sigma\u001b[91m\u001b[1m::Any\u001b[22m\u001b[39m\n",
      "  EV\u001b[91m\u001b[1m::Any\u001b[22m\u001b[39m\n",
      "  V@_15\u001b[91m\u001b[1m::Core.Box\u001b[22m\u001b[39m\n",
      "  #85\u001b[36m::var\"#85#88\"{Matrix{Int64}}\u001b[39m\n",
      "  @_17\u001b[33m\u001b[1m::Union{Nothing, Tuple{Tuple{Int64, Any}, Tuple{Int64, Any}}}\u001b[22m\u001b[39m\n",
      "  #84\u001b[91m\u001b[1m::var\"#84#87\"\u001b[22m\u001b[39m\n",
      "  @_19\u001b[91m\u001b[1m::Any\u001b[22m\u001b[39m\n",
      "  linepoints\u001b[91m\u001b[1m::Any\u001b[22m\u001b[39m\n",
      "  params\u001b[91m\u001b[1m::Any\u001b[22m\u001b[39m\n",
      "  PRECISION\u001b[36m::Int64\u001b[39m\n",
      "  vs\u001b[36m::Matrix{Int64}\u001b[39m\n",
      "  points\u001b[91m\u001b[1m::Any\u001b[22m\u001b[39m\n",
      "  v2\u001b[91m\u001b[1m::Any\u001b[22m\u001b[39m\n",
      "  v1\u001b[91m\u001b[1m::Any\u001b[22m\u001b[39m\n",
      "  @_27\u001b[36m::Int64\u001b[39m\n",
      "  point\u001b[91m\u001b[1m::Any\u001b[22m\u001b[39m\n",
      "  h\u001b[36m::Int64\u001b[39m\n",
      "  V@_30\u001b[36m::Union{}\u001b[39m\n",
      "  EW@_31\u001b[36m::Union{}\u001b[39m\n",
      "  EW@_32\u001b[36m::Union{}\u001b[39m\n",
      "  V@_33\u001b[36m::Union{}\u001b[39m\n",
      "Body\u001b[91m\u001b[1m::Tuple{Any, Any}\u001b[22m\u001b[39m\n",
      "\u001b[90m1 ──\u001b[39m        Core.NewvarNode(:(@_3))"
     ]
    },
    {
     "name": "stdout",
     "output_type": "stream",
     "text": [
      "\n",
      "\u001b[90m│   \u001b[39m        Core.NewvarNode(:(@_4))\n",
      "\u001b[90m│   \u001b[39m        Core.NewvarNode(:(#83))\n",
      "\u001b[90m│   \u001b[39m        Core.NewvarNode(:(k))\n",
      "\u001b[90m│   \u001b[39m        (EW@_8 = Core.Box())\n",
      "\u001b[90m│   \u001b[39m        Core.NewvarNode(:(W))\n",
      "\u001b[90m│   \u001b[39m        Core.NewvarNode(:(pairs))\n",
      "\u001b[90m│   \u001b[39m        Core.NewvarNode(:(vertdict))\n",
      "\u001b[90m│   \u001b[39m        Core.NewvarNode(:(lineparams))\n",
      "\u001b[90m│   \u001b[39m        (V@_15 = Core.Box())\n",
      "\u001b[90m│   \u001b[39m %11  = Base.indexed_iterate(model, 1)\u001b[36m::Core.PartialStruct(Tuple{Matrix{Float64}, Int64}, Any[Matrix{Float64}, Core.Const(2)])\u001b[39m\n",
      "\u001b[90m│   \u001b[39m %12  = Core.getfield(%11, 1)\u001b[36m::Matrix{Float64}\u001b[39m\n",
      "\u001b[90m│   \u001b[39m "
     ]
    },
    {
     "name": "stdout",
     "output_type": "stream",
     "text": [
      "       Core.setfield!(V@_15, :contents, %12)\n",
      "\u001b[90m│   \u001b[39m        (@_6 = Core.getfield(%11, 2))\n",
      "\u001b[90m│   \u001b[39m %15  = Base.indexed_iterate(model, 2, @_6::Core.Const(2))\u001b[36m::Core.PartialStruct(Tuple{Vector{Vector{Int64}}, Int64}, Any[Vector{Vector{Int64}}, Core.Const(3)])\u001b[39m\n",
      "\u001b[90m│   \u001b[39m        (EV = Core.getfield(%15, 1))\n",
      "\u001b[90m│   \u001b[39m %17  = Base.getproperty(Main.Lar, :spaceindex)\u001b[91m\u001b[1m::Any\u001b[22m\u001b[39m\n",
      "\u001b[90m│   \u001b[39m        (Sigma = (%17)(model))\n",
      "\u001b[90m│   \u001b[39m %19  = Base.getproperty(Main.Lar, :linefragments)\u001b[91m\u001b[1m::Any\u001b[22m\u001b[39m\n",
      "\u001b[90m│   \u001b[39m %20  = Core.isdefined(V@_15, :contents)\u001b[36m::Bool\u001b[39m"
     ]
    },
    {
     "name": "stdout",
     "output_type": "stream",
     "text": [
      "\n",
      "\u001b[90m└───\u001b[39m        goto #3 if not %20\n",
      "\u001b[90m2 ──\u001b[39m        goto #4\n",
      "\u001b[90m3 ──\u001b[39m        Core.NewvarNode(:(V@_30))\n",
      "\u001b[90m└───\u001b[39m        V@_30\n",
      "\u001b[90m4 ┄─\u001b[39m %25  = Core.getfield(V@_15, :contents)\u001b[91m\u001b[1m::Any\u001b[22m\u001b[39m\n",
      "\u001b[90m│   \u001b[39m %26  = EV\u001b[36m::Vector{Vector{Int64}}\u001b[39m\n",
      "\u001b[90m│   \u001b[39m        (lineparams = (%19)(%25, %26, Sigma))\n",
      "\u001b[90m│   \u001b[39m %28  = Core.apply_type("
     ]
    },
    {
     "name": "stdout",
     "output_type": "stream",
     "text": [
      "Main.Array, Main.Float64, 1)\u001b[36m::Core.Const(Vector{Float64})\u001b[39m\n",
      "\u001b[90m│   \u001b[39m %29  = Core.apply_type(Main.Array, Main.Int, 1)\u001b[36m::Core.Const(Vector{Int64})\u001b[39m\n",
      "\u001b[90m│   \u001b[39m %30  = Core.apply_type(Main.OrderedDict, %28, %29)\u001b[36m::Core.Const(OrderedDict{Vector{Float64}, Vector{Int64}})\u001b[39m\n",
      "\u001b[90m│   \u001b[39m        (vertdict = (%30)())\n",
      "\u001b[90m│   \u001b[39m %32  = lineparams\u001b[91m\u001b[1m::Any\u001b[22m\u001b[39m\n",
      "\u001b[90m│   \u001b[39m        (#83 = %new(Main.:(var\"#83#86\"), V@_15))\n",
      "\u001b[90m│   \u001b[39m %34  = #83\u001b[36m::var\"#83#86\"\u001b[39m\n",
      "\u001b[90m│   \u001b[39m %35  = Base.Generator(%34, EV"
     ]
    },
    {
     "name": "stdout",
     "output_type": "stream",
     "text": [
      "::Vector{Vector{Int64}})\u001b[36m::Base.Generator{Vector{Vector{Int64}}, var\"#83#86\"}\u001b[39m\n",
      "\u001b[90m│   \u001b[39m %36  = Base.collect(%35)\u001b[91m\u001b[1m::Vector\u001b[22m\u001b[39m\n",
      "\u001b[90m│   \u001b[39m %37  = Main.zip(%32, %36)\u001b[91m\u001b[1m::Base.Iterators.Zip\u001b[22m\u001b[39m\n",
      "\u001b[90m│   \u001b[39m        (pairs = Main.collect(%37))\n",
      "\u001b[90m│   \u001b[39m %39  = Core.apply_type(Main.Array, Main.Float64, 1)\u001b[36m::Core.Const(Vector{Float64})\u001b[39m\n",
      "\u001b[90m│   \u001b[39m %40  = Core.apply_type(Main.OrderedDict, %39, Main.Int)\u001b[36m::Core.Const(OrderedDict{Vector{Float64}, Int64})\u001b[39m\n",
      "\u001b[90m│   \u001b[39m        (vertdict = (%40)())\n",
      "\u001b[90m│   \u001b[39m        (W = Base.getindex(Main.Array))\n",
      "\u001b[90m│   \u001b[39m %43  = Base.getindex(Main.Array)\u001b[36m::Vector{Array}\u001b[39m\n",
      "\u001b[90m│   \u001b[39m        Core.setfield!(EW@_8, :contents, %"
     ]
    },
    {
     "name": "stdout",
     "output_type": "stream",
     "text": [
      "43)\n",
      "\u001b[90m│   \u001b[39m        (k = 0)\n",
      "\u001b[90m│   \u001b[39m %46  = pairs\u001b[91m\u001b[1m::Any\u001b[22m\u001b[39m\n",
      "\u001b[90m│   \u001b[39m        (@_4 = Base.iterate(%46))\n",
      "\u001b[90m│   \u001b[39m %48  = (@_4 === nothing)\u001b[36m::Bool\u001b[39m\n",
      "\u001b[90m│   \u001b[39m %49  = Base.not_int(%48)\u001b[36m::Bool\u001b[39m\n",
      "\u001b[90m└───\u001b[39m        goto #12 if not %49\n",
      "\u001b[90m5 ┄─\u001b[39m        Core.NewvarNode(:(#85))\n",
      "\u001b[90m│   \u001b[39m %52  = @_4\u001b[91m\u001b[1m::Any\u001b[22m\u001b[39m\n",
      "\u001b[90m│   \u001b[39m %53  = Core.getfield(%52, 1)\u001b[91m\u001b[1m::Any\u001b[22m\u001b[39m\n",
      "\u001b[90m│   \u001b[39m %54  = Base.indexed_iterate(%53, 1)\u001b[91m\u001b[1m::Any\u001b[22m\u001b[39m\n",
      "\u001b[90m│   \u001b[39m        (params = Core.getfield(%"
     ]
    },
    {
     "name": "stdout",
     "output_type": "stream",
     "text": [
      "54, 1))\n",
      "\u001b[90m│   \u001b[39m        (@_19 = Core.getfield(%54, 2))\n",
      "\u001b[90m│   \u001b[39m %57  = Base.indexed_iterate(%53, 2, @_19)\u001b[91m\u001b[1m::Any\u001b[22m\u001b[39m\n",
      "\u001b[90m│   \u001b[39m        (linepoints = Core.getfield(%57, 1))\n",
      "\u001b[90m│   \u001b[39m %59  = Core.getfield(%52, 2)\u001b[91m\u001b[1m::Any\u001b[22m\u001b[39m\n",
      "\u001b[90m│   \u001b[39m        (v1 = Base.getindex(linepoints, Main.:(:), 1))\n",
      "\u001b[90m│   \u001b[39m        (v2 = Base.getindex(linepoints, Main.:(:), 2))\n",
      "\u001b[90m│   \u001b[39m %62  = Main.:(var\"#84#87\")\u001b[36m::Core.Const(var\"#84#87\")\u001b[39m\n",
      "\u001b[90m│   \u001b[39m %63  = Core.typeof(v2)\u001b[91m\u001b[1m::DataType\u001b[22m\u001b[39m\n",
      "\u001b[90m│   \u001b[39m %64  = Core.typeof(v1)\u001b[91m\u001b[1m::DataType\u001b[22m\u001b[39m\n",
      "\u001b[90m│   \u001b[39m %65  = Core.apply_type(%62, %63, %64)\u001b[91m\u001b[1m::Type{var\"#84#87\"{_A, _B}} where {_A, _B}\u001b[22m\u001b[39m\n",
      "\u001b[90m│   \u001b[39m %66  = v2\u001b[91m\u001b[1m::Any\u001b[22m\u001b[39m\n",
      "\u001b[90m│   \u001b[39m        (#84 = %new(%65, %66, v1))\n",
      "\u001b[90m│   \u001b[39m %68  = #84\u001b[91m\u001b[1m::var\"#84#87\"\u001b[22m\u001b[39m\n",
      "\u001b[90m│   \u001b[39m %69  = Base.Generator(%68, params)\u001b[91m\u001b[1m::Base.Generator\u001b[22m\u001b[39m\n",
      "\u001b[90m│   \u001b[39m"
     ]
    },
    {
     "name": "stdout",
     "output_type": "stream",
     "text": [
      "        (points = Base.collect(%69))\n",
      "\u001b[90m│   \u001b[39m %71  = Main.length(points)\u001b[91m\u001b[1m::Any\u001b[22m\u001b[39m\n",
      "\u001b[90m│   \u001b[39m        (vs = Main.zeros(Main.Int64, 1, %71))\n",
      "\u001b[90m│   \u001b[39m        (PRECISION = 8)\n",
      "\u001b[90m│   \u001b[39m %74  = Main.enumerate(points)\u001b[91m\u001b[1m::Base.Iterators.Enumerate\u001b[22m\u001b[39m\n",
      "\u001b[90m│   \u001b[39m        (@_17 = Base.iterate(%74))\n",
      "\u001b[90m│   \u001b[39m %76  = (@_17 === nothing)\u001b[36m::Bool\u001b[39m\n",
      "\u001b[90m│   \u001b[39m %77  = Base.not_int(%76)\u001b[36m::Bool\u001b[39m\n",
      "\u001b[90m└───\u001b[39m        goto #10 if not %77\n",
      "\u001b[90m6 ┄─\u001b[39m %79  = @_17\u001b[91m\u001b[1m::Tuple{Tuple{Int64, Any}, Tuple{Int64, Any}}\u001b[22m\u001b[39m\n",
      "\u001b[90m│   \u001b[39m %80  = Core.getfield(%79, 1)\u001b[91m\u001b[1m::Tuple{Int64, Any}\u001b[22m\u001b[39m\n",
      "\u001b[90m│   \u001b[39m %81  = Base.indexed_iterate(%80, 1)\u001b[36m::Core.PartialStruct(Tuple{Int64, Int64}, Any[Int64, Core.Const(2)])\u001b[39m\n",
      "\u001b[90m│   \u001b[39m        (h = Core.getfield(%81, 1))\n",
      "\u001b[90m│   \u001b[39m        (@_27 = Core.getfield"
     ]
    },
    {
     "name": "stdout",
     "output_type": "stream",
     "text": [
      "(%81, 2))\n",
      "\u001b[90m│   \u001b[39m %84  = Base.indexed_iterate(%80, 2, @_27::Core.Const(2))\u001b[36m::Core.PartialStruct(Tuple{Any, Int64}, Any[Any, Core.Const(3)])\u001b[39m\n",
      "\u001b[90m│   \u001b[39m        (point = Core.getfield(%84, 1))\n",
      "\u001b[90m│   \u001b[39m %86  = Core.getfield(%79, 2)\u001b[91m\u001b[1m::Tuple{Int64, Any}\u001b[22m\u001b[39m\n",
      "\u001b[90m│   \u001b[39m %87  = Main.approxVal(PRECISION::Core.Const(8))\u001b[36m::Core.Const(var\"#approxVal0#11\"{Int64}(8))\u001b[39m\n",
      "\u001b[90m│   \u001b[39m        (point = Main.map(%87, point))\n",
      "\u001b[90m│   \u001b[39m %89  = Main.haskey(vertdict::OrderedDict{Vector{Float64}, Int64}, point)\u001b[91m\u001b[1m::Any\u001b[22m\u001b[39m\n",
      "\u001b[90m│   \u001b[39m %90  = (%89 == false)\u001b[91m\u001b[1m::Any\u001b[22m\u001b[39m\n",
      "\u001b[90m└───\u001b[39m        goto #8 if not %90\n",
      "\u001b[90m7 ──\u001b[39m        (k = k + 1)\n",
      "\u001b[90m│   \u001b[39m        Base.setindex!(vertdict::OrderedDict{Vector{Float64}, Int64}, k, point)\n",
      "\u001b[90m└───\u001b[39m        Main.push!(W::Vector{Array}, point)\n",
      "\u001b[90m8 ┄─\u001b[39m %95  = Base.getindex(vertdict::OrderedDict{Vector{Float64}, Int64}, point)\u001b[36m::Int64\u001b[39m\n"
     ]
    },
    {
     "name": "stdout",
     "output_type": "stream",
     "text": [
      "\u001b[90m│   \u001b[39m        Base.setindex!(vs, %95, h)\n",
      "\u001b[90m│   \u001b[39m        (@_17 = Base.iterate(%74, %86))\n",
      "\u001b[90m│   \u001b[39m %98  = (@_17 === nothing)\u001b[36m::Bool\u001b[39m\n",
      "\u001b[90m│   \u001b[39m %99  = Base.not_int(%98)\u001b[36m::Bool\u001b[39m\n",
      "\u001b[90m└───\u001b[39m        goto #10 if not %99\n",
      "\u001b[90m9 ──\u001b[39m        goto #6\n",
      "\u001b[90m10 ┄\u001b[39m %102 = Main.:(var\"#85#88\")\u001b[36m::Core.Const(var\"#85#88\")\u001b[39m\n",
      "\u001b[90m│   \u001b[39m %103 = Core.typeof(vs)\u001b[36m::Core.Const(Matrix{Int64})\u001b[39m\n",
      "\u001b[90m│   \u001b[39m %104 = Core.apply_type(%102, %103)\u001b[36m::Core.Const(var\"#85#88\"{Matrix{Int64}})\u001b[39m\n",
      "\u001b[90m│   \u001b[39m %105 = EW@_8\u001b[91m\u001b[1m::Core.Box\u001b[22m\u001b[39m\n",
      "\u001b[90m│   \u001b[39m        (#85 = %new(%104, %105, vs))\n",
      "\u001b[90m│   \u001b[39m %107 = #85\u001b[36m::var\"#85#88\"{Matrix{Int64}}\u001b[39m\n",
      "\u001b[90m│   \u001b[39m %108 = Main"
     ]
    },
    {
     "name": "stdout",
     "output_type": "stream",
     "text": [
      ".length(vs)\u001b[36m::Int64\u001b[39m\n",
      "\u001b[90m│   \u001b[39m %109 = (%108 - 1)\u001b[36m::Int64\u001b[39m\n",
      "\u001b[90m│   \u001b[39m %110 = (1:%109)\u001b[36m::Core.PartialStruct(UnitRange{Int64}, Any[Core.Const(1), Int64])\u001b[39m\n",
      "\u001b[90m│   \u001b[39m %111 = Base.Generator(%107, %110)\u001b[36m::Core.PartialStruct(Base.Generator{UnitRange{Int64}, var\"#85#88\"{Matrix{Int64}}}, Any[var\"#85#88\"{Matrix{Int64}}, Core.PartialStruct(UnitRange{Int64}, Any[Core.Const(1), Int64])])\u001b[39m\n",
      "\u001b[90m│   \u001b[39m        Base.collect(%111)\n",
      "\u001b[90m│   \u001b[39m        (@_4 = Base.iterate(%46, %59))\n",
      "\u001b[90m│   \u001b[39m %114 = (@_4 === nothing)\u001b[36m::Bool\u001b[39m\n",
      "\u001b[90m│   \u001b[39m %115 = Base.not_int(%114)\u001b[36m::Bool\u001b[39m\n",
      "\u001b[90m└───\u001b[39m        goto #12 if not %115\n",
      "\u001b[90m11 ─\u001b[39m        goto #5\n",
      "\u001b[90m12 ┄\u001b[39m %118"
     ]
    },
    {
     "name": "stdout",
     "output_type": "stream",
     "text": [
      " = Core._apply_iterate(Base.iterate, Main.hcat, W::Vector{Array})\u001b[91m\u001b[1m::Any\u001b[22m\u001b[39m\n",
      "\u001b[90m│   \u001b[39m %119 = Core.apply_type(Main.Array, Main.Int64, 1)\u001b[36m::Core.Const(Vector{Int64})\u001b[39m\n",
      "\u001b[90m│   \u001b[39m %120 = Core.apply_type(Main.Array, %119, 1)\u001b[36m::Core.Const(Vector{Vector{Int64}})\u001b[39m\n",
      "\u001b[90m│   \u001b[39m %121 = Core.isdefined(EW@_8, :contents)\u001b[36m::Bool\u001b[39m\n",
      "\u001b[90m└───\u001b[39m        goto #14 if not %121\n",
      "\u001b[90m13 ─\u001b[39m        goto #15\n",
      "\u001b[90m14 ─\u001b[39m        Core.NewvarNode(:(EW@_31))\n",
      "\u001b[90m└───\u001b[39m        EW@_31\n",
      "\u001b[90m15 ┄\u001b[39m %126 = Core.getfield(EW@_8, :contents)\u001b[91m\u001b[1m::Any\u001b[22m\u001b[39m\n",
      "\u001b[90m│   \u001b[39m %127 = Main.convert(%120, %126)\u001b[91m\u001b[1m::Any\u001b[22m\u001b[39m\n",
      "\u001b[90m│   \u001b[39m        (W = %118)\n",
      "\u001b[90m│   \u001b[39m        Core.setfield!(EW@_8, :contents, %127)\n",
      "\u001b[90m│   \u001b[39m %130 = Base.getproperty(Main.Lar, :congruence)\u001b[91m\u001b[1m::Any\u001b[22m\u001b[39m\n",
      "\u001b[90m│   \u001b[39m"
     ]
    },
    {
     "name": "stdout",
     "output_type": "stream",
     "text": [
      " %131 = W\u001b[91m\u001b[1m::Any\u001b[22m\u001b[39m\n",
      "\u001b[90m│   \u001b[39m %132 = Core.isdefined(EW@_8, :contents)\u001b[36m::Bool\u001b[39m\n",
      "\u001b[90m└───\u001b[39m        goto #17 if not %132\n",
      "\u001b[90m16 ─\u001b[39m        goto #18\n",
      "\u001b[90m17 ─\u001b[39m        Core.NewvarNode(:(EW@_32))\n",
      "\u001b[90m└───\u001b[39m        EW@_32\n",
      "\u001b[90m18 ┄\u001b[39m %137 = Core.getfield(EW@_8, :contents)\u001b[91m\u001b[1m::Any\u001b[22m\u001b[39m\n",
      "\u001b[90m│   \u001b[39m %138 = Core.tuple(%131, %137)\u001b[91m\u001b[1m::Tuple{Any, Any}\u001b[22m\u001b[39m\n",
      "\u001b[90m│   \u001b[39m %139 = (%130)(%138)\u001b[91m\u001b[1m::Any\u001b[22m\u001b[39m\n",
      "\u001b[90m│   \u001b[39m %140 = Base.indexed_iterate(%139, 1)\u001b[91m\u001b[1m::Any\u001b[22m\u001b[39m\n",
      "\u001b[90m│   \u001b[39m %141 = Core.getfield(%140, 1)\u001b[91m\u001b[1m::Any\u001b[22m\u001b[39m\n",
      "\u001b[90m│   \u001b[39m"
     ]
    },
    {
     "name": "stdout",
     "output_type": "stream",
     "text": [
      "        Core.setfield!(V@_15, :contents, %141)\n",
      "\u001b[90m│   \u001b[39m        (@_3 = Core.getfield(%140, 2))\n",
      "\u001b[90m│   \u001b[39m %144 = Base.indexed_iterate(%139, 2, @_3)\u001b[91m\u001b[1m::Any\u001b[22m\u001b[39m\n",
      "\u001b[90m│   \u001b[39m        (EV = Core.getfield(%144, 1))\n",
      "\u001b[90m│   \u001b[39m %146 = Core.isdefined(V@_15, :contents)\u001b[36m::Bool\u001b[39m\n",
      "\u001b[90m└───\u001b[39m        goto #20 if not %146\n",
      "\u001b[90m19 ─\u001b[39m        goto #21\n",
      "\u001b[90m20 ─\u001b[39m        Core.NewvarNode(:(V@_33))\n",
      "\u001b[90m└───\u001b[39m        V@_33\n",
      "\u001b[90m21 ┄\u001b[39m %151 = Core.getfield(V@_15, :contents)\u001b[91m\u001b[1m::Any\u001b[22m\u001b[39m\n",
      "\u001b[90m│   \u001b[39m %152 = Core.tuple(%151, EV)\u001b[91m\u001b[1m::Tuple{Any, Any}\u001b[22m\u001b[39m\n",
      "\u001b[90m└───\u001b[39m        return %152\n",
      "\n"
     ]
    }
   ],
   "source": [
    "@code_warntype fragmentlines((V,EV))"
   ]
  },
  {
   "cell_type": "code",
   "execution_count": 78,
   "id": "4146c12b",
   "metadata": {},
   "outputs": [
    {
     "data": {
      "text/plain": [
       "BenchmarkTools.Trial: 10000 samples with 1 evaluation.\n",
       " Range \u001b[90m(\u001b[39m\u001b[36m\u001b[1mmin\u001b[22m\u001b[39m … \u001b[35mmax\u001b[39m\u001b[90m):  \u001b[39m\u001b[36m\u001b[1m191.200 μs\u001b[22m\u001b[39m … \u001b[35m 15.786 ms\u001b[39m  \u001b[90m┊\u001b[39m GC \u001b[90m(\u001b[39mmin … max\u001b[90m): \u001b[39m0.00% … 94.92%\n",
       " Time  \u001b[90m(\u001b[39m\u001b[34m\u001b[1mmedian\u001b[22m\u001b[39m\u001b[90m):     \u001b[39m\u001b[34m\u001b[1m243.750 μs               \u001b[22m\u001b[39m\u001b[90m┊\u001b[39m GC \u001b[90m(\u001b[39mmedian\u001b[90m):    \u001b[39m0.00%\n",
       " Time  \u001b[90m(\u001b[39m\u001b[32m\u001b[1mmean\u001b[22m\u001b[39m ± \u001b[32mσ\u001b[39m\u001b[90m):   \u001b[39m\u001b[32m\u001b[1m358.736 μs\u001b[22m\u001b[39m ± \u001b[32m531.643 μs\u001b[39m  \u001b[90m┊\u001b[39m GC \u001b[90m(\u001b[39mmean ± σ\u001b[90m):  \u001b[39m5.87% ±  4.07%\n",
       "\n",
       "  \u001b[39m▂\u001b[39m▆\u001b[39m█\u001b[39m▇\u001b[39m█\u001b[39m▇\u001b[34m▅\u001b[39m\u001b[39m▄\u001b[39m▂\u001b[39m▂\u001b[39m▁\u001b[39m▂\u001b[39m▁\u001b[39m \u001b[39m \u001b[39m \u001b[39m▁\u001b[39m \u001b[39m \u001b[32m \u001b[39m\u001b[39m \u001b[39m \u001b[39m \u001b[39m \u001b[39m \u001b[39m \u001b[39m \u001b[39m \u001b[39m \u001b[39m \u001b[39m \u001b[39m▃\u001b[39m▇\u001b[39m▇\u001b[39m▅\u001b[39m▄\u001b[39m▃\u001b[39m▃\u001b[39m▂\u001b[39m▂\u001b[39m▂\u001b[39m▁\u001b[39m \u001b[39m \u001b[39m \u001b[39m \u001b[39m \u001b[39m \u001b[39m \u001b[39m \u001b[39m \u001b[39m \u001b[39m \u001b[39m \u001b[39m \u001b[39m \u001b[39m \u001b[39m \u001b[39m \u001b[39m \u001b[39m \u001b[39m \u001b[39m▂\n",
       "  \u001b[39m█\u001b[39m█\u001b[39m█\u001b[39m█\u001b[39m█\u001b[39m█\u001b[34m█\u001b[39m\u001b[39m█\u001b[39m█\u001b[39m█\u001b[39m█\u001b[39m█\u001b[39m█\u001b[39m█\u001b[39m█\u001b[39m█\u001b[39m█\u001b[39m█\u001b[39m█\u001b[32m█\u001b[39m\u001b[39m█\u001b[39m▇\u001b[39m▇\u001b[39m█\u001b[39m▆\u001b[39m▇\u001b[39m▆\u001b[39m▆\u001b[39m▆\u001b[39m▆\u001b[39m▅\u001b[39m█\u001b[39m█\u001b[39m█\u001b[39m█\u001b[39m█\u001b[39m█\u001b[39m█\u001b[39m█\u001b[39m█\u001b[39m█\u001b[39m█\u001b[39m█\u001b[39m█\u001b[39m█\u001b[39m▇\u001b[39m▇\u001b[39m▇\u001b[39m▇\u001b[39m▆\u001b[39m▆\u001b[39m▆\u001b[39m▆\u001b[39m▅\u001b[39m▅\u001b[39m▅\u001b[39m▅\u001b[39m▅\u001b[39m▄\u001b[39m▃\u001b[39m▅\u001b[39m \u001b[39m█\n",
       "  191 μs\u001b[90m        \u001b[39m\u001b[90mHistogram: \u001b[39m\u001b[90m\u001b[1mlog(\u001b[22m\u001b[39m\u001b[90mfrequency\u001b[39m\u001b[90m\u001b[1m)\u001b[22m\u001b[39m\u001b[90m by time\u001b[39m        741 μs \u001b[0m\u001b[1m<\u001b[22m\n",
       "\n",
       " Memory estimate\u001b[90m: \u001b[39m\u001b[33m97.64 KiB\u001b[39m, allocs estimate\u001b[90m: \u001b[39m\u001b[33m2322\u001b[39m."
      ]
     },
     "metadata": {},
     "output_type": "display_data"
    }
   ],
   "source": [
    "@benchmark fragmentlines((V,EV))"
   ]
  },
  {
   "cell_type": "markdown",
   "id": "f20b495e",
   "metadata": {},
   "source": [
    "### Versione parallelizzata fragmentlines"
   ]
  },
  {
   "cell_type": "code",
   "execution_count": 79,
   "id": "e24dfae8",
   "metadata": {},
   "outputs": [
    {
     "data": {
      "text/plain": [
       "fragmentlines2 (generic function with 1 method)"
      ]
     },
     "metadata": {},
     "output_type": "display_data"
    }
   ],
   "source": [
    "function fragmentlines2(model)\n",
    "    V,EV = model\n",
    "    Sigma = spaceindex(model)\n",
    "    lineparams = linefragments(V,EV,Sigma)\n",
    "    vertdict = OrderedDict{Array{Float64,1},Array{Int,1}}()\n",
    "    pairs = collect(zip(lineparams, [V[:,e] for e in EV]))\n",
    "    vertdict = OrderedDict{Array{Float64,1},Int}()\n",
    "    W = Array[]\n",
    "    EW = Array[]\n",
    "    k = 0\n",
    "    l = length(pairs)\n",
    "    @inbounds for i = 1:l\n",
    "        params = pairs[i][1]\n",
    "        linepoints = pairs[i][2]\n",
    "        v1 = linepoints[:,1]    # Isolo primo punto dello spigolo\n",
    "        v2 = linepoints[:,2]    # Isolo secondo punto dello spigolo\n",
    "        points = [ v1 + t*(v2 - v1) for t in params] \n",
    "        vs = zeros(Int64,1,length(points))\n",
    "        PRECISION = 8\n",
    "        numpoint = length(points)\n",
    "        @inbounds for h = 1:numpoint\n",
    "            points[h] = map(approxVal(PRECISION), points[h])\n",
    "            if !haskey(vertdict, points[h])\n",
    "                k += 1  # Genero ID punto \n",
    "                vertdict[points[h]] = k     # Associo l'ID al punto\n",
    "                push!(W, points[h])         # Effettua una push del punto(x,y) nell'array W\n",
    "            end\n",
    "            vs[h] = vertdict[points[h]] \n",
    "        end\n",
    "        m = length(vs) - 1\n",
    "        @inbounds for k=1:m\n",
    "            push!(EW, [vs[k], vs[k+1]])\n",
    "        end\n",
    "    end\n",
    "    W,EW = hcat(W...),convert(Array{Array{Int64,1},1},EW)\n",
    "    V,EV = congruence((W,EW))\n",
    "    return V,EV\n",
    "end\n"
   ]
  },
  {
   "cell_type": "code",
   "execution_count": 80,
   "id": "2dbfc117",
   "metadata": {},
   "outputs": [
    {
     "name": "stdout",
     "output_type": "stream",
     "text": [
      "  183.800 μs (2270 allocations: 95.69 KiB)\n"
     ]
    },
    {
     "data": {
      "text/plain": [
       "([0.0 1.0 … 0.0 2.0; 0.0 0.0 … 1.0 1.0], [[1, 2], [2, 3], [3, 4], [4, 5], [5, 1], [1, 3], [3, 6]])"
      ]
     },
     "metadata": {},
     "output_type": "display_data"
    }
   ],
   "source": [
    "@btime fragmentlines2((V,EV))"
   ]
  },
  {
   "cell_type": "code",
   "execution_count": 81,
   "id": "419aa79a",
   "metadata": {},
   "outputs": [
    {
     "data": {
      "text/plain": [
       "BenchmarkTools.Trial: 10000 samples with 1 evaluation.\n",
       " Range \u001b[90m(\u001b[39m\u001b[36m\u001b[1mmin\u001b[22m\u001b[39m … \u001b[35mmax\u001b[39m\u001b[90m):  \u001b[39m\u001b[36m\u001b[1m182.800 μs\u001b[22m\u001b[39m … \u001b[35m 16.004 ms\u001b[39m  \u001b[90m┊\u001b[39m GC \u001b[90m(\u001b[39mmin … max\u001b[90m): \u001b[39m0.00% … 97.78%\n",
       " Time  \u001b[90m(\u001b[39m\u001b[34m\u001b[1mmedian\u001b[22m\u001b[39m\u001b[90m):     \u001b[39m\u001b[34m\u001b[1m244.500 μs               \u001b[22m\u001b[39m\u001b[90m┊\u001b[39m GC \u001b[90m(\u001b[39mmedian\u001b[90m):    \u001b[39m0.00%\n",
       " Time  \u001b[90m(\u001b[39m\u001b[32m\u001b[1mmean\u001b[22m\u001b[39m ± \u001b[32mσ\u001b[39m\u001b[90m):   \u001b[39m\u001b[32m\u001b[1m357.882 μs\u001b[22m\u001b[39m ± \u001b[32m541.196 μs\u001b[39m  \u001b[90m┊\u001b[39m GC \u001b[90m(\u001b[39mmean ± σ\u001b[90m):  \u001b[39m6.03% ±  4.08%\n",
       "\n",
       "  \u001b[39m \u001b[39m▄\u001b[39m▆\u001b[39m▆\u001b[39m▇\u001b[39m█\u001b[39m▇\u001b[34m▅\u001b[39m\u001b[39m▃\u001b[39m▂\u001b[39m▂\u001b[39m▂\u001b[39m▁\u001b[39m▁\u001b[39m▁\u001b[39m▁\u001b[39m \u001b[39m▁\u001b[39m \u001b[39m \u001b[39m \u001b[32m \u001b[39m\u001b[39m \u001b[39m \u001b[39m \u001b[39m \u001b[39m \u001b[39m \u001b[39m \u001b[39m \u001b[39m \u001b[39m \u001b[39m▃\u001b[39m█\u001b[39m▇\u001b[39m▅\u001b[39m▄\u001b[39m▃\u001b[39m▃\u001b[39m▂\u001b[39m▁\u001b[39m▂\u001b[39m▁\u001b[39m▁\u001b[39m \u001b[39m \u001b[39m \u001b[39m \u001b[39m \u001b[39m \u001b[39m \u001b[39m \u001b[39m \u001b[39m \u001b[39m \u001b[39m \u001b[39m \u001b[39m \u001b[39m \u001b[39m \u001b[39m \u001b[39m \u001b[39m▂\n",
       "  \u001b[39m█\u001b[39m█\u001b[39m█\u001b[39m█\u001b[39m█\u001b[39m█\u001b[39m█\u001b[34m█\u001b[39m\u001b[39m█\u001b[39m█\u001b[39m█\u001b[39m█\u001b[39m█\u001b[39m█\u001b[39m█\u001b[39m█\u001b[39m█\u001b[39m█\u001b[39m█\u001b[39m▇\u001b[39m█\u001b[32m▇\u001b[39m\u001b[39m▆\u001b[39m▇\u001b[39m█\u001b[39m▇\u001b[39m▆\u001b[39m▆\u001b[39m▆\u001b[39m▇\u001b[39m▆\u001b[39m▆\u001b[39m█\u001b[39m█\u001b[39m█\u001b[39m█\u001b[39m█\u001b[39m█\u001b[39m█\u001b[39m█\u001b[39m█\u001b[39m█\u001b[39m█\u001b[39m█\u001b[39m▇\u001b[39m▇\u001b[39m█\u001b[39m█\u001b[39m▇\u001b[39m█\u001b[39m▇\u001b[39m▇\u001b[39m▆\u001b[39m▆\u001b[39m▇\u001b[39m▇\u001b[39m▅\u001b[39m▆\u001b[39m▆\u001b[39m▅\u001b[39m▅\u001b[39m \u001b[39m█\n",
       "  183 μs\u001b[90m        \u001b[39m\u001b[90mHistogram: \u001b[39m\u001b[90m\u001b[1mlog(\u001b[22m\u001b[39m\u001b[90mfrequency\u001b[39m\u001b[90m\u001b[1m)\u001b[22m\u001b[39m\u001b[90m by time\u001b[39m        695 μs \u001b[0m\u001b[1m<\u001b[22m\n",
       "\n",
       " Memory estimate\u001b[90m: \u001b[39m\u001b[33m95.69 KiB\u001b[39m, allocs estimate\u001b[90m: \u001b[39m\u001b[33m2270\u001b[39m."
      ]
     },
     "metadata": {},
     "output_type": "display_data"
    }
   ],
   "source": [
    "@benchmark fragmentlines2((V,EV))"
   ]
  },
  {
   "cell_type": "markdown",
   "id": "a584b96e",
   "metadata": {},
   "source": [
    "### Funzione fraglines"
   ]
  },
  {
   "cell_type": "code",
   "execution_count": 82,
   "id": "a2ef8d5f",
   "metadata": {},
   "outputs": [
    {
     "data": {
      "text/plain": [
       "fraglines (generic function with 4 methods)"
      ]
     },
     "metadata": {},
     "output_type": "display_data"
    }
   ],
   "source": [
    "function fraglines(sx::Float64=1.2,sy::Float64=1.2,sz::Float64=1.2)\n",
    "\tfunction fraglines0(model)\n",
    "\t\tV,EV = Lar.fragmentlines(model)\n",
    "\n",
    "\t\tW = zeros(Float64, size(V,1), 2*length(EV))\n",
    "\t\tEW = Array{Array{Int64,1},1}()\n",
    "\t\tfor (k,(v1,v2)) in enumerate(EV)\n",
    "\t\t\tif size(V,1)==2\n",
    "\t\t\t\tx,y = (V[:,v1] + V[:,v2]) ./ 2\n",
    "\t\t\t\tscx,scy = x*sx, y*sy\n",
    "\t\t\t\tt = [scx-x, scy-y]\n",
    "\t\t\telseif size(V,1)==3\n",
    "\t\t\t\tx,y,z = (V[:,v1] + V[:,v2]) ./ 2\n",
    "\t\t\t\tscx,scy,scz = x*sx, y*sy, z*sz\n",
    "\t\t\t\tt = [scx-x, scy-y, scz-z]\n",
    "\t\t\tend\n",
    "\t\t\tW[:,2*k-1] = V[:,v1] + t\n",
    "\t\t\tW[:,2*k] = V[:,v2] + t\n",
    "\t\t\tpush!(EW, [2*k-1, 2*k])\n",
    "\t\tend\n",
    "\t\treturn W,EW\n",
    "\tend\n",
    "\treturn fraglines0\n",
    "end\n"
   ]
  },
  {
   "cell_type": "markdown",
   "id": "32e0dea8",
   "metadata": {},
   "source": [
    "## Analisi funzioni aggiuntive create"
   ]
  },
  {
   "cell_type": "markdown",
   "id": "42a84d57",
   "metadata": {},
   "source": [
    "### createIntervalTree"
   ]
  },
  {
   "cell_type": "code",
   "execution_count": 83,
   "id": "9e597c6d",
   "metadata": {},
   "outputs": [
    {
     "name": "stdout",
     "output_type": "stream",
     "text": [
      "  910.000 ns (16 allocations: 3.00 KiB)\n"
     ]
    },
    {
     "data": {
      "text/plain": [
       "IntervalTrees.IntervalBTree{Float64, IntervalValue{Float64, Array}, 64}"
      ]
     },
     "metadata": {},
     "output_type": "display_data"
    },
    {
     "name": "stdout",
     "output_type": "stream",
     "text": [
      "\n",
      "(0.0,0.0) => [4]\n",
      "(0.0,1.0) => [1, 3]\n",
      "(0.0,2.0) => [5]\n",
      "(1.0,1.0) => [2]"
     ]
    }
   ],
   "source": [
    "@btime createIntervalTree(dict)"
   ]
  },
  {
   "cell_type": "code",
   "execution_count": 84,
   "id": "c16214fd",
   "metadata": {},
   "outputs": [
    {
     "data": {
      "text/plain": [
       "BenchmarkTools.Trial: 10000 samples with 33 evaluations.\n",
       " Range \u001b[90m(\u001b[39m\u001b[36m\u001b[1mmin\u001b[22m\u001b[39m … \u001b[35mmax\u001b[39m\u001b[90m):  \u001b[39m\u001b[36m\u001b[1m872.727 ns\u001b[22m\u001b[39m … \u001b[35m201.709 μs\u001b[39m  \u001b[90m┊\u001b[39m GC \u001b[90m(\u001b[39mmin … max\u001b[90m): \u001b[39m 0.00% … 98.77%\n",
       " Time  \u001b[90m(\u001b[39m\u001b[34m\u001b[1mmedian\u001b[22m\u001b[39m\u001b[90m):     \u001b[39m\u001b[34m\u001b[1m  1.053 μs               \u001b[22m\u001b[39m\u001b[90m┊\u001b[39m GC \u001b[90m(\u001b[39mmedian\u001b[90m):    \u001b[39m 0.00%\n",
       " Time  \u001b[90m(\u001b[39m\u001b[32m\u001b[1mmean\u001b[22m\u001b[39m ± \u001b[32mσ\u001b[39m\u001b[90m):   \u001b[39m\u001b[32m\u001b[1m  1.433 μs\u001b[22m\u001b[39m ± \u001b[32m  4.071 μs\u001b[39m  \u001b[90m┊\u001b[39m GC \u001b[90m(\u001b[39mmean ± σ\u001b[90m):  \u001b[39m10.87% ±  4.14%\n",
       "\n",
       "  \u001b[39m▂\u001b[39m▇\u001b[39m█\u001b[39m█\u001b[34m▇\u001b[39m\u001b[39m▅\u001b[39m▄\u001b[39m▃\u001b[39m▃\u001b[39m▃\u001b[39m▃\u001b[39m▃\u001b[32m▃\u001b[39m\u001b[39m▃\u001b[39m▂\u001b[39m▂\u001b[39m▃\u001b[39m▃\u001b[39m▃\u001b[39m▂\u001b[39m▁\u001b[39m▂\u001b[39m▁\u001b[39m▁\u001b[39m▁\u001b[39m \u001b[39m▂\u001b[39m▂\u001b[39m▁\u001b[39m \u001b[39m \u001b[39m \u001b[39m▁\u001b[39m \u001b[39m \u001b[39m▁\u001b[39m \u001b[39m \u001b[39m \u001b[39m \u001b[39m \u001b[39m \u001b[39m \u001b[39m \u001b[39m \u001b[39m \u001b[39m \u001b[39m \u001b[39m \u001b[39m \u001b[39m \u001b[39m \u001b[39m \u001b[39m \u001b[39m \u001b[39m \u001b[39m \u001b[39m \u001b[39m \u001b[39m \u001b[39m \u001b[39m \u001b[39m▂\n",
       "  \u001b[39m█\u001b[39m█\u001b[39m█\u001b[39m█\u001b[34m█\u001b[39m\u001b[39m█\u001b[39m█\u001b[39m█\u001b[39m█\u001b[39m█\u001b[39m█\u001b[39m█\u001b[32m█\u001b[39m\u001b[39m█\u001b[39m█\u001b[39m█\u001b[39m█\u001b[39m█\u001b[39m█\u001b[39m█\u001b[39m█\u001b[39m█\u001b[39m█\u001b[39m█\u001b[39m█\u001b[39m█\u001b[39m█\u001b[39m█\u001b[39m█\u001b[39m█\u001b[39m█\u001b[39m█\u001b[39m█\u001b[39m█\u001b[39m█\u001b[39m█\u001b[39m█\u001b[39m█\u001b[39m▇\u001b[39m▇\u001b[39m▇\u001b[39m▆\u001b[39m▆\u001b[39m▆\u001b[39m▇\u001b[39m▇\u001b[39m▇\u001b[39m▆\u001b[39m▆\u001b[39m▅\u001b[39m▆\u001b[39m▆\u001b[39m▅\u001b[39m▆\u001b[39m▄\u001b[39m▆\u001b[39m▁\u001b[39m▄\u001b[39m▃\u001b[39m▅\u001b[39m▆\u001b[39m \u001b[39m█\n",
       "  873 ns\u001b[90m        \u001b[39m\u001b[90mHistogram: \u001b[39m\u001b[90m\u001b[1mlog(\u001b[22m\u001b[39m\u001b[90mfrequency\u001b[39m\u001b[90m\u001b[1m)\u001b[22m\u001b[39m\u001b[90m by time\u001b[39m       3.84 μs \u001b[0m\u001b[1m<\u001b[22m\n",
       "\n",
       " Memory estimate\u001b[90m: \u001b[39m\u001b[33m3.00 KiB\u001b[39m, allocs estimate\u001b[90m: \u001b[39m\u001b[33m16\u001b[39m."
      ]
     },
     "metadata": {},
     "output_type": "display_data"
    }
   ],
   "source": [
    "@benchmark createIntervalTree(dict)"
   ]
  },
  {
   "cell_type": "markdown",
   "id": "2e621a7b",
   "metadata": {},
   "source": [
    "### removeIntersection"
   ]
  },
  {
   "cell_type": "code",
   "execution_count": 85,
   "id": "c218eda1",
   "metadata": {},
   "outputs": [
    {
     "data": {
      "text/plain": [
       "5-element Vector{Vector{Int64}}:\n",
       " [4, 1, 3, 5, 2]\n",
       " [1, 3, 5, 2]\n",
       " [4, 1, 3, 5, 2]\n",
       " [4, 1, 3, 5]\n",
       " [4, 1, 3, 5, 2]"
      ]
     },
     "metadata": {},
     "output_type": "display_data"
    }
   ],
   "source": [
    "cov = boxcovering2(bb, 1, t)"
   ]
  },
  {
   "cell_type": "code",
   "execution_count": 86,
   "id": "c2c71c0c",
   "metadata": {},
   "outputs": [
    {
     "name": "stdout",
     "output_type": "stream",
     "text": [
      "  3.438 μs (46 allocations: 3.52 KiB)\n"
     ]
    }
   ],
   "source": [
    "@btime removeIntersection(cov)"
   ]
  },
  {
   "cell_type": "code",
   "execution_count": 87,
   "id": "c261c59b",
   "metadata": {},
   "outputs": [
    {
     "data": {
      "text/plain": [
       "BenchmarkTools.Trial: 10000 samples with 8 evaluations.\n",
       " Range \u001b[90m(\u001b[39m\u001b[36m\u001b[1mmin\u001b[22m\u001b[39m … \u001b[35mmax\u001b[39m\u001b[90m):  \u001b[39m\u001b[36m\u001b[1m3.625 μs\u001b[22m\u001b[39m … \u001b[35m 1.171 ms\u001b[39m  \u001b[90m┊\u001b[39m GC \u001b[90m(\u001b[39mmin … max\u001b[90m): \u001b[39m0.00% … 99.35%\n",
       " Time  \u001b[90m(\u001b[39m\u001b[34m\u001b[1mmedian\u001b[22m\u001b[39m\u001b[90m):     \u001b[39m\u001b[34m\u001b[1m4.425 μs              \u001b[22m\u001b[39m\u001b[90m┊\u001b[39m GC \u001b[90m(\u001b[39mmedian\u001b[90m):    \u001b[39m0.00%\n",
       " Time  \u001b[90m(\u001b[39m\u001b[32m\u001b[1mmean\u001b[22m\u001b[39m ± \u001b[32mσ\u001b[39m\u001b[90m):   \u001b[39m\u001b[32m\u001b[1m5.314 μs\u001b[22m\u001b[39m ± \u001b[32m23.538 μs\u001b[39m  \u001b[90m┊\u001b[39m GC \u001b[90m(\u001b[39mmean ± σ\u001b[90m):  \u001b[39m9.84% ±  2.22%\n",
       "\n",
       "  \u001b[39m \u001b[39m▁\u001b[39m▄\u001b[39m▅\u001b[39m▆\u001b[39m▇\u001b[39m█\u001b[34m▇\u001b[39m\u001b[39m▇\u001b[39m▅\u001b[39m▄\u001b[39m▃\u001b[39m▃\u001b[39m▂\u001b[39m▁\u001b[32m▂\u001b[39m\u001b[39m▂\u001b[39m▁\u001b[39m▁\u001b[39m▁\u001b[39m▁\u001b[39m▁\u001b[39m▂\u001b[39m▁\u001b[39m▂\u001b[39m▁\u001b[39m▁\u001b[39m \u001b[39m \u001b[39m \u001b[39m▁\u001b[39m▁\u001b[39m▁\u001b[39m▁\u001b[39m \u001b[39m▁\u001b[39m \u001b[39m \u001b[39m \u001b[39m \u001b[39m \u001b[39m \u001b[39m \u001b[39m \u001b[39m \u001b[39m \u001b[39m \u001b[39m \u001b[39m \u001b[39m \u001b[39m \u001b[39m \u001b[39m \u001b[39m \u001b[39m \u001b[39m \u001b[39m \u001b[39m \u001b[39m \u001b[39m▂\n",
       "  \u001b[39m▅\u001b[39m█\u001b[39m█\u001b[39m█\u001b[39m█\u001b[39m█\u001b[39m█\u001b[34m█\u001b[39m\u001b[39m█\u001b[39m█\u001b[39m█\u001b[39m█\u001b[39m█\u001b[39m█\u001b[39m█\u001b[32m█\u001b[39m\u001b[39m█\u001b[39m█\u001b[39m█\u001b[39m█\u001b[39m█\u001b[39m█\u001b[39m█\u001b[39m█\u001b[39m█\u001b[39m█\u001b[39m█\u001b[39m█\u001b[39m█\u001b[39m█\u001b[39m█\u001b[39m█\u001b[39m█\u001b[39m█\u001b[39m█\u001b[39m█\u001b[39m▇\u001b[39m▇\u001b[39m▇\u001b[39m▇\u001b[39m▅\u001b[39m▅\u001b[39m▆\u001b[39m▆\u001b[39m▇\u001b[39m▅\u001b[39m▆\u001b[39m▆\u001b[39m▆\u001b[39m▅\u001b[39m▅\u001b[39m▆\u001b[39m▅\u001b[39m▆\u001b[39m▅\u001b[39m▄\u001b[39m▅\u001b[39m▅\u001b[39m \u001b[39m█\n",
       "  3.62 μs\u001b[90m      \u001b[39m\u001b[90mHistogram: \u001b[39m\u001b[90m\u001b[1mlog(\u001b[22m\u001b[39m\u001b[90mfrequency\u001b[39m\u001b[90m\u001b[1m)\u001b[22m\u001b[39m\u001b[90m by time\u001b[39m       10 μs \u001b[0m\u001b[1m<\u001b[22m\n",
       "\n",
       " Memory estimate\u001b[90m: \u001b[39m\u001b[33m3.52 KiB\u001b[39m, allocs estimate\u001b[90m: \u001b[39m\u001b[33m46\u001b[39m."
      ]
     },
     "metadata": {},
     "output_type": "display_data"
    }
   ],
   "source": [
    "@benchmark removeIntersection(cov)"
   ]
  },
  {
   "cell_type": "markdown",
   "id": "b248ce9c",
   "metadata": {},
   "source": [
    "### addIntersection"
   ]
  },
  {
   "cell_type": "code",
   "execution_count": 88,
   "id": "96474b75",
   "metadata": {},
   "outputs": [
    {
     "name": "stdout",
     "output_type": "stream",
     "text": [
      "  1.860 μs (12 allocations: 1.05 KiB)\n"
     ]
    }
   ],
   "source": [
    "@btime addIntersection(cov, 1, it)"
   ]
  },
  {
   "cell_type": "code",
   "execution_count": 89,
   "id": "f78beb6a",
   "metadata": {},
   "outputs": [
    {
     "data": {
      "text/plain": [
       "BenchmarkTools.Trial: 10000 samples with 10 evaluations.\n",
       " Range \u001b[90m(\u001b[39m\u001b[36m\u001b[1mmin\u001b[22m\u001b[39m … \u001b[35mmax\u001b[39m\u001b[90m):  \u001b[39m\u001b[36m\u001b[1m1.890 μs\u001b[22m\u001b[39m … \u001b[35m 1.112 ms\u001b[39m  \u001b[90m┊\u001b[39m GC \u001b[90m(\u001b[39mmin … max\u001b[90m): \u001b[39m0.00% … 99.54%\n",
       " Time  \u001b[90m(\u001b[39m\u001b[34m\u001b[1mmedian\u001b[22m\u001b[39m\u001b[90m):     \u001b[39m\u001b[34m\u001b[1m2.410 μs              \u001b[22m\u001b[39m\u001b[90m┊\u001b[39m GC \u001b[90m(\u001b[39mmedian\u001b[90m):    \u001b[39m0.00%\n",
       " Time  \u001b[90m(\u001b[39m\u001b[32m\u001b[1mmean\u001b[22m\u001b[39m ± \u001b[32mσ\u001b[39m\u001b[90m):   \u001b[39m\u001b[32m\u001b[1m2.812 μs\u001b[22m\u001b[39m ± \u001b[32m11.138 μs\u001b[39m  \u001b[90m┊\u001b[39m GC \u001b[90m(\u001b[39mmean ± σ\u001b[90m):  \u001b[39m3.94% ±  1.00%\n",
       "\n",
       "  \u001b[39m▁\u001b[39m▄\u001b[39m▆\u001b[39m▇\u001b[39m█\u001b[39m█\u001b[34m▇\u001b[39m\u001b[39m▇\u001b[39m▆\u001b[39m▆\u001b[39m▅\u001b[39m▄\u001b[32m▃\u001b[39m\u001b[39m▃\u001b[39m▂\u001b[39m▂\u001b[39m▃\u001b[39m▂\u001b[39m▂\u001b[39m▂\u001b[39m▂\u001b[39m▂\u001b[39m▁\u001b[39m▂\u001b[39m▁\u001b[39m▁\u001b[39m▁\u001b[39m▁\u001b[39m▁\u001b[39m▁\u001b[39m▁\u001b[39m▁\u001b[39m \u001b[39m \u001b[39m \u001b[39m \u001b[39m \u001b[39m \u001b[39m \u001b[39m \u001b[39m \u001b[39m \u001b[39m \u001b[39m \u001b[39m \u001b[39m \u001b[39m \u001b[39m \u001b[39m \u001b[39m \u001b[39m \u001b[39m \u001b[39m \u001b[39m \u001b[39m \u001b[39m \u001b[39m \u001b[39m \u001b[39m \u001b[39m▃\n",
       "  \u001b[39m█\u001b[39m█\u001b[39m█\u001b[39m█\u001b[39m█\u001b[39m█\u001b[34m█\u001b[39m\u001b[39m█\u001b[39m█\u001b[39m█\u001b[39m█\u001b[39m█\u001b[32m█\u001b[39m\u001b[39m█\u001b[39m█\u001b[39m█\u001b[39m█\u001b[39m█\u001b[39m█\u001b[39m█\u001b[39m█\u001b[39m█\u001b[39m█\u001b[39m█\u001b[39m█\u001b[39m█\u001b[39m█\u001b[39m█\u001b[39m█\u001b[39m█\u001b[39m█\u001b[39m█\u001b[39m█\u001b[39m█\u001b[39m█\u001b[39m█\u001b[39m█\u001b[39m▇\u001b[39m▇\u001b[39m▇\u001b[39m▇\u001b[39m▆\u001b[39m▆\u001b[39m▇\u001b[39m▇\u001b[39m▇\u001b[39m▆\u001b[39m▆\u001b[39m▆\u001b[39m▆\u001b[39m▆\u001b[39m▆\u001b[39m▇\u001b[39m▅\u001b[39m▆\u001b[39m▃\u001b[39m▅\u001b[39m▄\u001b[39m \u001b[39m█\n",
       "  1.89 μs\u001b[90m      \u001b[39m\u001b[90mHistogram: \u001b[39m\u001b[90m\u001b[1mlog(\u001b[22m\u001b[39m\u001b[90mfrequency\u001b[39m\u001b[90m\u001b[1m)\u001b[22m\u001b[39m\u001b[90m by time\u001b[39m     6.53 μs \u001b[0m\u001b[1m<\u001b[22m\n",
       "\n",
       " Memory estimate\u001b[90m: \u001b[39m\u001b[33m1.05 KiB\u001b[39m, allocs estimate\u001b[90m: \u001b[39m\u001b[33m12\u001b[39m."
      ]
     },
     "metadata": {},
     "output_type": "display_data"
    }
   ],
   "source": [
    "@benchmark addIntersection(cov, 1, it)"
   ]
  }
 ],
 "metadata": {
  "kernelspec": {
   "display_name": "Julia 1.7.2",
   "language": "julia",
   "name": "julia-1.7"
  },
  "language_info": {
   "file_extension": ".jl",
   "mimetype": "application/julia",
   "name": "julia",
   "version": "1.7.2"
  }
 },
 "nbformat": 4,
 "nbformat_minor": 5
}
