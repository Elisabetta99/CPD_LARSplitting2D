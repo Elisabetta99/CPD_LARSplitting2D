{
 "cells": [
  {
   "cell_type": "markdown",
   "id": "58c2121a",
   "metadata": {},
   "source": [
    "### Gruppo 5.a: Castagnacci Giulia (581749), Giordano Elisabetta (536265)"
   ]
  },
  {
   "cell_type": "markdown",
   "id": "e47507c1",
   "metadata": {},
   "source": [
    "### Analisi fragmentlines"
   ]
  },
  {
   "cell_type": "code",
   "execution_count": 1,
   "id": "8a1144ed",
   "metadata": {},
   "outputs": [],
   "source": [
    "\n",
    "using LinearAlgebraicRepresentation\n",
    "Lar = LinearAlgebraicRepresentation\n",
    "using IntervalTrees\n",
    "using SparseArrays\n",
    "using NearestNeighbors\n",
    "using BenchmarkTools\n",
    "using OrderedCollections\n",
    "using Base.Threads\n"
   ]
  },
  {
   "cell_type": "markdown",
   "id": "7d691c3e",
   "metadata": {},
   "source": [
    "### Dati in input"
   ]
  },
  {
   "cell_type": "code",
   "execution_count": 2,
   "id": "85e86e75",
   "metadata": {},
   "outputs": [
    {
     "data": {
      "text/plain": [
       "5-element Vector{Vector{Int64}}:\n",
       " [4, 1, 3, 5, 2]\n",
       " [1, 3, 5, 2]\n",
       " [4, 1, 3, 5, 2]\n",
       " [4, 1, 3, 5]\n",
       " [4, 1, 3, 5, 2]"
      ]
     },
     "metadata": {},
     "output_type": "display_data"
    }
   ],
   "source": [
    "V = hcat([[0.,0],[1,0],[1,1],[0,1],[2,1]]...);                                          #vertici del modello 2D\n",
    "V3 = hcat([[0.,0,0],[1,0,3],[1,1,2],[0,1,1],[2,1,0]]...);                               #vertici del modello 3D\n",
    "EV = [[1,2],[2,3],[3,4],[4,1],[1,5]];                                                   #spigoli del modello\n",
    "bb = [[0.0 1.0; 0.0 0.0], [1.0 1.0; 0.0 1.0], [0.0 1.0; 1.0 1.0], [0.0 0.0; 0.0 1.0], [0.0 2.0; 0.0 1.0]];  #bounding box\n",
    "dict = OrderedDict([0.0, 1.0] => [1, 3],[1.0, 1.0] => [2],[0.0, 0.0] => [4],[0.0, 2.0] => [5])  #dizionario intervallo/indice\n",
    "cov = [[4, 1, 3, 5, 2], [1, 3, 5, 2], [4, 1, 3, 5, 2], [4, 1, 3, 5], [4, 1, 3, 5, 2]]    #intersezioni tra bounding box"
   ]
  },
  {
   "cell_type": "markdown",
   "id": "b37bf669",
   "metadata": {},
   "source": [
    "### Funzioni di supporto"
   ]
  },
  {
   "cell_type": "code",
   "execution_count": 3,
   "id": "48ed119b",
   "metadata": {},
   "outputs": [
    {
     "data": {
      "text/plain": [
       "approxVal (generic function with 1 method)"
      ]
     },
     "metadata": {},
     "output_type": "display_data"
    }
   ],
   "source": [
    "function spaceindex(model::Lar.LAR)::Array{Array{Int,1},1}\n",
    "\tV,CV = model[1:2]\n",
    "\tdim = size(V,1)\n",
    "\tcellpoints = [ V[:,CV[k]]::Lar.Points for k=1:length(CV) ]\n",
    "\t#----------------------------------------------------------\n",
    "\tbboxes = [hcat(Lar.boundingbox(cell)...) for cell in cellpoints]\n",
    "\txboxdict = Lar.coordintervals(1,bboxes)\n",
    "\tyboxdict = Lar.coordintervals(2,bboxes)\n",
    "\t# xs,ys are IntervalTree type\n",
    "\txs = IntervalTrees.IntervalMap{Float64, Array}()\n",
    "\tfor (key,boxset) in xboxdict\n",
    "\t\txs[tuple(key...)] = boxset\n",
    "\tend\n",
    "\tys = IntervalTrees.IntervalMap{Float64, Array}()\n",
    "\tfor (key,boxset) in yboxdict\n",
    "\t\tys[tuple(key...)] = boxset\n",
    "\tend\n",
    "\txcovers = Lar.boxcovering(bboxes, 1, xs)\n",
    "\tycovers = Lar.boxcovering(bboxes, 2, ys)\n",
    "\tcovers = [intersect(pair...) for pair in zip(xcovers,ycovers)]\n",
    "\n",
    "\tif dim == 3\n",
    "\t\tzboxdict = Lar.coordintervals(3,bboxes)\n",
    "\t\tzs = IntervalTrees.IntervalMap{Float64, Array}()\n",
    "\t\tfor (key,boxset) in zboxdict\n",
    "\t\t\tzs[tuple(key...)] = boxset\n",
    "\t\tend\n",
    "\t\tzcovers = Lar.boxcovering(bboxes, 3, zs)\n",
    "\t\tcovers = [intersect(pair...) for pair in zip(zcovers,covers)]\n",
    "\tend\n",
    "\t# remove each cell from its cover\n",
    "\tfor k=1:length(covers)\n",
    "\t\tcovers[k] = setdiff(covers[k],[k])\n",
    "\tend\n",
    "\treturn covers\n",
    "end\n",
    "\n",
    "\n",
    "function boundingbox(vertices::Lar.Points)\n",
    "    minimum = mapslices(x->min(x...), vertices, dims=2)\n",
    "    maximum = mapslices(x->max(x...), vertices, dims=2)\n",
    "    return minimum, maximum\n",
    " end\n",
    "\n",
    "\n",
    " function boxcovering(bboxes, index, tree)\n",
    "\tcovers = [[] for k=1:length(bboxes)]\n",
    "\tfor (i,boundingbox) in enumerate(bboxes)\n",
    "\t\textent = bboxes[i][index,:]\n",
    "\t\titerator = IntervalTrees.intersect(tree, tuple(extent...))\n",
    "\t\tfor x in iterator\n",
    "\t\t\tappend!(covers[i],x.value)\n",
    "\t\tend\n",
    "\tend\n",
    "\treturn covers\n",
    "end\n",
    "\n",
    "function linefragments(V,EV,Sigma)\n",
    "\t# remove the double intersections by ordering Sigma\n",
    "\tm = length(Sigma)\n",
    "\tsigma = map(sort,Sigma)\n",
    "\treducedsigma = sigma ##[filter(x->(x > k), sigma[k]) for k=1:m]\n",
    "\t# pairwise parametric intersection\n",
    "\tparams = Array{Float64,1}[[] for i=1:m]\n",
    "\tfor h=1:m\n",
    "\t\tif sigma[h] ≠ []\n",
    "\t\t\tline1 = V[:,EV[h]]\n",
    "\t\t\tfor k in sigma[h]\n",
    "\t\t\t\tline2 = V[:,EV[k]]\n",
    "\t\t\t\tout = Lar.intersection(line1,line2) # TODO: w interval arithmetic\n",
    "\t\t\t\tif out ≠ nothing\n",
    "\t\t\t\t\tα,β = out\n",
    "\t\t\t\t\tif 0<=α<=1 && 0<=β<=1\n",
    "\t\t\t\t\t\tpush!(params[h], α)\n",
    "\t\t\t\t\t\tpush!(params[k], β)\n",
    "\t\t\t\t\tend\n",
    "\t\t\t\tend\n",
    "\t\t\tend\n",
    "\t\tend\n",
    "\tend\n",
    "\t# finalize parameters of fragmented lines\n",
    "\tfragparams = []\n",
    "\tfor line in params\n",
    "\t\tpush!(line, 0.0, 1.0)\n",
    "\t\tline = sort(collect(Set(line)))\n",
    "\t\tpush!(fragparams, line)\n",
    "\tend\n",
    "\treturn fragparams\n",
    "end\n",
    "\n",
    "\n",
    "function intersection(line1,line2)\n",
    "\tx1,y1,x2,y2 = vcat(line1...)\n",
    "\tx3,y3,x4,y4 = vcat(line2...)\n",
    "\n",
    "\t# intersect lines e1,e2\n",
    "\tdet = (x4-x3)*(y1-y2)-(x1-x2)*(y4-y3)\n",
    "\tif det != 0.0\n",
    "\t\ta = 1/det\n",
    "\t\tb = [y1-y2 x2-x1; y3-y4 x4-x3]\n",
    "\t\tc = [x1-x3; y1-y3]\n",
    "\t\t(β,α) = a * b * c\n",
    "\telse\n",
    "\t\tif (y1==y2) == (y3==y4) || (x1==x2) == (x3==x4) # segments collinear\n",
    "\t\t\t return nothing\n",
    "\t\telse\n",
    "\t\t\t # segments parallel: no intersection\n",
    "\t\t\t return nothing\n",
    "\t\tend\n",
    "\tend\n",
    "\treturn α,β\n",
    "end\n",
    "\n",
    "\n",
    "function congruence(model)\n",
    "\tW,EW = model\n",
    "\t# congruent vertices\n",
    "\tballtree = NearestNeighbors.BallTree(W)\n",
    "\tr = 0.0000000001\n",
    "\tnear = Array{Any}(undef, size(W,2))\n",
    "\tfor k=1:size(W,2)\n",
    "\t\tnear[k] = union([NearestNeighbors.inrange(balltree, W[:,k], r, true)]...)\n",
    "\tend\n",
    "\tnear = map(sort,near) \n",
    "\tfor k=1:size(W,2)\n",
    "\t\tW[:,k] = W[:,near[k][1]]\n",
    "\tend\n",
    "\tpointidx = [ near[k][1] for k=1:size(W,2) ]  # check !!\n",
    "\tinvidx = OrderedDict(zip(1:length(pointidx), pointidx))\n",
    "\tV = [W[:,k] for k=1:length(pointidx)]\n",
    "\t# congruent edges\n",
    "\tEV = []\n",
    "\tfor e in (EW)\n",
    "\t\tnewedge = [invidx[e[1]],invidx[e[2]]]\n",
    "\t\tif newedge[1] !== newedge[2]\n",
    "\t\t\tpush!(EV,newedge)\n",
    "\t\tend\n",
    "\tend\n",
    "\tEV = [EV[h] for h=1:length(EV) if length(EV[h])==2]\n",
    "\tEV = convert(Lar.Cells, EV)\n",
    "\t\n",
    "\treturn hcat(V...),EV\n",
    "end\n",
    "\n",
    "function approxVal(PRECISION)\n",
    "    function approxVal0(value)\n",
    "        out = round(value, digits=PRECISION)\n",
    "        if out == -0.0\n",
    "            out = 0.0\n",
    "        end\n",
    "        return out\n",
    "    end\n",
    "    return approxVal0\n",
    "end"
   ]
  },
  {
   "cell_type": "markdown",
   "id": "a96da45d",
   "metadata": {},
   "source": [
    "### Versione iniziale fragmentlines"
   ]
  },
  {
   "cell_type": "markdown",
   "id": "46c5bfe3",
   "metadata": {},
   "source": [
    "Funzione utilizzata per l'intersezione di coppie di segmenti di linea. In particolare, crea un indice spaziale \"Sigma\", calcola i parametri d'intersezione degli spigoli e restituisce i nuovi punti generati dall'intersezione tra spigoli, tramite i parametri d'intersezione, all'interno di un array. Per N punti d'intersezione trovati, vengono generati N-1 spigoli."
   ]
  },
  {
   "cell_type": "code",
   "execution_count": 4,
   "id": "c31326f8",
   "metadata": {},
   "outputs": [
    {
     "data": {
      "text/plain": [
       "fragmentlines (generic function with 1 method)"
      ]
     },
     "metadata": {},
     "output_type": "display_data"
    }
   ],
   "source": [
    "function fragmentlines(model)\n",
    "\tV,EV = model\n",
    "\t# acceleration via spatial index computation\n",
    "\tSigma = spaceindex(model)\n",
    "\t# actual parametric intersection of each line with the close ones\n",
    "\tlineparams = linefragments(V,EV,Sigma)\n",
    "\t# initialization of local data structures\n",
    "\tvertdict = OrderedDict{Array{Float64,1},Array{Int,1}}()\n",
    "\tpairs = collect(zip(lineparams, [V[:,e] for e in EV]))\n",
    "\tvertdict = OrderedDict{Array{Float64,1},Int}()\n",
    "\tW = Array[]\n",
    "\tEW = Array[]\n",
    "\tk = 0\n",
    "\t# generation of intersection points\n",
    "\tfor (params,linepoints) in pairs\n",
    "\t\tv1 = linepoints[:,1]\n",
    "\t\tv2 = linepoints[:,2]\n",
    "\t\tpoints = [ v1 + t*(v2 - v1) for t in params]\n",
    "\t\tvs = zeros(Int64,1,length(points))\n",
    "\t\tPRECISION = 8\n",
    "\t\t# identification via dictionary of points\n",
    "\t\tfor (h,point) in enumerate(points)\n",
    "\t\t\tpoint = map(approxVal(PRECISION), point)\n",
    "\t\t\tif haskey(vertdict, point) == false\n",
    "\t\t\t\tk += 1\n",
    "\t\t\t\tvertdict[point] = k\n",
    "\t\t\t\tpush!(W, point)\n",
    "\t\t\tend\n",
    "\t\t\tvs[h] = vertdict[point]\n",
    "\t\tend\n",
    "\t\t[push!(EW, [vs[k], vs[k+1]]) for k=1:length(vs)-1]\n",
    "\tend\n",
    "\t# normalization of output\n",
    "\tW,EW = hcat(W...),convert(Array{Array{Int64,1},1},EW)\n",
    "\tV,EV = congruence((W,EW))\n",
    "\treturn V,EV\n",
    "end"
   ]
  },
  {
   "cell_type": "markdown",
   "id": "1bcbd673",
   "metadata": {},
   "source": [
    "### Analisi del comportamento e dei tempi della versione iniziale"
   ]
  },
  {
   "cell_type": "code",
   "execution_count": 5,
   "id": "5566b194",
   "metadata": {},
   "outputs": [
    {
     "name": "stdout",
     "output_type": "stream",
     "text": [
      "  332.900 μs (2334 allocations: 97.78 KiB)\n"
     ]
    },
    {
     "data": {
      "text/plain": [
       "([0.0 1.0 … 0.0 2.0; 0.0 0.0 … 1.0 1.0], [[1, 2], [2, 3], [3, 4], [4, 5], [5, 1], [1, 3], [3, 6]])"
      ]
     },
     "metadata": {},
     "output_type": "display_data"
    }
   ],
   "source": [
    "@btime fragmentlines((V,EV))"
   ]
  },
  {
   "cell_type": "code",
   "execution_count": 6,
   "id": "a0d07df3",
   "metadata": {},
   "outputs": [
    {
     "name": "stdout",
     "output_type": "stream",
     "text": [
      "MethodInstance for "
     ]
    },
    {
     "name": "stdout",
     "output_type": "stream",
     "text": [
      "fragmentlines(::"
     ]
    },
    {
     "name": "stdout",
     "output_type": "stream",
     "text": [
      "Tuple{Matrix{Float64}, Vector{Vector{Int64}}})\n",
      "  from fragmentlines(model) in Main at c:\\Users\\giord\\eclipse-SIW\\LARSplitting2D\\notebooks\\refactoringAnalisi_fragmentlines.ipynb:1"
     ]
    },
    {
     "name": "stdout",
     "output_type": "stream",
     "text": [
      "\n",
      "Arguments\n",
      "  "
     ]
    },
    {
     "name": "stdout",
     "output_type": "stream",
     "text": [
      "#self#\u001b[36m::Core.Const(fragmentlines)\u001b[39m\n",
      "  model\u001b[36m::Tuple{Matrix{Float64}, Vector{Vector{Int64}}}\u001b[39m\n",
      "Locals\n",
      "  @_3\u001b[36m::Int64\u001b[39m\n",
      "  @_4\u001b[91m\u001b[1m::Any\u001b[22m\u001b[39m\n",
      "  #32\u001b[36m::var\"#32#35\"\u001b[39m\n",
      "  @_6\u001b[36m::Int64\u001b[39m\n",
      "  k\u001b[36m::Int64\u001b[39m\n",
      "  EW@_8\u001b[91m\u001b[1m::Core.Box\u001b[22m\u001b[39m\n",
      "  W\u001b[91m\u001b[1m::Any\u001b[22m\u001b[39m\n",
      "  pairs\u001b[91m\u001b[1m::Any\u001b[22m\u001b[39m\n",
      "  vertdict\u001b[91m\u001b[1m::Union{OrderedDict{Vector{Float64}, Vector{Int64}}, OrderedDict{Vector{Float64}, Int64}}\u001b[22m\u001b[39m\n",
      "  lineparams\u001b[36m::Vector{Any}\u001b[39m\n",
      "  Sigma\u001b[36m::Vector{Vector{Int64}}\u001b[39m\n",
      "  EV\u001b[91m\u001b[1m::Any\u001b[22m\u001b[39m\n",
      "  V@_15\u001b[91m\u001b[1m::Core.Box\u001b[22m\u001b[39m\n",
      "  #34\u001b[36m::var\"#34#37\"{Matrix{Int64}}\u001b[39m\n",
      "  @_17\u001b[33m\u001b[1m::Union{Nothing, Tuple{Tuple{Int64, Any}, Tuple{Int64, Any}}}\u001b[22m\u001b[39m\n",
      "  #33\u001b[91m\u001b[1m::var\"#33#36\"\u001b[22m\u001b[39m\n",
      "  @_19\u001b[91m\u001b[1m::Any\u001b[22m\u001b[39m\n",
      "  linepoints\u001b[91m\u001b[1m::Any\u001b[22m\u001b[39m\n",
      "  params\u001b[91m\u001b[1m::Any\u001b[22m\u001b[39m\n",
      "  PRECISION\u001b[36m::Int64\u001b[39m\n",
      "  vs\u001b[36m::Matrix{Int64}\u001b[39m\n",
      "  points\u001b[91m\u001b[1m::Any\u001b[22m\u001b[39m\n",
      "  v2\u001b[91m\u001b[1m::Any\u001b[22m\u001b[39m\n",
      "  v1\u001b[91m\u001b[1m::Any\u001b[22m\u001b[39m\n",
      "  @_27\u001b[36m::Int64\u001b[39m\n",
      "  point\u001b[91m\u001b[1m::Any\u001b[22m\u001b[39m\n",
      "  h\u001b[36m::Int64\u001b[39m\n",
      "  V@_30\u001b[36m::Union{}\u001b[39m\n",
      "  EW@_31\u001b[36m::Union{}\u001b[39m\n",
      "  EW@_32\u001b[36m::Union{}\u001b[39m\n",
      "  V@_33\u001b[36m::Union{}\u001b[39m\n",
      "Body\u001b[91m\u001b[1m::Tuple{Any, Any}\u001b[22m\u001b[39m"
     ]
    },
    {
     "name": "stdout",
     "output_type": "stream",
     "text": [
      "\n",
      "\u001b[90m1 ──\u001b[39m        "
     ]
    },
    {
     "name": "stdout",
     "output_type": "stream",
     "text": [
      "Core.NewvarNode"
     ]
    },
    {
     "name": "stdout",
     "output_type": "stream",
     "text": [
      "(:(@_3)"
     ]
    },
    {
     "name": "stdout",
     "output_type": "stream",
     "text": [
      ")\n"
     ]
    },
    {
     "name": "stdout",
     "output_type": "stream",
     "text": [
      "\u001b[90m│   \u001b[39m        Core.NewvarNode(:(@_4))\n",
      "\u001b[90m│   \u001b[39m        Core.NewvarNode(:(#32))\n",
      "\u001b[90m│   \u001b[39m        Core.NewvarNode(:(k))\n",
      "\u001b[90m│   \u001b[39m        (EW@_8 = Core.Box())\n",
      "\u001b[90m│   \u001b[39m        Core.NewvarNode(:(W))\n",
      "\u001b[90m│   \u001b[39m        Core.NewvarNode(:(pairs))\n",
      "\u001b[90m│   \u001b[39m        Core.NewvarNode(:(vertdict))\n",
      "\u001b[90m│   \u001b[39m        Core.NewvarNode(:(lineparams))\n",
      "\u001b[90m│   \u001b[39m        (V@_15 = Core.Box())\n",
      "\u001b[90m│   \u001b[39m "
     ]
    },
    {
     "name": "stdout",
     "output_type": "stream",
     "text": [
      "%11  = Base.indexed_iterate(model, 1)"
     ]
    },
    {
     "name": "stdout",
     "output_type": "stream",
     "text": [
      "\u001b[36m::Core.PartialStruct(Tuple{Matrix{Float64}, Int64}, Any[Matrix{Float64}, Core.Const(2)])\u001b[39m\n",
      "\u001b[90m│   \u001b[39m %12  = Core.getfield(%11, 1)\u001b[36m::Matrix{Float64}\u001b[39m\n",
      "\u001b[90m│   \u001b[39m        Core.setfield!(V@_15"
     ]
    },
    {
     "name": "stdout",
     "output_type": "stream",
     "text": [
      ", :contents, %12)\n",
      "\u001b[90m│   \u001b[39m        (@_6 = Core.getfield(%11, 2))\n",
      "\u001b[90m│   \u001b[39m %15  = Base.indexed_iterate(model, 2, @_6"
     ]
    },
    {
     "name": "stdout",
     "output_type": "stream",
     "text": [
      "::Core.Const(2))\u001b[36m::Core.PartialStruct(Tuple{Vector{Vector{Int64}}, Int64}, Any[Vector{Vector{Int64}}, Core.Const(3)])\u001b[39m\n",
      "\u001b[90m│   \u001b[39m        (EV = Core.getfield(%15, 1))\n",
      "\u001b[90m│   \u001b[39m        (Sigma = Main.spaceindex(model))\n",
      "\u001b[90m│   \u001b[39m %18  = Core.isdefined(V@_15, :contents)\u001b[36m::Bool\u001b[39m\n",
      "\u001b[90m└───\u001b[39m        goto #3"
     ]
    },
    {
     "name": "stdout",
     "output_type": "stream",
     "text": [
      " if not %18\n",
      "\u001b[90m2 ──\u001b[39m        goto #4\n",
      "\u001b[90m3 ──\u001b[39m        Core.NewvarNode(:(V@_30))\n",
      "\u001b[90m└───\u001b[39m        V@_30\n",
      "\u001b[90m4 ┄─\u001b[39m %23  = Core.getfield(V@_15, :contents)\u001b[91m\u001b[1m::Any\u001b[22m\u001b[39m\n",
      "\u001b[90m│   \u001b[39m %24  = EV\u001b[36m::Vector{Vector{Int64}}\u001b[39m\n",
      "\u001b[90m│   \u001b[39m        (lineparams = Main.linefragments(%23, %24, Sigma))\n",
      "\u001b[90m│   \u001b[39m %26  = Core.apply_type(Main.Array, Main.Float64, 1)\u001b[36m::Core.Const(Vector{Float64})\u001b[39m"
     ]
    },
    {
     "name": "stdout",
     "output_type": "stream",
     "text": [
      "\n",
      "\u001b[90m│   \u001b[39m %27  = Core.apply_type(Main.Array, Main.Int, 1)\u001b[36m::Core.Const(Vector{Int64})\u001b[39m\n",
      "\u001b[90m│   \u001b[39m %28  = Core.apply_type(Main.OrderedDict, %26, %27)\u001b[36m::Core.Const(OrderedDict{Vector{Float64}, Vector{Int64}})\u001b[39m\n",
      "\u001b[90m│   \u001b[39m        (vertdict = (%28)())\n",
      "\u001b[90m│   \u001b[39m %30  = lineparams\u001b[36m::Vector{Any}\u001b[39m\n",
      "\u001b[90m│   \u001b[39m        (#32 = %new(Main.:(var\"#32#35\"), "
     ]
    },
    {
     "name": "stdout",
     "output_type": "stream",
     "text": [
      "V@_15))\n",
      "\u001b[90m│   \u001b[39m %32  = #32\u001b[36m::var\"#32#35\"\u001b[39m\n",
      "\u001b[90m│   \u001b[39m %33  = Base.Generator(%32, EV"
     ]
    },
    {
     "name": "stdout",
     "output_type": "stream",
     "text": [
      "::Vector{Vector{Int64}})\u001b[36m::Base.Generator{Vector{Vector{Int64}}, var\"#32#35\"}\u001b[39m\n",
      "\u001b[90m│   \u001b[39m %34  = Base.collect(%33)\u001b[91m\u001b[1m::Vector\u001b[22m\u001b[39m\n",
      "\u001b[90m│   \u001b[39m %35  = Main.zip(%30, %34)\u001b[91m\u001b[1m::Base.Iterators.Zip\u001b[22m\u001b[39m\n",
      "\u001b[90m│   \u001b[39m        (pairs = Main.collect(%35))\n",
      "\u001b[90m│   \u001b[39m %37  = Core.apply_type(Main.Array, Main.Float64, 1)\u001b[36m::Core.Const(Vector{Float64})\u001b[39m\n",
      "\u001b[90m│   \u001b[39m %38  = Core.apply_type(Main.OrderedDict, %37, Main.Int)\u001b[36m::Core.Const(OrderedDict{Vector{Float64}, Int64})\u001b[39m\n",
      "\u001b[90m│   \u001b[39m        (vertdict = (%38)())\n",
      "\u001b[90m│   \u001b[39m        (W = Base.getindex(Main.Array))\n",
      "\u001b[90m│   \u001b[39m %41  = Base.getindex(Main.Array)\u001b[36m::Vector{Array}\u001b[39m\n",
      "\u001b[90m│   \u001b[39m        Core.setfield!(EW@_8, :contents, %41)\n",
      "\u001b[90m│   \u001b[39m        (k = 0)\n",
      "\u001b[90m│   \u001b[39m %44  = pairs\u001b[91m\u001b[1m::Any\u001b[22m\u001b[39m\n",
      "\u001b[90m│   \u001b[39m        (@_4 = Base.iterate(%44))\n",
      "\u001b[90m│   \u001b[39m %46  = (@_4 === "
     ]
    },
    {
     "name": "stdout",
     "output_type": "stream",
     "text": [
      "nothing)\u001b[36m::Bool\u001b[39m\n",
      "\u001b[90m│   \u001b[39m %47  = Base.not_int(%46)\u001b[36m::Bool\u001b[39m\n",
      "\u001b[90m└───\u001b[39m        goto #12 if not %47\n",
      "\u001b[90m5 ┄─\u001b[39m        Core.NewvarNode(:(#34))\n",
      "\u001b[90m│   \u001b[39m %50  = @_4\u001b[91m\u001b[1m::Any\u001b[22m\u001b[39m\n",
      "\u001b[90m│   \u001b[39m %51  = Core.getfield(%50, 1)\u001b[91m\u001b[1m::Any\u001b[22m\u001b[39m\n",
      "\u001b[90m│   \u001b[39m %52  = Base.indexed_iterate(%51, 1)\u001b[91m\u001b[1m::Any\u001b[22m\u001b[39m\n",
      "\u001b[90m│   \u001b[39m        (params = Core.getfield(%52, 1))\n",
      "\u001b[90m│   \u001b[39m        (@_19 = Core.getfield(%52, 2))\n",
      "\u001b[90m│   \u001b[39m %55  = Base.indexed_iterate(%51, 2, @_19)\u001b[91m\u001b[1m::Any\u001b[22m\u001b[39m\n",
      "\u001b[90m│   \u001b[39m        (linepoints = Core.getfield(%55, 1))\n",
      "\u001b[90m│   \u001b[39m %57  = Core.getfield(%50, 2)\u001b[91m\u001b[1m::Any\u001b[22m\u001b[39m\n",
      "\u001b[90m│   \u001b[39m        (v1 = Base.getindex(linepoints, Main.:(:), 1))\n",
      "\u001b[90m│   \u001b[39m        (v2 = Base"
     ]
    },
    {
     "name": "stdout",
     "output_type": "stream",
     "text": [
      ".getindex(linepoints, Main.:(:), 2))\n",
      "\u001b[90m│   \u001b[39m %60  = Main.:(var\"#33#36\")\u001b[36m::Core.Const(var\"#33#36\")\u001b[39m\n",
      "\u001b[90m│   \u001b[39m %61  = Core.typeof(v2)\u001b[91m\u001b[1m::DataType\u001b[22m\u001b[39m\n",
      "\u001b[90m│   \u001b[39m %62  = Core.typeof(v1)\u001b[91m\u001b[1m::DataType\u001b[22m\u001b[39m\n",
      "\u001b[90m│   \u001b[39m %63  = Core.apply_type(%60, %61, %62)\u001b[91m\u001b[1m::Type{var\"#33#36\"{_A, _B}} where {_A, _B}\u001b[22m\u001b[39m\n",
      "\u001b[90m│   \u001b[39m %64  = v2\u001b[91m\u001b[1m::Any\u001b[22m\u001b[39m\n",
      "\u001b[90m│   \u001b[39m        (#33 = %new(%63, %64, v1))\n",
      "\u001b[90m│   \u001b[39m %66  = #33\u001b[91m\u001b[1m::var\"#33#36\"\u001b[22m\u001b[39m\n",
      "\u001b[90m│   \u001b[39m %67  = Base.Generator(%66, params)\u001b[91m\u001b[1m::Base.Generator\u001b[22m\u001b[39m\n",
      "\u001b[90m│   \u001b[39m        (points = Base.collect(%67))\n",
      "\u001b[90m│   \u001b[39m %69  = Main.length(points)\u001b[91m\u001b[1m::Any\u001b[22m\u001b[39m\n",
      "\u001b[90m│   \u001b[39m        (vs = Main.zeros(Main.Int64, 1, %69))\n",
      "\u001b[90m│   \u001b[39m        (PRECISION = 8)\n"
     ]
    },
    {
     "name": "stdout",
     "output_type": "stream",
     "text": [
      "\u001b[90m│   \u001b[39m %72  = Main.enumerate(points)\u001b[91m\u001b[1m::Base.Iterators.Enumerate\u001b[22m\u001b[39m\n",
      "\u001b[90m│   \u001b[39m        (@_17 = Base.iterate(%72))\n",
      "\u001b[90m│   \u001b[39m %74  = (@_17 === nothing)\u001b[36m::Bool\u001b[39m\n",
      "\u001b[90m│   \u001b[39m %75  = Base.not_int(%74)\u001b[36m::Bool\u001b[39m\n",
      "\u001b[90m└───\u001b[39m        goto #10 if not %75\n",
      "\u001b[90m6 ┄─\u001b[39m %77  = @_17\u001b[91m\u001b[1m::Tuple{Tuple{Int64, Any}, Tuple{Int64, Any}}\u001b[22m\u001b[39m\n",
      "\u001b[90m│   \u001b[39m %78  = Core.getfield(%77, 1)\u001b[91m\u001b[1m::Tuple{Int64, Any}\u001b[22m\u001b[39m\n",
      "\u001b[90m│   \u001b[39m %79  = Base.indexed_iterate(%78, 1)\u001b[36m::Core.PartialStruct(Tuple{Int64, Int64}, Any[Int64, Core.Const(2)])\u001b[39m\n",
      "\u001b[90m│   \u001b[39m        (h = Core.getfield(%79, 1))\n",
      "\u001b[90m│   \u001b[39m        (@_27 = Core.getfield(%79, 2))\n",
      "\u001b[90m│   \u001b[39m %82  = Base.indexed_iterate(%78, 2, @_27::Core.Const(2))\u001b[36m::Core.PartialStruct(Tuple{Any, Int64}, Any[Any, Core.Const(3)])\u001b[39m\n",
      "\u001b[90m│   \u001b[39m        (point = Core.getfield(%82, 1))\n",
      "\u001b[90m│   \u001b[39m %84  = Core.getfield(%77, 2)\u001b[91m\u001b[1m::Tuple{Int64, Any}\u001b[22m\u001b[39m\n",
      "\u001b[90m│   \u001b[39m"
     ]
    },
    {
     "name": "stdout",
     "output_type": "stream",
     "text": [
      " %85  = Main.approxVal(PRECISION::Core.Const(8))\u001b[36m::Core.Const(var\"#approxVal0#31\"{Int64}(8))\u001b[39m\n",
      "\u001b[90m│   \u001b[39m        (point = Main.map(%85, point))\n",
      "\u001b[90m│   \u001b[39m %87  = Main.haskey(vertdict::OrderedDict{Vector{Float64}, Int64}, point)\u001b[91m\u001b[1m::Any\u001b[22m\u001b[39m\n",
      "\u001b[90m│   \u001b[39m %88  = (%87 == "
     ]
    },
    {
     "name": "stdout",
     "output_type": "stream",
     "text": [
      "false)\u001b[91m\u001b[1m::Any\u001b[22m\u001b[39m\n",
      "\u001b[90m└───\u001b[39m        goto #8 if not %88\n",
      "\u001b[90m7 ──\u001b[39m        (k = k + 1)\n",
      "\u001b[90m│   \u001b[39m        Base.setindex!(vertdict::OrderedDict{Vector{Float64}, Int64}, k, point)\n",
      "\u001b[90m└───\u001b[39m        Main.push!(W::Vector{Array}, point)\n",
      "\u001b[90m8 ┄─\u001b[39m %93  = Base.getindex(vertdict::OrderedDict{Vector{Float64}, Int64}, point)\u001b[36m::Int64\u001b[39m\n",
      "\u001b[90m│   \u001b[39m        Base.setindex!(vs, %93, h)\n",
      "\u001b[90m│   \u001b[39m        (@_17 = Base.iterate(%72, %84))\n",
      "\u001b[90m│   \u001b[39m %96  = (@_17 === nothing)\u001b[36m::Bool\u001b[39m\n",
      "\u001b[90m│   \u001b[39m %97  = Base.not_int(%96)\u001b[36m::Bool\u001b[39m\n",
      "\u001b[90m└───\u001b[39m        goto #10 if not %97\n",
      "\u001b[90m9 ──\u001b[39m        goto #6\n",
      "\u001b[90m10 ┄\u001b[39m %100 = Main.:(var\"#34#37\")\u001b[36m::Core.Const(var\"#34#37\")\u001b[39m\n",
      "\u001b[90m│   \u001b[39m %101 = Core.typeof(vs)\u001b[36m::Core.Const(Matrix{Int64})\u001b[39m\n",
      "\u001b[90m│   \u001b[39m %102 = Core.apply_type(%100, %101)"
     ]
    },
    {
     "name": "stdout",
     "output_type": "stream",
     "text": [
      "\u001b[36m::Core.Const(var\"#34#37\"{Matrix{Int64}})\u001b[39m\n",
      "\u001b[90m│   \u001b[39m %103 = EW@_8\u001b[91m\u001b[1m::Core.Box\u001b[22m\u001b[39m\n",
      "\u001b[90m│   \u001b[39m        (#34 = %new(%102, %103, vs))\n",
      "\u001b[90m│   \u001b[39m %105 = #34\u001b[36m::var\"#34#37\"{Matrix{Int64}}\u001b[39m\n",
      "\u001b[90m│   \u001b[39m %106 = Main.length(vs)\u001b[36m::Int64\u001b[39m\n",
      "\u001b[90m│   \u001b[39m %107 = (%106 - 1)\u001b[36m::Int64\u001b[39m\n",
      "\u001b[90m│   \u001b[39m %108 = (1:%107)\u001b[36m::Core.PartialStruct(UnitRange{Int64}, Any[Core.Const(1), Int64])\u001b[39m\n",
      "\u001b[90m│   \u001b[39m %109 = Base.Generator(%105, %108)"
     ]
    },
    {
     "name": "stdout",
     "output_type": "stream",
     "text": [
      "\u001b[36m::Core.PartialStruct(Base.Generator{UnitRange{Int64}, var\"#34#37\"{Matrix{Int64}}}, Any[var\"#34#37\"{Matrix{Int64}}, Core.PartialStruct(UnitRange{Int64}, Any[Core.Const(1), Int64])])\u001b[39m\n",
      "\u001b[90m│   \u001b[39m        Base.collect(%109)\n",
      "\u001b[90m│   \u001b[39m        (@_4 = Base.iterate(%44, %57))\n",
      "\u001b[90m│   \u001b[39m %112 = (@_4 === nothing)\u001b[36m::Bool\u001b[39m\n",
      "\u001b[90m│   \u001b[39m %113 = Base.not_int(%112)\u001b[36m::Bool\u001b[39m\n",
      "\u001b[90m└───\u001b[39m        goto #12 if not %113\n",
      "\u001b[90m11 ─\u001b[39m        goto #5\n",
      "\u001b[90m12 ┄\u001b[39m %116 = Core._apply_iterate(Base.iterate, Main.hcat, W::Vector{Array})\u001b[91m\u001b[1m::Any\u001b[22m\u001b[39m\n",
      "\u001b[90m│   \u001b[39m %117 = Core.apply_type(Main.Array, Main.Int64, 1)\u001b[36m::Core.Const(Vector{Int64})\u001b[39m\n",
      "\u001b[90m│   \u001b[39m %118 = Core.apply_type(Main.Array, %117, 1)\u001b[36m::Core.Const(Vector{Vector{Int64}})\u001b[39m\n",
      "\u001b[90m│   \u001b[39m %119 = Core.isdefined(EW@_8, :contents)\u001b[36m::Bool\u001b[39m\n",
      "\u001b[90m└───\u001b[39m        goto #14 if not %119\n",
      "\u001b[90m13 ─\u001b[39m        goto #15\n",
      "\u001b[90m14 ─\u001b[39m        Core.NewvarNode(:(EW@_31))\n",
      "\u001b[90m└───\u001b[39m        EW@_31\n",
      "\u001b[90m15 ┄\u001b[39m %124 = Core."
     ]
    },
    {
     "name": "stdout",
     "output_type": "stream",
     "text": [
      "getfield(EW@_8, :contents)\u001b[91m\u001b[1m::Any\u001b[22m\u001b[39m\n",
      "\u001b[90m│   \u001b[39m %125 = Main.convert(%118, %124)\u001b[91m\u001b[1m::Any\u001b[22m\u001b[39m\n",
      "\u001b[90m│   \u001b[39m        (W = %116)\n",
      "\u001b[90m│   \u001b[39m        Core.setfield!(EW@_8, :contents, %125)\n",
      "\u001b[90m│   \u001b[39m %128 = W\u001b[91m\u001b[1m::Any\u001b[22m\u001b[39m\n",
      "\u001b[90m│   \u001b[39m %129 = Core.isdefined(EW@_8, :contents)\u001b[36m::Bool\u001b[39m\n",
      "\u001b[90m└───\u001b[39m        goto #17 if not %129\n",
      "\u001b[90m16 ─\u001b[39m        goto #18\n",
      "\u001b[90m17 ─\u001b[39m        Core.NewvarNode(:(EW@_32))\n",
      "\u001b[90m└───\u001b[39m        EW@_32\n",
      "\u001b[90m18 ┄\u001b[39m %134 = Core.getfield(EW@_8, :contents)\u001b[91m\u001b[1m::Any\u001b[22m\u001b[39m\n",
      "\u001b[90m│   \u001b[39m %135 = Core.tuple(%128, %134)\u001b[91m\u001b[1m::Tuple{Any, Any}\u001b[22m\u001b[39m\n",
      "\u001b[90m│   \u001b[39m %136 = Main.congruence(%135)\u001b[91m\u001b[1m::Tuple{Any, Any}\u001b[22m\u001b[39m\n",
      "\u001b[90m│   \u001b[39m %137 = Base.indexed_iterate(%136, 1)\u001b[36m::Core.PartialStruct(Tuple{Any, Int64}, Any[Any, Core.Const(2)])\u001b[39m\n",
      "\u001b[90m│   \u001b[39m %138 = Core.getfield(%137, 1)\u001b[91m\u001b[1m::Any\u001b[22m\u001b[39m\n",
      "\u001b[90m│   \u001b[39m        Core.setfield!(V@_15, :"
     ]
    },
    {
     "name": "stdout",
     "output_type": "stream",
     "text": [
      "contents, %138)\n",
      "\u001b[90m│   \u001b[39m        (@_3 = Core.getfield(%137, 2))\n",
      "\u001b[90m│   \u001b[39m %141 = Base.indexed_iterate(%136, 2, @_3::Core.Const(2))\u001b[36m::Core.PartialStruct(Tuple{Any, Int64}, Any[Any, Core.Const(3)])\u001b[39m\n",
      "\u001b[90m│   \u001b[39m        (EV = Core.getfield(%141, 1))\n",
      "\u001b[90m│   \u001b[39m %143 = Core.isdefined(V@_15, :contents)\u001b[36m::Bool\u001b[39m\n",
      "\u001b[90m└───\u001b[39m        goto #20 if not %143\n",
      "\u001b[90m19 ─\u001b[39m        goto #21\n",
      "\u001b[90m20 ─\u001b[39m        Core.NewvarNode(:(V@_33))\n",
      "\u001b[90m└───\u001b[39m        V@_33\n",
      "\u001b[90m21 ┄\u001b[39m %148 = Core.getfield(V@_15, :contents)\u001b[91m\u001b[1m::Any\u001b[22m\u001b[39m\n",
      "\u001b[90m│   \u001b[39m %149 = Core.tuple(%148, EV)\u001b[91m\u001b[1m::Tuple{Any, Any}\u001b[22m\u001b[39m\n",
      "\u001b[90m└───\u001b[39m        return %149\n",
      "\n"
     ]
    }
   ],
   "source": [
    "@code_warntype fragmentlines((V,EV))"
   ]
  },
  {
   "cell_type": "code",
   "execution_count": 7,
   "id": "1f8f75b8",
   "metadata": {},
   "outputs": [
    {
     "data": {
      "text/plain": [
       "BenchmarkTools.Trial: 10000 samples with 1 evaluation.\n",
       " Range \u001b[90m(\u001b[39m\u001b[36m\u001b[1mmin\u001b[22m\u001b[39m … \u001b[35mmax\u001b[39m\u001b[90m):  \u001b[39m\u001b[36m\u001b[1m336.300 μs\u001b[22m\u001b[39m … \u001b[35m 14.996 ms\u001b[39m  \u001b[90m┊\u001b[39m GC \u001b[90m(\u001b[39mmin … max\u001b[90m): \u001b[39m0.00% … 94.09%\n",
       " Time  \u001b[90m(\u001b[39m\u001b[34m\u001b[1mmedian\u001b[22m\u001b[39m\u001b[90m):     \u001b[39m\u001b[34m\u001b[1m351.800 μs               \u001b[22m\u001b[39m\u001b[90m┊\u001b[39m GC \u001b[90m(\u001b[39mmedian\u001b[90m):    \u001b[39m0.00%\n",
       " Time  \u001b[90m(\u001b[39m\u001b[32m\u001b[1mmean\u001b[22m\u001b[39m ± \u001b[32mσ\u001b[39m\u001b[90m):   \u001b[39m\u001b[32m\u001b[1m428.779 μs\u001b[22m\u001b[39m ± \u001b[32m490.104 μs\u001b[39m  \u001b[90m┊\u001b[39m GC \u001b[90m(\u001b[39mmean ± σ\u001b[90m):  \u001b[39m4.93% ±  4.25%\n",
       "\n",
       "  \u001b[39m▅\u001b[39m█\u001b[39m▇\u001b[34m▅\u001b[39m\u001b[39m▄\u001b[39m▃\u001b[39m▃\u001b[39m▂\u001b[39m▂\u001b[39m▁\u001b[39m▃\u001b[39m▂\u001b[39m▁\u001b[39m \u001b[39m \u001b[39m \u001b[39m \u001b[32m \u001b[39m\u001b[39m▁\u001b[39m▁\u001b[39m \u001b[39m \u001b[39m▃\u001b[39m▃\u001b[39m▁\u001b[39m▁\u001b[39m \u001b[39m \u001b[39m \u001b[39m \u001b[39m \u001b[39m \u001b[39m \u001b[39m \u001b[39m \u001b[39m \u001b[39m \u001b[39m \u001b[39m \u001b[39m▃\u001b[39m▄\u001b[39m▅\u001b[39m▄\u001b[39m▃\u001b[39m▁\u001b[39m▁\u001b[39m \u001b[39m \u001b[39m \u001b[39m \u001b[39m \u001b[39m \u001b[39m \u001b[39m \u001b[39m \u001b[39m \u001b[39m \u001b[39m \u001b[39m \u001b[39m \u001b[39m \u001b[39m \u001b[39m▂\n",
       "  \u001b[39m█\u001b[39m█\u001b[39m█\u001b[34m█\u001b[39m\u001b[39m█\u001b[39m█\u001b[39m█\u001b[39m█\u001b[39m█\u001b[39m█\u001b[39m█\u001b[39m█\u001b[39m█\u001b[39m▇\u001b[39m▇\u001b[39m▆\u001b[39m▇\u001b[32m▆\u001b[39m\u001b[39m█\u001b[39m█\u001b[39m▆\u001b[39m▇\u001b[39m█\u001b[39m█\u001b[39m█\u001b[39m█\u001b[39m█\u001b[39m▇\u001b[39m▆\u001b[39m▇\u001b[39m▇\u001b[39m▆\u001b[39m▄\u001b[39m▆\u001b[39m▄\u001b[39m▃\u001b[39m▅\u001b[39m▅\u001b[39m▆\u001b[39m█\u001b[39m█\u001b[39m█\u001b[39m█\u001b[39m█\u001b[39m█\u001b[39m█\u001b[39m█\u001b[39m█\u001b[39m█\u001b[39m█\u001b[39m▇\u001b[39m▇\u001b[39m▇\u001b[39m▆\u001b[39m▆\u001b[39m▄\u001b[39m▆\u001b[39m▃\u001b[39m▄\u001b[39m▅\u001b[39m▄\u001b[39m \u001b[39m█\n",
       "  336 μs\u001b[90m        \u001b[39m\u001b[90mHistogram: \u001b[39m\u001b[90m\u001b[1mlog(\u001b[22m\u001b[39m\u001b[90mfrequency\u001b[39m\u001b[90m\u001b[1m)\u001b[22m\u001b[39m\u001b[90m by time\u001b[39m        662 μs \u001b[0m\u001b[1m<\u001b[22m\n",
       "\n",
       " Memory estimate\u001b[90m: \u001b[39m\u001b[33m97.78 KiB\u001b[39m, allocs estimate\u001b[90m: \u001b[39m\u001b[33m2334\u001b[39m."
      ]
     },
     "metadata": {},
     "output_type": "display_data"
    }
   ],
   "source": [
    "@benchmark fragmentlines((V,EV))"
   ]
  },
  {
   "cell_type": "markdown",
   "id": "3f4442ea",
   "metadata": {},
   "source": [
    "### Versione parallelizzata di fragmentlines\n",
    "Per la funzione fragmentlines abbiamo migliorato le performance con i seguenti passi:\n",
    "1. Abbiamo convertito la list comprension della creazione dei vettori “params” in un ciclo for in modo da poter utilizzare la macro @threads (in quanto task parallelizzabile)\n",
    "2. Abbiamo allocato line1 e line2 fuori dal for in modo tale che venissero distrutti e riallocati ad ogni iterazione\n",
    "3. Abbiamo eliminato la variabile “fragparams” presente nell'ultima porzione di codice, in quanto riallocava la stessa informazione contenuta in 'params' eliminando solo i doppioni. Inoltre abbiamo aggiunto la macro threads a tutte le task parallelizzabili.\n",
    "4. Abbiamo convertito l'ultimo for each in un for i=1:n\n"
   ]
  },
  {
   "cell_type": "code",
   "execution_count": 8,
   "id": "689a6500",
   "metadata": {},
   "outputs": [
    {
     "data": {
      "text/plain": [
       "fragmentlines2 (generic function with 1 method)"
      ]
     },
     "metadata": {},
     "output_type": "display_data"
    }
   ],
   "source": [
    "function fragmentlines2(model)\n",
    "    V,EV = model\n",
    "    Sigma = spaceindex(model)\n",
    "    lineparams = linefragments(V,EV,Sigma)\n",
    "    vertdict = OrderedDict{Array{Float64,1},Array{Int,1}}()\n",
    "    pairs = collect(zip(lineparams, [V[:,e] for e in EV]))\n",
    "    vertdict = OrderedDict{Array{Float64,1},Int}()\n",
    "    W = Array[]\n",
    "    EW = Array[]\n",
    "    k = 0\n",
    "    l = length(pairs)\n",
    "    @inbounds for i = 1:l\n",
    "        params = pairs[i][1]\n",
    "        linepoints = pairs[i][2]\n",
    "        v1 = linepoints[:,1]    # Isolo primo punto dello spigolo\n",
    "        v2 = linepoints[:,2]    # Isolo secondo punto dello spigolo\n",
    "        points = [ v1 + t*(v2 - v1) for t in params] \n",
    "        vs = zeros(Int64,1,length(points))\n",
    "        PRECISION = 8\n",
    "        numpoint = length(points)\n",
    "        @inbounds for h = 1:numpoint\n",
    "            points[h] = map(approxVal(PRECISION), points[h])\n",
    "            if !haskey(vertdict, points[h])\n",
    "                k += 1  # Genero ID punto \n",
    "                vertdict[points[h]] = k     # Associo l'ID al punto\n",
    "                push!(W, points[h])     # Effettua una push del punto(x,y) nell'array W\n",
    "            end\n",
    "            vs[h] = vertdict[points[h]] \n",
    "        end\n",
    "        m = length(vs) - 1\n",
    "        @inbounds for k=1:m\n",
    "            push!(EW, [vs[k], vs[k+1]])\n",
    "        end\n",
    "    end\n",
    "    W,EW = hcat(W...),convert(Array{Array{Int64,1},1},EW)\n",
    "    V,EV = congruence((W,EW))\n",
    "    return V,EV\n",
    "end\n"
   ]
  },
  {
   "cell_type": "markdown",
   "id": "d63936c5",
   "metadata": {},
   "source": [
    "### Analisi del comportamento e dei tempi della versione parallelizzata"
   ]
  },
  {
   "cell_type": "code",
   "execution_count": 9,
   "id": "ec8e4891",
   "metadata": {},
   "outputs": [
    {
     "name": "stdout",
     "output_type": "stream",
     "text": [
      "  313.200 μs (2280 allocations: 95.84 KiB)\n"
     ]
    },
    {
     "data": {
      "text/plain": [
       "([0.0 1.0 … 0.0 2.0; 0.0 0.0 … 1.0 1.0], [[1, 2], [2, 3], [3, 4], [4, 5], [5, 1], [1, 3], [3, 6]])"
      ]
     },
     "metadata": {},
     "output_type": "display_data"
    }
   ],
   "source": [
    "@btime fragmentlines2((V,EV))"
   ]
  },
  {
   "cell_type": "code",
   "execution_count": 10,
   "id": "29097dca",
   "metadata": {},
   "outputs": [
    {
     "data": {
      "text/plain": [
       "BenchmarkTools.Trial: 9470 samples with 1 evaluation.\n",
       " Range \u001b[90m(\u001b[39m\u001b[36m\u001b[1mmin\u001b[22m\u001b[39m … \u001b[35mmax\u001b[39m\u001b[90m):  \u001b[39m\u001b[36m\u001b[1m297.700 μs\u001b[22m\u001b[39m … \u001b[35m 18.274 ms\u001b[39m  \u001b[90m┊\u001b[39m GC \u001b[90m(\u001b[39mmin … max\u001b[90m): \u001b[39m0.00% … 96.02%\n",
       " Time  \u001b[90m(\u001b[39m\u001b[34m\u001b[1mmedian\u001b[22m\u001b[39m\u001b[90m):     \u001b[39m\u001b[34m\u001b[1m451.900 μs               \u001b[22m\u001b[39m\u001b[90m┊\u001b[39m GC \u001b[90m(\u001b[39mmedian\u001b[90m):    \u001b[39m0.00%\n",
       " Time  \u001b[90m(\u001b[39m\u001b[32m\u001b[1mmean\u001b[22m\u001b[39m ± \u001b[32mσ\u001b[39m\u001b[90m):   \u001b[39m\u001b[32m\u001b[1m518.257 μs\u001b[22m\u001b[39m ± \u001b[32m639.550 μs\u001b[39m  \u001b[90m┊\u001b[39m GC \u001b[90m(\u001b[39mmean ± σ\u001b[90m):  \u001b[39m5.00% ±  4.15%\n",
       "\n",
       "  \u001b[39m \u001b[39m \u001b[39m█\u001b[39m▃\u001b[39m \u001b[39m \u001b[39m \u001b[39m \u001b[39m \u001b[39m \u001b[34m \u001b[39m\u001b[39m \u001b[39m \u001b[39m \u001b[32m \u001b[39m\u001b[39m \u001b[39m▅\u001b[39m \u001b[39m \u001b[39m \u001b[39m \u001b[39m \u001b[39m \u001b[39m \u001b[39m \u001b[39m \u001b[39m \u001b[39m \u001b[39m \u001b[39m \u001b[39m \u001b[39m \u001b[39m \u001b[39m \u001b[39m \u001b[39m \u001b[39m \u001b[39m \u001b[39m \u001b[39m \u001b[39m \u001b[39m \u001b[39m \u001b[39m \u001b[39m \u001b[39m \u001b[39m \u001b[39m \u001b[39m \u001b[39m \u001b[39m \u001b[39m \u001b[39m \u001b[39m \u001b[39m \u001b[39m \u001b[39m \u001b[39m \u001b[39m \u001b[39m \u001b[39m \u001b[39m \u001b[39m \n",
       "  \u001b[39m▃\u001b[39m▅\u001b[39m█\u001b[39m█\u001b[39m▅\u001b[39m▅\u001b[39m▅\u001b[39m▄\u001b[39m▄\u001b[39m▃\u001b[34m▅\u001b[39m\u001b[39m▃\u001b[39m▂\u001b[39m▂\u001b[32m▂\u001b[39m\u001b[39m▆\u001b[39m█\u001b[39m▄\u001b[39m▃\u001b[39m▂\u001b[39m▂\u001b[39m▂\u001b[39m▂\u001b[39m▁\u001b[39m▃\u001b[39m▅\u001b[39m▂\u001b[39m▂\u001b[39m▁\u001b[39m▁\u001b[39m▁\u001b[39m▁\u001b[39m▁\u001b[39m▁\u001b[39m▁\u001b[39m▁\u001b[39m▁\u001b[39m▁\u001b[39m▁\u001b[39m▁\u001b[39m▁\u001b[39m▁\u001b[39m▁\u001b[39m▁\u001b[39m▁\u001b[39m▁\u001b[39m▁\u001b[39m▁\u001b[39m▁\u001b[39m▁\u001b[39m▁\u001b[39m▁\u001b[39m▁\u001b[39m▁\u001b[39m▁\u001b[39m▁\u001b[39m▁\u001b[39m▁\u001b[39m▁\u001b[39m▁\u001b[39m▁\u001b[39m \u001b[39m▂\n",
       "  298 μs\u001b[90m           Histogram: frequency by time\u001b[39m         1.25 ms \u001b[0m\u001b[1m<\u001b[22m\n",
       "\n",
       " Memory estimate\u001b[90m: \u001b[39m\u001b[33m95.84 KiB\u001b[39m, allocs estimate\u001b[90m: \u001b[39m\u001b[33m2280\u001b[39m."
      ]
     },
     "metadata": {},
     "output_type": "display_data"
    }
   ],
   "source": [
    "@benchmark fragmentlines2((V,EV))"
   ]
  },
  {
   "cell_type": "markdown",
   "id": "c2a01c11",
   "metadata": {},
   "source": [
    "## Test"
   ]
  },
  {
   "cell_type": "code",
   "execution_count": 11,
   "id": "c1cd3724",
   "metadata": {},
   "outputs": [
    {
     "name": "stdout",
     "output_type": "stream",
     "text": [
      "\u001b[0m\u001b[1mTest Summary:       | \u001b[22m"
     ]
    },
    {
     "name": "stdout",
     "output_type": "stream",
     "text": [
      "\u001b[32m\u001b[1mPass  \u001b[22m\u001b[39m\u001b[36m\u001b[1mTotal\u001b[22m\u001b[39m\n",
      "fragmentlines Tests | \u001b[32m   2  \u001b[39m\u001b[36m    2\u001b[39m\n"
     ]
    },
    {
     "data": {
      "text/plain": [
       "Test.DefaultTestSet(\"fragmentlines Tests\", Any[], 2, false, false)"
      ]
     },
     "metadata": {},
     "output_type": "display_data"
    }
   ],
   "source": [
    "using Test\n",
    "\n",
    "@testset \"fragmentlines Tests\" begin\n",
    "\tV = hcat([[0.,0],[1,0],[1,1],[0,1],[2,1]]...);\n",
    "\tEV = [[1,2],[2,3],[3,4],[4,1],[1,5]];\n",
    "\tW,EW = Lar.fragmentlines((V,EV))\n",
    "\t@test W == [0.0  1.0  1.0  1.0  0.0  2.0; 0.0  0.0  0.5  1.0  1.0  1.0]\n",
    "\t@test EW == [[1, 2],[2, 3],[3, 4],[4, 5],[5, 1],[1, 3],[3, 6]]\n",
    "end"
   ]
  },
  {
   "cell_type": "markdown",
   "id": "7cca6bc9",
   "metadata": {},
   "source": [
    "![](https://github.com/GiuliaCastagnacci/LARSplitting2D/blob/main/docs/plot/screenTest/test_fragmentlines.png?raw=true)"
   ]
  },
  {
   "cell_type": "markdown",
   "id": "87ebe027",
   "metadata": {},
   "source": [
    "![](https://github.com/GiuliaCastagnacci/LARSplitting2D/blob/main/docs/plot/images/test/test_fragmentlines.png?raw=true) "
   ]
  }
 ],
 "metadata": {
  "kernelspec": {
   "display_name": "Julia 1.7.2",
   "language": "julia",
   "name": "julia-1.7"
  },
  "language_info": {
   "file_extension": ".jl",
   "mimetype": "application/julia",
   "name": "julia",
   "version": "1.7.2"
  }
 },
 "nbformat": 4,
 "nbformat_minor": 5
}
