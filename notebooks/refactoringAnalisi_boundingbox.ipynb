{
  {
   "cell_type": "markdown",
   "id": "e47507c1",
   "metadata": {},
   "source": [
    "### Analisi boundingbox"
   ]
  },
  {
   "cell_type": "markdown",
   "id": "84be1b69",
   "metadata": {},
   "source": [
    "### Dati in input"
   ]
  },
  {
   "cell_type": "code",
   "execution_count": 1,
   "id": "f96d266c",
   "metadata": {},
   "outputs": [],
   "source": [
    "\n",
    "using LinearAlgebraicRepresentation\n",
    "Lar = LinearAlgebraicRepresentation\n",
    "using IntervalTrees\n",
    "using SparseArrays\n",
    "using NearestNeighbors\n",
    "using BenchmarkTools\n",
    "using OrderedCollections\n",
    "using Base.Threads"
   ]
  },
  {
   "cell_type": "code",
   "execution_count": 2,
   "id": "85e86e75",
   "metadata": {},
   "outputs": [
    {
     "data": {
      "text/plain": [
       "5-element Vector{Vector{Int64}}:\n",
       " [4, 1, 3, 5, 2]\n",
       " [1, 3, 5, 2]\n",
       " [4, 1, 3, 5, 2]\n",
       " [4, 1, 3, 5]\n",
       " [4, 1, 3, 5, 2]"
      ]
     },
     "metadata": {},
     "output_type": "display_data"
    }
   ],
   "source": [
    "V = hcat([[0.,0],[1,0],[1,1],[0,1],[2,1]]...);                                          #vertici del modello 2D\n",
    "V3 = hcat([[0.,0,0],[1,0,3],[1,1,2],[0,1,1],[2,1,0]]...);                               #vertici del modello 3D\n",
    "EV = [[1,2],[2,3],[3,4],[4,1],[1,5]];                                                   #spigoli del modello\n",
    "bb = [[0.0 1.0; 0.0 0.0], [1.0 1.0; 0.0 1.0], [0.0 1.0; 1.0 1.0], [0.0 0.0; 0.0 1.0], [0.0 2.0; 0.0 1.0]];  #bounding box\n",
    "dict = OrderedDict([0.0, 1.0] => [1, 3],[1.0, 1.0] => [2],[0.0, 0.0] => [4],[0.0, 2.0] => [5])  #dizionario intervallo/indice\n",
    "cov = [[4, 1, 3, 5, 2], [1, 3, 5, 2], [4, 1, 3, 5, 2], [4, 1, 3, 5], [4, 1, 3, 5, 2]]    #intersezioni tra bounding box"
   ]
  },
  {
   "cell_type": "markdown",
   "id": "a96da45d",
   "metadata": {},
   "source": [
    "### Versione iniziale boundingbox"
   ]
  },
  {
   "cell_type": "markdown",
   "id": "49fc632a",
   "metadata": {},
   "source": [
    "Funzione che prende in input un vertice di tipo Lar.Points e restituisce in output due array che indicano gli estremi del bounding box. Serve, quindi, a creare il bounding box di un segmento, cioè la scatola entro cui sono contenuti tutti i punti."
   ]
  },
  {
   "cell_type": "code",
   "execution_count": 3,
   "id": "c31326f8",
   "metadata": {},
   "outputs": [
    {
     "data": {
      "text/plain": [
       "boundingbox (generic function with 1 method)"
      ]
     },
     "metadata": {},
     "output_type": "display_data"
    }
   ],
   "source": [
    "function boundingbox(vertices::Lar.Points)\n",
    "   minimum = mapslices(x->min(x...), vertices, dims=2)\n",
    "   maximum = mapslices(x->max(x...), vertices, dims=2)\n",
    "   return minimum, maximum\n",
    "end"
   ]
  },
  {
   "cell_type": "markdown",
   "id": "4cc8b6fb",
   "metadata": {},
   "source": [
    "### Analisi del comportamento e dei tempi della versione iniziale"
   ]
  },
  {
   "cell_type": "code",
   "execution_count": 4,
   "id": "47bb6546",
   "metadata": {},
   "outputs": [
    {
     "name": "stdout",
     "output_type": "stream",
     "text": [
      "  19.600 μs (147 allocations: 5.03 KiB)\n"
     ]
    },
    {
     "data": {
      "text/plain": [
       "([0.0; 0.0;;], [2.0; 1.0;;])"
      ]
     },
     "metadata": {},
     "output_type": "display_data"
    }
   ],
   "source": [
    "@btime boundingbox(V)"
   ]
  },
  {
   "cell_type": "code",
   "execution_count": 5,
   "id": "a0d07df3",
   "metadata": {},
   "outputs": [
    {
     "name": "stdout",
     "output_type": "stream",
     "text": [
      "MethodInstance for boundingbox("
     ]
    },
    {
     "name": "stdout",
     "output_type": "stream",
     "text": [
      "::Matrix{Float64})\n",
      "  from boundingbox(vertices::Matrix) in Main at c:\\Users\\giord\\eclipse-SIW\\LARSplitting2D\\notebooks\\refactoringAnalisi_boundingbox.ipynb:"
     ]
    },
    {
     "name": "stdout",
     "output_type": "stream",
     "text": [
      "1\n",
      "Arguments\n",
      "  "
     ]
    },
    {
     "name": "stdout",
     "output_type": "stream",
     "text": [
      "#self#\u001b[36m::Core.Const(boundingbox)\u001b[39m\n",
      "  vertices\u001b[36m::Matrix{Float64}\u001b[39m\n",
      "Locals\n",
      "  #10\u001b[36m::var\"#10#12\"\u001b[39m\n",
      "  #9\u001b[36m::var\"#9#11\"\u001b[39m\n",
      "  maximum\u001b[91m\u001b[1m::Any\u001b[22m\u001b[39m\n",
      "  minimum\u001b[91m\u001b[1m::Any\u001b[22m\u001b[39m\n",
      "Body\u001b[91m\u001b[1m::Tuple{Any, Any}\u001b[22m\u001b[39m"
     ]
    },
    {
     "name": "stdout",
     "output_type": "stream",
     "text": [
      "\n",
      "\u001b[90m1 ─\u001b[39m"
     ]
    },
    {
     "name": "stdout",
     "output_type": "stream",
     "text": [
      "       "
     ]
    },
    {
     "name": "stdout",
     "output_type": "stream",
     "text": [
      "(#9 = %new(Main.:(var\"#9#11\")))"
     ]
    },
    {
     "name": "stdout",
     "output_type": "stream",
     "text": [
      "\n",
      "\u001b[90m│  \u001b[39m %2  = #9"
     ]
    },
    {
     "name": "stdout",
     "output_type": "stream",
     "text": [
      "\u001b[36m::Core.Const(var\"#9#11\"())\u001b[39m\n",
      "\u001b[90m│  \u001b[39m %3  = "
     ]
    },
    {
     "name": "stdout",
     "output_type": "stream",
     "text": [
      "(:dims,)\u001b[36m::Core.Const((:dims,))\u001b[39m\n",
      "\u001b[90m│  \u001b[39m %4  "
     ]
    },
    {
     "name": "stdout",
     "output_type": "stream",
     "text": [
      "= Core.apply_type(Core.NamedTuple, %3)\u001b[36m::Core.Const(NamedTuple{(:dims,)})\u001b[39m\n",
      "\u001b[90m│  \u001b[39m %5  = Core.tuple(2)\u001b[36m::Core.Const((2,))\u001b[39m\n",
      "\u001b[90m│  \u001b[39m %6  = "
     ]
    },
    {
     "name": "stdout",
     "output_type": "stream",
     "text": [
      "(%4)(%5)\u001b[36m::Core.Const((dims = 2,))\u001b[39m\n",
      "\u001b[90m│  \u001b[39m %7  = Core.kwfunc(Main.mapslices)\u001b[36m::Core.Const(Base.var\"#mapslices##kw\"())\u001b[39m\n",
      "\u001b[90m│  \u001b[39m       (minimum = (%7)(%6, Main.mapslices, %2, vertices))\n",
      "\u001b[90m│  \u001b[39m "
     ]
    },
    {
     "name": "stdout",
     "output_type": "stream",
     "text": [
      "      (#10 = %new(Main.:(var\"#10#12\")))\n",
      "\u001b[90m│  \u001b[39m %10 = #10\u001b[36m::Core.Const(var\"#10#12\"())\u001b[39m\n",
      "\u001b[90m│  \u001b[39m %11 = (:dims,)\u001b[36m::Core.Const((:dims,))\u001b[39m\n",
      "\u001b[90m│  \u001b[39m %12 = Core.apply_type(Core.NamedTuple, %11)\u001b[36m::Core.Const(NamedTuple{(:dims,)})\u001b[39m\n",
      "\u001b[90m│  \u001b[39m %13 = Core.tuple(2)\u001b[36m::Core.Const((2,))\u001b[39m\n",
      "\u001b[90m│  \u001b[39m %14 = (%12)(%13)\u001b[36m::Core.Const((dims = 2,))\u001b[39m\n",
      "\u001b[90m│  \u001b[39m %15 = Core.kwfunc(Main.mapslices)\u001b[36m::Core.Const(Base.var\"#mapslices##kw\"())\u001b[39m\n",
      "\u001b[90m│  \u001b[39m       (maximum = (%15)(%14, Main.mapslices, %10, vertices))\n",
      "\u001b[90m│  \u001b[39m %17 = Core.tuple(minimum, maximum)\u001b[91m\u001b[1m::Tuple{Any, Any}\u001b[22m\u001b[39m\n",
      "\u001b[90m└──\u001b[39m       return "
     ]
    },
    {
     "name": "stdout",
     "output_type": "stream",
     "text": [
      "%17\n",
      "\n"
     ]
    }
   ],
   "source": [
    "@code_warntype boundingbox(V)"
   ]
  },
  {
   "cell_type": "code",
   "execution_count": 6,
   "id": "1f8f75b8",
   "metadata": {},
   "outputs": [
    {
     "data": {
      "text/plain": [
       "BenchmarkTools.Trial: 10000 samples with 1 evaluation.\n",
       " Range \u001b[90m(\u001b[39m\u001b[36m\u001b[1mmin\u001b[22m\u001b[39m … \u001b[35mmax\u001b[39m\u001b[90m):  \u001b[39m\u001b[36m\u001b[1m21.600 μs\u001b[22m\u001b[39m … \u001b[35m 20.378 ms\u001b[39m  \u001b[90m┊\u001b[39m GC \u001b[90m(\u001b[39mmin … max\u001b[90m): \u001b[39m0.00% … 97.86%\n",
       " Time  \u001b[90m(\u001b[39m\u001b[34m\u001b[1mmedian\u001b[22m\u001b[39m\u001b[90m):     \u001b[39m\u001b[34m\u001b[1m33.700 μs               \u001b[22m\u001b[39m\u001b[90m┊\u001b[39m GC \u001b[90m(\u001b[39mmedian\u001b[90m):    \u001b[39m0.00%\n",
       " Time  \u001b[90m(\u001b[39m\u001b[32m\u001b[1mmean\u001b[22m\u001b[39m ± \u001b[32mσ\u001b[39m\u001b[90m):   \u001b[39m\u001b[32m\u001b[1m50.280 μs\u001b[22m\u001b[39m ± \u001b[32m249.936 μs\u001b[39m  \u001b[90m┊\u001b[39m GC \u001b[90m(\u001b[39mmean ± σ\u001b[90m):  \u001b[39m3.97% ±  0.98%\n",
       "\n",
       "  \u001b[39m▇\u001b[39m█\u001b[39m█\u001b[39m▆\u001b[39m▇\u001b[34m▅\u001b[39m\u001b[39m▄\u001b[39m▄\u001b[39m▃\u001b[39m▅\u001b[39m▅\u001b[32m▄\u001b[39m\u001b[39m▅\u001b[39m▇\u001b[39m▄\u001b[39m▃\u001b[39m▃\u001b[39m▂\u001b[39m▂\u001b[39m▂\u001b[39m▂\u001b[39m▁\u001b[39m▁\u001b[39m▁\u001b[39m▁\u001b[39m▁\u001b[39m▁\u001b[39m \u001b[39m \u001b[39m \u001b[39m▁\u001b[39m \u001b[39m \u001b[39m \u001b[39m \u001b[39m▁\u001b[39m \u001b[39m \u001b[39m \u001b[39m \u001b[39m \u001b[39m \u001b[39m \u001b[39m \u001b[39m \u001b[39m \u001b[39m \u001b[39m \u001b[39m \u001b[39m \u001b[39m \u001b[39m \u001b[39m \u001b[39m \u001b[39m \u001b[39m \u001b[39m \u001b[39m \u001b[39m \u001b[39m \u001b[39m \u001b[39m▂\n",
       "  \u001b[39m█\u001b[39m█\u001b[39m█\u001b[39m█\u001b[39m█\u001b[34m█\u001b[39m\u001b[39m█\u001b[39m█\u001b[39m█\u001b[39m█\u001b[39m█\u001b[32m█\u001b[39m\u001b[39m█\u001b[39m█\u001b[39m█\u001b[39m█\u001b[39m█\u001b[39m█\u001b[39m█\u001b[39m█\u001b[39m█\u001b[39m█\u001b[39m█\u001b[39m█\u001b[39m█\u001b[39m█\u001b[39m█\u001b[39m█\u001b[39m█\u001b[39m█\u001b[39m█\u001b[39m█\u001b[39m█\u001b[39m█\u001b[39m█\u001b[39m█\u001b[39m█\u001b[39m█\u001b[39m▇\u001b[39m█\u001b[39m█\u001b[39m▇\u001b[39m█\u001b[39m▇\u001b[39m▇\u001b[39m▇\u001b[39m▅\u001b[39m▆\u001b[39m▆\u001b[39m▄\u001b[39m▅\u001b[39m▅\u001b[39m▅\u001b[39m▄\u001b[39m▅\u001b[39m▅\u001b[39m▄\u001b[39m▅\u001b[39m▄\u001b[39m▅\u001b[39m \u001b[39m█\n",
       "  21.6 μs\u001b[90m       \u001b[39m\u001b[90mHistogram: \u001b[39m\u001b[90m\u001b[1mlog(\u001b[22m\u001b[39m\u001b[90mfrequency\u001b[39m\u001b[90m\u001b[1m)\u001b[22m\u001b[39m\u001b[90m by time\u001b[39m       177 μs \u001b[0m\u001b[1m<\u001b[22m\n",
       "\n",
       " Memory estimate\u001b[90m: \u001b[39m\u001b[33m5.03 KiB\u001b[39m, allocs estimate\u001b[90m: \u001b[39m\u001b[33m147\u001b[39m."
      ]
     },
     "metadata": {},
     "output_type": "display_data"
    }
   ],
   "source": [
    "@benchmark boundingbox(V)"
   ]
  },
  {
   "cell_type": "markdown",
   "id": "3f4442ea",
   "metadata": {},
   "source": [
    "### Versione parallelizzata di boundingbox\n",
    "la versione iniziale era type unstable; questo era dovuto alla funzione mapslices (funzione di base). Per ovviare al problema, si è effettuato un refactoring della funzione, riscrivendola di fatto da zero. In questo modo si è ottenuta la stabilità di tipo e un notevole miglioramento delle prestazioni"
   ]
  },
  {
   "cell_type": "code",
   "execution_count": 7,
   "id": "689a6500",
   "metadata": {},
   "outputs": [
    {
     "data": {
      "text/plain": [
       "boundingbox2 (generic function with 1 method)"
      ]
     },
     "metadata": {},
     "output_type": "display_data"
    }
   ],
   "source": [
    "function boundingbox2(vertices::Lar.Points)\n",
    "    firstDim = vertices[1,:]\n",
    "    secondDim = vertices[2,:]\n",
    "    if (size(vertices,1)==3)\n",
    "        thirdDim = vertices[3,:]\n",
    "        minimum = Threads.@spawn hcat([min(firstDim...), min(secondDim...), min(thirdDim...)])\n",
    "        maximum = Threads.@spawn hcat([max(firstDim...), max(secondDim...), max(thirdDim...)])\n",
    "    else\n",
    "        minimum = Threads.@spawn hcat([min(firstDim...), min(secondDim...)])\n",
    "        maximum = Threads.@spawn hcat([max(firstDim...), max(secondDim...)])\n",
    "    end\n",
    "    return fetch(minimum),fetch(maximum)\n",
    " end"
   ]
  },
  {
   "cell_type": "markdown",
   "id": "991ae1aa",
   "metadata": {},
   "source": [
    "### Analisi del comportamento e dei tempi della versione parallelizzata"
   ]
  },
  {
   "cell_type": "code",
   "execution_count": 8,
   "id": "ec8e4891",
   "metadata": {},
   "outputs": [
    {
     "name": "stdout",
     "output_type": "stream",
     "text": [
      "  8.960 μs (63 allocations: 2.50 KiB)\n"
     ]
    },
    {
     "data": {
      "text/plain": [
       "([0.0; 0.0;;], [2.0; 1.0;;])"
      ]
     },
     "metadata": {},
     "output_type": "display_data"
    }
   ],
   "source": [
    "@btime boundingbox2(V)"
   ]
  },
  {
   "cell_type": "code",
   "execution_count": 9,
   "id": "29097dca",
   "metadata": {},
   "outputs": [
    {
     "data": {
      "text/plain": [
       "BenchmarkTools.Trial: 10000 samples with 4 evaluations.\n",
       " Range \u001b[90m(\u001b[39m\u001b[36m\u001b[1mmin\u001b[22m\u001b[39m … \u001b[35mmax\u001b[39m\u001b[90m):  \u001b[39m\u001b[36m\u001b[1m 7.900 μs\u001b[22m\u001b[39m … \u001b[35m 1.840 ms\u001b[39m  \u001b[90m┊\u001b[39m GC \u001b[90m(\u001b[39mmin … max\u001b[90m): \u001b[39m0.00% … 99.17%\n",
       " Time  \u001b[90m(\u001b[39m\u001b[34m\u001b[1mmedian\u001b[22m\u001b[39m\u001b[90m):     \u001b[39m\u001b[34m\u001b[1m 9.300 μs              \u001b[22m\u001b[39m\u001b[90m┊\u001b[39m GC \u001b[90m(\u001b[39mmedian\u001b[90m):    \u001b[39m0.00%\n",
       " Time  \u001b[90m(\u001b[39m\u001b[32m\u001b[1mmean\u001b[22m\u001b[39m ± \u001b[32mσ\u001b[39m\u001b[90m):   \u001b[39m\u001b[32m\u001b[1m10.769 μs\u001b[22m\u001b[39m ± \u001b[32m26.028 μs\u001b[39m  \u001b[90m┊\u001b[39m GC \u001b[90m(\u001b[39mmean ± σ\u001b[90m):  \u001b[39m3.38% ±  1.40%\n",
       "\n",
       "  \u001b[39m \u001b[39m█\u001b[39m▄\u001b[39m▂\u001b[39m█\u001b[39m▁\u001b[34m▃\u001b[39m\u001b[39m \u001b[39m \u001b[39m \u001b[39m \u001b[39m \u001b[32m \u001b[39m\u001b[39m \u001b[39m \u001b[39m \u001b[39m \u001b[39m \u001b[39m \u001b[39m \u001b[39m▃\u001b[39m▂\u001b[39m \u001b[39m \u001b[39m \u001b[39m \u001b[39m \u001b[39m \u001b[39m \u001b[39m \u001b[39m \u001b[39m \u001b[39m \u001b[39m \u001b[39m \u001b[39m \u001b[39m \u001b[39m \u001b[39m \u001b[39m \u001b[39m \u001b[39m \u001b[39m \u001b[39m \u001b[39m \u001b[39m \u001b[39m \u001b[39m \u001b[39m \u001b[39m \u001b[39m \u001b[39m \u001b[39m \u001b[39m \u001b[39m \u001b[39m \u001b[39m \u001b[39m \u001b[39m \u001b[39m \u001b[39m \n",
       "  \u001b[39m█\u001b[39m█\u001b[39m█\u001b[39m█\u001b[39m█\u001b[39m█\u001b[34m█\u001b[39m\u001b[39m▆\u001b[39m▄\u001b[39m▃\u001b[39m▃\u001b[39m▃\u001b[32m▃\u001b[39m\u001b[39m▂\u001b[39m▂\u001b[39m▁\u001b[39m▁\u001b[39m▁\u001b[39m▁\u001b[39m▂\u001b[39m█\u001b[39m█\u001b[39m▅\u001b[39m▂\u001b[39m▂\u001b[39m▁\u001b[39m▁\u001b[39m▁\u001b[39m▁\u001b[39m▁\u001b[39m▁\u001b[39m▁\u001b[39m▁\u001b[39m▁\u001b[39m▁\u001b[39m▁\u001b[39m▁\u001b[39m▁\u001b[39m▁\u001b[39m▁\u001b[39m▁\u001b[39m▁\u001b[39m▁\u001b[39m▁\u001b[39m▁\u001b[39m▁\u001b[39m▁\u001b[39m▁\u001b[39m▁\u001b[39m▁\u001b[39m▁\u001b[39m▁\u001b[39m▁\u001b[39m▁\u001b[39m▁\u001b[39m▁\u001b[39m▁\u001b[39m▁\u001b[39m▁\u001b[39m \u001b[39m▂\n",
       "  7.9 μs\u001b[90m          Histogram: frequency by time\u001b[39m        22.4 μs \u001b[0m\u001b[1m<\u001b[22m\n",
       "\n",
       " Memory estimate\u001b[90m: \u001b[39m\u001b[33m2.50 KiB\u001b[39m, allocs estimate\u001b[90m: \u001b[39m\u001b[33m63\u001b[39m."
      ]
     },
     "metadata": {},
     "output_type": "display_data"
    }
   ],
   "source": [
    "@benchmark boundingbox2(V)"
   ]
  },
  {
   "cell_type": "markdown",
   "id": "c2a01c11",
   "metadata": {},
   "source": [
    "## Test"
   ]
  },
  {
   "cell_type": "code",
   "execution_count": 10,
   "id": "9f6f27af",
   "metadata": {},
   "outputs": [
    {
     "name": "stdout",
     "output_type": "stream",
     "text": [
      "\u001b[0m\u001b[1mTest Summary:     | \u001b[22m\u001b[32m\u001b[1mPass  \u001b[22m\u001b[39m"
     ]
    },
    {
     "name": "stdout",
     "output_type": "stream",
     "text": [
      "\u001b[36m\u001b[1mTotal\u001b[22m\u001b[39m\n",
      "boundingbox Tests | \u001b[32m   3  \u001b[39m\u001b[36m    3\u001b[39m\n"
     ]
    },
    {
     "data": {
      "text/plain": [
       "Test.DefaultTestSet(\"boundingbox Tests\", Any[Test.DefaultTestSet(\"boundingbox Tests\", Any[Test.DefaultTestSet(\"Edge tests\", Any[], 1, false, false), Test.DefaultTestSet(\"Face tests\", Any[], 1, false, false), Test.DefaultTestSet(\"Cell tests\", Any[], 1, false, false)], 0, false, false)], 0, false, false)"
      ]
     },
     "metadata": {},
     "output_type": "display_data"
    }
   ],
   "source": [
    "using Test\n",
    "\n",
    "@testset \"boundingbox Tests\" begin\n",
    "\n",
    "\t# 2x2x2 cuboidal grid for 1-, 2-, and 3-dim tests\n",
    "\tV,(VV,EV,FV,CV) = Lar.cuboidGrid([2,2,2],true)\n",
    "\tW,_ = Lar.apply(Lar.r(1,1,pi/6),(V,[VV,EV,FV,CV]))\n",
    "\n",
    "\tfunction test_bboxes(bboxes)\n",
    "\t\t# initialize accumulator\n",
    "\t\taccumulator = BitArray{1}()\n",
    "\t\tfor k=1:size(bboxes[1],1)\n",
    "\t\t\tpush!(accumulator, true)\n",
    "\t\tend\n",
    "\t\t# testing data \n",
    "\t\tfor h=1:length(bboxes)\n",
    "\t\t\taccumulator = (bboxes[h][:,1] .< bboxes[h][:,2]) .& accumulator\n",
    "\t\tend\n",
    "\t\treturn (&)(accumulator...)\n",
    "\tend\n",
    "\t\n",
    "\t@testset \"boundingbox Tests\" begin\n",
    "\t\t\t\n",
    "\t\t@testset \"Edge tests\" begin # \n",
    "\t\t\tcellpoints = [ W[:,EV[k]]::Lar.Points for k=1:length(EV) ]\n",
    "\t\t\tbboxes = [hcat(Lar.boundingbox(cell)...) for cell in cellpoints]\n",
    "\t\t\t@test true == test_bboxes(bboxes)\n",
    "\t\tend\n",
    "\t\t@testset \"Face tests\" begin # \n",
    "\t\t\tcellpoints = [ W[:,FV[k]]::Lar.Points for k=1:length(FV) ]\n",
    "\t\t\tbboxes = [hcat(Lar.boundingbox(cell)...) for cell in cellpoints]\n",
    "\t\t\t@test true == test_bboxes(bboxes)\n",
    "\t\tend\n",
    "\t\t@testset \"Cell tests\" begin # \n",
    "\t\t\tcellpoints = [ W[:,CV[k]]::Lar.Points for k=1:length(CV) ]\n",
    "\t\t\tbboxes = [hcat(Lar.boundingbox(cell)...) for cell in cellpoints]\n",
    "\t\t\t@test true == test_bboxes(bboxes)\n",
    "\t\tend\n",
    "\tend\n",
    "end"
   ]
  },
  {
   "cell_type": "markdown",
   "id": "ca41949a",
   "metadata": {},
   "source": [
    "![](https://github.com/GiuliaCastagnacci/LARSplitting2D/blob/main/docs/plot/screenTest/tests_boundingbox.png?raw=true)"
   ]
  },
  {
   "cell_type": "markdown",
   "id": "5ae7c81f",
   "metadata": {},
   "source": [
    "![](https://github.com/GiuliaCastagnacci/LARSplitting2D/blob/main/docs/plot/images/test/tests_boundingbox.png?raw=true)"
   ]
  }
 ],
 "metadata": {
  "kernelspec": {
   "display_name": "Julia 1.7.2",
   "language": "julia",
   "name": "julia-1.7"
  },
  "language_info": {
   "file_extension": ".jl",
   "mimetype": "application/julia",
   "name": "julia",
   "version": "1.7.2"
  }
 },
 "nbformat": 4,
 "nbformat_minor": 5
}
