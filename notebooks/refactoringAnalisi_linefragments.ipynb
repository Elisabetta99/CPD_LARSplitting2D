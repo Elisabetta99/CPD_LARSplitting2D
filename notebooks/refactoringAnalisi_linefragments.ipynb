{
 "cells": [
  {
   "cell_type": "markdown",
   "metadata": {},
   "source": [
    "### Gruppo 5.a: Castagnacci Giulia (581749), Giordano Elisabetta (536265)"
   ]
  },
  {
   "cell_type": "markdown",
   "metadata": {},
   "source": [
    "### Analisi linefragments"
   ]
  },
  {
   "cell_type": "code",
   "execution_count": 1,
   "metadata": {},
   "outputs": [],
   "source": [
    "using LinearAlgebraicRepresentation\n",
    "Lar = LinearAlgebraicRepresentation\n",
    "using IntervalTrees\n",
    "using SparseArrays\n",
    "using NearestNeighbors\n",
    "using BenchmarkTools\n",
    "using OrderedCollections\n",
    "using Base.Threads"
   ]
  },
  {
   "cell_type": "markdown",
   "metadata": {},
   "source": [
    "### Dati in input"
   ]
  },
  {
   "cell_type": "code",
   "execution_count": 2,
   "metadata": {},
   "outputs": [
    {
     "data": {
      "text/plain": [
       "5-element Vector{Vector{Int64}}:\n",
       " [4, 1, 3, 5, 2]\n",
       " [1, 3, 5, 2]\n",
       " [4, 1, 3, 5, 2]\n",
       " [4, 1, 3, 5]\n",
       " [4, 1, 3, 5, 2]"
      ]
     },
     "metadata": {},
     "output_type": "display_data"
    }
   ],
   "source": [
    "V = hcat([[0.,0],[1,0],[1,1],[0,1],[2,1]]...);                                          #vertici del modello 2D\n",
    "V3 = hcat([[0.,0,0],[1,0,3],[1,1,2],[0,1,1],[2,1,0]]...);                               #vertici del modello 3D\n",
    "EV = [[1,2],[2,3],[3,4],[4,1],[1,5]];                                                   #spigoli del modello\n",
    "bb = [[0.0 1.0; 0.0 0.0], [1.0 1.0; 0.0 1.0], [0.0 1.0; 1.0 1.0], [0.0 0.0; 0.0 1.0], [0.0 2.0; 0.0 1.0]];  #bounding box\n",
    "dict = OrderedDict([0.0, 1.0] => [1, 3],[1.0, 1.0] => [2],[0.0, 0.0] => [4],[0.0, 2.0] => [5])  #dizionario intervallo/indice\n",
    "cov = [[4, 1, 3, 5, 2], [1, 3, 5, 2], [4, 1, 3, 5, 2], [4, 1, 3, 5], [4, 1, 3, 5, 2]]    #intersezioni tra bounding box"
   ]
  },
  {
   "cell_type": "markdown",
   "metadata": {},
   "source": [
    "### Funzioni di supporto"
   ]
  },
  {
   "cell_type": "code",
   "execution_count": 3,
   "metadata": {},
   "outputs": [
    {
     "data": {
      "text/plain": [
       "intersection (generic function with 1 method)"
      ]
     },
     "metadata": {},
     "output_type": "display_data"
    }
   ],
   "source": [
    "function spaceindex(model::Lar.LAR)::Array{Array{Int,1},1}\n",
    "\tV,CV = model[1:2]\n",
    "\tdim = size(V,1)\n",
    "\tcellpoints = [ V[:,CV[k]]::Lar.Points for k=1:length(CV) ]\n",
    "\t#----------------------------------------------------------\n",
    "\tbboxes = [hcat(Lar.boundingbox(cell)...) for cell in cellpoints]\n",
    "\txboxdict = Lar.coordintervals(1,bboxes)\n",
    "\tyboxdict = Lar.coordintervals(2,bboxes)\n",
    "\t# xs,ys are IntervalTree type\n",
    "\txs = IntervalTrees.IntervalMap{Float64, Array}()\n",
    "\tfor (key,boxset) in xboxdict\n",
    "\t\txs[tuple(key...)] = boxset\n",
    "\tend\n",
    "\tys = IntervalTrees.IntervalMap{Float64, Array}()\n",
    "\tfor (key,boxset) in yboxdict\n",
    "\t\tys[tuple(key...)] = boxset\n",
    "\tend\n",
    "\txcovers = Lar.boxcovering(bboxes, 1, xs)\n",
    "\tycovers = Lar.boxcovering(bboxes, 2, ys)\n",
    "\tcovers = [intersect(pair...) for pair in zip(xcovers,ycovers)]\n",
    "\n",
    "\tif dim == 3\n",
    "\t\tzboxdict = Lar.coordintervals(3,bboxes)\n",
    "\t\tzs = IntervalTrees.IntervalMap{Float64, Array}()\n",
    "\t\tfor (key,boxset) in zboxdict\n",
    "\t\t\tzs[tuple(key...)] = boxset\n",
    "\t\tend\n",
    "\t\tzcovers = Lar.boxcovering(bboxes, 3, zs)\n",
    "\t\tcovers = [intersect(pair...) for pair in zip(zcovers,covers)]\n",
    "\tend\n",
    "\t# remove each cell from its cover\n",
    "\tfor k=1:length(covers)\n",
    "\t\tcovers[k] = setdiff(covers[k],[k])\n",
    "\tend\n",
    "\treturn covers\n",
    "end\n",
    "\n",
    "function intersection(line1,line2)\n",
    "\tx1,y1,x2,y2 = vcat(line1...)\n",
    "\tx3,y3,x4,y4 = vcat(line2...)\n",
    "\n",
    "\t# intersect lines e1,e2\n",
    "\tdet = (x4-x3)*(y1-y2)-(x1-x2)*(y4-y3)\n",
    "\tif det != 0.0\n",
    "\t\ta = 1/det\n",
    "\t\tb = [y1-y2 x2-x1; y3-y4 x4-x3]\n",
    "\t\tc = [x1-x3; y1-y3]\n",
    "\t\t(β,α) = a * b * c\n",
    "\telse\n",
    "\t\tif (y1==y2) == (y3==y4) || (x1==x2) == (x3==x4) \t# segments collinear\n",
    "\t\t\t return nothing\n",
    "\t\telse\n",
    "\t\t\t # segments parallel: no intersection\n",
    "\t\t\t return nothing\n",
    "\t\tend\n",
    "\tend\n",
    "\treturn α,β\n",
    "end"
   ]
  },
  {
   "cell_type": "markdown",
   "metadata": {},
   "source": [
    "### Versione iniziale di linefragments\n",
    "Funzione che ordina i segmenti intersecati di ogni segmento. Per ogni segmento, se interseca con qualcosa, prende i punti (x1, y1), (x2, y2) del segmento i-eisimo, lo confronta con tutti gli altri segmenti presenti nel suo indice spaziale “Sigma” che fornisce il sottoinsieme di linee i cui box di contenimento intersecano il box di ciascuna linea di input (dato da EV), e restituisce i parametri (alfa e beta) necessari a determinare il punto di intersezione tra coppie di segmenti. Se le rette si intersecano, si verifica che i parametri alfa e beta siano ammissibili, se lo sono vengono immagazzinati nella struttura dati “params”.\n"
   ]
  },
  {
   "cell_type": "code",
   "execution_count": 4,
   "metadata": {},
   "outputs": [
    {
     "data": {
      "text/plain": [
       "linefragments (generic function with 1 method)"
      ]
     },
     "metadata": {},
     "output_type": "display_data"
    }
   ],
   "source": [
    "function linefragments(V,EV,Sigma)\n",
    "\t# remove the double intersections by ordering Sigma\n",
    "\tm = length(Sigma)\n",
    "\tsigma = map(sort,Sigma)\n",
    "\treducedsigma = sigma\n",
    "\t# pairwise parametric intersection\n",
    "\tparams = Array{Float64,1}[[] for i=1:m]\n",
    "\tfor h=1:m\n",
    "\t\tif sigma[h] ≠ []\n",
    "\t\t\tline1 = V[:,EV[h]]\n",
    "\t\t\tfor k in sigma[h]\n",
    "\t\t\t\tline2 = V[:,EV[k]]\n",
    "\t\t\t\tout = Lar.intersection(line1,line2)\n",
    "\t\t\t\tif out ≠ nothing\n",
    "\t\t\t\t\tα,β = out\n",
    "\t\t\t\t\tif 0<=α<=1 && 0<=β<=1\n",
    "\t\t\t\t\t\tpush!(params[h], α)\n",
    "\t\t\t\t\t\tpush!(params[k], β)\n",
    "\t\t\t\t\tend\n",
    "\t\t\t\tend\n",
    "\t\t\tend\n",
    "\t\tend\n",
    "\tend\n",
    "\t# finalize parameters of fragmented lines\n",
    "\tfragparams = []\n",
    "\tfor line in params\n",
    "\t\tpush!(line, 0.0, 1.0)\n",
    "\t\tline = sort(collect(Set(line)))\n",
    "\t\tpush!(fragparams, line)\n",
    "\tend\n",
    "\treturn fragparams\n",
    "end"
   ]
  },
  {
   "cell_type": "markdown",
   "metadata": {},
   "source": [
    "### Analisi del comportamento e dei tempi della versione iniziale"
   ]
  },
  {
   "cell_type": "code",
   "execution_count": 5,
   "metadata": {},
   "outputs": [
    {
     "name": "stdout",
     "output_type": "stream",
     "text": [
      "  41.300 μs (800 allocations: 25.34 KiB)\n"
     ]
    },
    {
     "data": {
      "text/plain": [
       "5-element Vector{Any}:\n",
       " [0.0, 1.0]\n",
       " [0.0, 0.5, 1.0]\n",
       " [0.0, 1.0]\n",
       " [0.0, 1.0]\n",
       " [0.0, 0.5, 1.0]"
      ]
     },
     "metadata": {},
     "output_type": "display_data"
    }
   ],
   "source": [
    "Sigma = spaceindex((V,EV))\n",
    "@btime linefragments(V,EV,Sigma)"
   ]
  },
  {
   "cell_type": "code",
   "execution_count": 6,
   "metadata": {},
   "outputs": [
    {
     "name": "stdout",
     "output_type": "stream",
     "text": [
      "MethodInstance for "
     ]
    },
    {
     "name": "stdout",
     "output_type": "stream",
     "text": [
      "linefragments(::"
     ]
    },
    {
     "name": "stdout",
     "output_type": "stream",
     "text": [
      "Matrix{Float64}, ::Vector{Vector{Int64}}, ::Vector{Vector{Int64}})\n",
      "  from linefragments(V, EV, Sigma) in Main at c:\\Users\\giord\\eclipse-SIW\\LARSplitting2D\\notebooks\\refactoringAnalisi_linefragments.ipynb:1\n",
      "Arguments\n",
      "  #self#"
     ]
    },
    {
     "name": "stdout",
     "output_type": "stream",
     "text": [
      "\u001b[36m::Core.Const(linefragments)\u001b[39m\n",
      "  V\u001b[36m::Matrix{Float64}\u001b[39m\n",
      "  EV\u001b[36m::Vector{Vector{Int64}}\u001b[39m\n",
      "  Sigma\u001b[36m::Vector{Vector{Int64}}\u001b[39m\n",
      "Locals\n",
      "  @_5\u001b[33m\u001b[1m::Union{Nothing, Tuple{Vector{Float64}, Int64}}\u001b[22m\u001b[39m\n",
      "  @_6\u001b[33m\u001b[1m::Union{Nothing, Tuple{Int64, Int64}}\u001b[22m\u001b[39m\n",
      "  fragparams\u001b[36m::Vector{Any}\u001b[39m\n",
      "  params\u001b[36m::Vector{Vector{Float64}}\u001b[39m\n",
      "  reducedsigma\u001b[36m::Vector{Vector{Int64}}\u001b[39m\n",
      "  sigma\u001b[36m::Vector{Vector{Int64}}\u001b[39m\n",
      "  m\u001b[36m::Int64\u001b[39m\n",
      "  @_12\u001b[33m\u001b[1m::Union{Nothing, Tuple{Int64, Int64}}\u001b[22m\u001b[39m\n",
      "  @_13\u001b[36m::Int64\u001b[39m\n",
      "  i\u001b[36m::Int64\u001b[39m\n",
      "  @_15\u001b[33m\u001b[1m::Union{Nothing, Tuple{Int64, Int64}}\u001b[22m\u001b[39m\n",
      "  h\u001b[36m::Int64\u001b[39m\n",
      "  line1\u001b[36m::Matrix{Float64}\u001b[39m\n",
      "  @_18\u001b[91m\u001b[1m::Any\u001b[22m\u001b[39m\n",
      "  k\u001b[36m::Int64\u001b[39m\n",
      "  β\u001b[91m\u001b[1m::Any\u001b[22m\u001b[39m\n",
      "  α\u001b[91m\u001b[1m::Any\u001b[22m\u001b[39m\n",
      "  out\u001b[91m\u001b[1m::Any\u001b[22m\u001b[39m\n",
      "  line2\u001b[36m::Matrix{Float64}\u001b[39m\n",
      "  line\u001b[36m::Vector{Float64}\u001b[39m\n",
      "  @_25\u001b[91m\u001b[1m::Any\u001b[22m\u001b[39m\n",
      "  @_26\u001b[91m\u001b[1m::Any\u001b[22m\u001b[39m\n",
      "Body\u001b[36m::Vector{Any}\u001b[39m\n"
     ]
    },
    {
     "name": "stdout",
     "output_type": "stream",
     "text": [
      "\u001b[90m1 ──\u001b[39m"
     ]
    },
    {
     "name": "stdout",
     "output_type": "stream",
     "text": [
      "        "
     ]
    },
    {
     "name": "stdout",
     "output_type": "stream",
     "text": [
      "Core.NewvarNode("
     ]
    },
    {
     "name": "stdout",
     "output_type": "stream",
     "text": [
      ":(@_5))"
     ]
    },
    {
     "name": "stdout",
     "output_type": "stream",
     "text": [
      "\n",
      "\u001b[90m│   \u001b[39m        Core.NewvarNode(:(@_6))\n",
      "\u001b[90m│   \u001b[39m        Core.NewvarNode(:(fragparams))\n",
      "\u001b[90m│   \u001b[39m        Core.NewvarNode(:(params))\n",
      "\u001b[90m│   \u001b[39m        (m = "
     ]
    },
    {
     "name": "stdout",
     "output_type": "stream",
     "text": [
      "Main.length(Sigma))\n",
      "\u001b[90m│   \u001b[39m        (sigma = Main.map(Main.sort, Sigma))\n",
      "\u001b[90m│   \u001b[39m        (reducedsigma = sigma)\n",
      "\u001b[90m│   \u001b[39m %8   = "
     ]
    },
    {
     "name": "stdout",
     "output_type": "stream",
     "text": [
      "(1:m)"
     ]
    },
    {
     "name": "stdout",
     "output_type": "stream",
     "text": [
      "\u001b[36m::Core.PartialStruct(UnitRange{Int64}, Any[Core.Const(1), Int64])\u001b[39m\n",
      "\u001b[90m│   \u001b[39m %9   = Base.IteratorSize(%8"
     ]
    },
    {
     "name": "stdout",
     "output_type": "stream",
     "text": [
      ")\u001b[36m::Core.Const(Base.HasShape{1}())\u001b[39m\n",
      "\u001b[90m│   \u001b[39m %10  = (%9 isa Base.SizeUnknown)\u001b[36m::Core.Const(false)\u001b[39m\n",
      "\u001b[90m│   \u001b[39m %11  = Core.apply_type(Main.Array, Main.Float64, 1)\u001b[36m::Core.Const(Vector{Float64})\u001b[39m\n",
      "\u001b[90m│   \u001b[39m %12  = Base._array_for(%11, %8, %9)\u001b[36m::Vector{Vector{Float64}}\u001b[39m\n",
      "\u001b[90m│   \u001b[39m %13  = Base.LinearIndices(%12)\u001b[36m::LinearIndices{1, Tuple{Base.OneTo{Int64}}}\u001b[39m\n",
      "\u001b[90m│   \u001b[39m        (@_13 = Base.first(%13))\n",
      "\u001b[90m│   \u001b[39m        (@_12 = Base.iterate(%8))\n",
      "\u001b[90m│   \u001b[39m %16  = (@_12 === nothing)"
     ]
    },
    {
     "name": "stdout",
     "output_type": "stream",
     "text": [
      "\u001b[36m::Bool\u001b[39m\n",
      "\u001b[90m│   \u001b[39m %17  = Base.not_int(%16)\u001b[36m::Bool\u001b[39m\n",
      "\u001b[90m└───\u001b[39m        goto #6 if not %17\n",
      "\u001b[90m2 ┄─\u001b[39m %19  = @_12\u001b[36m::Tuple{Int64, Int64}\u001b[39m\n",
      "\u001b[90m│   \u001b[39m        (i = Core.getfield(%19, 1))\n",
      "\u001b[90m│   \u001b[39m %21  = Core.getfield(%19, 2)\u001b[36m::Int64\u001b[39m\n",
      "\u001b[90m│   \u001b[39m %22  = Base.vect()\u001b[36m::Vector{Any}\u001b[39m\n",
      "\u001b[90m│   \u001b[39m        $(Expr(:inbounds, true))\n",
      "\u001b[90m└───\u001b[39m        goto #4 if not %10\n",
      "\u001b[90m3 ──\u001b[39m        "
     ]
    },
    {
     "name": "stdout",
     "output_type": "stream",
     "text": [
      "Core.Const(:(Base.push!(%12, %22)))\n",
      "\u001b[90m└───\u001b[39m        Core.Const(:(goto %28))\n",
      "\u001b[90m4 ┄─\u001b[39m        Base.setindex!(%12, %22, @_13)\n",
      "\u001b[90m│   \u001b[39m        $(Expr(:inbounds, :pop))\n",
      "\u001b[90m│   \u001b[39m        (@_13 = Base.add_int(@_13, 1))\n",
      "\u001b[90m│   \u001b[39m        (@_12 = Base.iterate(%8, %21))\n",
      "\u001b[90m│   \u001b[39m %31  = (@_12 === nothing)\u001b[36m::Bool\u001b[39m\n",
      "\u001b[90m│   \u001b[39m %32  = Base"
     ]
    },
    {
     "name": "stdout",
     "output_type": "stream",
     "text": [
      ".not_int(%31)\u001b[36m::Bool\u001b[39m\n",
      "\u001b[90m└───\u001b[39m        goto #6 if not %32\n",
      "\u001b[90m5 ──\u001b[39m        goto #2\n",
      "\u001b[90m6 ┄─\u001b[39m        (params = %12)\n",
      "\u001b[90m│   \u001b[39m %36  = (1:m)\u001b[36m::Core.PartialStruct(UnitRange{Int64}, Any[Core.Const(1), Int64])\u001b[39m\n",
      "\u001b[90m│   \u001b[39m        (@_6 = Base.iterate(%36))\n",
      "\u001b[90m│   \u001b[39m %38  = (@_6 === nothing)\u001b[36m::Bool\u001b[39m\n",
      "\u001b[90m│   \u001b[39m %39  = Base.not_int(%38)\u001b[36m::Bool\u001b[39m\n",
      "\u001b[90m└───\u001b[39m        goto #23 if not %39\n",
      "\u001b[90m7 ┄─\u001b[39m        Core.NewvarNode(:(@_15))\n",
      "\u001b[90m│   \u001b[39m        Core.NewvarNode(:(line1))\n",
      "\u001b[90m│   \u001b[39m %43  = @_6\u001b[36m::Tuple{Int64, Int64}\u001b[39m\n",
      "\u001b[90m│   \u001b[39m        (h = Core.getfield(%43, 1))\n",
      "\u001b[90m│   \u001b[39m %45  = Core.getfield(%43, 2)\u001b[36m::Int64\u001b[39m\n",
      "\u001b[90m│   \u001b[39m %46  = Base.getindex(sigma, h)\u001b[36m::Vector{Int64}\u001b[39m\n",
      "\u001b[90m│   \u001b[39m %47  = Base.vect()\u001b[36m::Vector{Any}\u001b[39m\n",
      "\u001b[90m│   \u001b[39m %48  = (%46 ≠ %47)\u001b[33m\u001b[1m::Union{Missing, Bool}\u001b[22m\u001b[39m\n",
      "\u001b[90m└───\u001b[39m        goto #21 if not %48\n",
      "\u001b[90m8 ──\u001b[39m %50  = Base.getindex(EV, h)\u001b[36m::Vector{Int64}\u001b[39m\n"
     ]
    },
    {
     "name": "stdout",
     "output_type": "stream",
     "text": [
      "\u001b[90m│   \u001b[39m        (line1 = Base.getindex(V, Main.:(:), %50))\n",
      "\u001b[90m│   \u001b[39m %52  = Base.getindex(sigma, h)\u001b[36m::Vector{Int64}\u001b[39m\n",
      "\u001b[90m│   \u001b[39m        (@_15 = Base.iterate(%52))\n",
      "\u001b[90m│   \u001b[39m %54  = (@_15 === nothing)\u001b[36m::Bool\u001b[39m\n",
      "\u001b[90m│   \u001b[39m %55  = Base.not_int(%54)\u001b[36m::Bool\u001b[39m\n",
      "\u001b[90m└───\u001b[39m        goto #21 if not %55\n",
      "\u001b[90m9 ┄─\u001b[39m        Core.NewvarNode(:(@_18))\n",
      "\u001b[90m│   \u001b[39m        Core.NewvarNode(:(β))\n",
      "\u001b[90m│   \u001b[39m        Core.NewvarNode(:(α))\n",
      "\u001b[90m│   \u001b[39m %60  = @_15\u001b[36m::Tuple{Int64, Int64}\u001b[39m\n",
      "\u001b[90m│   \u001b[39m        (k = Core.getfield(%60, 1))\n",
      "\u001b[90m│   \u001b[39m %62  = Core.getfield(%60, 2)\u001b[36m::Int64\u001b[39m\n",
      "\u001b[90m│   \u001b[39m "
     ]
    },
    {
     "name": "stdout",
     "output_type": "stream",
     "text": [
      "%63  = Base.getindex(EV, k)\u001b[36m::Vector{Int64}\u001b[39m\n",
      "\u001b[90m│   \u001b[39m        (line2 = Base.getindex(V, Main.:(:), %63))\n",
      "\u001b[90m│   \u001b[39m %65  = Base.getproperty(Main.Lar"
     ]
    },
    {
     "name": "stdout",
     "output_type": "stream",
     "text": [
      ", :intersection)\u001b[91m\u001b[1m::Any\u001b[22m\u001b[39m\n",
      "\u001b[90m│   \u001b[39m %66  = line1\u001b[36m::Matrix{Float64}\u001b[39m\n",
      "\u001b[90m│   \u001b[39m        (out = (%65)(%66, line2))\n",
      "\u001b[90m│   \u001b[39m %68  = (out ≠ Main.nothing)\u001b[91m\u001b[1m::Any\u001b[22m\u001b[39m\n",
      "\u001b[90m└───\u001b[39m        goto #19 if not %68\n",
      "\u001b[90m10 ─\u001b[39m %70  = Base.indexed_iterate(out, 1)\u001b[91m\u001b[1m::Any\u001b[22m\u001b[39m\n",
      "\u001b[90m│   \u001b[39m        (α = Core.getfield(%70, 1))\n",
      "\u001b[90m│   \u001b[39m "
     ]
    },
    {
     "name": "stdout",
     "output_type": "stream",
     "text": [
      "       (@_18 = Core.getfield(%70, 2))\n",
      "\u001b[90m│   \u001b[39m %73  = Base.indexed_iterate(out, 2, @_18)\u001b[91m\u001b[1m::Any\u001b[22m\u001b[39m\n",
      "\u001b[90m│   \u001b[39m        (β = Core.getfield(%73, 1))\n",
      "\u001b[90m│   \u001b[39m %75  = (0 <= α)\u001b[91m\u001b[1m::Any\u001b[22m\u001b[39m\n",
      "\u001b[90m└───\u001b[39m        goto #12 if not %75\n",
      "\u001b[90m11 ─\u001b[39m        (@_25 = α <= 1)\n",
      "\u001b[90m└───\u001b[39m        goto #13\n",
      "\u001b[90m12 ─\u001b[39m        (@_25 = "
     ]
    },
    {
     "name": "stdout",
     "output_type": "stream",
     "text": [
      "false)\n",
      "\u001b[90m13 ┄\u001b[39m        goto #19 if not @_25\n",
      "\u001b[90m14 ─\u001b[39m %81  = (0 <= β)\u001b[91m\u001b[1m::Any\u001b[22m\u001b[39m\n",
      "\u001b[90m└───\u001b[39m        goto #16 if not %81\n",
      "\u001b[90m15 ─\u001b[39m        (@_26 = β <= 1)\n",
      "\u001b[90m└───\u001b[39m        goto #17\n",
      "\u001b[90m16 ─\u001b[39m        (@_26 = false)\n",
      "\u001b[90m17 ┄\u001b[39m        goto #19 if not @_26\n",
      "\u001b[90m18 ─\u001b[39m %87  = Base.getindex(params, h)\u001b[36m::Vector{Float64}\u001b[39m\n",
      "\u001b[90m│   \u001b[39m        Main.push!(%87, α)\n",
      "\u001b[90m│   \u001b[39m %89  = Base.getindex(params, k)\u001b[36m::Vector{Float64}\u001b[39m\n",
      "\u001b[90m└───\u001b[39m        Main.push!(%89, β)\n"
     ]
    },
    {
     "name": "stdout",
     "output_type": "stream",
     "text": [
      "\u001b[90m19 ┄\u001b[39m        (@_15 = Base.iterate(%52, %62))\n",
      "\u001b[90m│   \u001b[39m %92  = (@_15 === nothing)\u001b[36m::Bool\u001b[39m\n",
      "\u001b[90m│   \u001b[39m %93  = Base.not_int(%92)\u001b[36m::Bool\u001b[39m\n",
      "\u001b[90m└───\u001b[39m        goto #21 if not %93\n",
      "\u001b[90m20 ─\u001b[39m        goto #9\n",
      "\u001b[90m21 ┄\u001b[39m        (@_6 = Base.iterate(%36, %45))\n",
      "\u001b[90m│   \u001b[39m %97  = (@_6 === "
     ]
    },
    {
     "name": "stdout",
     "output_type": "stream",
     "text": [
      "nothing)\u001b[36m::Bool\u001b[39m\n",
      "\u001b[90m│   \u001b[39m %98  = Base.not_int(%97)\u001b[36m::Bool\u001b[39m\n",
      "\u001b[90m└───\u001b[39m        goto #23 if not %98\n",
      "\u001b[90m22 ─\u001b[39m        goto #7\n",
      "\u001b[90m23 ┄\u001b[39m        (fragparams = Base.vect())\n",
      "\u001b[90m│   \u001b[39m %102 = params\u001b[36m::Vector{Vector{Float64}}\u001b[39m\n",
      "\u001b[90m│   \u001b[39m        (@_5 = Base.iterate(%102))\n",
      "\u001b[90m│   \u001b[39m %104 = (@_5 === nothing)\u001b[36m::Bool\u001b[39m\n",
      "\u001b[90m│   \u001b[39m %105 = Base.not_int(%104)\u001b[36m::Bool\u001b[39m\n",
      "\u001b[90m└───\u001b[39m        goto #26 if not %105\n",
      "\u001b[90m24 ┄\u001b[39m %107 = @_5\u001b[36m::Tuple{Vector{Float64}, Int64}\u001b[39m\n",
      "\u001b[90m│   \u001b[39m        (line = Core.getfield(%107, 1))\n",
      "\u001b[90m│   \u001b[39m %109 = Core.getfield(%107, 2)\u001b[36m::Int64\u001b[39m\n",
      "\u001b[90m│   \u001b[39m        Main.push!(line"
     ]
    },
    {
     "name": "stdout",
     "output_type": "stream",
     "text": [
      ", 0.0, 1.0)\n",
      "\u001b[90m│   \u001b[39m %111 = Main.Set(line)\u001b[36m::Set{Float64}\u001b[39m\n",
      "\u001b[90m│   \u001b[39m %112 = Main.collect(%111)\u001b[36m::Vector{Float64}\u001b[39m\n",
      "\u001b[90m│   \u001b[39m        (line = Main.sort(%112))\n",
      "\u001b[90m│   \u001b[39m        Main.push!(fragparams, line)\n",
      "\u001b[90m│   \u001b[39m        (@_5 = Base.iterate(%102, %109))\n",
      "\u001b[90m│   \u001b[39m %116 = (@_5 === nothing)\u001b[36m::Bool\u001b[39m\n",
      "\u001b[90m│   \u001b[39m %117 = Base.not_int(%"
     ]
    },
    {
     "name": "stdout",
     "output_type": "stream",
     "text": [
      "116)\u001b[36m::Bool\u001b[39m\n",
      "\u001b[90m└───\u001b[39m        goto #26 if not %117\n",
      "\u001b[90m25 ─\u001b[39m        goto #24\n",
      "\u001b[90m26 ┄\u001b[39m        return fragparams\n",
      "\n"
     ]
    }
   ],
   "source": [
    "@code_warntype linefragments(V,EV,Sigma)"
   ]
  },
  {
   "cell_type": "code",
   "execution_count": 7,
   "metadata": {},
   "outputs": [
    {
     "data": {
      "text/plain": [
       "BenchmarkTools.Trial: 10000 samples with 1 evaluation.\n",
       " Range \u001b[90m(\u001b[39m\u001b[36m\u001b[1mmin\u001b[22m\u001b[39m … \u001b[35mmax\u001b[39m\u001b[90m):  \u001b[39m\u001b[36m\u001b[1m43.600 μs\u001b[22m\u001b[39m … \u001b[35m 12.599 ms\u001b[39m  \u001b[90m┊\u001b[39m GC \u001b[90m(\u001b[39mmin … max\u001b[90m): \u001b[39m0.00% … 98.66%\n",
       " Time  \u001b[90m(\u001b[39m\u001b[34m\u001b[1mmedian\u001b[22m\u001b[39m\u001b[90m):     \u001b[39m\u001b[34m\u001b[1m46.300 μs               \u001b[22m\u001b[39m\u001b[90m┊\u001b[39m GC \u001b[90m(\u001b[39mmedian\u001b[90m):    \u001b[39m0.00%\n",
       " Time  \u001b[90m(\u001b[39m\u001b[32m\u001b[1mmean\u001b[22m\u001b[39m ± \u001b[32mσ\u001b[39m\u001b[90m):   \u001b[39m\u001b[32m\u001b[1m60.058 μs\u001b[22m\u001b[39m ± \u001b[32m201.040 μs\u001b[39m  \u001b[90m┊\u001b[39m GC \u001b[90m(\u001b[39mmean ± σ\u001b[90m):  \u001b[39m7.23% ±  2.21%\n",
       "\n",
       "  \u001b[39m▇\u001b[39m█\u001b[34m▆\u001b[39m\u001b[39m▄\u001b[39m▄\u001b[39m▂\u001b[39m▃\u001b[39m▃\u001b[39m▃\u001b[39m▃\u001b[39m▂\u001b[39m▂\u001b[39m▁\u001b[39m \u001b[32m \u001b[39m\u001b[39m \u001b[39m \u001b[39m▁\u001b[39m \u001b[39m \u001b[39m▁\u001b[39m \u001b[39m \u001b[39m▂\u001b[39m▅\u001b[39m▃\u001b[39m▁\u001b[39m \u001b[39m \u001b[39m \u001b[39m \u001b[39m \u001b[39m \u001b[39m \u001b[39m \u001b[39m \u001b[39m \u001b[39m \u001b[39m \u001b[39m▁\u001b[39m▁\u001b[39m \u001b[39m \u001b[39m \u001b[39m \u001b[39m \u001b[39m \u001b[39m \u001b[39m \u001b[39m \u001b[39m \u001b[39m \u001b[39m \u001b[39m \u001b[39m \u001b[39m \u001b[39m \u001b[39m \u001b[39m \u001b[39m \u001b[39m \u001b[39m▂\n",
       "  \u001b[39m█\u001b[39m█\u001b[34m█\u001b[39m\u001b[39m█\u001b[39m█\u001b[39m█\u001b[39m█\u001b[39m█\u001b[39m█\u001b[39m█\u001b[39m█\u001b[39m█\u001b[39m█\u001b[39m█\u001b[32m█\u001b[39m\u001b[39m▇\u001b[39m█\u001b[39m█\u001b[39m▇\u001b[39m█\u001b[39m█\u001b[39m█\u001b[39m█\u001b[39m█\u001b[39m█\u001b[39m█\u001b[39m█\u001b[39m█\u001b[39m▇\u001b[39m▆\u001b[39m▆\u001b[39m▆\u001b[39m█\u001b[39m█\u001b[39m█\u001b[39m█\u001b[39m█\u001b[39m▇\u001b[39m█\u001b[39m█\u001b[39m█\u001b[39m█\u001b[39m▇\u001b[39m▇\u001b[39m▇\u001b[39m▆\u001b[39m▅\u001b[39m▆\u001b[39m▆\u001b[39m▇\u001b[39m▇\u001b[39m▇\u001b[39m▇\u001b[39m█\u001b[39m█\u001b[39m▇\u001b[39m▇\u001b[39m▇\u001b[39m▇\u001b[39m▇\u001b[39m \u001b[39m█\n",
       "  43.6 μs\u001b[90m       \u001b[39m\u001b[90mHistogram: \u001b[39m\u001b[90m\u001b[1mlog(\u001b[22m\u001b[39m\u001b[90mfrequency\u001b[39m\u001b[90m\u001b[1m)\u001b[22m\u001b[39m\u001b[90m by time\u001b[39m       112 μs \u001b[0m\u001b[1m<\u001b[22m\n",
       "\n",
       " Memory estimate\u001b[90m: \u001b[39m\u001b[33m25.34 KiB\u001b[39m, allocs estimate\u001b[90m: \u001b[39m\u001b[33m800\u001b[39m."
      ]
     },
     "metadata": {},
     "output_type": "display_data"
    }
   ],
   "source": [
    "@benchmark linefragments(V,EV,Sigma)"
   ]
  },
  {
   "cell_type": "markdown",
   "metadata": {},
   "source": [
    "### Versione parallelizzata di linefragments \n",
    "abbiamo paralellizzato la funzione attraverso la  macro @threads,  notando un lieve miglioramento delle performance. "
   ]
  },
  {
   "cell_type": "code",
   "execution_count": 8,
   "metadata": {},
   "outputs": [
    {
     "data": {
      "text/plain": [
       "linefragments2 (generic function with 1 method)"
      ]
     },
     "metadata": {},
     "output_type": "display_data"
    }
   ],
   "source": [
    "function linefragments2(V,EV,sigma)\n",
    "    m = length(sigma) \n",
    "    sigma = map(sort,sigma) \n",
    "    params = Array{Array{Float64,1}}(undef,m)\n",
    "    for i=1:m\n",
    "        params[i] = []\n",
    "    end\n",
    "    line1=[0.0 0.0; 0.0 0.0]\n",
    "    line2=[0.0 0.0; 0.0 0.0]\n",
    "    @threads for h=1:m\n",
    "        if sigma[h] ≠ []\n",
    "            line1 = V[:,EV[h]]\n",
    "            @threads for k in sigma[h]\n",
    "            line2 = V[:,EV[k]]\n",
    "                out = intersection(line1,line2) \n",
    "                if out ≠ ()\n",
    "                    if 0<=out[1]<=1 && 0<=out[2]<=1\n",
    "                        push!(params[h], out[1])\n",
    "                        push!(params[k], out[2])\n",
    "                    end\n",
    "                end\n",
    "            end\n",
    "        end\n",
    "        end\n",
    "    len = length(params)\n",
    "    @threads for i=1:len\n",
    "        push!(params[i], 0.0, 1.0)\n",
    "        params[i] = sort(collect(Set(params[i])))\n",
    "    end\n",
    "    return params\n",
    "end"
   ]
  },
  {
   "cell_type": "markdown",
   "metadata": {},
   "source": [
    "### Analisi del comportamento e dei tempi della versione modificata"
   ]
  },
  {
   "cell_type": "code",
   "execution_count": 9,
   "metadata": {},
   "outputs": [
    {
     "name": "stdout",
     "output_type": "stream",
     "text": [
      "  73.900 μs (816 allocations: 26.62 KiB)\n"
     ]
    },
    {
     "data": {
      "text/plain": [
       "5-element Vector{Vector{Float64}}:\n",
       " [0.0, 1.0]\n",
       " [0.0, 0.5, 1.0]\n",
       " [0.0, 1.0]\n",
       " [0.0, 1.0]\n",
       " [0.0, 0.5, 1.0]"
      ]
     },
     "metadata": {},
     "output_type": "display_data"
    }
   ],
   "source": [
    "@btime linefragments2(V,EV,Sigma)"
   ]
  },
  {
   "cell_type": "code",
   "execution_count": 10,
   "metadata": {},
   "outputs": [
    {
     "data": {
      "text/plain": [
       "BenchmarkTools.Trial: 10000 samples with 1 evaluation.\n",
       " Range \u001b[90m(\u001b[39m\u001b[36m\u001b[1mmin\u001b[22m\u001b[39m … \u001b[35mmax\u001b[39m\u001b[90m):  \u001b[39m\u001b[36m\u001b[1m 74.100 μs\u001b[22m\u001b[39m … \u001b[35m 18.328 ms\u001b[39m  \u001b[90m┊\u001b[39m GC \u001b[90m(\u001b[39mmin … max\u001b[90m): \u001b[39m0.00% … 98.00%\n",
       " Time  \u001b[90m(\u001b[39m\u001b[34m\u001b[1mmedian\u001b[22m\u001b[39m\u001b[90m):     \u001b[39m\u001b[34m\u001b[1m120.200 μs               \u001b[22m\u001b[39m\u001b[90m┊\u001b[39m GC \u001b[90m(\u001b[39mmedian\u001b[90m):    \u001b[39m0.00%\n",
       " Time  \u001b[90m(\u001b[39m\u001b[32m\u001b[1mmean\u001b[22m\u001b[39m ± \u001b[32mσ\u001b[39m\u001b[90m):   \u001b[39m\u001b[32m\u001b[1m121.672 μs\u001b[22m\u001b[39m ± \u001b[32m280.463 μs\u001b[39m  \u001b[90m┊\u001b[39m GC \u001b[90m(\u001b[39mmean ± σ\u001b[90m):  \u001b[39m4.84% ±  2.20%\n",
       "\n",
       "  \u001b[39m█\u001b[39m▆\u001b[39m▄\u001b[39m▂\u001b[39m▄\u001b[39m▄\u001b[39m▃\u001b[39m▁\u001b[39m▂\u001b[39m▁\u001b[39m▄\u001b[39m▃\u001b[39m▂\u001b[39m▁\u001b[39m \u001b[39m▃\u001b[39m▁\u001b[39m \u001b[34m▇\u001b[39m\u001b[32m▆\u001b[39m\u001b[39m▃\u001b[39m▃\u001b[39m▃\u001b[39m▃\u001b[39m▄\u001b[39m▄\u001b[39m▄\u001b[39m▃\u001b[39m▂\u001b[39m \u001b[39m▅\u001b[39m▅\u001b[39m▃\u001b[39m▁\u001b[39m \u001b[39m \u001b[39m \u001b[39m \u001b[39m \u001b[39m \u001b[39m \u001b[39m \u001b[39m \u001b[39m \u001b[39m \u001b[39m \u001b[39m \u001b[39m▁\u001b[39m▂\u001b[39m \u001b[39m \u001b[39m▃\u001b[39m▁\u001b[39m \u001b[39m \u001b[39m \u001b[39m \u001b[39m \u001b[39m \u001b[39m \u001b[39m \u001b[39m \u001b[39m▂\n",
       "  \u001b[39m█\u001b[39m█\u001b[39m█\u001b[39m█\u001b[39m█\u001b[39m█\u001b[39m█\u001b[39m█\u001b[39m█\u001b[39m█\u001b[39m█\u001b[39m█\u001b[39m█\u001b[39m█\u001b[39m█\u001b[39m█\u001b[39m█\u001b[39m▇\u001b[34m█\u001b[39m\u001b[32m█\u001b[39m\u001b[39m█\u001b[39m█\u001b[39m█\u001b[39m█\u001b[39m█\u001b[39m█\u001b[39m█\u001b[39m█\u001b[39m█\u001b[39m█\u001b[39m█\u001b[39m█\u001b[39m█\u001b[39m█\u001b[39m█\u001b[39m▇\u001b[39m▆\u001b[39m▆\u001b[39m▅\u001b[39m▅\u001b[39m▄\u001b[39m▆\u001b[39m▆\u001b[39m▇\u001b[39m▇\u001b[39m▇\u001b[39m█\u001b[39m█\u001b[39m█\u001b[39m▇\u001b[39m█\u001b[39m█\u001b[39m█\u001b[39m█\u001b[39m▇\u001b[39m▇\u001b[39m▇\u001b[39m▅\u001b[39m▅\u001b[39m▄\u001b[39m▅\u001b[39m \u001b[39m█\n",
       "  74.1 μs\u001b[90m       \u001b[39m\u001b[90mHistogram: \u001b[39m\u001b[90m\u001b[1mlog(\u001b[22m\u001b[39m\u001b[90mfrequency\u001b[39m\u001b[90m\u001b[1m)\u001b[22m\u001b[39m\u001b[90m by time\u001b[39m        226 μs \u001b[0m\u001b[1m<\u001b[22m\n",
       "\n",
       " Memory estimate\u001b[90m: \u001b[39m\u001b[33m26.62 KiB\u001b[39m, allocs estimate\u001b[90m: \u001b[39m\u001b[33m816\u001b[39m."
      ]
     },
     "metadata": {},
     "output_type": "display_data"
    }
   ],
   "source": [
    "@benchmark linefragments2(V,EV,Sigma)"
   ]
  },
  {
   "cell_type": "markdown",
   "metadata": {},
   "source": [
    "## Test"
   ]
  },
  {
   "cell_type": "code",
   "execution_count": 11,
   "metadata": {},
   "outputs": [
    {
     "name": "stdout",
     "output_type": "stream",
     "text": [
      "\u001b[0m\u001b[1mTest Summary:       | \u001b[22m\u001b[32m\u001b[1mPass  \u001b[22m\u001b[39m\u001b[36m\u001b[1mTotal\u001b[22m\u001b[39m\n",
      "linefragments Tests | \u001b[32m   2  \u001b[39m"
     ]
    },
    {
     "name": "stdout",
     "output_type": "stream",
     "text": [
      "\u001b[36m    2\u001b[39m\n"
     ]
    },
    {
     "data": {
      "text/plain": [
       "Test.DefaultTestSet(\"linefragments Tests\", Any[], 2, false, false)"
      ]
     },
     "metadata": {},
     "output_type": "display_data"
    }
   ],
   "source": [
    "using Test\n",
    "\n",
    "@testset \"linefragments Tests\" begin\n",
    "    V = hcat([[0.,0],[1,0],[1,1],[0,1],[2,1]]...);\n",
    "    EV = [[1,2],[2,3],[3,4],[4,1],[1,5]];\n",
    "    @test Lar.spaceindex((V,EV)) == \n",
    "    [[4, 5, 2], [1, 3, 5], [4, 5, 2], [1, 3, 5], [4, 1, 3, 2]]\n",
    "    Sigma = [[4, 5, 2], [1, 3, 5], [4, 5, 2], [1, 3, 5], [4, 1, 3, 2]]\n",
    "    @test Lar.linefragments(V,EV,Sigma) ==\n",
    "    [[0.0, 1.0], [0.0, 0.5, 1.0], [0.0, 1.0], [0.0, 1.0], [0.0, 0.5, 1.0]]\n",
    "end"
   ]
  },
  {
   "cell_type": "markdown",
   "metadata": {},
   "source": [
    "![](https://github.com/GiuliaCastagnacci/LARSplitting2D/blob/main/docs/plot/screenTest/test_linefragments.png?raw=true)"
   ]
  }
 ],
 "metadata": {
  "kernelspec": {
   "display_name": "Julia 1.7.2",
   "language": "julia",
   "name": "julia-1.7"
  },
  "language_info": {
   "file_extension": ".jl",
   "mimetype": "application/julia",
   "name": "julia",
   "version": "1.7.2"
  },
  "orig_nbformat": 4
 },
 "nbformat": 4,
 "nbformat_minor": 2
}
